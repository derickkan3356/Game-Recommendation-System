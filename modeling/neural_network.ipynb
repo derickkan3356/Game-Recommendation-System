{
 "cells": [
  {
   "cell_type": "code",
   "execution_count": 1,
   "metadata": {},
   "outputs": [],
   "source": [
    "import os\n",
    "os.environ[\"CUBLAS_WORKSPACE_CONFIG\"] = \":4096:8\"\n",
    "os.environ[\"OMP_NUM_THREADS\"] = \"1\"\n",
    "os.environ['CUDA_LAUNCH_BLOCKING'] = \"1\""
   ]
  },
  {
   "cell_type": "code",
   "execution_count": 2,
   "metadata": {},
   "outputs": [],
   "source": [
    "import pandas as pd\n",
    "import numpy as np\n",
    "from collections import defaultdict\n",
    "import joblib\n",
    "import random\n",
    "import torch\n",
    "import torch.nn as nn\n",
    "from torch.utils.data import Dataset, DataLoader, Subset, Sampler\n",
    "from torch.nn.utils.rnn import pad_sequence\n",
    "import torch.nn.functional as F\n",
    "from torch.optim import Adam\n",
    "from sklearn.model_selection import GroupKFold\n",
    "from sklearn.metrics import ndcg_score\n",
    "import optuna\n",
    "import itertools\n",
    "import math"
   ]
  },
  {
   "cell_type": "code",
   "execution_count": 3,
   "metadata": {},
   "outputs": [],
   "source": [
    "# Fix randomness for reproducibility, but may still have slight variation\n",
    "\n",
    "RANDOM_SEED = 42\n",
    "\n",
    "np.random.seed(RANDOM_SEED)\n",
    "torch.manual_seed(RANDOM_SEED)\n",
    "random.seed(RANDOM_SEED)\n",
    "\n",
    "if torch.cuda.is_available():\n",
    "    torch.cuda.manual_seed(RANDOM_SEED)\n",
    "    torch.cuda.manual_seed_all(RANDOM_SEED)\n",
    "    torch.backends.cudnn.deterministic = True\n",
    "    torch.backends.cudnn.benchmark = False\n",
    "\n",
    "torch.use_deterministic_algorithms(True)\n",
    "\n",
    "def seed_worker(worker_id):\n",
    "    # Get a unique seed for each worker based on torch's initial seed\n",
    "    worker_seed = (RANDOM_SEED + worker_id) % 2**32\n",
    "    np.random.seed(worker_seed)\n",
    "    random.seed(worker_seed)"
   ]
  },
  {
   "cell_type": "code",
   "execution_count": 4,
   "metadata": {},
   "outputs": [
    {
     "name": "stdout",
     "output_type": "stream",
     "text": [
      "(2595694, 130) (694120, 130)\n"
     ]
    }
   ],
   "source": [
    "train_df = joblib.load(r'..\\assets\\combined\\train_ready.pkl')\n",
    "test_df = joblib.load(r'..\\assets\\combined\\test_ready.pkl')\n",
    "\n",
    "print(train_df.shape, test_df.shape)"
   ]
  },
  {
   "cell_type": "code",
   "execution_count": 5,
   "metadata": {},
   "outputs": [
    {
     "name": "stdout",
     "output_type": "stream",
     "text": [
      "<class 'pandas.core.frame.DataFrame'>\n",
      "RangeIndex: 2595694 entries, 0 to 2595693\n",
      "Data columns (total 130 columns):\n",
      " #    Column                                             Non-Null Count    Dtype  \n",
      "---   ------                                             --------------    -----  \n",
      " 0    user_id                                            2595694 non-null  object \n",
      " 1    app_id                                             2595694 non-null  int64  \n",
      " 2    relevance_score                                    2595694 non-null  float64\n",
      " 3    user_country_code                                  2595694 non-null  object \n",
      " 4    user_has_coordinates                               2595694 non-null  bool   \n",
      " 5    user_latitude                                      2595694 non-null  float64\n",
      " 6    user_longitude                                     2595694 non-null  float64\n",
      " 7    user_account_age_months                            2595694 non-null  float64\n",
      " 8    game_name                                          2595694 non-null  string \n",
      " 9    game_tba                                           2595694 non-null  bool   \n",
      " 10   game_RAWG_weighted_avg_rating                      2595694 non-null  float64\n",
      " 11   game_RAWG_ratings_count                            2595694 non-null  float64\n",
      " 12   game_RAWG_reviews_with_text_count                  2595694 non-null  float64\n",
      " 13   game_RAWG_bookmark_count                           2595694 non-null  float64\n",
      " 14   game_metacritic_rating                             2595694 non-null  float64\n",
      " 15   game_RAWG_system_suggest_count                     2595694 non-null  float64\n",
      " 16   game_RAWG_reviews_count                            2595694 non-null  float64\n",
      " 17   game_tags                                          2595694 non-null  object \n",
      " 18   game_released_month                                2595694 non-null  float64\n",
      " 19   game_released_day                                  2595694 non-null  float64\n",
      " 20   game_RAWG_rating_5_percent                         2595694 non-null  float64\n",
      " 21   game_RAWG_rating_4_percent                         2595694 non-null  float64\n",
      " 22   game_RAWG_rating_3_percent                         2595694 non-null  float64\n",
      " 23   game_RAWG_rating_1_percent                         2595694 non-null  float64\n",
      " 24   game_RAWG_bookmark_type_yet_count                  2595694 non-null  float64\n",
      " 25   game_RAWG_bookmark_type_owned_count                2595694 non-null  float64\n",
      " 26   game_RAWG_bookmark_type_beaten_count               2595694 non-null  float64\n",
      " 27   game_RAWG_bookmark_type_toplay_count               2595694 non-null  float64\n",
      " 28   game_RAWG_bookmark_type_dropped_count              2595694 non-null  float64\n",
      " 29   game_RAWG_bookmark_type_playing_count              2595694 non-null  float64\n",
      " 30   game_available_platform                            2595694 non-null  object \n",
      " 31   game_developer                                     2595694 non-null  object \n",
      " 32   game_publisher                                     2595694 non-null  object \n",
      " 33   game_positive_review_count                         2595694 non-null  float64\n",
      " 34   game_negative_review_count                         2595694 non-null  float64\n",
      " 35   game_avg_playtime_forever                          2595694 non-null  float64\n",
      " 36   game_median_playtime_forever                       2595694 non-null  float64\n",
      " 37   game_current_price                                 2595694 non-null  float64\n",
      " 38   game_initial_price                                 2595694 non-null  float64\n",
      " 39   game_current_discount                              2595694 non-null  bool   \n",
      " 40   game_concurrent_user                               2595694 non-null  float64\n",
      " 41   game_estimate_owners_lower                         2595694 non-null  float64\n",
      " 42   game_estimate_owners_upper                         2595694 non-null  float64\n",
      " 43   game_esrb_rating_Rating Pending                    2595694 non-null  bool   \n",
      " 44   game_esrb_rating_Missing                           2595694 non-null  bool   \n",
      " 45   game_esrb_rating_Mature                            2595694 non-null  bool   \n",
      " 46   game_esrb_rating_Everyone 10+                      2595694 non-null  bool   \n",
      " 47   game_esrb_rating_Teen                              2595694 non-null  bool   \n",
      " 48   game_esrb_rating_Everyone                          2595694 non-null  bool   \n",
      " 49   game_esrb_rating_Adults Only                       2595694 non-null  bool   \n",
      " 50   game_genres_Action                                 2595694 non-null  bool   \n",
      " 51   game_genres_Adventure                              2595694 non-null  bool   \n",
      " 52   game_genres_Arcade                                 2595694 non-null  bool   \n",
      " 53   game_genres_Board Games                            2595694 non-null  bool   \n",
      " 54   game_genres_Card                                   2595694 non-null  bool   \n",
      " 55   game_genres_Casual                                 2595694 non-null  bool   \n",
      " 56   game_genres_Educational                            2595694 non-null  bool   \n",
      " 57   game_genres_Family                                 2595694 non-null  bool   \n",
      " 58   game_genres_Fighting                               2595694 non-null  bool   \n",
      " 59   game_genres_Indie                                  2595694 non-null  bool   \n",
      " 60   game_genres_Massively Multiplayer                  2595694 non-null  bool   \n",
      " 61   game_genres_Platformer                             2595694 non-null  bool   \n",
      " 62   game_genres_Puzzle                                 2595694 non-null  bool   \n",
      " 63   game_genres_RPG                                    2595694 non-null  bool   \n",
      " 64   game_genres_Racing                                 2595694 non-null  bool   \n",
      " 65   game_genres_Shooter                                2595694 non-null  bool   \n",
      " 66   game_genres_Simulation                             2595694 non-null  bool   \n",
      " 67   game_genres_Sports                                 2595694 non-null  bool   \n",
      " 68   game_genres_Strategy                               2595694 non-null  bool   \n",
      " 69   game_platforms_3DO                                 2595694 non-null  bool   \n",
      " 70   game_platforms_Android                             2595694 non-null  bool   \n",
      " 71   game_platforms_Apple Macintosh                     2595694 non-null  bool   \n",
      " 72   game_platforms_Atari                               2595694 non-null  bool   \n",
      " 73   game_platforms_Commodore / Amiga                   2595694 non-null  bool   \n",
      " 74   game_platforms_Linux                               2595694 non-null  bool   \n",
      " 75   game_platforms_Neo Geo                             2595694 non-null  bool   \n",
      " 76   game_platforms_Nintendo                            2595694 non-null  bool   \n",
      " 77   game_platforms_PC                                  2595694 non-null  bool   \n",
      " 78   game_platforms_PlayStation                         2595694 non-null  bool   \n",
      " 79   game_platforms_SEGA                                2595694 non-null  bool   \n",
      " 80   game_platforms_Web                                 2595694 non-null  bool   \n",
      " 81   game_platforms_Xbox                                2595694 non-null  bool   \n",
      " 82   game_platforms_iOS                                 2595694 non-null  bool   \n",
      " 83   game_popularity                                    2595694 non-null  float64\n",
      " 84   user_preference_game_popularity                    2595694 non-null  float64\n",
      " 85   user_preference_game_duration                      2595694 non-null  float64\n",
      " 86   user_preference_new_game                           2595694 non-null  float64\n",
      " 87   user_preference_avg_spent                          2595694 non-null  float64\n",
      " 88   user_preference_game_esrb_rating_Rating Pending    2595694 non-null  float64\n",
      " 89   user_preference_game_esrb_rating_Missing           2595694 non-null  float64\n",
      " 90   user_preference_game_esrb_rating_Mature            2595694 non-null  float64\n",
      " 91   user_preference_game_esrb_rating_Everyone 10+      2595694 non-null  float64\n",
      " 92   user_preference_game_esrb_rating_Teen              2595694 non-null  float64\n",
      " 93   user_preference_game_esrb_rating_Everyone          2595694 non-null  float64\n",
      " 94   user_preference_game_esrb_rating_Adults Only       2595694 non-null  float64\n",
      " 95   user_preference_game_genres_Action                 2595694 non-null  float64\n",
      " 96   user_preference_game_genres_Adventure              2595694 non-null  float64\n",
      " 97   user_preference_game_genres_Arcade                 2595694 non-null  float64\n",
      " 98   user_preference_game_genres_Board Games            2595694 non-null  float64\n",
      " 99   user_preference_game_genres_Card                   2595694 non-null  float64\n",
      " 100  user_preference_game_genres_Casual                 2595694 non-null  float64\n",
      " 101  user_preference_game_genres_Educational            2595694 non-null  float64\n",
      " 102  user_preference_game_genres_Family                 2595694 non-null  float64\n",
      " 103  user_preference_game_genres_Fighting               2595694 non-null  float64\n",
      " 104  user_preference_game_genres_Indie                  2595694 non-null  float64\n",
      " 105  user_preference_game_genres_Massively Multiplayer  2595694 non-null  float64\n",
      " 106  user_preference_game_genres_Platformer             2595694 non-null  float64\n",
      " 107  user_preference_game_genres_Puzzle                 2595694 non-null  float64\n",
      " 108  user_preference_game_genres_RPG                    2595694 non-null  float64\n",
      " 109  user_preference_game_genres_Racing                 2595694 non-null  float64\n",
      " 110  user_preference_game_genres_Shooter                2595694 non-null  float64\n",
      " 111  user_preference_game_genres_Simulation             2595694 non-null  float64\n",
      " 112  user_preference_game_genres_Sports                 2595694 non-null  float64\n",
      " 113  user_preference_game_genres_Strategy               2595694 non-null  float64\n",
      " 114  user_preference_game_platforms_3DO                 2595694 non-null  float64\n",
      " 115  user_preference_game_platforms_Android             2595694 non-null  float64\n",
      " 116  user_preference_game_platforms_Apple Macintosh     2595694 non-null  float64\n",
      " 117  user_preference_game_platforms_Atari               2595694 non-null  float64\n",
      " 118  user_preference_game_platforms_Commodore / Amiga   2595694 non-null  float64\n",
      " 119  user_preference_game_platforms_Linux               2595694 non-null  float64\n",
      " 120  user_preference_game_platforms_Neo Geo             2595694 non-null  float64\n",
      " 121  user_preference_game_platforms_Nintendo            2595694 non-null  float64\n",
      " 122  user_preference_game_platforms_PlayStation         2595694 non-null  float64\n",
      " 123  user_preference_game_platforms_SEGA                2595694 non-null  float64\n",
      " 124  user_preference_game_platforms_Web                 2595694 non-null  float64\n",
      " 125  user_preference_game_platforms_Xbox                2595694 non-null  float64\n",
      " 126  user_preference_game_platforms_iOS                 2595694 non-null  float64\n",
      " 127  game_released_year_since_1984.0                    2595694 non-null  float64\n",
      " 128  user_emb                                           2595694 non-null  object \n",
      " 129  game_emb                                           2595694 non-null  object \n",
      "dtypes: bool(43), float64(77), int64(1), object(8), string(1)\n",
      "memory usage: 1.8+ GB\n"
     ]
    }
   ],
   "source": [
    "train_df.info(verbose=True, show_counts=True)"
   ]
  },
  {
   "cell_type": "markdown",
   "metadata": {},
   "source": [
    "## Preprocessing categorical columns before passing them to embedding layer"
   ]
  },
  {
   "cell_type": "code",
   "execution_count": 6,
   "metadata": {},
   "outputs": [
    {
     "name": "stdout",
     "output_type": "stream",
     "text": [
      "['user_country_code'] \n",
      " ['game_tags', 'game_available_platform', 'game_developer', 'game_publisher'] \n",
      " ['user_latitude', 'user_longitude', 'user_account_age_months', 'game_RAWG_weighted_avg_rating', 'game_RAWG_ratings_count', 'game_RAWG_reviews_with_text_count', 'game_RAWG_bookmark_count', 'game_metacritic_rating', 'game_RAWG_system_suggest_count', 'game_RAWG_reviews_count', 'game_released_month', 'game_released_day', 'game_RAWG_rating_5_percent', 'game_RAWG_rating_4_percent', 'game_RAWG_rating_3_percent', 'game_RAWG_rating_1_percent', 'game_RAWG_bookmark_type_yet_count', 'game_RAWG_bookmark_type_owned_count', 'game_RAWG_bookmark_type_beaten_count', 'game_RAWG_bookmark_type_toplay_count', 'game_RAWG_bookmark_type_dropped_count', 'game_RAWG_bookmark_type_playing_count', 'game_positive_review_count', 'game_negative_review_count', 'game_avg_playtime_forever', 'game_median_playtime_forever', 'game_current_price', 'game_initial_price', 'game_concurrent_user', 'game_estimate_owners_lower', 'game_estimate_owners_upper', 'game_popularity', 'user_preference_game_popularity', 'user_preference_game_duration', 'user_preference_new_game', 'user_preference_avg_spent', 'user_preference_game_esrb_rating_Rating Pending', 'user_preference_game_esrb_rating_Missing', 'user_preference_game_esrb_rating_Mature', 'user_preference_game_esrb_rating_Everyone 10+', 'user_preference_game_esrb_rating_Teen', 'user_preference_game_esrb_rating_Everyone', 'user_preference_game_esrb_rating_Adults Only', 'user_preference_game_genres_Action', 'user_preference_game_genres_Adventure', 'user_preference_game_genres_Arcade', 'user_preference_game_genres_Board Games', 'user_preference_game_genres_Card', 'user_preference_game_genres_Casual', 'user_preference_game_genres_Educational', 'user_preference_game_genres_Family', 'user_preference_game_genres_Fighting', 'user_preference_game_genres_Indie', 'user_preference_game_genres_Massively Multiplayer', 'user_preference_game_genres_Platformer', 'user_preference_game_genres_Puzzle', 'user_preference_game_genres_RPG', 'user_preference_game_genres_Racing', 'user_preference_game_genres_Shooter', 'user_preference_game_genres_Simulation', 'user_preference_game_genres_Sports', 'user_preference_game_genres_Strategy', 'user_preference_game_platforms_3DO', 'user_preference_game_platforms_Android', 'user_preference_game_platforms_Apple Macintosh', 'user_preference_game_platforms_Atari', 'user_preference_game_platforms_Commodore / Amiga', 'user_preference_game_platforms_Linux', 'user_preference_game_platforms_Neo Geo', 'user_preference_game_platforms_Nintendo', 'user_preference_game_platforms_PlayStation', 'user_preference_game_platforms_SEGA', 'user_preference_game_platforms_Web', 'user_preference_game_platforms_Xbox', 'user_preference_game_platforms_iOS', 'game_released_year_since_1984.0'] \n",
      " ['user_has_coordinates', 'game_tba', 'game_current_discount', 'game_esrb_rating_Rating Pending', 'game_esrb_rating_Missing', 'game_esrb_rating_Mature', 'game_esrb_rating_Everyone 10+', 'game_esrb_rating_Teen', 'game_esrb_rating_Everyone', 'game_esrb_rating_Adults Only', 'game_genres_Action', 'game_genres_Adventure', 'game_genres_Arcade', 'game_genres_Board Games', 'game_genres_Card', 'game_genres_Casual', 'game_genres_Educational', 'game_genres_Family', 'game_genres_Fighting', 'game_genres_Indie', 'game_genres_Massively Multiplayer', 'game_genres_Platformer', 'game_genres_Puzzle', 'game_genres_RPG', 'game_genres_Racing', 'game_genres_Shooter', 'game_genres_Simulation', 'game_genres_Sports', 'game_genres_Strategy', 'game_platforms_3DO', 'game_platforms_Android', 'game_platforms_Apple Macintosh', 'game_platforms_Atari', 'game_platforms_Commodore / Amiga', 'game_platforms_Linux', 'game_platforms_Neo Geo', 'game_platforms_Nintendo', 'game_platforms_PC', 'game_platforms_PlayStation', 'game_platforms_SEGA', 'game_platforms_Web', 'game_platforms_Xbox', 'game_platforms_iOS']\n"
     ]
    }
   ],
   "source": [
    "# Note that categorical columns with less than 20 unique values are already one-hot encoded\n",
    "# Here will only handle the rest\n",
    "\n",
    "single_cat_cols = []\n",
    "multi_cat_cols = []\n",
    "\n",
    "for col in train_df.select_dtypes(include=['object']).columns:\n",
    "    if not col in ['user_id', 'user_emb', 'game_emb']:\n",
    "        if isinstance(train_df[col].iloc[0], list):\n",
    "            multi_cat_cols.append(col)\n",
    "        else:\n",
    "            single_cat_cols.append(col)\n",
    "\n",
    "num_cols = [col for col in train_df.select_dtypes(include=['number']).columns if not col in ['app_id', 'relevance_score']]\n",
    "# bool_cols also includes one-hot columns\n",
    "bool_cols = [col for col in train_df.select_dtypes(include=['bool']).columns]\n",
    "cf_emb_cols = ['user_emb', 'game_emb']\n",
    "\n",
    "print(single_cat_cols, '\\n', multi_cat_cols, '\\n', num_cols, '\\n', bool_cols)"
   ]
  },
  {
   "cell_type": "markdown",
   "metadata": {},
   "source": [
    "### Label encode categorical columns in train set"
   ]
  },
  {
   "cell_type": "code",
   "execution_count": 7,
   "metadata": {},
   "outputs": [
    {
     "name": "stdout",
     "output_type": "stream",
     "text": [
      "user_country_code: 222\n",
      "game_tags: 2460\n",
      "game_available_platform: 47\n",
      "game_developer: 15183\n",
      "game_publisher: 10723\n"
     ]
    }
   ],
   "source": [
    "for col in single_cat_cols:\n",
    "    print(f\"{col}: {train_df[col].nunique()}\")\n",
    "for col in multi_cat_cols:\n",
    "    print(f\"{col}: {train_df[col].explode().nunique()}\")"
   ]
  },
  {
   "cell_type": "markdown",
   "metadata": {},
   "source": [
    "Since game_tags, game_developer, and game_publisher have extremely high-cardinality, we first group infrequent categories into \"Other\"."
   ]
  },
  {
   "cell_type": "code",
   "execution_count": 8,
   "metadata": {},
   "outputs": [],
   "source": [
    "coverage_threshold = 0.80\n",
    "cat_to_other_mapper = {}  # Save for mapping cat to other in test set\n",
    "\n",
    "for col in ['game_tags', 'game_developer', 'game_publisher']:\n",
    "    all_categories = list(itertools.chain.from_iterable(train_df[col]))  # Flatten\n",
    "\n",
    "    freq_counts = pd.Series(all_categories).value_counts()\n",
    "    cumulative_fraction = freq_counts.cumsum() / freq_counts.sum()\n",
    "    \n",
    "    # 80% coverage cutoff\n",
    "    cutoff_index = np.searchsorted(cumulative_fraction, coverage_threshold)\n",
    "    \n",
    "    # Keep only about 80%\n",
    "    top_cats = set(freq_counts.index[:cutoff_index])\n",
    "\n",
    "    # Save mapper for test set\n",
    "    mapper = {cat: (cat if cat in top_cats else \"Other\") for cat in freq_counts.index}\n",
    "    cat_to_other_mapper[col] = mapper\n",
    "\n",
    "    def map_cat_list_to_top(cat_list):\n",
    "        return list({cat if cat in top_cats else \"Other\" for cat in cat_list})  # Only keep single \"Other\" label\n",
    "\n",
    "    train_df[col] = train_df[col].apply(map_cat_list_to_top)\n"
   ]
  },
  {
   "cell_type": "code",
   "execution_count": 9,
   "metadata": {},
   "outputs": [
    {
     "name": "stdout",
     "output_type": "stream",
     "text": [
      "user_country_code: 222\n",
      "game_tags: 111\n",
      "game_available_platform: 47\n",
      "game_developer: 3278\n",
      "game_publisher: 1503\n"
     ]
    }
   ],
   "source": [
    "for col in single_cat_cols:\n",
    "    print(f\"{col}: {train_df[col].nunique()}\")\n",
    "for col in multi_cat_cols:\n",
    "    print(f\"{col}: {train_df[col].explode().nunique()}\")"
   ]
  },
  {
   "cell_type": "code",
   "execution_count": 10,
   "metadata": {},
   "outputs": [
    {
     "name": "stdout",
     "output_type": "stream",
     "text": [
      "Column game_tags, max index: 111, pad size: 41\n",
      "Column game_available_platform, max index: 47, pad size: 13\n",
      "Column game_developer, max index: 3278, pad size: 10\n",
      "Column game_publisher, max index: 1503, pad size: 4\n"
     ]
    }
   ],
   "source": [
    "# sklearn label encoder is too damn slow, use dict instead\n",
    "\n",
    "single_cat_label_encoders = {}\n",
    "multi_cat_label_encoders = {}\n",
    "max_seq_len_per_column = {}\n",
    "\n",
    "new_columns_single = {}\n",
    "new_columns_multi_padded = {}\n",
    "\n",
    "# Label Encode Single Categorical Columns\n",
    "for col in single_cat_cols:\n",
    "    all_categories = train_df[col].unique().tolist()\n",
    "\n",
    "    mapping = {cat: i for i, cat in enumerate(all_categories)}\n",
    "    single_cat_label_encoders[col] = mapping  # Store mapper for later use on test set\n",
    "\n",
    "    new_columns_single[col + '_encoded'] = train_df[col].map(mapping)\n",
    "\n",
    "# Label Encode and Pad Multi-Categorical\n",
    "for col in multi_cat_cols:\n",
    "    all_categories = set(itertools.chain.from_iterable(train_df[col]))\n",
    "    \n",
    "    mapping = {cat: i + 1 for i, cat in enumerate(all_categories)}\n",
    "    multi_cat_label_encoders[col] = mapping  # Store mapper for later use on test set\n",
    "    \n",
    "    # Label encode each category\n",
    "    encoded_lists = [[mapping[item] for item in row] for row in train_df[col]]\n",
    "    \n",
    "    # Compute the max sequence length for the current column\n",
    "    max_seq_len_per_column[col] = max(len(seq) for seq in encoded_lists)\n",
    "    \n",
    "    # Pad sequences with 0 (padding index)\n",
    "    PADDING_VALUE = 0\n",
    "    padded_sequences = pad_sequence(\n",
    "        [torch.tensor(seq, dtype=torch.int64) for seq in encoded_lists],\n",
    "        batch_first=True, padding_value=PADDING_VALUE\n",
    "    )\n",
    "\n",
    "    max_index = padded_sequences.numpy().max()\n",
    "    print(f\"Column {col}, max index: {max_index}, pad size: {padded_sequences.shape[1]}\")\n",
    "    \n",
    "    new_columns_multi_padded[col + '_encoded_padded'] = padded_sequences.numpy().tolist()\n",
    "\n",
    "df_single = pd.DataFrame(new_columns_single, index=train_df.index)\n",
    "df_multi_padded = pd.DataFrame(new_columns_multi_padded, index=train_df.index)\n",
    "train_df = pd.concat([train_df, df_single, df_multi_padded], axis=1).copy()"
   ]
  },
  {
   "cell_type": "code",
   "execution_count": 11,
   "metadata": {},
   "outputs": [
    {
     "data": {
      "text/html": [
       "<div>\n",
       "<style scoped>\n",
       "    .dataframe tbody tr th:only-of-type {\n",
       "        vertical-align: middle;\n",
       "    }\n",
       "\n",
       "    .dataframe tbody tr th {\n",
       "        vertical-align: top;\n",
       "    }\n",
       "\n",
       "    .dataframe thead th {\n",
       "        text-align: right;\n",
       "    }\n",
       "</style>\n",
       "<table border=\"1\" class=\"dataframe\">\n",
       "  <thead>\n",
       "    <tr style=\"text-align: right;\">\n",
       "      <th></th>\n",
       "      <th>game_tags</th>\n",
       "      <th>game_tags_encoded_padded</th>\n",
       "    </tr>\n",
       "  </thead>\n",
       "  <tbody>\n",
       "    <tr>\n",
       "      <th>1512276</th>\n",
       "      <td>[]</td>\n",
       "      <td>[0, 0, 0, 0, 0, 0, 0, 0, 0, 0, 0, 0, 0, 0, 0, ...</td>\n",
       "    </tr>\n",
       "    <tr>\n",
       "      <th>2389635</th>\n",
       "      <td>[]</td>\n",
       "      <td>[0, 0, 0, 0, 0, 0, 0, 0, 0, 0, 0, 0, 0, 0, 0, ...</td>\n",
       "    </tr>\n",
       "    <tr>\n",
       "      <th>2307380</th>\n",
       "      <td>[]</td>\n",
       "      <td>[0, 0, 0, 0, 0, 0, 0, 0, 0, 0, 0, 0, 0, 0, 0, ...</td>\n",
       "    </tr>\n",
       "    <tr>\n",
       "      <th>1197667</th>\n",
       "      <td>[]</td>\n",
       "      <td>[0, 0, 0, 0, 0, 0, 0, 0, 0, 0, 0, 0, 0, 0, 0, ...</td>\n",
       "    </tr>\n",
       "    <tr>\n",
       "      <th>1368763</th>\n",
       "      <td>[]</td>\n",
       "      <td>[0, 0, 0, 0, 0, 0, 0, 0, 0, 0, 0, 0, 0, 0, 0, ...</td>\n",
       "    </tr>\n",
       "  </tbody>\n",
       "</table>\n",
       "</div>"
      ],
      "text/plain": [
       "        game_tags                           game_tags_encoded_padded\n",
       "1512276        []  [0, 0, 0, 0, 0, 0, 0, 0, 0, 0, 0, 0, 0, 0, 0, ...\n",
       "2389635        []  [0, 0, 0, 0, 0, 0, 0, 0, 0, 0, 0, 0, 0, 0, 0, ...\n",
       "2307380        []  [0, 0, 0, 0, 0, 0, 0, 0, 0, 0, 0, 0, 0, 0, 0, ...\n",
       "1197667        []  [0, 0, 0, 0, 0, 0, 0, 0, 0, 0, 0, 0, 0, 0, 0, ...\n",
       "1368763        []  [0, 0, 0, 0, 0, 0, 0, 0, 0, 0, 0, 0, 0, 0, 0, ..."
      ]
     },
     "execution_count": 11,
     "metadata": {},
     "output_type": "execute_result"
    }
   ],
   "source": [
    "# The missing in multi-cat columns is encoded as all 0 list\n",
    "train_df[train_df['game_tags'].apply(lambda x: len(x)==0)][['game_tags', 'game_tags_encoded_padded']].sample(5)"
   ]
  },
  {
   "cell_type": "code",
   "execution_count": 12,
   "metadata": {},
   "outputs": [
    {
     "data": {
      "text/plain": [
       "['..\\\\assets\\\\combined\\\\train_NN_processed.pkl']"
      ]
     },
     "execution_count": 12,
     "metadata": {},
     "output_type": "execute_result"
    }
   ],
   "source": [
    "joblib.dump(train_df, r'..\\assets\\combined\\train_NN_processed.pkl')"
   ]
  },
  {
   "cell_type": "markdown",
   "metadata": {},
   "source": [
    "### Apply same transformation on test set"
   ]
  },
  {
   "cell_type": "code",
   "execution_count": 13,
   "metadata": {},
   "outputs": [
    {
     "name": "stdout",
     "output_type": "stream",
     "text": [
      "Column game_tags, max index: 112, pad size: 41\n",
      "Column game_available_platform, max index: 47, pad size: 13\n",
      "Column game_developer, max index: 3279, pad size: 10\n",
      "Column game_publisher, max index: 1504, pad size: 4\n"
     ]
    }
   ],
   "source": [
    "# Single categorical columns\n",
    "for col in single_cat_cols:\n",
    "    mapping = single_cat_label_encoders[col]\n",
    "    unknown_label = len(mapping)\n",
    "\n",
    "    test_df[col + '_encoded'] = test_df[col].apply(\n",
    "        lambda x: mapping.get(x, unknown_label)  # Use largest label to encode Unknown\n",
    "    )\n",
    "\n",
    "# Multi categorical columns\n",
    "for col in multi_cat_cols:\n",
    "    mapping = multi_cat_label_encoders[col]\n",
    "    unknown_label = len(mapping) + 1  # Use +1 since label start from 1 (0 is used for padding)\n",
    "\n",
    "    test_df[col + '_encoded'] = test_df[col].apply(\n",
    "        lambda x: [mapping.get(item, unknown_label) for item in x]  # Use largest label + 1 to encode Unknown\n",
    "    )\n",
    "    \n",
    "    # Pad sequences with 0 (padding index)\n",
    "    max_seq_len = max_seq_len_per_column[col]\n",
    "    PADDING_VALUE = 0\n",
    "    padded_sequences = pad_sequence(\n",
    "        [torch.tensor(row, dtype=torch.int64) for row in test_df[col + '_encoded']],\n",
    "        batch_first=True, padding_value=PADDING_VALUE\n",
    "    )\n",
    "\n",
    "    # Ensure test set sequences are padded to the same length as the training set\n",
    "    padded_sequences = torch.nn.functional.pad(\n",
    "        padded_sequences, (0, max_seq_len - padded_sequences.size(1)), value=PADDING_VALUE\n",
    "    )\n",
    "\n",
    "    max_index = padded_sequences.numpy().max()\n",
    "    print(f\"Column {col}, max index: {max_index}, pad size: {padded_sequences.shape[1]}\")\n",
    "\n",
    "    test_df[col + '_encoded_padded'] = list(padded_sequences.numpy())\n",
    "    test_df.drop(columns=[col + '_encoded'], inplace=True)\n"
   ]
  },
  {
   "cell_type": "code",
   "execution_count": 14,
   "metadata": {},
   "outputs": [
    {
     "data": {
      "text/plain": [
       "['..\\\\assets\\\\combined\\\\test_NN_processed.pkl']"
      ]
     },
     "execution_count": 14,
     "metadata": {},
     "output_type": "execute_result"
    }
   ],
   "source": [
    "joblib.dump(test_df, r'..\\assets\\combined\\test_NN_processed.pkl')"
   ]
  },
  {
   "cell_type": "markdown",
   "metadata": {},
   "source": [
    "## Prepare Pytorch dataset"
   ]
  },
  {
   "cell_type": "code",
   "execution_count": 15,
   "metadata": {},
   "outputs": [],
   "source": [
    "class UserGameDataset(Dataset):\n",
    "    def __init__(self, single_cat_inputs, multi_cat_inputs, num_inputs, bool_inputs, CF_inputs, relevance_score, user_ids):\n",
    "        self.single_cat_inputs = single_cat_inputs\n",
    "        self.multi_cat_inputs = multi_cat_inputs\n",
    "        self.num_inputs = num_inputs\n",
    "        self.bool_inputs = bool_inputs\n",
    "        self.CF_inputs = CF_inputs\n",
    "        self.relevance_score = relevance_score\n",
    "        self.user_ids = user_ids\n",
    "\n",
    "    def __len__(self):\n",
    "        return len(self.relevance_score)\n",
    "\n",
    "    def __getitem__(self, idx):\n",
    "        # For each sample, return the inputs and the corresponding target (score)\n",
    "        single_cat_input = self.single_cat_inputs[idx]\n",
    "        multi_cat_input = [multi_cat[idx] for multi_cat in self.multi_cat_inputs]  # Extract each multi-cat feature\n",
    "        numeric_input = self.num_inputs[idx]\n",
    "        boolean_input = self.bool_inputs[idx]\n",
    "        CF_input = [cf[idx] for cf in self.CF_inputs]\n",
    "\n",
    "        # Combine input into single tensor\n",
    "        all_input = torch.cat([single_cat_input, *multi_cat_input, numeric_input, boolean_input, *CF_input])\n",
    "\n",
    "        target = self.relevance_score[idx]\n",
    "\n",
    "        user_id = self.user_ids[idx]\n",
    "        \n",
    "        return all_input, target, user_id\n",
    "    \n",
    "# Convert into a tensor\n",
    "train_relevance_score = torch.tensor(train_df['relevance_score'].values, dtype=torch.float32)\n",
    "train_single_cat_inputs = torch.tensor(train_df[[col + '_encoded' for col in single_cat_cols]].values)\n",
    "train_multi_cat_inputs = [\n",
    "    torch.tensor(np.stack(train_df[col + '_encoded_padded'].values), dtype=torch.float32)\n",
    "    for col in multi_cat_cols\n",
    "]\n",
    "train_num_inputs = torch.tensor(train_df[num_cols].values, dtype=torch.float32)\n",
    "train_bool_inputs = torch.tensor(train_df[bool_cols].values)\n",
    "train_CF_inputs = [\n",
    "    torch.tensor(np.stack(train_df[col].values), dtype=torch.float32)\n",
    "    for col in cf_emb_cols\n",
    "]\n",
    "train_user_ids = train_df['user_id'].astype(np.int64).tolist()\n",
    "\n",
    "train_dataset = UserGameDataset(\n",
    "    train_single_cat_inputs,\n",
    "    train_multi_cat_inputs,\n",
    "    train_num_inputs,\n",
    "    train_bool_inputs,\n",
    "    train_CF_inputs,\n",
    "    train_relevance_score,\n",
    "    train_user_ids\n",
    ")"
   ]
  },
  {
   "cell_type": "code",
   "execution_count": 16,
   "metadata": {},
   "outputs": [
    {
     "name": "stdout",
     "output_type": "stream",
     "text": [
      "1 [41, 13, 10, 4] 76 43 [2, 2]\n"
     ]
    }
   ],
   "source": [
    "# Number of columns for each type of inputs\n",
    "single_cat_n_columns = train_single_cat_inputs.shape[1]\n",
    "multi_cat_n_columns = [tensor.shape[1] for tensor in train_multi_cat_inputs]\n",
    "num_n_columns = train_num_inputs.shape[1]\n",
    "bool_n_columns = train_bool_inputs.shape[1]\n",
    "CF_n_columns = [tensor.shape[1] for tensor in train_CF_inputs]\n",
    "\n",
    "print(single_cat_n_columns, multi_cat_n_columns, num_n_columns, bool_n_columns, CF_n_columns)"
   ]
  },
  {
   "cell_type": "code",
   "execution_count": 17,
   "metadata": {},
   "outputs": [],
   "source": [
    "# Convert into a tensor\n",
    "test_relevance_scores = torch.tensor(test_df['relevance_score'].values, dtype=torch.float32)\n",
    "test_single_cat_inputs = torch.tensor(test_df[[col + '_encoded' for col in single_cat_cols]].values)\n",
    "test_multi_cat_inputs = [\n",
    "    torch.tensor(np.stack(test_df[col + '_encoded_padded'].values), dtype=torch.float32)\n",
    "    for col in multi_cat_cols\n",
    "]\n",
    "test_num_inputs = torch.tensor(test_df[num_cols].values, dtype=torch.float32)\n",
    "test_bool_inputs = torch.tensor(test_df[bool_cols].values)\n",
    "test_CF_inputs = [\n",
    "    torch.tensor(np.stack(test_df[col].values), dtype=torch.float32)\n",
    "    for col in cf_emb_cols\n",
    "]\n",
    "test_user_ids = test_df['user_id'].astype(np.int64).tolist()\n",
    "\n",
    "test_dataset = UserGameDataset(\n",
    "    test_single_cat_inputs,\n",
    "    test_multi_cat_inputs,\n",
    "    test_num_inputs,\n",
    "    test_bool_inputs,\n",
    "    test_CF_inputs,\n",
    "    test_relevance_scores,\n",
    "    test_user_ids\n",
    ")"
   ]
  },
  {
   "cell_type": "markdown",
   "metadata": {},
   "source": [
    "## Prepare Model"
   ]
  },
  {
   "cell_type": "code",
   "execution_count": 18,
   "metadata": {},
   "outputs": [
    {
     "name": "stdout",
     "output_type": "stream",
     "text": [
      "[np.int64(113), np.int64(49), np.int64(3280), np.int64(1505)]\n"
     ]
    }
   ],
   "source": [
    "class NN_model(nn.Module):\n",
    "    def __init__(self, single_cat_dims, multi_cat_dims, emb_dim, num_dim, bool_dim, hidden_sizes, dropout_rate):\n",
    "        super(NN_model, self).__init__()\n",
    "\n",
    "        # Embedding layers for single categorical columns\n",
    "        self.single_cat_embeddings = nn.ModuleList([\n",
    "            nn.Embedding(cat_dim, emb_dim) for cat_dim in single_cat_dims\n",
    "        ])\n",
    "\n",
    "        # Embedding layers for multi-categorical columns with padding\n",
    "        self.multi_cat_embeddings = nn.ModuleList([\n",
    "            nn.Embedding(cat_dim, emb_dim, padding_idx=PADDING_VALUE) for cat_dim in multi_cat_dims\n",
    "        ])\n",
    "\n",
    "        # Layer normalization for each single categorical embedding\n",
    "        self.single_cat_layer_norms = nn.ModuleList([\n",
    "            nn.LayerNorm(emb_dim) for _ in single_cat_dims\n",
    "        ])\n",
    "\n",
    "        # Layer normalization for each multi-categorical embedding\n",
    "        self.multi_cat_layer_norms = nn.ModuleList([\n",
    "            nn.LayerNorm(emb_dim) for _ in multi_cat_dims\n",
    "        ])\n",
    "\n",
    "        # Dense layer for numeric and boolean inputs\n",
    "        self.num_dense = nn.Linear(num_dim, emb_dim)\n",
    "        self.bool_dense = nn.Linear(bool_dim, emb_dim)\n",
    "\n",
    "        # Fully connected layers setup\n",
    "        self.fc_layers = nn.ModuleList()\n",
    "\n",
    "        # Batch normalization setup\n",
    "        self.batch_norm_layers = nn.ModuleList()\n",
    "\n",
    "        # Drop out\n",
    "        self.dropout = nn.Dropout(dropout_rate)\n",
    "\n",
    "        input_size = emb_dim * (len(single_cat_dims) + len(multi_cat_dims) + 2)\n",
    "\n",
    "        for hidden_size in hidden_sizes:\n",
    "            self.fc_layers.append(nn.Linear(input_size, hidden_size)) # Fully connected layers\n",
    "            self.batch_norm_layers.append(nn.BatchNorm1d(hidden_size)) # Batch normalization\n",
    "            input_size = hidden_size\n",
    "        self.output = nn.Linear(input_size, 1)  # Output for regression\n",
    "\n",
    "    def forward(self, all_inputs):\n",
    "        # Extract single categorical columns\n",
    "        single_cat_inputs = all_inputs[:, :single_cat_n_columns]\n",
    "\n",
    "        # Extract multi-categorical columns\n",
    "        i = 0\n",
    "        multi_cat_inputs = []\n",
    "        for n_col in multi_cat_n_columns:\n",
    "            multi_cat_inputs.append(all_inputs[:, single_cat_n_columns + i:single_cat_n_columns + i + n_col])\n",
    "            i += n_col\n",
    "\n",
    "        # Extract numerical columns\n",
    "        num_inputs = all_inputs[:, single_cat_n_columns + sum(multi_cat_n_columns):single_cat_n_columns + sum(multi_cat_n_columns) + num_n_columns]\n",
    "\n",
    "        # Extract Boolean columns\n",
    "        bool_inputs = all_inputs[:, single_cat_n_columns + sum(multi_cat_n_columns) + num_n_columns:single_cat_n_columns + sum(multi_cat_n_columns) + num_n_columns + bool_n_columns]\n",
    "\n",
    "        # Process single categorical columns through embeddings and normalize\n",
    "        single_cat_emb = [\n",
    "            self.single_cat_layer_norms[i](embed(single_cat_inputs[:, i].type(torch.long))) \n",
    "            for i, embed in enumerate(self.single_cat_embeddings)\n",
    "        ]\n",
    "\n",
    "        # Process multi-categorical columns through embeddings with max pooling the most representative category for each feature and then normalize\n",
    "        multi_cat_emb = [\n",
    "            self.multi_cat_layer_norms[i](torch.max(embed(multi_cat_inputs[i].type(torch.long)), dim=1)[0])\n",
    "            for i, embed in enumerate(self.multi_cat_embeddings)\n",
    "        ]\n",
    "\n",
    "        # Process numeric and boolean features through dense layers\n",
    "        num_out = torch.relu(self.num_dense(num_inputs))\n",
    "        bool_out = torch.relu(self.bool_dense(bool_inputs.float()))\n",
    "\n",
    "        # Concatenate all features together\n",
    "        combined = torch.cat(single_cat_emb + multi_cat_emb + [num_out, bool_out], dim=1)\n",
    "\n",
    "        # Pass through fully connected layers\n",
    "        x = combined\n",
    "        for fc_layer, batch_norm_layer in zip(self.fc_layers, self.batch_norm_layers):\n",
    "            x = torch.relu(fc_layer(x))\n",
    "            x = batch_norm_layer(x)\n",
    "            x = self.dropout(x)\n",
    "        output = self.output(x)  # Regression output\n",
    "        \n",
    "        return output\n",
    "\n",
    "# Dimensions for category embedding layers\n",
    "# Add 1 dimension for the additional \"Unknown\" category in test set\n",
    "single_cat_dims = [train_df[col + '_encoded'].nunique() + 1 for col in single_cat_cols]\n",
    "# max() + 2 because it starts from 0 and the additional \"Unknown\" category\n",
    "multi_cat_dims = [train_df[col + '_encoded_padded'].apply(lambda x: max(x)).max() + 2 for col in multi_cat_cols]\n",
    "\n",
    "print(multi_cat_dims)"
   ]
  },
  {
   "cell_type": "markdown",
   "metadata": {},
   "source": [
    "## Training loop"
   ]
  },
  {
   "cell_type": "code",
   "execution_count": 19,
   "metadata": {},
   "outputs": [],
   "source": [
    "# Since NDCG is not differentiable, we use RankNet Loss to approximate NDCG during training, then use NDCG to evaluate during validation\n",
    "\n",
    "def ranknet_loss(scores, targets):\n",
    "    if targets.dim() == 1:\n",
    "        targets = targets.unsqueeze(1)\n",
    "        \n",
    "    # Compute pairwise differences for scores and targets.\n",
    "    pairwise_diff = scores - scores.t()  # shape: (batch_size, batch_size)\n",
    "    target_diff = targets - targets.t()    # shape: (batch_size, batch_size)\n",
    "    \n",
    "    # Only consider pairs with a non-zero difference in ground truth.\n",
    "    valid_pairs = (target_diff != 0).float()\n",
    "    \n",
    "    # Sij is +1 if target[i] > target[j] and -1 if target[i] < target[j].\n",
    "    Sij = torch.sign(target_diff)\n",
    "    \n",
    "    # Compute the probability that item i is ranked higher than j.\n",
    "    P_ij = torch.sigmoid(pairwise_diff)\n",
    "    \n",
    "    # Convert Sij to binary targets: 1 for Sij == 1, 0 for Sij == -1.\n",
    "    target_prob = (Sij + 1) / 2.0\n",
    "    \n",
    "    # Compute the binary cross entropy loss for the pairwise differences.\n",
    "    loss = F.binary_cross_entropy(P_ij, target_prob, reduction='none')\n",
    "    \n",
    "    # Only count valid pairs.\n",
    "    loss = (loss * valid_pairs).sum() / valid_pairs.sum().clamp(min=1)\n",
    "    return loss\n",
    "\n",
    "def grouped_ranknet_loss(outputs, targets, user_ids):\n",
    "    if not torch.is_tensor(user_ids):\n",
    "        user_ids = torch.tensor(user_ids)\n",
    "    unique_users = torch.unique(user_ids)\n",
    "    group_loss_sum = 0.0\n",
    "    group_count = 0\n",
    "    for uid in unique_users:\n",
    "        indices = (user_ids == uid).nonzero(as_tuple=True)[0]\n",
    "        if indices.numel() < 2:\n",
    "            continue\n",
    "        group_output = outputs[indices]\n",
    "        group_targets = targets[indices]\n",
    "        group_loss = ranknet_loss(group_output, group_targets)\n",
    "        group_loss_sum += group_loss\n",
    "        group_count += 1\n",
    "    if group_count > 0:\n",
    "        return group_loss_sum / group_count\n",
    "    else:\n",
    "        return torch.tensor(0.0, device=outputs.device)"
   ]
  },
  {
   "cell_type": "code",
   "execution_count": 20,
   "metadata": {},
   "outputs": [],
   "source": [
    "class MultiUserGroupBatchSampler(Sampler):\n",
    "    def __init__(self, user_ids, min_samples=2, batch_size=1024):\n",
    "        \"\"\"\n",
    "        Custom batch sampler that combines indices from multiple users\n",
    "        into one batch.\n",
    "        \n",
    "        Args:\n",
    "            user_ids (list or tensor): List of user IDs for each example.\n",
    "            min_samples (int): Minimum number of samples required from a user to be considered.\n",
    "            batch_size (int): Target number of samples per batch.\n",
    "        \"\"\"\n",
    "        \n",
    "        # Group by user and extract the dataset indices (using the index of the series)\n",
    "        user_series = pd.Series(user_ids)\n",
    "        self.user_to_indices = user_series.groupby(user_series).apply(lambda x: list(x.index)).to_dict()\n",
    "        \n",
    "        # Filter out user groups with fewer than min_samples.\n",
    "        self.user_to_indices = {\n",
    "            uid: indices for uid, indices in self.user_to_indices.items() if len(indices) >= min_samples\n",
    "        }\n",
    "        \n",
    "        # This list will be used to iterate over user groups in random order.\n",
    "        self.user_ids = list(self.user_to_indices.keys())\n",
    "        self.batch_size = batch_size\n",
    "\n",
    "    def __iter__(self):\n",
    "        # Shuffle the order of users to randomize the grouping across batches.\n",
    "        random.shuffle(self.user_ids)\n",
    "        batch_indices = []\n",
    "        for uid in self.user_ids:\n",
    "            # Add all indices for this user\n",
    "            batch_indices.extend(self.user_to_indices[uid])\n",
    "            # If we've reached or exceeded the target batch_size, yield the batch.\n",
    "            if len(batch_indices) >= self.batch_size:\n",
    "                yield batch_indices\n",
    "                batch_indices = []\n",
    "        # Yield remaining indices if any.\n",
    "        if batch_indices:\n",
    "            yield batch_indices\n",
    "\n",
    "    def __len__(self):\n",
    "        total_indices = sum(len(indices) for indices in self.user_to_indices.values())\n",
    "        return math.ceil(total_indices / self.batch_size)\n"
   ]
  },
  {
   "cell_type": "code",
   "execution_count": 21,
   "metadata": {},
   "outputs": [],
   "source": [
    "# just for testing, delete this cell for training all data\n",
    "subset_fraction = 0.05\n",
    "unique_users = train_df['user_id'].unique()\n",
    "num_users_to_select = int(len(unique_users) * subset_fraction)\n",
    "subset_user_ids = random.sample(list(unique_users), num_users_to_select)\n",
    "train_df = train_df[train_df['user_id'].isin(subset_user_ids)].copy()"
   ]
  },
  {
   "cell_type": "code",
   "execution_count": null,
   "metadata": {},
   "outputs": [
    {
     "name": "stderr",
     "output_type": "stream",
     "text": [
      "[I 2025-04-12 22:15:06,964] A new study created in memory with name: no-name-2d79c99e-e8d5-478b-977e-6300caa3036a\n",
      "[I 2025-04-12 22:34:20,892] Trial 0 finished with value: 0.781190259304333 and parameters: {'embedding_dim': 11, 'num_layers': 5, 'hidden_size_0': 123, 'hidden_size_1': 119, 'hidden_size_2': 77, 'hidden_size_3': 123, 'hidden_size_4': 122, 'learning_rate': 0.00029108756946951455, 'dropout_rate': 0.4597818814842819}. Best is trial 0 with value: 0.781190259304333.\n",
      "[I 2025-04-12 22:48:43,454] Trial 1 finished with value: 0.8068046819158304 and parameters: {'embedding_dim': 13, 'num_layers': 5, 'hidden_size_0': 61, 'hidden_size_1': 60, 'hidden_size_2': 50, 'hidden_size_3': 94, 'hidden_size_4': 55, 'learning_rate': 0.0015244990653717624, 'dropout_rate': 0.43440887795033534}. Best is trial 1 with value: 0.8068046819158304.\n",
      "[I 2025-04-12 22:57:33,782] Trial 2 finished with value: 0.8050095812595914 and parameters: {'embedding_dim': 7, 'num_layers': 3, 'hidden_size_0': 76, 'hidden_size_1': 21, 'hidden_size_2': 40, 'learning_rate': 0.004914786499791043, 'dropout_rate': 0.2952484347561144}. Best is trial 1 with value: 0.8068046819158304.\n",
      "[I 2025-04-12 23:05:28,373] Trial 3 finished with value: 0.8079097463225333 and parameters: {'embedding_dim': 13, 'num_layers': 2, 'hidden_size_0': 21, 'hidden_size_1': 56, 'learning_rate': 0.007810015428187113, 'dropout_rate': 0.11350037839573385}. Best is trial 3 with value: 0.8079097463225333.\n",
      "[I 2025-04-12 23:20:40,762] Trial 4 finished with value: 0.7950885727588064 and parameters: {'embedding_dim': 12, 'num_layers': 2, 'hidden_size_0': 62, 'hidden_size_1': 30, 'learning_rate': 0.0003402263980651893, 'dropout_rate': 0.39681402694192314}. Best is trial 3 with value: 0.8079097463225333.\n",
      "[I 2025-04-12 23:30:58,866] Trial 5 finished with value: 0.7848425960914013 and parameters: {'embedding_dim': 5, 'num_layers': 2, 'hidden_size_0': 63, 'hidden_size_1': 101, 'learning_rate': 0.0003918328662876625, 'dropout_rate': 0.301674818271765}. Best is trial 3 with value: 0.8079097463225333.\n",
      "[I 2025-04-12 23:41:34,014] Trial 6 finished with value: 0.8035014810470618 and parameters: {'embedding_dim': 10, 'num_layers': 4, 'hidden_size_0': 117, 'hidden_size_1': 25, 'hidden_size_2': 32, 'hidden_size_3': 51, 'learning_rate': 0.0018525458898499092, 'dropout_rate': 0.4398983242249209}. Best is trial 3 with value: 0.8079097463225333.\n",
      "[I 2025-04-12 23:50:15,759] Trial 7 finished with value: 0.8124451449140488 and parameters: {'embedding_dim': 13, 'num_layers': 4, 'hidden_size_0': 64, 'hidden_size_1': 66, 'hidden_size_2': 30, 'hidden_size_3': 54, 'learning_rate': 0.003215391857859165, 'dropout_rate': 0.4021584643101088}. Best is trial 7 with value: 0.8124451449140488.\n",
      "[I 2025-04-12 23:55:44,057] Trial 8 finished with value: 0.8142252928008645 and parameters: {'embedding_dim': 12, 'num_layers': 4, 'hidden_size_0': 70, 'hidden_size_1': 71, 'hidden_size_2': 86, 'hidden_size_3': 16, 'learning_rate': 0.006880704638558596, 'dropout_rate': 0.2055988349818034}. Best is trial 8 with value: 0.8142252928008645.\n",
      "[I 2025-04-13 00:00:05,651] Trial 9 finished with value: 0.8076746110131031 and parameters: {'embedding_dim': 16, 'num_layers': 4, 'hidden_size_0': 110, 'hidden_size_1': 66, 'hidden_size_2': 99, 'hidden_size_3': 54, 'learning_rate': 0.0034110926781141487, 'dropout_rate': 0.267488509826987}. Best is trial 8 with value: 0.8142252928008645.\n",
      "[I 2025-04-13 00:05:18,257] Trial 10 finished with value: 0.7991966973473256 and parameters: {'embedding_dim': 8, 'num_layers': 3, 'hidden_size_0': 91, 'hidden_size_1': 88, 'hidden_size_2': 126, 'learning_rate': 0.0007468607838395264, 'dropout_rate': 0.16608185630380976}. Best is trial 8 with value: 0.8142252928008645.\n",
      "[I 2025-04-13 00:09:57,891] Trial 11 finished with value: 0.8094149915704886 and parameters: {'embedding_dim': 16, 'num_layers': 4, 'hidden_size_0': 37, 'hidden_size_1': 82, 'hidden_size_2': 16, 'hidden_size_3': 17, 'learning_rate': 0.009427496277536737, 'dropout_rate': 0.2322291454176627}. Best is trial 8 with value: 0.8142252928008645.\n",
      "[I 2025-04-13 00:15:41,832] Trial 12 finished with value: 0.8081853670285719 and parameters: {'embedding_dim': 14, 'num_layers': 4, 'hidden_size_0': 42, 'hidden_size_1': 49, 'hidden_size_2': 75, 'hidden_size_3': 23, 'learning_rate': 0.0031652394849924184, 'dropout_rate': 0.3592746532339798}. Best is trial 8 with value: 0.8142252928008645.\n",
      "[I 2025-04-13 00:21:43,698] Trial 13 finished with value: 0.803665935426842 and parameters: {'embedding_dim': 10, 'num_layers': 5, 'hidden_size_0': 86, 'hidden_size_1': 46, 'hidden_size_2': 97, 'hidden_size_3': 48, 'hidden_size_4': 16, 'learning_rate': 0.005548069202788531, 'dropout_rate': 0.49744554895909354}. Best is trial 8 with value: 0.8142252928008645.\n",
      "[I 2025-04-13 00:28:43,972] Trial 14 finished with value: 0.8062224226510061 and parameters: {'embedding_dim': 14, 'num_layers': 3, 'hidden_size_0': 46, 'hidden_size_1': 80, 'hidden_size_2': 59, 'learning_rate': 0.0019086626578709396, 'dropout_rate': 0.20302691159089514}. Best is trial 8 with value: 0.8142252928008645.\n",
      "[I 2025-04-13 00:40:58,045] Trial 15 finished with value: 0.7755954413792355 and parameters: {'embedding_dim': 9, 'num_layers': 4, 'hidden_size_0': 98, 'hidden_size_1': 101, 'hidden_size_2': 86, 'hidden_size_3': 81, 'learning_rate': 0.00013687810430735897, 'dropout_rate': 0.34884137686501715}. Best is trial 8 with value: 0.8142252928008645.\n",
      "[I 2025-04-13 00:46:18,972] Trial 16 finished with value: 0.8041622465657964 and parameters: {'embedding_dim': 15, 'num_layers': 3, 'hidden_size_0': 76, 'hidden_size_1': 38, 'hidden_size_2': 118, 'learning_rate': 0.0009505420413730638, 'dropout_rate': 0.14220430794209593}. Best is trial 8 with value: 0.8142252928008645.\n",
      "[I 2025-04-13 00:52:05,104] Trial 17 finished with value: 0.8039152443571449 and parameters: {'embedding_dim': 11, 'num_layers': 5, 'hidden_size_0': 52, 'hidden_size_1': 69, 'hidden_size_2': 61, 'hidden_size_3': 35, 'hidden_size_4': 128, 'learning_rate': 0.003208633366290779, 'dropout_rate': 0.2147617134384135}. Best is trial 8 with value: 0.8142252928008645.\n",
      "[I 2025-04-13 00:56:34,682] Trial 18 finished with value: 0.800078780825211 and parameters: {'embedding_dim': 12, 'num_layers': 4, 'hidden_size_0': 30, 'hidden_size_1': 127, 'hidden_size_2': 20, 'hidden_size_3': 70, 'learning_rate': 0.005392835760022026, 'dropout_rate': 0.3446672499137017}. Best is trial 8 with value: 0.8142252928008645.\n",
      "[I 2025-04-13 01:00:46,107] Trial 19 finished with value: 0.8018966316420254 and parameters: {'embedding_dim': 4, 'num_layers': 3, 'hidden_size_0': 101, 'hidden_size_1': 96, 'hidden_size_2': 105, 'learning_rate': 0.00960436054466608, 'dropout_rate': 0.3857132342441874}. Best is trial 8 with value: 0.8142252928008645.\n"
     ]
    },
    {
     "name": "stdout",
     "output_type": "stream",
     "text": [
      "Best trial:\n",
      "  Average Validation NDCG: 0.8142252928008645\n",
      "  NDCG Std: 0.020903909057112983\n",
      "  Params: \n",
      "    embedding_dim: 12\n",
      "    num_layers: 4\n",
      "    hidden_size_0: 70\n",
      "    hidden_size_1: 71\n",
      "    hidden_size_2: 86\n",
      "    hidden_size_3: 16\n",
      "    learning_rate: 0.006880704638558596\n",
      "    dropout_rate: 0.2055988349818034\n"
     ]
    }
   ],
   "source": [
    "K_FOLDS = 5\n",
    "NUM_EPOCHS = 30\n",
    "PATIENCE = 3\n",
    "N_TRIALS = 20\n",
    "device = torch.device(\"cuda\" if torch.cuda.is_available() else \"cpu\")\n",
    "\n",
    "# Set up Optuna's logging system\n",
    "optuna.logging.set_verbosity(optuna.logging.INFO)\n",
    "\n",
    "def objective(trial):\n",
    "    # Hyperparameter suggestions by Optuna\n",
    "    embedding_dim = trial.suggest_int('embedding_dim', 4, 16)\n",
    "    num_layers = trial.suggest_int('num_layers', 2, 5)\n",
    "    hidden_sizes = [trial.suggest_int(f'hidden_size_{i}', 16, 128) for i in range(num_layers)]\n",
    "    learning_rate = trial.suggest_float('learning_rate', 1e-4, 1e-2, log=True)\n",
    "    dropout_rate = trial.suggest_float('dropout_rate', 0.1, 0.5)\n",
    "\n",
    "    # K-Fold Cross Validation splitting by user\n",
    "    groups = train_df['user_id'].values\n",
    "    kf = GroupKFold(n_splits=K_FOLDS, shuffle=True, random_state=RANDOM_SEED)\n",
    "\n",
    "    trial_training_loss = []\n",
    "    trial_validation_ndcg = []\n",
    "    trial_best_val_ndcg = -float('inf')  # Initialize global best validation loss\n",
    "    trial_best_model_state = None  # Initialize global best model state\n",
    "    fold_ndcg_scores = []\n",
    "\n",
    "\n",
    "    for fold, (train_idx, val_idx) in enumerate(kf.split(train_df, train_df['relevance_score'].values, groups)):\n",
    "        # Create Subsets and DataLoader for the current fold\n",
    "        train_subset = Subset(train_dataset, train_idx)\n",
    "        val_subset = Subset(train_dataset, val_idx)\n",
    "\n",
    "        train_fold_user_ids = [train_dataset.user_ids[i] for i in train_idx]\n",
    "        train_user_batch_sampler = MultiUserGroupBatchSampler(train_fold_user_ids)\n",
    "        train_loader = DataLoader(train_subset, batch_sampler=train_user_batch_sampler, generator=torch.Generator().manual_seed(RANDOM_SEED))\n",
    "\n",
    "        val_fold_user_ids = [train_dataset.user_ids[i] for i in val_idx]\n",
    "        val_train_user_batch_sampler = MultiUserGroupBatchSampler(val_fold_user_ids)\n",
    "        val_loader = DataLoader(val_subset, batch_sampler=val_train_user_batch_sampler, generator=torch.Generator().manual_seed(RANDOM_SEED))\n",
    "\n",
    "        # Initialize model for each fold\n",
    "        model = NN_model(\n",
    "            single_cat_dims=single_cat_dims,\n",
    "            multi_cat_dims=multi_cat_dims,\n",
    "            emb_dim=embedding_dim,\n",
    "            num_dim=len(num_cols),\n",
    "            bool_dim=len(bool_cols),\n",
    "            hidden_sizes=hidden_sizes,\n",
    "            dropout_rate=dropout_rate\n",
    "        ).to(device)\n",
    "\n",
    "        optimizer = Adam(model.parameters(), lr=learning_rate)\n",
    "\n",
    "        # Initialization for each fold\n",
    "        fold_best_val_ndcg = -float('inf')\n",
    "        fold_train_losses = []\n",
    "        fold_val_ndcgs = []\n",
    "        epochs_no_improve = 0\n",
    "\n",
    "        # Training loop with early stopping\n",
    "        for epoch in range(NUM_EPOCHS):\n",
    "            model.train()\n",
    "            epoch_train_loss = 0\n",
    "\n",
    "            # ------------- Training -------------\n",
    "            for batch in train_loader:\n",
    "                input_batch, target_batch, user_ids = batch\n",
    "                input_batch = input_batch.to(device)\n",
    "                target_batch = target_batch.to(device)\n",
    "\n",
    "                optimizer.zero_grad()\n",
    "                output = model(input_batch)\n",
    "\n",
    "                loss = grouped_ranknet_loss(output, target_batch, user_ids)\n",
    "                loss.backward()\n",
    "                optimizer.step()\n",
    "                epoch_train_loss += loss.item()\n",
    "\n",
    "            epoch_train_loss /= len(train_loader) # Average train loss for this fold\n",
    "            fold_train_losses.append(epoch_train_loss)\n",
    "\n",
    "            # ------------- Validation -------------\n",
    "            model.eval()\n",
    "            preds_by_user = defaultdict(list)\n",
    "            truths_by_user = defaultdict(list)\n",
    "            epoch_val_loss = 0\n",
    "            \n",
    "            with torch.no_grad():\n",
    "                for batch in val_loader:\n",
    "                    input_batch, target_batch, user_ids = batch\n",
    "                    input_batch = input_batch.to(device)\n",
    "                    target_batch = target_batch.to(device)\n",
    "\n",
    "                    output = model(input_batch)\n",
    "                    loss = grouped_ranknet_loss(output, target_batch, user_ids)\n",
    "                    epoch_val_loss += loss.item() # Accumulate validation loss\n",
    "\n",
    "                    # Accumulate predictions and targets according to user ids\n",
    "                    for pred, truth, uid in zip(output.squeeze().cpu().numpy(),\n",
    "                                                  target_batch.cpu().numpy(), user_ids):\n",
    "                        preds_by_user[int(uid)].append(pred)\n",
    "                        truths_by_user[int(uid)].append(truth)\n",
    "\n",
    "            epoch_val_loss /= len(val_loader) # Average validation loss for this fold\n",
    "\n",
    "            # Compute NDCG per user group and average across groups\n",
    "            user_ndcgs = []\n",
    "            for uid in preds_by_user:\n",
    "                # Reshape for ndcg_score to 2D arrays\n",
    "                y_true = np.array(truths_by_user[uid]).reshape(1, -1)\n",
    "                y_pred = np.array(preds_by_user[uid]).reshape(1, -1)\n",
    "                ndcg = ndcg_score(y_true, y_pred)\n",
    "                user_ndcgs.append(ndcg)\n",
    "            epoch_val_ndcg = np.mean(user_ndcgs) if user_ndcgs else 0.0\n",
    "            fold_val_ndcgs.append(epoch_val_ndcg)\n",
    "\n",
    "            # Early stopping check\n",
    "            if epoch_val_ndcg > fold_best_val_ndcg:\n",
    "                fold_best_val_ndcg = epoch_val_ndcg\n",
    "                epochs_no_improve = 0\n",
    "                \n",
    "                if epoch_val_ndcg > trial_best_val_ndcg:\n",
    "                    trial_best_val_ndcg = epoch_val_ndcg\n",
    "                    trial_best_model_state = model.state_dict()  # Save trail best model state\n",
    "            else:\n",
    "                epochs_no_improve += 1\n",
    "\n",
    "            if epochs_no_improve >= PATIENCE:\n",
    "                break\n",
    "\n",
    "        fold_ndcg_scores.append(fold_best_val_ndcg)\n",
    "        trial_training_loss.append(fold_train_losses)\n",
    "        trial_validation_ndcg.append(fold_val_ndcgs)\n",
    "\n",
    "    # Record fold metrics in the trial attributes\n",
    "    trial.set_user_attr('fold_ndcg_scores', fold_ndcg_scores)\n",
    "    trial.set_user_attr('training_loss', trial_training_loss)\n",
    "    trial.set_user_attr('validation_ndcg', trial_validation_ndcg)\n",
    "    \n",
    "    average_ndcg = np.mean(fold_ndcg_scores)\n",
    "    trial.set_user_attr(\"best_model_state\", trial_best_model_state)\n",
    "    return average_ndcg\n",
    "\n",
    "# Create a study and optimize\n",
    "study = optuna.create_study(direction='maximize')\n",
    "study.optimize(objective, n_trials=N_TRIALS)\n",
    "\n",
    "# Reconstruct the best model\n",
    "best_trial = study.best_trial\n",
    "best_model_state = best_trial.user_attrs[\"best_model_state\"]\n",
    "embedding_dim = best_trial.params['embedding_dim']\n",
    "num_layers = best_trial.params['num_layers']\n",
    "hidden_sizes = [best_trial.params[f'hidden_size_{i}'] for i in range(num_layers)]\n",
    "dropout_rate = best_trial.params['dropout_rate']\n",
    "\n",
    "best_model = NN_model(\n",
    "    single_cat_dims=single_cat_dims,\n",
    "    multi_cat_dims=multi_cat_dims,\n",
    "    emb_dim=embedding_dim,\n",
    "    num_dim=len(num_cols),\n",
    "    bool_dim=len(bool_cols),\n",
    "    hidden_sizes=hidden_sizes,\n",
    "    dropout_rate=dropout_rate\n",
    ").to(device)\n",
    "\n",
    "best_model.load_state_dict(best_model_state)\n",
    "torch.save(best_model, 'PyTorch_trained_model.pth')\n",
    "\n",
    "# Compute standard deviations\n",
    "best_trial_fold_ndcgs = best_trial.user_attrs['fold_ndcg_scores']\n",
    "ndcg_std = np.std(best_trial_fold_ndcgs)\n",
    "\n",
    "# Print the best result\n",
    "print('Best trial:')\n",
    "print(f'  Average Validation NDCG: {best_trial.value}')\n",
    "print(f'  NDCG Std: {ndcg_std}')\n",
    "print('  Params: ')\n",
    "for key, value in best_trial.params.items():\n",
    "    print(f'    {key}: {value}')"
   ]
  },
  {
   "cell_type": "markdown",
   "metadata": {},
   "source": [
    "## Model prediction on test set"
   ]
  },
  {
   "cell_type": "code",
   "execution_count": null,
   "metadata": {},
   "outputs": [],
   "source": [
    "device = torch.device(\"cuda\" if torch.cuda.is_available() else \"cpu\")\n",
    "best_model = torch.load('PyTorch_trained_model.pth', weights_only=False).to(device)"
   ]
  },
  {
   "cell_type": "code",
   "execution_count": 24,
   "metadata": {},
   "outputs": [
    {
     "name": "stdout",
     "output_type": "stream",
     "text": [
      "Test Average NDCG: 0.8217685015761792\n"
     ]
    }
   ],
   "source": [
    "# We set min_samples=1 so that every user is included\n",
    "test_user_batch_sampler = MultiUserGroupBatchSampler(test_dataset.user_ids, min_samples=1, batch_size=256)\n",
    "\n",
    "test_loader = DataLoader(test_dataset, batch_sampler=test_user_batch_sampler,\n",
    "                           generator=torch.Generator().manual_seed(RANDOM_SEED))\n",
    "\n",
    "best_model.eval()\n",
    "\n",
    "preds_by_user = defaultdict(list)\n",
    "truths_by_user = defaultdict(list)\n",
    "\n",
    "with torch.no_grad():\n",
    "    for batch in test_loader:\n",
    "        input_batch, target_batch, user_ids = batch\n",
    "        input_batch = input_batch.to(device)\n",
    "        target_batch = target_batch.to(device)\n",
    "\n",
    "        output = best_model(input_batch)\n",
    "\n",
    "        if isinstance(user_ids, torch.Tensor):\n",
    "            user_ids = user_ids.tolist()\n",
    "\n",
    "        # Iterate over the batch and group predictions and targets by user.\n",
    "        for pred, truth, uid in zip(output.squeeze().cpu().numpy(),\n",
    "                                     target_batch.cpu().numpy(),\n",
    "                                     user_ids):\n",
    "            preds_by_user[int(uid)].append(pred)\n",
    "            truths_by_user[int(uid)].append(truth)\n",
    "\n",
    "# Compute the NDCG for each user and then average across users.\n",
    "test_ndcgs = []\n",
    "for uid in preds_by_user:\n",
    "    # Reshape for ndcg_score which expects a 2D array (shape: (1, number_of_items))\n",
    "    y_true = np.array(truths_by_user[uid]).reshape(1, -1)\n",
    "    y_pred = np.array(preds_by_user[uid]).reshape(1, -1)\n",
    "    ndcg = ndcg_score(y_true, y_pred)\n",
    "    test_ndcgs.append(ndcg)\n",
    "\n",
    "# Average NDCG over all users.\n",
    "avg_test_ndcg = np.mean(test_ndcgs) if test_ndcgs else 0.0\n",
    "print(f\"Test Average NDCG: {avg_test_ndcg}\")"
   ]
  },
  {
   "cell_type": "markdown",
   "metadata": {},
   "source": [
    "## Evaluation"
   ]
  },
  {
   "cell_type": "code",
   "execution_count": 25,
   "metadata": {},
   "outputs": [],
   "source": [
    "import matplotlib.pyplot as plt\n",
    "import shap\n",
    "from optuna.visualization import (\n",
    "    plot_optimization_history,\n",
    "    plot_param_importances,\n",
    "    plot_parallel_coordinate,\n",
    "    plot_slice\n",
    ")"
   ]
  },
  {
   "cell_type": "code",
   "execution_count": 26,
   "metadata": {},
   "outputs": [],
   "source": [
    "feature_names = single_cat_cols + [f\"{col}_dim_{dim}\"\n",
    "    for i, col in enumerate(multi_cat_cols)\n",
    "    for dim in range(multi_cat_n_columns[i])\n",
    "] + num_cols + bool_cols + [f\"{col}_dim_{dim}\"\n",
    "    for i, col in enumerate(cf_emb_cols)\n",
    "    for dim in range(CF_n_columns[i])\n",
    "]"
   ]
  },
  {
   "cell_type": "code",
   "execution_count": 27,
   "metadata": {},
   "outputs": [
    {
     "data": {
      "application/vnd.jupyter.widget-view+json": {
       "model_id": "f80eddcbba0e4b22b6e182af870ffb46",
       "version_major": 2,
       "version_minor": 0
      },
      "text/plain": [
       "  0%|          | 0/200 [00:00<?, ?it/s]"
      ]
     },
     "metadata": {},
     "output_type": "display_data"
    },
    {
     "data": {
      "text/html": [
       "<div align='center'><img src='data:image/png;base64,iVBORw0KGgoAAAANSUhEUgAAABkAAAAWCAYAAAA1vze2AAAAGXRFWHRTb2Z0d2FyZQBBZG9iZSBJbWFnZVJlYWR5ccllPAAAAdxJREFUeNq0Vt1Rg0AQJjcpgBJiBWIFkgoMFYhPPAIVECogPuYpdJBYgXQQrMCUkA50V7+d2ZwXuXPGm9khHLu3f9+3l1nkWNvtNqfHLgpfQ1EUS3tz5nAQ0+NIsiAZSc6eDlI8M3J00B/mDuUKDk6kfOebAgW3pkdD0pFcODGW4gKKvOrAUm04MA4QDt1OEIXU9hDigfS5rC1eS5T90gltck1Xrizo257kgySZcNRzgCSxCvgiE9nckPJo2b/B2AcEkk2OwL8bD8gmOKR1GPbaCUqxEgTq0tLvgb6zfo7+DgYGkkWL2tqLDV4RSITfbHPPfJKIrWz4nJQTMPAWA7IbD6imcNaDeDfgk+4No+wZr40BL3g9eQJJCFqRQ54KiSt72lsLpE3o3MCBSxDuq4yOckU2hKXRuwBH3OyMR4g1UpyTYw6mlmBqNdUXRM1NfyF5EPI6JkcpIDBIX8jX6DR/6ckAZJ0wEAdLR8DEk6OfC1Pp8BKo6TQIwPJbvJ6toK5lmuvJoRtfK6Ym1iRYIarRo2UyYHvRN5qpakR3yoizWrouoyuXXQqI185LCw07op5ZyCRGL99h24InP0e9xdQukEKVmhzrqZuRIfwISB//cP3Wk3f8f/yR+BRgAHu00HjLcEQBAAAAAElFTkSuQmCC' /></div><script charset='utf-8'>/*! For license information please see bundle.js.LICENSE.txt */\n",
       "(()=>{var t={221:(t,n,e)=>{\"use strict\";var r=e(540);function i(t){var n=\"https://react.dev/errors/\"+t;if(1<arguments.length){n+=\"?args[]=\"+encodeURIComponent(arguments[1]);for(var e=2;e<arguments.length;e++)n+=\"&args[]=\"+encodeURIComponent(arguments[e])}return\"Minified React error #\"+t+\"; visit \"+n+\" for the full message or use the non-minified dev environment for full errors and additional helpful warnings.\"}function o(){}var u={d:{f:o,r:function(){throw Error(i(522))},D:o,C:o,L:o,m:o,X:o,S:o,M:o},p:0,findDOMNode:null},a=Symbol.for(\"react.portal\"),c=r.__CLIENT_INTERNALS_DO_NOT_USE_OR_WARN_USERS_THEY_CANNOT_UPGRADE;function s(t,n){return\"font\"===t?\"\":\"string\"==typeof n?\"use-credentials\"===n?n:\"\":void 0}n.__DOM_INTERNALS_DO_NOT_USE_OR_WARN_USERS_THEY_CANNOT_UPGRADE=u,n.createPortal=function(t,n){var e=2<arguments.length&&void 0!==arguments[2]?arguments[2]:null;if(!n||1!==n.nodeType&&9!==n.nodeType&&11!==n.nodeType)throw Error(i(299));return function(t,n,e){var r=3<arguments.length&&void 0!==arguments[3]?arguments[3]:null;return{$$typeof:a,key:null==r?null:\"\"+r,children:t,containerInfo:n,implementation:e}}(t,n,null,e)},n.flushSync=function(t){var n=c.T,e=u.p;try{if(c.T=null,u.p=2,t)return t()}finally{c.T=n,u.p=e,u.d.f()}},n.preconnect=function(t,n){\"string\"==typeof t&&(n=n?\"string\"==typeof(n=n.crossOrigin)?\"use-credentials\"===n?n:\"\":void 0:null,u.d.C(t,n))},n.prefetchDNS=function(t){\"string\"==typeof t&&u.d.D(t)},n.preinit=function(t,n){if(\"string\"==typeof t&&n&&\"string\"==typeof n.as){var e=n.as,r=s(e,n.crossOrigin),i=\"string\"==typeof n.integrity?n.integrity:void 0,o=\"string\"==typeof n.fetchPriority?n.fetchPriority:void 0;\"style\"===e?u.d.S(t,\"string\"==typeof n.precedence?n.precedence:void 0,{crossOrigin:r,integrity:i,fetchPriority:o}):\"script\"===e&&u.d.X(t,{crossOrigin:r,integrity:i,fetchPriority:o,nonce:\"string\"==typeof n.nonce?n.nonce:void 0})}},n.preinitModule=function(t,n){if(\"string\"==typeof t)if(\"object\"==typeof n&&null!==n){if(null==n.as||\"script\"===n.as){var e=s(n.as,n.crossOrigin);u.d.M(t,{crossOrigin:e,integrity:\"string\"==typeof n.integrity?n.integrity:void 0,nonce:\"string\"==typeof n.nonce?n.nonce:void 0})}}else null==n&&u.d.M(t)},n.preload=function(t,n){if(\"string\"==typeof t&&\"object\"==typeof n&&null!==n&&\"string\"==typeof n.as){var e=n.as,r=s(e,n.crossOrigin);u.d.L(t,e,{crossOrigin:r,integrity:\"string\"==typeof n.integrity?n.integrity:void 0,nonce:\"string\"==typeof n.nonce?n.nonce:void 0,type:\"string\"==typeof n.type?n.type:void 0,fetchPriority:\"string\"==typeof n.fetchPriority?n.fetchPriority:void 0,referrerPolicy:\"string\"==typeof n.referrerPolicy?n.referrerPolicy:void 0,imageSrcSet:\"string\"==typeof n.imageSrcSet?n.imageSrcSet:void 0,imageSizes:\"string\"==typeof n.imageSizes?n.imageSizes:void 0,media:\"string\"==typeof n.media?n.media:void 0})}},n.preloadModule=function(t,n){if(\"string\"==typeof t)if(n){var e=s(n.as,n.crossOrigin);u.d.m(t,{as:\"string\"==typeof n.as&&\"script\"!==n.as?n.as:void 0,crossOrigin:e,integrity:\"string\"==typeof n.integrity?n.integrity:void 0})}else u.d.m(t)},n.requestFormReset=function(t){u.d.r(t)},n.unstable_batchedUpdates=function(t,n){return t(n)},n.useFormState=function(t,n,e){return c.H.useFormState(t,n,e)},n.useFormStatus=function(){return c.H.useHostTransitionStatus()},n.version=\"19.0.0\"},540:(t,n,e)=>{\"use strict\";t.exports=e(869)},543:function(t,n,e){var r;t=e.nmd(t),function(){var i,o=\"Expected a function\",u=\"__lodash_hash_undefined__\",a=\"__lodash_placeholder__\",c=32,s=128,f=1/0,l=9007199254740991,h=NaN,p=4294967295,v=[[\"ary\",s],[\"bind\",1],[\"bindKey\",2],[\"curry\",8],[\"curryRight\",16],[\"flip\",512],[\"partial\",c],[\"partialRight\",64],[\"rearg\",256]],d=\"[object Arguments]\",g=\"[object Array]\",y=\"[object Boolean]\",m=\"[object Date]\",_=\"[object Error]\",x=\"[object Function]\",b=\"[object GeneratorFunction]\",w=\"[object Map]\",k=\"[object Number]\",S=\"[object Object]\",M=\"[object Promise]\",A=\"[object RegExp]\",T=\"[object Set]\",O=\"[object String]\",j=\"[object Symbol]\",E=\"[object WeakMap]\",C=\"[object ArrayBuffer]\",$=\"[object DataView]\",F=\"[object Float32Array]\",N=\"[object Float64Array]\",D=\"[object Int8Array]\",L=\"[object Int16Array]\",U=\"[object Int32Array]\",R=\"[object Uint8Array]\",P=\"[object Uint8ClampedArray]\",z=\"[object Uint16Array]\",I=\"[object Uint32Array]\",B=/\\b__p \\+= '';/g,H=/\\b(__p \\+=) '' \\+/g,W=/(__e\\(.*?\\)|\\b__t\\)) \\+\\n'';/g,V=/&(?:amp|lt|gt|quot|#39);/g,Y=/[&<>\"']/g,q=RegExp(V.source),G=RegExp(Y.source),Z=/<%-([\\s\\S]+?)%>/g,X=/<%([\\s\\S]+?)%>/g,K=/<%=([\\s\\S]+?)%>/g,J=/\\.|\\[(?:[^[\\]]*|([\"'])(?:(?!\\1)[^\\\\]|\\\\.)*?\\1)\\]/,Q=/^\\w*$/,tt=/[^.[\\]]+|\\[(?:(-?\\d+(?:\\.\\d+)?)|([\"'])((?:(?!\\2)[^\\\\]|\\\\.)*?)\\2)\\]|(?=(?:\\.|\\[\\])(?:\\.|\\[\\]|$))/g,nt=/[\\\\^$.*+?()[\\]{}|]/g,et=RegExp(nt.source),rt=/^\\s+/,it=/\\s/,ot=/\\{(?:\\n\\/\\* \\[wrapped with .+\\] \\*\\/)?\\n?/,ut=/\\{\\n\\/\\* \\[wrapped with (.+)\\] \\*/,at=/,? & /,ct=/[^\\x00-\\x2f\\x3a-\\x40\\x5b-\\x60\\x7b-\\x7f]+/g,st=/[()=,{}\\[\\]\\/\\s]/,ft=/\\\\(\\\\)?/g,lt=/\\$\\{([^\\\\}]*(?:\\\\.[^\\\\}]*)*)\\}/g,ht=/\\w*$/,pt=/^[-+]0x[0-9a-f]+$/i,vt=/^0b[01]+$/i,dt=/^\\[object .+?Constructor\\]$/,gt=/^0o[0-7]+$/i,yt=/^(?:0|[1-9]\\d*)$/,mt=/[\\xc0-\\xd6\\xd8-\\xf6\\xf8-\\xff\\u0100-\\u017f]/g,_t=/($^)/,xt=/['\\n\\r\\u2028\\u2029\\\\]/g,bt=\"\\\\ud800-\\\\udfff\",wt=\"\\\\u0300-\\\\u036f\\\\ufe20-\\\\ufe2f\\\\u20d0-\\\\u20ff\",kt=\"\\\\u2700-\\\\u27bf\",St=\"a-z\\\\xdf-\\\\xf6\\\\xf8-\\\\xff\",Mt=\"A-Z\\\\xc0-\\\\xd6\\\\xd8-\\\\xde\",At=\"\\\\ufe0e\\\\ufe0f\",Tt=\"\\\\xac\\\\xb1\\\\xd7\\\\xf7\\\\x00-\\\\x2f\\\\x3a-\\\\x40\\\\x5b-\\\\x60\\\\x7b-\\\\xbf\\\\u2000-\\\\u206f \\\\t\\\\x0b\\\\f\\\\xa0\\\\ufeff\\\\n\\\\r\\\\u2028\\\\u2029\\\\u1680\\\\u180e\\\\u2000\\\\u2001\\\\u2002\\\\u2003\\\\u2004\\\\u2005\\\\u2006\\\\u2007\\\\u2008\\\\u2009\\\\u200a\\\\u202f\\\\u205f\\\\u3000\",Ot=\"[\"+bt+\"]\",jt=\"[\"+Tt+\"]\",Et=\"[\"+wt+\"]\",Ct=\"\\\\d+\",$t=\"[\"+kt+\"]\",Ft=\"[\"+St+\"]\",Nt=\"[^\"+bt+Tt+Ct+kt+St+Mt+\"]\",Dt=\"\\\\ud83c[\\\\udffb-\\\\udfff]\",Lt=\"[^\"+bt+\"]\",Ut=\"(?:\\\\ud83c[\\\\udde6-\\\\uddff]){2}\",Rt=\"[\\\\ud800-\\\\udbff][\\\\udc00-\\\\udfff]\",Pt=\"[\"+Mt+\"]\",zt=\"\\\\u200d\",It=\"(?:\"+Ft+\"|\"+Nt+\")\",Bt=\"(?:\"+Pt+\"|\"+Nt+\")\",Ht=\"(?:['’](?:d|ll|m|re|s|t|ve))?\",Wt=\"(?:['’](?:D|LL|M|RE|S|T|VE))?\",Vt=\"(?:\"+Et+\"|\"+Dt+\")?\",Yt=\"[\"+At+\"]?\",qt=Yt+Vt+\"(?:\"+zt+\"(?:\"+[Lt,Ut,Rt].join(\"|\")+\")\"+Yt+Vt+\")*\",Gt=\"(?:\"+[$t,Ut,Rt].join(\"|\")+\")\"+qt,Zt=\"(?:\"+[Lt+Et+\"?\",Et,Ut,Rt,Ot].join(\"|\")+\")\",Xt=RegExp(\"['’]\",\"g\"),Kt=RegExp(Et,\"g\"),Jt=RegExp(Dt+\"(?=\"+Dt+\")|\"+Zt+qt,\"g\"),Qt=RegExp([Pt+\"?\"+Ft+\"+\"+Ht+\"(?=\"+[jt,Pt,\"$\"].join(\"|\")+\")\",Bt+\"+\"+Wt+\"(?=\"+[jt,Pt+It,\"$\"].join(\"|\")+\")\",Pt+\"?\"+It+\"+\"+Ht,Pt+\"+\"+Wt,\"\\\\d*(?:1ST|2ND|3RD|(?![123])\\\\dTH)(?=\\\\b|[a-z_])\",\"\\\\d*(?:1st|2nd|3rd|(?![123])\\\\dth)(?=\\\\b|[A-Z_])\",Ct,Gt].join(\"|\"),\"g\"),tn=RegExp(\"[\"+zt+bt+wt+At+\"]\"),nn=/[a-z][A-Z]|[A-Z]{2}[a-z]|[0-9][a-zA-Z]|[a-zA-Z][0-9]|[^a-zA-Z0-9 ]/,en=[\"Array\",\"Buffer\",\"DataView\",\"Date\",\"Error\",\"Float32Array\",\"Float64Array\",\"Function\",\"Int8Array\",\"Int16Array\",\"Int32Array\",\"Map\",\"Math\",\"Object\",\"Promise\",\"RegExp\",\"Set\",\"String\",\"Symbol\",\"TypeError\",\"Uint8Array\",\"Uint8ClampedArray\",\"Uint16Array\",\"Uint32Array\",\"WeakMap\",\"_\",\"clearTimeout\",\"isFinite\",\"parseInt\",\"setTimeout\"],rn=-1,on={};on[F]=on[N]=on[D]=on[L]=on[U]=on[R]=on[P]=on[z]=on[I]=!0,on[d]=on[g]=on[C]=on[y]=on[$]=on[m]=on[_]=on[x]=on[w]=on[k]=on[S]=on[A]=on[T]=on[O]=on[E]=!1;var un={};un[d]=un[g]=un[C]=un[$]=un[y]=un[m]=un[F]=un[N]=un[D]=un[L]=un[U]=un[w]=un[k]=un[S]=un[A]=un[T]=un[O]=un[j]=un[R]=un[P]=un[z]=un[I]=!0,un[_]=un[x]=un[E]=!1;var an={\"\\\\\":\"\\\\\",\"'\":\"'\",\"\\n\":\"n\",\"\\r\":\"r\",\"\\u2028\":\"u2028\",\"\\u2029\":\"u2029\"},cn=parseFloat,sn=parseInt,fn=\"object\"==typeof e.g&&e.g&&e.g.Object===Object&&e.g,ln=\"object\"==typeof self&&self&&self.Object===Object&&self,hn=fn||ln||Function(\"return this\")(),pn=n&&!n.nodeType&&n,vn=pn&&t&&!t.nodeType&&t,dn=vn&&vn.exports===pn,gn=dn&&fn.process,yn=function(){try{return vn&&vn.require&&vn.require(\"util\").types||gn&&gn.binding&&gn.binding(\"util\")}catch(t){}}(),mn=yn&&yn.isArrayBuffer,_n=yn&&yn.isDate,xn=yn&&yn.isMap,bn=yn&&yn.isRegExp,wn=yn&&yn.isSet,kn=yn&&yn.isTypedArray;function Sn(t,n,e){switch(e.length){case 0:return t.call(n);case 1:return t.call(n,e[0]);case 2:return t.call(n,e[0],e[1]);case 3:return t.call(n,e[0],e[1],e[2])}return t.apply(n,e)}function Mn(t,n,e,r){for(var i=-1,o=null==t?0:t.length;++i<o;){var u=t[i];n(r,u,e(u),t)}return r}function An(t,n){for(var e=-1,r=null==t?0:t.length;++e<r&&!1!==n(t[e],e,t););return t}function Tn(t,n){for(var e=null==t?0:t.length;e--&&!1!==n(t[e],e,t););return t}function On(t,n){for(var e=-1,r=null==t?0:t.length;++e<r;)if(!n(t[e],e,t))return!1;return!0}function jn(t,n){for(var e=-1,r=null==t?0:t.length,i=0,o=[];++e<r;){var u=t[e];n(u,e,t)&&(o[i++]=u)}return o}function En(t,n){return!(null==t||!t.length)&&zn(t,n,0)>-1}function Cn(t,n,e){for(var r=-1,i=null==t?0:t.length;++r<i;)if(e(n,t[r]))return!0;return!1}function $n(t,n){for(var e=-1,r=null==t?0:t.length,i=Array(r);++e<r;)i[e]=n(t[e],e,t);return i}function Fn(t,n){for(var e=-1,r=n.length,i=t.length;++e<r;)t[i+e]=n[e];return t}function Nn(t,n,e,r){var i=-1,o=null==t?0:t.length;for(r&&o&&(e=t[++i]);++i<o;)e=n(e,t[i],i,t);return e}function Dn(t,n,e,r){var i=null==t?0:t.length;for(r&&i&&(e=t[--i]);i--;)e=n(e,t[i],i,t);return e}function Ln(t,n){for(var e=-1,r=null==t?0:t.length;++e<r;)if(n(t[e],e,t))return!0;return!1}var Un=Wn(\"length\");function Rn(t,n,e){var r;return e(t,(function(t,e,i){if(n(t,e,i))return r=e,!1})),r}function Pn(t,n,e,r){for(var i=t.length,o=e+(r?1:-1);r?o--:++o<i;)if(n(t[o],o,t))return o;return-1}function zn(t,n,e){return n==n?function(t,n,e){for(var r=e-1,i=t.length;++r<i;)if(t[r]===n)return r;return-1}(t,n,e):Pn(t,Bn,e)}function In(t,n,e,r){for(var i=e-1,o=t.length;++i<o;)if(r(t[i],n))return i;return-1}function Bn(t){return t!=t}function Hn(t,n){var e=null==t?0:t.length;return e?qn(t,n)/e:h}function Wn(t){return function(n){return null==n?i:n[t]}}function Vn(t){return function(n){return null==t?i:t[n]}}function Yn(t,n,e,r,i){return i(t,(function(t,i,o){e=r?(r=!1,t):n(e,t,i,o)})),e}function qn(t,n){for(var e,r=-1,o=t.length;++r<o;){var u=n(t[r]);u!==i&&(e=e===i?u:e+u)}return e}function Gn(t,n){for(var e=-1,r=Array(t);++e<t;)r[e]=n(e);return r}function Zn(t){return t?t.slice(0,he(t)+1).replace(rt,\"\"):t}function Xn(t){return function(n){return t(n)}}function Kn(t,n){return $n(n,(function(n){return t[n]}))}function Jn(t,n){return t.has(n)}function Qn(t,n){for(var e=-1,r=t.length;++e<r&&zn(n,t[e],0)>-1;);return e}function te(t,n){for(var e=t.length;e--&&zn(n,t[e],0)>-1;);return e}var ne=Vn({À:\"A\",Á:\"A\",Â:\"A\",Ã:\"A\",Ä:\"A\",Å:\"A\",à:\"a\",á:\"a\",â:\"a\",ã:\"a\",ä:\"a\",å:\"a\",Ç:\"C\",ç:\"c\",Ð:\"D\",ð:\"d\",È:\"E\",É:\"E\",Ê:\"E\",Ë:\"E\",è:\"e\",é:\"e\",ê:\"e\",ë:\"e\",Ì:\"I\",Í:\"I\",Î:\"I\",Ï:\"I\",ì:\"i\",í:\"i\",î:\"i\",ï:\"i\",Ñ:\"N\",ñ:\"n\",Ò:\"O\",Ó:\"O\",Ô:\"O\",Õ:\"O\",Ö:\"O\",Ø:\"O\",ò:\"o\",ó:\"o\",ô:\"o\",õ:\"o\",ö:\"o\",ø:\"o\",Ù:\"U\",Ú:\"U\",Û:\"U\",Ü:\"U\",ù:\"u\",ú:\"u\",û:\"u\",ü:\"u\",Ý:\"Y\",ý:\"y\",ÿ:\"y\",Æ:\"Ae\",æ:\"ae\",Þ:\"Th\",þ:\"th\",ß:\"ss\",Ā:\"A\",Ă:\"A\",Ą:\"A\",ā:\"a\",ă:\"a\",ą:\"a\",Ć:\"C\",Ĉ:\"C\",Ċ:\"C\",Č:\"C\",ć:\"c\",ĉ:\"c\",ċ:\"c\",č:\"c\",Ď:\"D\",Đ:\"D\",ď:\"d\",đ:\"d\",Ē:\"E\",Ĕ:\"E\",Ė:\"E\",Ę:\"E\",Ě:\"E\",ē:\"e\",ĕ:\"e\",ė:\"e\",ę:\"e\",ě:\"e\",Ĝ:\"G\",Ğ:\"G\",Ġ:\"G\",Ģ:\"G\",ĝ:\"g\",ğ:\"g\",ġ:\"g\",ģ:\"g\",Ĥ:\"H\",Ħ:\"H\",ĥ:\"h\",ħ:\"h\",Ĩ:\"I\",Ī:\"I\",Ĭ:\"I\",Į:\"I\",İ:\"I\",ĩ:\"i\",ī:\"i\",ĭ:\"i\",į:\"i\",ı:\"i\",Ĵ:\"J\",ĵ:\"j\",Ķ:\"K\",ķ:\"k\",ĸ:\"k\",Ĺ:\"L\",Ļ:\"L\",Ľ:\"L\",Ŀ:\"L\",Ł:\"L\",ĺ:\"l\",ļ:\"l\",ľ:\"l\",ŀ:\"l\",ł:\"l\",Ń:\"N\",Ņ:\"N\",Ň:\"N\",Ŋ:\"N\",ń:\"n\",ņ:\"n\",ň:\"n\",ŋ:\"n\",Ō:\"O\",Ŏ:\"O\",Ő:\"O\",ō:\"o\",ŏ:\"o\",ő:\"o\",Ŕ:\"R\",Ŗ:\"R\",Ř:\"R\",ŕ:\"r\",ŗ:\"r\",ř:\"r\",Ś:\"S\",Ŝ:\"S\",Ş:\"S\",Š:\"S\",ś:\"s\",ŝ:\"s\",ş:\"s\",š:\"s\",Ţ:\"T\",Ť:\"T\",Ŧ:\"T\",ţ:\"t\",ť:\"t\",ŧ:\"t\",Ũ:\"U\",Ū:\"U\",Ŭ:\"U\",Ů:\"U\",Ű:\"U\",Ų:\"U\",ũ:\"u\",ū:\"u\",ŭ:\"u\",ů:\"u\",ű:\"u\",ų:\"u\",Ŵ:\"W\",ŵ:\"w\",Ŷ:\"Y\",ŷ:\"y\",Ÿ:\"Y\",Ź:\"Z\",Ż:\"Z\",Ž:\"Z\",ź:\"z\",ż:\"z\",ž:\"z\",Ĳ:\"IJ\",ĳ:\"ij\",Œ:\"Oe\",œ:\"oe\",ŉ:\"'n\",ſ:\"s\"}),ee=Vn({\"&\":\"&amp;\",\"<\":\"&lt;\",\">\":\"&gt;\",'\"':\"&quot;\",\"'\":\"&#39;\"});function re(t){return\"\\\\\"+an[t]}function ie(t){return tn.test(t)}function oe(t){var n=-1,e=Array(t.size);return t.forEach((function(t,r){e[++n]=[r,t]})),e}function ue(t,n){return function(e){return t(n(e))}}function ae(t,n){for(var e=-1,r=t.length,i=0,o=[];++e<r;){var u=t[e];u!==n&&u!==a||(t[e]=a,o[i++]=e)}return o}function ce(t){var n=-1,e=Array(t.size);return t.forEach((function(t){e[++n]=t})),e}function se(t){var n=-1,e=Array(t.size);return t.forEach((function(t){e[++n]=[t,t]})),e}function fe(t){return ie(t)?function(t){for(var n=Jt.lastIndex=0;Jt.test(t);)++n;return n}(t):Un(t)}function le(t){return ie(t)?function(t){return t.match(Jt)||[]}(t):function(t){return t.split(\"\")}(t)}function he(t){for(var n=t.length;n--&&it.test(t.charAt(n)););return n}var pe=Vn({\"&amp;\":\"&\",\"&lt;\":\"<\",\"&gt;\":\">\",\"&quot;\":'\"',\"&#39;\":\"'\"}),ve=function t(n){var e,r=(n=null==n?hn:ve.defaults(hn.Object(),n,ve.pick(hn,en))).Array,it=n.Date,bt=n.Error,wt=n.Function,kt=n.Math,St=n.Object,Mt=n.RegExp,At=n.String,Tt=n.TypeError,Ot=r.prototype,jt=wt.prototype,Et=St.prototype,Ct=n[\"__core-js_shared__\"],$t=jt.toString,Ft=Et.hasOwnProperty,Nt=0,Dt=(e=/[^.]+$/.exec(Ct&&Ct.keys&&Ct.keys.IE_PROTO||\"\"))?\"Symbol(src)_1.\"+e:\"\",Lt=Et.toString,Ut=$t.call(St),Rt=hn._,Pt=Mt(\"^\"+$t.call(Ft).replace(nt,\"\\\\$&\").replace(/hasOwnProperty|(function).*?(?=\\\\\\()| for .+?(?=\\\\\\])/g,\"$1.*?\")+\"$\"),zt=dn?n.Buffer:i,It=n.Symbol,Bt=n.Uint8Array,Ht=zt?zt.allocUnsafe:i,Wt=ue(St.getPrototypeOf,St),Vt=St.create,Yt=Et.propertyIsEnumerable,qt=Ot.splice,Gt=It?It.isConcatSpreadable:i,Zt=It?It.iterator:i,Jt=It?It.toStringTag:i,tn=function(){try{var t=co(St,\"defineProperty\");return t({},\"\",{}),t}catch(t){}}(),an=n.clearTimeout!==hn.clearTimeout&&n.clearTimeout,fn=it&&it.now!==hn.Date.now&&it.now,ln=n.setTimeout!==hn.setTimeout&&n.setTimeout,pn=kt.ceil,vn=kt.floor,gn=St.getOwnPropertySymbols,yn=zt?zt.isBuffer:i,Un=n.isFinite,Vn=Ot.join,de=ue(St.keys,St),ge=kt.max,ye=kt.min,me=it.now,_e=n.parseInt,xe=kt.random,be=Ot.reverse,we=co(n,\"DataView\"),ke=co(n,\"Map\"),Se=co(n,\"Promise\"),Me=co(n,\"Set\"),Ae=co(n,\"WeakMap\"),Te=co(St,\"create\"),Oe=Ae&&new Ae,je={},Ee=Uo(we),Ce=Uo(ke),$e=Uo(Se),Fe=Uo(Me),Ne=Uo(Ae),De=It?It.prototype:i,Le=De?De.valueOf:i,Ue=De?De.toString:i;function Re(t){if(ta(t)&&!Hu(t)&&!(t instanceof Be)){if(t instanceof Ie)return t;if(Ft.call(t,\"__wrapped__\"))return Ro(t)}return new Ie(t)}var Pe=function(){function t(){}return function(n){if(!Qu(n))return{};if(Vt)return Vt(n);t.prototype=n;var e=new t;return t.prototype=i,e}}();function ze(){}function Ie(t,n){this.__wrapped__=t,this.__actions__=[],this.__chain__=!!n,this.__index__=0,this.__values__=i}function Be(t){this.__wrapped__=t,this.__actions__=[],this.__dir__=1,this.__filtered__=!1,this.__iteratees__=[],this.__takeCount__=p,this.__views__=[]}function He(t){var n=-1,e=null==t?0:t.length;for(this.clear();++n<e;){var r=t[n];this.set(r[0],r[1])}}function We(t){var n=-1,e=null==t?0:t.length;for(this.clear();++n<e;){var r=t[n];this.set(r[0],r[1])}}function Ve(t){var n=-1,e=null==t?0:t.length;for(this.clear();++n<e;){var r=t[n];this.set(r[0],r[1])}}function Ye(t){var n=-1,e=null==t?0:t.length;for(this.__data__=new Ve;++n<e;)this.add(t[n])}function qe(t){var n=this.__data__=new We(t);this.size=n.size}function Ge(t,n){var e=Hu(t),r=!e&&Bu(t),i=!e&&!r&&qu(t),o=!e&&!r&&!i&&ca(t),u=e||r||i||o,a=u?Gn(t.length,At):[],c=a.length;for(var s in t)!n&&!Ft.call(t,s)||u&&(\"length\"==s||i&&(\"offset\"==s||\"parent\"==s)||o&&(\"buffer\"==s||\"byteLength\"==s||\"byteOffset\"==s)||go(s,c))||a.push(s);return a}function Ze(t){var n=t.length;return n?t[Vr(0,n-1)]:i}function Xe(t,n){return $o(Ai(t),or(n,0,t.length))}function Ke(t){return $o(Ai(t))}function Je(t,n,e){(e!==i&&!Pu(t[n],e)||e===i&&!(n in t))&&rr(t,n,e)}function Qe(t,n,e){var r=t[n];Ft.call(t,n)&&Pu(r,e)&&(e!==i||n in t)||rr(t,n,e)}function tr(t,n){for(var e=t.length;e--;)if(Pu(t[e][0],n))return e;return-1}function nr(t,n,e,r){return fr(t,(function(t,i,o){n(r,t,e(t),o)})),r}function er(t,n){return t&&Ti(n,Ea(n),t)}function rr(t,n,e){\"__proto__\"==n&&tn?tn(t,n,{configurable:!0,enumerable:!0,value:e,writable:!0}):t[n]=e}function ir(t,n){for(var e=-1,o=n.length,u=r(o),a=null==t;++e<o;)u[e]=a?i:Ma(t,n[e]);return u}function or(t,n,e){return t==t&&(e!==i&&(t=t<=e?t:e),n!==i&&(t=t>=n?t:n)),t}function ur(t,n,e,r,o,u){var a,c=1&n,s=2&n,f=4&n;if(e&&(a=o?e(t,r,o,u):e(t)),a!==i)return a;if(!Qu(t))return t;var l=Hu(t);if(l){if(a=function(t){var n=t.length,e=new t.constructor(n);return n&&\"string\"==typeof t[0]&&Ft.call(t,\"index\")&&(e.index=t.index,e.input=t.input),e}(t),!c)return Ai(t,a)}else{var h=lo(t),p=h==x||h==b;if(qu(t))return xi(t,c);if(h==S||h==d||p&&!o){if(a=s||p?{}:po(t),!c)return s?function(t,n){return Ti(t,fo(t),n)}(t,function(t,n){return t&&Ti(n,Ca(n),t)}(a,t)):function(t,n){return Ti(t,so(t),n)}(t,er(a,t))}else{if(!un[h])return o?t:{};a=function(t,n,e){var r,i=t.constructor;switch(n){case C:return bi(t);case y:case m:return new i(+t);case $:return function(t,n){var e=n?bi(t.buffer):t.buffer;return new t.constructor(e,t.byteOffset,t.byteLength)}(t,e);case F:case N:case D:case L:case U:case R:case P:case z:case I:return wi(t,e);case w:return new i;case k:case O:return new i(t);case A:return function(t){var n=new t.constructor(t.source,ht.exec(t));return n.lastIndex=t.lastIndex,n}(t);case T:return new i;case j:return r=t,Le?St(Le.call(r)):{}}}(t,h,c)}}u||(u=new qe);var v=u.get(t);if(v)return v;u.set(t,a),oa(t)?t.forEach((function(r){a.add(ur(r,n,e,r,t,u))})):na(t)&&t.forEach((function(r,i){a.set(i,ur(r,n,e,i,t,u))}));var g=l?i:(f?s?no:to:s?Ca:Ea)(t);return An(g||t,(function(r,i){g&&(r=t[i=r]),Qe(a,i,ur(r,n,e,i,t,u))})),a}function ar(t,n,e){var r=e.length;if(null==t)return!r;for(t=St(t);r--;){var o=e[r],u=n[o],a=t[o];if(a===i&&!(o in t)||!u(a))return!1}return!0}function cr(t,n,e){if(\"function\"!=typeof t)throw new Tt(o);return Oo((function(){t.apply(i,e)}),n)}function sr(t,n,e,r){var i=-1,o=En,u=!0,a=t.length,c=[],s=n.length;if(!a)return c;e&&(n=$n(n,Xn(e))),r?(o=Cn,u=!1):n.length>=200&&(o=Jn,u=!1,n=new Ye(n));t:for(;++i<a;){var f=t[i],l=null==e?f:e(f);if(f=r||0!==f?f:0,u&&l==l){for(var h=s;h--;)if(n[h]===l)continue t;c.push(f)}else o(n,l,r)||c.push(f)}return c}Re.templateSettings={escape:Z,evaluate:X,interpolate:K,variable:\"\",imports:{_:Re}},Re.prototype=ze.prototype,Re.prototype.constructor=Re,Ie.prototype=Pe(ze.prototype),Ie.prototype.constructor=Ie,Be.prototype=Pe(ze.prototype),Be.prototype.constructor=Be,He.prototype.clear=function(){this.__data__=Te?Te(null):{},this.size=0},He.prototype.delete=function(t){var n=this.has(t)&&delete this.__data__[t];return this.size-=n?1:0,n},He.prototype.get=function(t){var n=this.__data__;if(Te){var e=n[t];return e===u?i:e}return Ft.call(n,t)?n[t]:i},He.prototype.has=function(t){var n=this.__data__;return Te?n[t]!==i:Ft.call(n,t)},He.prototype.set=function(t,n){var e=this.__data__;return this.size+=this.has(t)?0:1,e[t]=Te&&n===i?u:n,this},We.prototype.clear=function(){this.__data__=[],this.size=0},We.prototype.delete=function(t){var n=this.__data__,e=tr(n,t);return!(e<0||(e==n.length-1?n.pop():qt.call(n,e,1),--this.size,0))},We.prototype.get=function(t){var n=this.__data__,e=tr(n,t);return e<0?i:n[e][1]},We.prototype.has=function(t){return tr(this.__data__,t)>-1},We.prototype.set=function(t,n){var e=this.__data__,r=tr(e,t);return r<0?(++this.size,e.push([t,n])):e[r][1]=n,this},Ve.prototype.clear=function(){this.size=0,this.__data__={hash:new He,map:new(ke||We),string:new He}},Ve.prototype.delete=function(t){var n=uo(this,t).delete(t);return this.size-=n?1:0,n},Ve.prototype.get=function(t){return uo(this,t).get(t)},Ve.prototype.has=function(t){return uo(this,t).has(t)},Ve.prototype.set=function(t,n){var e=uo(this,t),r=e.size;return e.set(t,n),this.size+=e.size==r?0:1,this},Ye.prototype.add=Ye.prototype.push=function(t){return this.__data__.set(t,u),this},Ye.prototype.has=function(t){return this.__data__.has(t)},qe.prototype.clear=function(){this.__data__=new We,this.size=0},qe.prototype.delete=function(t){var n=this.__data__,e=n.delete(t);return this.size=n.size,e},qe.prototype.get=function(t){return this.__data__.get(t)},qe.prototype.has=function(t){return this.__data__.has(t)},qe.prototype.set=function(t,n){var e=this.__data__;if(e instanceof We){var r=e.__data__;if(!ke||r.length<199)return r.push([t,n]),this.size=++e.size,this;e=this.__data__=new Ve(r)}return e.set(t,n),this.size=e.size,this};var fr=Ei(mr),lr=Ei(_r,!0);function hr(t,n){var e=!0;return fr(t,(function(t,r,i){return e=!!n(t,r,i)})),e}function pr(t,n,e){for(var r=-1,o=t.length;++r<o;){var u=t[r],a=n(u);if(null!=a&&(c===i?a==a&&!aa(a):e(a,c)))var c=a,s=u}return s}function vr(t,n){var e=[];return fr(t,(function(t,r,i){n(t,r,i)&&e.push(t)})),e}function dr(t,n,e,r,i){var o=-1,u=t.length;for(e||(e=vo),i||(i=[]);++o<u;){var a=t[o];n>0&&e(a)?n>1?dr(a,n-1,e,r,i):Fn(i,a):r||(i[i.length]=a)}return i}var gr=Ci(),yr=Ci(!0);function mr(t,n){return t&&gr(t,n,Ea)}function _r(t,n){return t&&yr(t,n,Ea)}function xr(t,n){return jn(n,(function(n){return Xu(t[n])}))}function br(t,n){for(var e=0,r=(n=gi(n,t)).length;null!=t&&e<r;)t=t[Lo(n[e++])];return e&&e==r?t:i}function wr(t,n,e){var r=n(t);return Hu(t)?r:Fn(r,e(t))}function kr(t){return null==t?t===i?\"[object Undefined]\":\"[object Null]\":Jt&&Jt in St(t)?function(t){var n=Ft.call(t,Jt),e=t[Jt];try{t[Jt]=i;var r=!0}catch(t){}var o=Lt.call(t);return r&&(n?t[Jt]=e:delete t[Jt]),o}(t):function(t){return Lt.call(t)}(t)}function Sr(t,n){return t>n}function Mr(t,n){return null!=t&&Ft.call(t,n)}function Ar(t,n){return null!=t&&n in St(t)}function Tr(t,n,e){for(var o=e?Cn:En,u=t[0].length,a=t.length,c=a,s=r(a),f=1/0,l=[];c--;){var h=t[c];c&&n&&(h=$n(h,Xn(n))),f=ye(h.length,f),s[c]=!e&&(n||u>=120&&h.length>=120)?new Ye(c&&h):i}h=t[0];var p=-1,v=s[0];t:for(;++p<u&&l.length<f;){var d=h[p],g=n?n(d):d;if(d=e||0!==d?d:0,!(v?Jn(v,g):o(l,g,e))){for(c=a;--c;){var y=s[c];if(!(y?Jn(y,g):o(t[c],g,e)))continue t}v&&v.push(g),l.push(d)}}return l}function Or(t,n,e){var r=null==(t=Mo(t,n=gi(n,t)))?t:t[Lo(Zo(n))];return null==r?i:Sn(r,t,e)}function jr(t){return ta(t)&&kr(t)==d}function Er(t,n,e,r,o){return t===n||(null==t||null==n||!ta(t)&&!ta(n)?t!=t&&n!=n:function(t,n,e,r,o,u){var a=Hu(t),c=Hu(n),s=a?g:lo(t),f=c?g:lo(n),l=(s=s==d?S:s)==S,h=(f=f==d?S:f)==S,p=s==f;if(p&&qu(t)){if(!qu(n))return!1;a=!0,l=!1}if(p&&!l)return u||(u=new qe),a||ca(t)?Ji(t,n,e,r,o,u):function(t,n,e,r,i,o,u){switch(e){case $:if(t.byteLength!=n.byteLength||t.byteOffset!=n.byteOffset)return!1;t=t.buffer,n=n.buffer;case C:return!(t.byteLength!=n.byteLength||!o(new Bt(t),new Bt(n)));case y:case m:case k:return Pu(+t,+n);case _:return t.name==n.name&&t.message==n.message;case A:case O:return t==n+\"\";case w:var a=oe;case T:var c=1&r;if(a||(a=ce),t.size!=n.size&&!c)return!1;var s=u.get(t);if(s)return s==n;r|=2,u.set(t,n);var f=Ji(a(t),a(n),r,i,o,u);return u.delete(t),f;case j:if(Le)return Le.call(t)==Le.call(n)}return!1}(t,n,s,e,r,o,u);if(!(1&e)){var v=l&&Ft.call(t,\"__wrapped__\"),x=h&&Ft.call(n,\"__wrapped__\");if(v||x){var b=v?t.value():t,M=x?n.value():n;return u||(u=new qe),o(b,M,e,r,u)}}return!!p&&(u||(u=new qe),function(t,n,e,r,o,u){var a=1&e,c=to(t),s=c.length;if(s!=to(n).length&&!a)return!1;for(var f=s;f--;){var l=c[f];if(!(a?l in n:Ft.call(n,l)))return!1}var h=u.get(t),p=u.get(n);if(h&&p)return h==n&&p==t;var v=!0;u.set(t,n),u.set(n,t);for(var d=a;++f<s;){var g=t[l=c[f]],y=n[l];if(r)var m=a?r(y,g,l,n,t,u):r(g,y,l,t,n,u);if(!(m===i?g===y||o(g,y,e,r,u):m)){v=!1;break}d||(d=\"constructor\"==l)}if(v&&!d){var _=t.constructor,x=n.constructor;_==x||!(\"constructor\"in t)||!(\"constructor\"in n)||\"function\"==typeof _&&_ instanceof _&&\"function\"==typeof x&&x instanceof x||(v=!1)}return u.delete(t),u.delete(n),v}(t,n,e,r,o,u))}(t,n,e,r,Er,o))}function Cr(t,n,e,r){var o=e.length,u=o,a=!r;if(null==t)return!u;for(t=St(t);o--;){var c=e[o];if(a&&c[2]?c[1]!==t[c[0]]:!(c[0]in t))return!1}for(;++o<u;){var s=(c=e[o])[0],f=t[s],l=c[1];if(a&&c[2]){if(f===i&&!(s in t))return!1}else{var h=new qe;if(r)var p=r(f,l,s,t,n,h);if(!(p===i?Er(l,f,3,r,h):p))return!1}}return!0}function $r(t){return!(!Qu(t)||(n=t,Dt&&Dt in n))&&(Xu(t)?Pt:dt).test(Uo(t));var n}function Fr(t){return\"function\"==typeof t?t:null==t?ec:\"object\"==typeof t?Hu(t)?Rr(t[0],t[1]):Ur(t):lc(t)}function Nr(t){if(!bo(t))return de(t);var n=[];for(var e in St(t))Ft.call(t,e)&&\"constructor\"!=e&&n.push(e);return n}function Dr(t,n){return t<n}function Lr(t,n){var e=-1,i=Vu(t)?r(t.length):[];return fr(t,(function(t,r,o){i[++e]=n(t,r,o)})),i}function Ur(t){var n=ao(t);return 1==n.length&&n[0][2]?ko(n[0][0],n[0][1]):function(e){return e===t||Cr(e,t,n)}}function Rr(t,n){return mo(t)&&wo(n)?ko(Lo(t),n):function(e){var r=Ma(e,t);return r===i&&r===n?Aa(e,t):Er(n,r,3)}}function Pr(t,n,e,r,o){t!==n&&gr(n,(function(u,a){if(o||(o=new qe),Qu(u))!function(t,n,e,r,o,u,a){var c=Ao(t,e),s=Ao(n,e),f=a.get(s);if(f)Je(t,e,f);else{var l=u?u(c,s,e+\"\",t,n,a):i,h=l===i;if(h){var p=Hu(s),v=!p&&qu(s),d=!p&&!v&&ca(s);l=s,p||v||d?Hu(c)?l=c:Yu(c)?l=Ai(c):v?(h=!1,l=xi(s,!0)):d?(h=!1,l=wi(s,!0)):l=[]:ra(s)||Bu(s)?(l=c,Bu(c)?l=ga(c):Qu(c)&&!Xu(c)||(l=po(s))):h=!1}h&&(a.set(s,l),o(l,s,r,u,a),a.delete(s)),Je(t,e,l)}}(t,n,a,e,Pr,r,o);else{var c=r?r(Ao(t,a),u,a+\"\",t,n,o):i;c===i&&(c=u),Je(t,a,c)}}),Ca)}function zr(t,n){var e=t.length;if(e)return go(n+=n<0?e:0,e)?t[n]:i}function Ir(t,n,e){n=n.length?$n(n,(function(t){return Hu(t)?function(n){return br(n,1===t.length?t[0]:t)}:t})):[ec];var r=-1;n=$n(n,Xn(oo()));var i=Lr(t,(function(t,e,i){var o=$n(n,(function(n){return n(t)}));return{criteria:o,index:++r,value:t}}));return function(t){var n=t.length;for(t.sort((function(t,n){return function(t,n,e){for(var r=-1,i=t.criteria,o=n.criteria,u=i.length,a=e.length;++r<u;){var c=ki(i[r],o[r]);if(c)return r>=a?c:c*(\"desc\"==e[r]?-1:1)}return t.index-n.index}(t,n,e)}));n--;)t[n]=t[n].value;return t}(i)}function Br(t,n,e){for(var r=-1,i=n.length,o={};++r<i;){var u=n[r],a=br(t,u);e(a,u)&&Xr(o,gi(u,t),a)}return o}function Hr(t,n,e,r){var i=r?In:zn,o=-1,u=n.length,a=t;for(t===n&&(n=Ai(n)),e&&(a=$n(t,Xn(e)));++o<u;)for(var c=0,s=n[o],f=e?e(s):s;(c=i(a,f,c,r))>-1;)a!==t&&qt.call(a,c,1),qt.call(t,c,1);return t}function Wr(t,n){for(var e=t?n.length:0,r=e-1;e--;){var i=n[e];if(e==r||i!==o){var o=i;go(i)?qt.call(t,i,1):ci(t,i)}}return t}function Vr(t,n){return t+vn(xe()*(n-t+1))}function Yr(t,n){var e=\"\";if(!t||n<1||n>l)return e;do{n%2&&(e+=t),(n=vn(n/2))&&(t+=t)}while(n);return e}function qr(t,n){return jo(So(t,n,ec),t+\"\")}function Gr(t){return Ze(Pa(t))}function Zr(t,n){var e=Pa(t);return $o(e,or(n,0,e.length))}function Xr(t,n,e,r){if(!Qu(t))return t;for(var o=-1,u=(n=gi(n,t)).length,a=u-1,c=t;null!=c&&++o<u;){var s=Lo(n[o]),f=e;if(\"__proto__\"===s||\"constructor\"===s||\"prototype\"===s)return t;if(o!=a){var l=c[s];(f=r?r(l,s,c):i)===i&&(f=Qu(l)?l:go(n[o+1])?[]:{})}Qe(c,s,f),c=c[s]}return t}var Kr=Oe?function(t,n){return Oe.set(t,n),t}:ec,Jr=tn?function(t,n){return tn(t,\"toString\",{configurable:!0,enumerable:!1,value:Qa(n),writable:!0})}:ec;function Qr(t){return $o(Pa(t))}function ti(t,n,e){var i=-1,o=t.length;n<0&&(n=-n>o?0:o+n),(e=e>o?o:e)<0&&(e+=o),o=n>e?0:e-n>>>0,n>>>=0;for(var u=r(o);++i<o;)u[i]=t[i+n];return u}function ni(t,n){var e;return fr(t,(function(t,r,i){return!(e=n(t,r,i))})),!!e}function ei(t,n,e){var r=0,i=null==t?r:t.length;if(\"number\"==typeof n&&n==n&&i<=2147483647){for(;r<i;){var o=r+i>>>1,u=t[o];null!==u&&!aa(u)&&(e?u<=n:u<n)?r=o+1:i=o}return i}return ri(t,n,ec,e)}function ri(t,n,e,r){var o=0,u=null==t?0:t.length;if(0===u)return 0;for(var a=(n=e(n))!=n,c=null===n,s=aa(n),f=n===i;o<u;){var l=vn((o+u)/2),h=e(t[l]),p=h!==i,v=null===h,d=h==h,g=aa(h);if(a)var y=r||d;else y=f?d&&(r||p):c?d&&p&&(r||!v):s?d&&p&&!v&&(r||!g):!v&&!g&&(r?h<=n:h<n);y?o=l+1:u=l}return ye(u,4294967294)}function ii(t,n){for(var e=-1,r=t.length,i=0,o=[];++e<r;){var u=t[e],a=n?n(u):u;if(!e||!Pu(a,c)){var c=a;o[i++]=0===u?0:u}}return o}function oi(t){return\"number\"==typeof t?t:aa(t)?h:+t}function ui(t){if(\"string\"==typeof t)return t;if(Hu(t))return $n(t,ui)+\"\";if(aa(t))return Ue?Ue.call(t):\"\";var n=t+\"\";return\"0\"==n&&1/t==-1/0?\"-0\":n}function ai(t,n,e){var r=-1,i=En,o=t.length,u=!0,a=[],c=a;if(e)u=!1,i=Cn;else if(o>=200){var s=n?null:Yi(t);if(s)return ce(s);u=!1,i=Jn,c=new Ye}else c=n?[]:a;t:for(;++r<o;){var f=t[r],l=n?n(f):f;if(f=e||0!==f?f:0,u&&l==l){for(var h=c.length;h--;)if(c[h]===l)continue t;n&&c.push(l),a.push(f)}else i(c,l,e)||(c!==a&&c.push(l),a.push(f))}return a}function ci(t,n){return null==(t=Mo(t,n=gi(n,t)))||delete t[Lo(Zo(n))]}function si(t,n,e,r){return Xr(t,n,e(br(t,n)),r)}function fi(t,n,e,r){for(var i=t.length,o=r?i:-1;(r?o--:++o<i)&&n(t[o],o,t););return e?ti(t,r?0:o,r?o+1:i):ti(t,r?o+1:0,r?i:o)}function li(t,n){var e=t;return e instanceof Be&&(e=e.value()),Nn(n,(function(t,n){return n.func.apply(n.thisArg,Fn([t],n.args))}),e)}function hi(t,n,e){var i=t.length;if(i<2)return i?ai(t[0]):[];for(var o=-1,u=r(i);++o<i;)for(var a=t[o],c=-1;++c<i;)c!=o&&(u[o]=sr(u[o]||a,t[c],n,e));return ai(dr(u,1),n,e)}function pi(t,n,e){for(var r=-1,o=t.length,u=n.length,a={};++r<o;){var c=r<u?n[r]:i;e(a,t[r],c)}return a}function vi(t){return Yu(t)?t:[]}function di(t){return\"function\"==typeof t?t:ec}function gi(t,n){return Hu(t)?t:mo(t,n)?[t]:Do(ya(t))}var yi=qr;function mi(t,n,e){var r=t.length;return e=e===i?r:e,!n&&e>=r?t:ti(t,n,e)}var _i=an||function(t){return hn.clearTimeout(t)};function xi(t,n){if(n)return t.slice();var e=t.length,r=Ht?Ht(e):new t.constructor(e);return t.copy(r),r}function bi(t){var n=new t.constructor(t.byteLength);return new Bt(n).set(new Bt(t)),n}function wi(t,n){var e=n?bi(t.buffer):t.buffer;return new t.constructor(e,t.byteOffset,t.length)}function ki(t,n){if(t!==n){var e=t!==i,r=null===t,o=t==t,u=aa(t),a=n!==i,c=null===n,s=n==n,f=aa(n);if(!c&&!f&&!u&&t>n||u&&a&&s&&!c&&!f||r&&a&&s||!e&&s||!o)return 1;if(!r&&!u&&!f&&t<n||f&&e&&o&&!r&&!u||c&&e&&o||!a&&o||!s)return-1}return 0}function Si(t,n,e,i){for(var o=-1,u=t.length,a=e.length,c=-1,s=n.length,f=ge(u-a,0),l=r(s+f),h=!i;++c<s;)l[c]=n[c];for(;++o<a;)(h||o<u)&&(l[e[o]]=t[o]);for(;f--;)l[c++]=t[o++];return l}function Mi(t,n,e,i){for(var o=-1,u=t.length,a=-1,c=e.length,s=-1,f=n.length,l=ge(u-c,0),h=r(l+f),p=!i;++o<l;)h[o]=t[o];for(var v=o;++s<f;)h[v+s]=n[s];for(;++a<c;)(p||o<u)&&(h[v+e[a]]=t[o++]);return h}function Ai(t,n){var e=-1,i=t.length;for(n||(n=r(i));++e<i;)n[e]=t[e];return n}function Ti(t,n,e,r){var o=!e;e||(e={});for(var u=-1,a=n.length;++u<a;){var c=n[u],s=r?r(e[c],t[c],c,e,t):i;s===i&&(s=t[c]),o?rr(e,c,s):Qe(e,c,s)}return e}function Oi(t,n){return function(e,r){var i=Hu(e)?Mn:nr,o=n?n():{};return i(e,t,oo(r,2),o)}}function ji(t){return qr((function(n,e){var r=-1,o=e.length,u=o>1?e[o-1]:i,a=o>2?e[2]:i;for(u=t.length>3&&\"function\"==typeof u?(o--,u):i,a&&yo(e[0],e[1],a)&&(u=o<3?i:u,o=1),n=St(n);++r<o;){var c=e[r];c&&t(n,c,r,u)}return n}))}function Ei(t,n){return function(e,r){if(null==e)return e;if(!Vu(e))return t(e,r);for(var i=e.length,o=n?i:-1,u=St(e);(n?o--:++o<i)&&!1!==r(u[o],o,u););return e}}function Ci(t){return function(n,e,r){for(var i=-1,o=St(n),u=r(n),a=u.length;a--;){var c=u[t?a:++i];if(!1===e(o[c],c,o))break}return n}}function $i(t){return function(n){var e=ie(n=ya(n))?le(n):i,r=e?e[0]:n.charAt(0),o=e?mi(e,1).join(\"\"):n.slice(1);return r[t]()+o}}function Fi(t){return function(n){return Nn(Xa(Ba(n).replace(Xt,\"\")),t,\"\")}}function Ni(t){return function(){var n=arguments;switch(n.length){case 0:return new t;case 1:return new t(n[0]);case 2:return new t(n[0],n[1]);case 3:return new t(n[0],n[1],n[2]);case 4:return new t(n[0],n[1],n[2],n[3]);case 5:return new t(n[0],n[1],n[2],n[3],n[4]);case 6:return new t(n[0],n[1],n[2],n[3],n[4],n[5]);case 7:return new t(n[0],n[1],n[2],n[3],n[4],n[5],n[6])}var e=Pe(t.prototype),r=t.apply(e,n);return Qu(r)?r:e}}function Di(t){return function(n,e,r){var o=St(n);if(!Vu(n)){var u=oo(e,3);n=Ea(n),e=function(t){return u(o[t],t,o)}}var a=t(n,e,r);return a>-1?o[u?n[a]:a]:i}}function Li(t){return Qi((function(n){var e=n.length,r=e,u=Ie.prototype.thru;for(t&&n.reverse();r--;){var a=n[r];if(\"function\"!=typeof a)throw new Tt(o);if(u&&!c&&\"wrapper\"==ro(a))var c=new Ie([],!0)}for(r=c?r:e;++r<e;){var s=ro(a=n[r]),f=\"wrapper\"==s?eo(a):i;c=f&&_o(f[0])&&424==f[1]&&!f[4].length&&1==f[9]?c[ro(f[0])].apply(c,f[3]):1==a.length&&_o(a)?c[s]():c.thru(a)}return function(){var t=arguments,r=t[0];if(c&&1==t.length&&Hu(r))return c.plant(r).value();for(var i=0,o=e?n[i].apply(this,t):r;++i<e;)o=n[i].call(this,o);return o}}))}function Ui(t,n,e,o,u,a,c,f,l,h){var p=n&s,v=1&n,d=2&n,g=24&n,y=512&n,m=d?i:Ni(t);return function s(){for(var _=arguments.length,x=r(_),b=_;b--;)x[b]=arguments[b];if(g)var w=io(s),k=function(t,n){for(var e=t.length,r=0;e--;)t[e]===n&&++r;return r}(x,w);if(o&&(x=Si(x,o,u,g)),a&&(x=Mi(x,a,c,g)),_-=k,g&&_<h){var S=ae(x,w);return Wi(t,n,Ui,s.placeholder,e,x,S,f,l,h-_)}var M=v?e:this,A=d?M[t]:t;return _=x.length,f?x=function(t,n){for(var e=t.length,r=ye(n.length,e),o=Ai(t);r--;){var u=n[r];t[r]=go(u,e)?o[u]:i}return t}(x,f):y&&_>1&&x.reverse(),p&&l<_&&(x.length=l),this&&this!==hn&&this instanceof s&&(A=m||Ni(A)),A.apply(M,x)}}function Ri(t,n){return function(e,r){return function(t,n,e,r){return mr(t,(function(t,i,o){n(r,e(t),i,o)})),r}(e,t,n(r),{})}}function Pi(t,n){return function(e,r){var o;if(e===i&&r===i)return n;if(e!==i&&(o=e),r!==i){if(o===i)return r;\"string\"==typeof e||\"string\"==typeof r?(e=ui(e),r=ui(r)):(e=oi(e),r=oi(r)),o=t(e,r)}return o}}function zi(t){return Qi((function(n){return n=$n(n,Xn(oo())),qr((function(e){var r=this;return t(n,(function(t){return Sn(t,r,e)}))}))}))}function Ii(t,n){var e=(n=n===i?\" \":ui(n)).length;if(e<2)return e?Yr(n,t):n;var r=Yr(n,pn(t/fe(n)));return ie(n)?mi(le(r),0,t).join(\"\"):r.slice(0,t)}function Bi(t){return function(n,e,o){return o&&\"number\"!=typeof o&&yo(n,e,o)&&(e=o=i),n=ha(n),e===i?(e=n,n=0):e=ha(e),function(t,n,e,i){for(var o=-1,u=ge(pn((n-t)/(e||1)),0),a=r(u);u--;)a[i?u:++o]=t,t+=e;return a}(n,e,o=o===i?n<e?1:-1:ha(o),t)}}function Hi(t){return function(n,e){return\"string\"==typeof n&&\"string\"==typeof e||(n=da(n),e=da(e)),t(n,e)}}function Wi(t,n,e,r,o,u,a,s,f,l){var h=8&n;n|=h?c:64,4&(n&=~(h?64:c))||(n&=-4);var p=[t,n,o,h?u:i,h?a:i,h?i:u,h?i:a,s,f,l],v=e.apply(i,p);return _o(t)&&To(v,p),v.placeholder=r,Eo(v,t,n)}function Vi(t){var n=kt[t];return function(t,e){if(t=da(t),(e=null==e?0:ye(pa(e),292))&&Un(t)){var r=(ya(t)+\"e\").split(\"e\");return+((r=(ya(n(r[0]+\"e\"+(+r[1]+e)))+\"e\").split(\"e\"))[0]+\"e\"+(+r[1]-e))}return n(t)}}var Yi=Me&&1/ce(new Me([,-0]))[1]==f?function(t){return new Me(t)}:ac;function qi(t){return function(n){var e=lo(n);return e==w?oe(n):e==T?se(n):function(t,n){return $n(n,(function(n){return[n,t[n]]}))}(n,t(n))}}function Gi(t,n,e,u,f,l,h,p){var v=2&n;if(!v&&\"function\"!=typeof t)throw new Tt(o);var d=u?u.length:0;if(d||(n&=-97,u=f=i),h=h===i?h:ge(pa(h),0),p=p===i?p:pa(p),d-=f?f.length:0,64&n){var g=u,y=f;u=f=i}var m=v?i:eo(t),_=[t,n,e,u,f,g,y,l,h,p];if(m&&function(t,n){var e=t[1],r=n[1],i=e|r,o=i<131,u=r==s&&8==e||r==s&&256==e&&t[7].length<=n[8]||384==r&&n[7].length<=n[8]&&8==e;if(!o&&!u)return t;1&r&&(t[2]=n[2],i|=1&e?0:4);var c=n[3];if(c){var f=t[3];t[3]=f?Si(f,c,n[4]):c,t[4]=f?ae(t[3],a):n[4]}(c=n[5])&&(f=t[5],t[5]=f?Mi(f,c,n[6]):c,t[6]=f?ae(t[5],a):n[6]),(c=n[7])&&(t[7]=c),r&s&&(t[8]=null==t[8]?n[8]:ye(t[8],n[8])),null==t[9]&&(t[9]=n[9]),t[0]=n[0],t[1]=i}(_,m),t=_[0],n=_[1],e=_[2],u=_[3],f=_[4],!(p=_[9]=_[9]===i?v?0:t.length:ge(_[9]-d,0))&&24&n&&(n&=-25),n&&1!=n)x=8==n||16==n?function(t,n,e){var o=Ni(t);return function u(){for(var a=arguments.length,c=r(a),s=a,f=io(u);s--;)c[s]=arguments[s];var l=a<3&&c[0]!==f&&c[a-1]!==f?[]:ae(c,f);return(a-=l.length)<e?Wi(t,n,Ui,u.placeholder,i,c,l,i,i,e-a):Sn(this&&this!==hn&&this instanceof u?o:t,this,c)}}(t,n,p):n!=c&&33!=n||f.length?Ui.apply(i,_):function(t,n,e,i){var o=1&n,u=Ni(t);return function n(){for(var a=-1,c=arguments.length,s=-1,f=i.length,l=r(f+c),h=this&&this!==hn&&this instanceof n?u:t;++s<f;)l[s]=i[s];for(;c--;)l[s++]=arguments[++a];return Sn(h,o?e:this,l)}}(t,n,e,u);else var x=function(t,n,e){var r=1&n,i=Ni(t);return function n(){return(this&&this!==hn&&this instanceof n?i:t).apply(r?e:this,arguments)}}(t,n,e);return Eo((m?Kr:To)(x,_),t,n)}function Zi(t,n,e,r){return t===i||Pu(t,Et[e])&&!Ft.call(r,e)?n:t}function Xi(t,n,e,r,o,u){return Qu(t)&&Qu(n)&&(u.set(n,t),Pr(t,n,i,Xi,u),u.delete(n)),t}function Ki(t){return ra(t)?i:t}function Ji(t,n,e,r,o,u){var a=1&e,c=t.length,s=n.length;if(c!=s&&!(a&&s>c))return!1;var f=u.get(t),l=u.get(n);if(f&&l)return f==n&&l==t;var h=-1,p=!0,v=2&e?new Ye:i;for(u.set(t,n),u.set(n,t);++h<c;){var d=t[h],g=n[h];if(r)var y=a?r(g,d,h,n,t,u):r(d,g,h,t,n,u);if(y!==i){if(y)continue;p=!1;break}if(v){if(!Ln(n,(function(t,n){if(!Jn(v,n)&&(d===t||o(d,t,e,r,u)))return v.push(n)}))){p=!1;break}}else if(d!==g&&!o(d,g,e,r,u)){p=!1;break}}return u.delete(t),u.delete(n),p}function Qi(t){return jo(So(t,i,Wo),t+\"\")}function to(t){return wr(t,Ea,so)}function no(t){return wr(t,Ca,fo)}var eo=Oe?function(t){return Oe.get(t)}:ac;function ro(t){for(var n=t.name+\"\",e=je[n],r=Ft.call(je,n)?e.length:0;r--;){var i=e[r],o=i.func;if(null==o||o==t)return i.name}return n}function io(t){return(Ft.call(Re,\"placeholder\")?Re:t).placeholder}function oo(){var t=Re.iteratee||rc;return t=t===rc?Fr:t,arguments.length?t(arguments[0],arguments[1]):t}function uo(t,n){var e,r,i=t.__data__;return(\"string\"==(r=typeof(e=n))||\"number\"==r||\"symbol\"==r||\"boolean\"==r?\"__proto__\"!==e:null===e)?i[\"string\"==typeof n?\"string\":\"hash\"]:i.map}function ao(t){for(var n=Ea(t),e=n.length;e--;){var r=n[e],i=t[r];n[e]=[r,i,wo(i)]}return n}function co(t,n){var e=function(t,n){return null==t?i:t[n]}(t,n);return $r(e)?e:i}var so=gn?function(t){return null==t?[]:(t=St(t),jn(gn(t),(function(n){return Yt.call(t,n)})))}:vc,fo=gn?function(t){for(var n=[];t;)Fn(n,so(t)),t=Wt(t);return n}:vc,lo=kr;function ho(t,n,e){for(var r=-1,i=(n=gi(n,t)).length,o=!1;++r<i;){var u=Lo(n[r]);if(!(o=null!=t&&e(t,u)))break;t=t[u]}return o||++r!=i?o:!!(i=null==t?0:t.length)&&Ju(i)&&go(u,i)&&(Hu(t)||Bu(t))}function po(t){return\"function\"!=typeof t.constructor||bo(t)?{}:Pe(Wt(t))}function vo(t){return Hu(t)||Bu(t)||!!(Gt&&t&&t[Gt])}function go(t,n){var e=typeof t;return!!(n=null==n?l:n)&&(\"number\"==e||\"symbol\"!=e&&yt.test(t))&&t>-1&&t%1==0&&t<n}function yo(t,n,e){if(!Qu(e))return!1;var r=typeof n;return!!(\"number\"==r?Vu(e)&&go(n,e.length):\"string\"==r&&n in e)&&Pu(e[n],t)}function mo(t,n){if(Hu(t))return!1;var e=typeof t;return!(\"number\"!=e&&\"symbol\"!=e&&\"boolean\"!=e&&null!=t&&!aa(t))||Q.test(t)||!J.test(t)||null!=n&&t in St(n)}function _o(t){var n=ro(t),e=Re[n];if(\"function\"!=typeof e||!(n in Be.prototype))return!1;if(t===e)return!0;var r=eo(e);return!!r&&t===r[0]}(we&&lo(new we(new ArrayBuffer(1)))!=$||ke&&lo(new ke)!=w||Se&&lo(Se.resolve())!=M||Me&&lo(new Me)!=T||Ae&&lo(new Ae)!=E)&&(lo=function(t){var n=kr(t),e=n==S?t.constructor:i,r=e?Uo(e):\"\";if(r)switch(r){case Ee:return $;case Ce:return w;case $e:return M;case Fe:return T;case Ne:return E}return n});var xo=Ct?Xu:dc;function bo(t){var n=t&&t.constructor;return t===(\"function\"==typeof n&&n.prototype||Et)}function wo(t){return t==t&&!Qu(t)}function ko(t,n){return function(e){return null!=e&&e[t]===n&&(n!==i||t in St(e))}}function So(t,n,e){return n=ge(n===i?t.length-1:n,0),function(){for(var i=arguments,o=-1,u=ge(i.length-n,0),a=r(u);++o<u;)a[o]=i[n+o];o=-1;for(var c=r(n+1);++o<n;)c[o]=i[o];return c[n]=e(a),Sn(t,this,c)}}function Mo(t,n){return n.length<2?t:br(t,ti(n,0,-1))}function Ao(t,n){if((\"constructor\"!==n||\"function\"!=typeof t[n])&&\"__proto__\"!=n)return t[n]}var To=Co(Kr),Oo=ln||function(t,n){return hn.setTimeout(t,n)},jo=Co(Jr);function Eo(t,n,e){var r=n+\"\";return jo(t,function(t,n){var e=n.length;if(!e)return t;var r=e-1;return n[r]=(e>1?\"& \":\"\")+n[r],n=n.join(e>2?\", \":\" \"),t.replace(ot,\"{\\n/* [wrapped with \"+n+\"] */\\n\")}(r,function(t,n){return An(v,(function(e){var r=\"_.\"+e[0];n&e[1]&&!En(t,r)&&t.push(r)})),t.sort()}(function(t){var n=t.match(ut);return n?n[1].split(at):[]}(r),e)))}function Co(t){var n=0,e=0;return function(){var r=me(),o=16-(r-e);if(e=r,o>0){if(++n>=800)return arguments[0]}else n=0;return t.apply(i,arguments)}}function $o(t,n){var e=-1,r=t.length,o=r-1;for(n=n===i?r:n;++e<n;){var u=Vr(e,o),a=t[u];t[u]=t[e],t[e]=a}return t.length=n,t}var Fo,No,Do=(Fo=Fu((function(t){var n=[];return 46===t.charCodeAt(0)&&n.push(\"\"),t.replace(tt,(function(t,e,r,i){n.push(r?i.replace(ft,\"$1\"):e||t)})),n}),(function(t){return 500===No.size&&No.clear(),t})),No=Fo.cache,Fo);function Lo(t){if(\"string\"==typeof t||aa(t))return t;var n=t+\"\";return\"0\"==n&&1/t==-1/0?\"-0\":n}function Uo(t){if(null!=t){try{return $t.call(t)}catch(t){}try{return t+\"\"}catch(t){}}return\"\"}function Ro(t){if(t instanceof Be)return t.clone();var n=new Ie(t.__wrapped__,t.__chain__);return n.__actions__=Ai(t.__actions__),n.__index__=t.__index__,n.__values__=t.__values__,n}var Po=qr((function(t,n){return Yu(t)?sr(t,dr(n,1,Yu,!0)):[]})),zo=qr((function(t,n){var e=Zo(n);return Yu(e)&&(e=i),Yu(t)?sr(t,dr(n,1,Yu,!0),oo(e,2)):[]})),Io=qr((function(t,n){var e=Zo(n);return Yu(e)&&(e=i),Yu(t)?sr(t,dr(n,1,Yu,!0),i,e):[]}));function Bo(t,n,e){var r=null==t?0:t.length;if(!r)return-1;var i=null==e?0:pa(e);return i<0&&(i=ge(r+i,0)),Pn(t,oo(n,3),i)}function Ho(t,n,e){var r=null==t?0:t.length;if(!r)return-1;var o=r-1;return e!==i&&(o=pa(e),o=e<0?ge(r+o,0):ye(o,r-1)),Pn(t,oo(n,3),o,!0)}function Wo(t){return null!=t&&t.length?dr(t,1):[]}function Vo(t){return t&&t.length?t[0]:i}var Yo=qr((function(t){var n=$n(t,vi);return n.length&&n[0]===t[0]?Tr(n):[]})),qo=qr((function(t){var n=Zo(t),e=$n(t,vi);return n===Zo(e)?n=i:e.pop(),e.length&&e[0]===t[0]?Tr(e,oo(n,2)):[]})),Go=qr((function(t){var n=Zo(t),e=$n(t,vi);return(n=\"function\"==typeof n?n:i)&&e.pop(),e.length&&e[0]===t[0]?Tr(e,i,n):[]}));function Zo(t){var n=null==t?0:t.length;return n?t[n-1]:i}var Xo=qr(Ko);function Ko(t,n){return t&&t.length&&n&&n.length?Hr(t,n):t}var Jo=Qi((function(t,n){var e=null==t?0:t.length,r=ir(t,n);return Wr(t,$n(n,(function(t){return go(t,e)?+t:t})).sort(ki)),r}));function Qo(t){return null==t?t:be.call(t)}var tu=qr((function(t){return ai(dr(t,1,Yu,!0))})),nu=qr((function(t){var n=Zo(t);return Yu(n)&&(n=i),ai(dr(t,1,Yu,!0),oo(n,2))})),eu=qr((function(t){var n=Zo(t);return n=\"function\"==typeof n?n:i,ai(dr(t,1,Yu,!0),i,n)}));function ru(t){if(!t||!t.length)return[];var n=0;return t=jn(t,(function(t){if(Yu(t))return n=ge(t.length,n),!0})),Gn(n,(function(n){return $n(t,Wn(n))}))}function iu(t,n){if(!t||!t.length)return[];var e=ru(t);return null==n?e:$n(e,(function(t){return Sn(n,i,t)}))}var ou=qr((function(t,n){return Yu(t)?sr(t,n):[]})),uu=qr((function(t){return hi(jn(t,Yu))})),au=qr((function(t){var n=Zo(t);return Yu(n)&&(n=i),hi(jn(t,Yu),oo(n,2))})),cu=qr((function(t){var n=Zo(t);return n=\"function\"==typeof n?n:i,hi(jn(t,Yu),i,n)})),su=qr(ru),fu=qr((function(t){var n=t.length,e=n>1?t[n-1]:i;return e=\"function\"==typeof e?(t.pop(),e):i,iu(t,e)}));function lu(t){var n=Re(t);return n.__chain__=!0,n}function hu(t,n){return n(t)}var pu=Qi((function(t){var n=t.length,e=n?t[0]:0,r=this.__wrapped__,o=function(n){return ir(n,t)};return!(n>1||this.__actions__.length)&&r instanceof Be&&go(e)?((r=r.slice(e,+e+(n?1:0))).__actions__.push({func:hu,args:[o],thisArg:i}),new Ie(r,this.__chain__).thru((function(t){return n&&!t.length&&t.push(i),t}))):this.thru(o)})),vu=Oi((function(t,n,e){Ft.call(t,e)?++t[e]:rr(t,e,1)})),du=Di(Bo),gu=Di(Ho);function yu(t,n){return(Hu(t)?An:fr)(t,oo(n,3))}function mu(t,n){return(Hu(t)?Tn:lr)(t,oo(n,3))}var _u=Oi((function(t,n,e){Ft.call(t,e)?t[e].push(n):rr(t,e,[n])})),xu=qr((function(t,n,e){var i=-1,o=\"function\"==typeof n,u=Vu(t)?r(t.length):[];return fr(t,(function(t){u[++i]=o?Sn(n,t,e):Or(t,n,e)})),u})),bu=Oi((function(t,n,e){rr(t,e,n)}));function wu(t,n){return(Hu(t)?$n:Lr)(t,oo(n,3))}var ku=Oi((function(t,n,e){t[e?0:1].push(n)}),(function(){return[[],[]]})),Su=qr((function(t,n){if(null==t)return[];var e=n.length;return e>1&&yo(t,n[0],n[1])?n=[]:e>2&&yo(n[0],n[1],n[2])&&(n=[n[0]]),Ir(t,dr(n,1),[])})),Mu=fn||function(){return hn.Date.now()};function Au(t,n,e){return n=e?i:n,n=t&&null==n?t.length:n,Gi(t,s,i,i,i,i,n)}function Tu(t,n){var e;if(\"function\"!=typeof n)throw new Tt(o);return t=pa(t),function(){return--t>0&&(e=n.apply(this,arguments)),t<=1&&(n=i),e}}var Ou=qr((function(t,n,e){var r=1;if(e.length){var i=ae(e,io(Ou));r|=c}return Gi(t,r,n,e,i)})),ju=qr((function(t,n,e){var r=3;if(e.length){var i=ae(e,io(ju));r|=c}return Gi(n,r,t,e,i)}));function Eu(t,n,e){var r,u,a,c,s,f,l=0,h=!1,p=!1,v=!0;if(\"function\"!=typeof t)throw new Tt(o);function d(n){var e=r,o=u;return r=u=i,l=n,c=t.apply(o,e)}function g(t){var e=t-f;return f===i||e>=n||e<0||p&&t-l>=a}function y(){var t=Mu();if(g(t))return m(t);s=Oo(y,function(t){var e=n-(t-f);return p?ye(e,a-(t-l)):e}(t))}function m(t){return s=i,v&&r?d(t):(r=u=i,c)}function _(){var t=Mu(),e=g(t);if(r=arguments,u=this,f=t,e){if(s===i)return function(t){return l=t,s=Oo(y,n),h?d(t):c}(f);if(p)return _i(s),s=Oo(y,n),d(f)}return s===i&&(s=Oo(y,n)),c}return n=da(n)||0,Qu(e)&&(h=!!e.leading,a=(p=\"maxWait\"in e)?ge(da(e.maxWait)||0,n):a,v=\"trailing\"in e?!!e.trailing:v),_.cancel=function(){s!==i&&_i(s),l=0,r=f=u=s=i},_.flush=function(){return s===i?c:m(Mu())},_}var Cu=qr((function(t,n){return cr(t,1,n)})),$u=qr((function(t,n,e){return cr(t,da(n)||0,e)}));function Fu(t,n){if(\"function\"!=typeof t||null!=n&&\"function\"!=typeof n)throw new Tt(o);var e=function(){var r=arguments,i=n?n.apply(this,r):r[0],o=e.cache;if(o.has(i))return o.get(i);var u=t.apply(this,r);return e.cache=o.set(i,u)||o,u};return e.cache=new(Fu.Cache||Ve),e}function Nu(t){if(\"function\"!=typeof t)throw new Tt(o);return function(){var n=arguments;switch(n.length){case 0:return!t.call(this);case 1:return!t.call(this,n[0]);case 2:return!t.call(this,n[0],n[1]);case 3:return!t.call(this,n[0],n[1],n[2])}return!t.apply(this,n)}}Fu.Cache=Ve;var Du=yi((function(t,n){var e=(n=1==n.length&&Hu(n[0])?$n(n[0],Xn(oo())):$n(dr(n,1),Xn(oo()))).length;return qr((function(r){for(var i=-1,o=ye(r.length,e);++i<o;)r[i]=n[i].call(this,r[i]);return Sn(t,this,r)}))})),Lu=qr((function(t,n){var e=ae(n,io(Lu));return Gi(t,c,i,n,e)})),Uu=qr((function(t,n){var e=ae(n,io(Uu));return Gi(t,64,i,n,e)})),Ru=Qi((function(t,n){return Gi(t,256,i,i,i,n)}));function Pu(t,n){return t===n||t!=t&&n!=n}var zu=Hi(Sr),Iu=Hi((function(t,n){return t>=n})),Bu=jr(function(){return arguments}())?jr:function(t){return ta(t)&&Ft.call(t,\"callee\")&&!Yt.call(t,\"callee\")},Hu=r.isArray,Wu=mn?Xn(mn):function(t){return ta(t)&&kr(t)==C};function Vu(t){return null!=t&&Ju(t.length)&&!Xu(t)}function Yu(t){return ta(t)&&Vu(t)}var qu=yn||dc,Gu=_n?Xn(_n):function(t){return ta(t)&&kr(t)==m};function Zu(t){if(!ta(t))return!1;var n=kr(t);return n==_||\"[object DOMException]\"==n||\"string\"==typeof t.message&&\"string\"==typeof t.name&&!ra(t)}function Xu(t){if(!Qu(t))return!1;var n=kr(t);return n==x||n==b||\"[object AsyncFunction]\"==n||\"[object Proxy]\"==n}function Ku(t){return\"number\"==typeof t&&t==pa(t)}function Ju(t){return\"number\"==typeof t&&t>-1&&t%1==0&&t<=l}function Qu(t){var n=typeof t;return null!=t&&(\"object\"==n||\"function\"==n)}function ta(t){return null!=t&&\"object\"==typeof t}var na=xn?Xn(xn):function(t){return ta(t)&&lo(t)==w};function ea(t){return\"number\"==typeof t||ta(t)&&kr(t)==k}function ra(t){if(!ta(t)||kr(t)!=S)return!1;var n=Wt(t);if(null===n)return!0;var e=Ft.call(n,\"constructor\")&&n.constructor;return\"function\"==typeof e&&e instanceof e&&$t.call(e)==Ut}var ia=bn?Xn(bn):function(t){return ta(t)&&kr(t)==A},oa=wn?Xn(wn):function(t){return ta(t)&&lo(t)==T};function ua(t){return\"string\"==typeof t||!Hu(t)&&ta(t)&&kr(t)==O}function aa(t){return\"symbol\"==typeof t||ta(t)&&kr(t)==j}var ca=kn?Xn(kn):function(t){return ta(t)&&Ju(t.length)&&!!on[kr(t)]},sa=Hi(Dr),fa=Hi((function(t,n){return t<=n}));function la(t){if(!t)return[];if(Vu(t))return ua(t)?le(t):Ai(t);if(Zt&&t[Zt])return function(t){for(var n,e=[];!(n=t.next()).done;)e.push(n.value);return e}(t[Zt]());var n=lo(t);return(n==w?oe:n==T?ce:Pa)(t)}function ha(t){return t?(t=da(t))===f||t===-1/0?17976931348623157e292*(t<0?-1:1):t==t?t:0:0===t?t:0}function pa(t){var n=ha(t),e=n%1;return n==n?e?n-e:n:0}function va(t){return t?or(pa(t),0,p):0}function da(t){if(\"number\"==typeof t)return t;if(aa(t))return h;if(Qu(t)){var n=\"function\"==typeof t.valueOf?t.valueOf():t;t=Qu(n)?n+\"\":n}if(\"string\"!=typeof t)return 0===t?t:+t;t=Zn(t);var e=vt.test(t);return e||gt.test(t)?sn(t.slice(2),e?2:8):pt.test(t)?h:+t}function ga(t){return Ti(t,Ca(t))}function ya(t){return null==t?\"\":ui(t)}var ma=ji((function(t,n){if(bo(n)||Vu(n))Ti(n,Ea(n),t);else for(var e in n)Ft.call(n,e)&&Qe(t,e,n[e])})),_a=ji((function(t,n){Ti(n,Ca(n),t)})),xa=ji((function(t,n,e,r){Ti(n,Ca(n),t,r)})),ba=ji((function(t,n,e,r){Ti(n,Ea(n),t,r)})),wa=Qi(ir),ka=qr((function(t,n){t=St(t);var e=-1,r=n.length,o=r>2?n[2]:i;for(o&&yo(n[0],n[1],o)&&(r=1);++e<r;)for(var u=n[e],a=Ca(u),c=-1,s=a.length;++c<s;){var f=a[c],l=t[f];(l===i||Pu(l,Et[f])&&!Ft.call(t,f))&&(t[f]=u[f])}return t})),Sa=qr((function(t){return t.push(i,Xi),Sn(Fa,i,t)}));function Ma(t,n,e){var r=null==t?i:br(t,n);return r===i?e:r}function Aa(t,n){return null!=t&&ho(t,n,Ar)}var Ta=Ri((function(t,n,e){null!=n&&\"function\"!=typeof n.toString&&(n=Lt.call(n)),t[n]=e}),Qa(ec)),Oa=Ri((function(t,n,e){null!=n&&\"function\"!=typeof n.toString&&(n=Lt.call(n)),Ft.call(t,n)?t[n].push(e):t[n]=[e]}),oo),ja=qr(Or);function Ea(t){return Vu(t)?Ge(t):Nr(t)}function Ca(t){return Vu(t)?Ge(t,!0):function(t){if(!Qu(t))return function(t){var n=[];if(null!=t)for(var e in St(t))n.push(e);return n}(t);var n=bo(t),e=[];for(var r in t)(\"constructor\"!=r||!n&&Ft.call(t,r))&&e.push(r);return e}(t)}var $a=ji((function(t,n,e){Pr(t,n,e)})),Fa=ji((function(t,n,e,r){Pr(t,n,e,r)})),Na=Qi((function(t,n){var e={};if(null==t)return e;var r=!1;n=$n(n,(function(n){return n=gi(n,t),r||(r=n.length>1),n})),Ti(t,no(t),e),r&&(e=ur(e,7,Ki));for(var i=n.length;i--;)ci(e,n[i]);return e})),Da=Qi((function(t,n){return null==t?{}:function(t,n){return Br(t,n,(function(n,e){return Aa(t,e)}))}(t,n)}));function La(t,n){if(null==t)return{};var e=$n(no(t),(function(t){return[t]}));return n=oo(n),Br(t,e,(function(t,e){return n(t,e[0])}))}var Ua=qi(Ea),Ra=qi(Ca);function Pa(t){return null==t?[]:Kn(t,Ea(t))}var za=Fi((function(t,n,e){return n=n.toLowerCase(),t+(e?Ia(n):n)}));function Ia(t){return Za(ya(t).toLowerCase())}function Ba(t){return(t=ya(t))&&t.replace(mt,ne).replace(Kt,\"\")}var Ha=Fi((function(t,n,e){return t+(e?\"-\":\"\")+n.toLowerCase()})),Wa=Fi((function(t,n,e){return t+(e?\" \":\"\")+n.toLowerCase()})),Va=$i(\"toLowerCase\"),Ya=Fi((function(t,n,e){return t+(e?\"_\":\"\")+n.toLowerCase()})),qa=Fi((function(t,n,e){return t+(e?\" \":\"\")+Za(n)})),Ga=Fi((function(t,n,e){return t+(e?\" \":\"\")+n.toUpperCase()})),Za=$i(\"toUpperCase\");function Xa(t,n,e){return t=ya(t),(n=e?i:n)===i?function(t){return nn.test(t)}(t)?function(t){return t.match(Qt)||[]}(t):function(t){return t.match(ct)||[]}(t):t.match(n)||[]}var Ka=qr((function(t,n){try{return Sn(t,i,n)}catch(t){return Zu(t)?t:new bt(t)}})),Ja=Qi((function(t,n){return An(n,(function(n){n=Lo(n),rr(t,n,Ou(t[n],t))})),t}));function Qa(t){return function(){return t}}var tc=Li(),nc=Li(!0);function ec(t){return t}function rc(t){return Fr(\"function\"==typeof t?t:ur(t,1))}var ic=qr((function(t,n){return function(e){return Or(e,t,n)}})),oc=qr((function(t,n){return function(e){return Or(t,e,n)}}));function uc(t,n,e){var r=Ea(n),i=xr(n,r);null!=e||Qu(n)&&(i.length||!r.length)||(e=n,n=t,t=this,i=xr(n,Ea(n)));var o=!(Qu(e)&&\"chain\"in e&&!e.chain),u=Xu(t);return An(i,(function(e){var r=n[e];t[e]=r,u&&(t.prototype[e]=function(){var n=this.__chain__;if(o||n){var e=t(this.__wrapped__);return(e.__actions__=Ai(this.__actions__)).push({func:r,args:arguments,thisArg:t}),e.__chain__=n,e}return r.apply(t,Fn([this.value()],arguments))})})),t}function ac(){}var cc=zi($n),sc=zi(On),fc=zi(Ln);function lc(t){return mo(t)?Wn(Lo(t)):function(t){return function(n){return br(n,t)}}(t)}var hc=Bi(),pc=Bi(!0);function vc(){return[]}function dc(){return!1}var gc,yc=Pi((function(t,n){return t+n}),0),mc=Vi(\"ceil\"),_c=Pi((function(t,n){return t/n}),1),xc=Vi(\"floor\"),bc=Pi((function(t,n){return t*n}),1),wc=Vi(\"round\"),kc=Pi((function(t,n){return t-n}),0);return Re.after=function(t,n){if(\"function\"!=typeof n)throw new Tt(o);return t=pa(t),function(){if(--t<1)return n.apply(this,arguments)}},Re.ary=Au,Re.assign=ma,Re.assignIn=_a,Re.assignInWith=xa,Re.assignWith=ba,Re.at=wa,Re.before=Tu,Re.bind=Ou,Re.bindAll=Ja,Re.bindKey=ju,Re.castArray=function(){if(!arguments.length)return[];var t=arguments[0];return Hu(t)?t:[t]},Re.chain=lu,Re.chunk=function(t,n,e){n=(e?yo(t,n,e):n===i)?1:ge(pa(n),0);var o=null==t?0:t.length;if(!o||n<1)return[];for(var u=0,a=0,c=r(pn(o/n));u<o;)c[a++]=ti(t,u,u+=n);return c},Re.compact=function(t){for(var n=-1,e=null==t?0:t.length,r=0,i=[];++n<e;){var o=t[n];o&&(i[r++]=o)}return i},Re.concat=function(){var t=arguments.length;if(!t)return[];for(var n=r(t-1),e=arguments[0],i=t;i--;)n[i-1]=arguments[i];return Fn(Hu(e)?Ai(e):[e],dr(n,1))},Re.cond=function(t){var n=null==t?0:t.length,e=oo();return t=n?$n(t,(function(t){if(\"function\"!=typeof t[1])throw new Tt(o);return[e(t[0]),t[1]]})):[],qr((function(e){for(var r=-1;++r<n;){var i=t[r];if(Sn(i[0],this,e))return Sn(i[1],this,e)}}))},Re.conforms=function(t){return function(t){var n=Ea(t);return function(e){return ar(e,t,n)}}(ur(t,1))},Re.constant=Qa,Re.countBy=vu,Re.create=function(t,n){var e=Pe(t);return null==n?e:er(e,n)},Re.curry=function t(n,e,r){var o=Gi(n,8,i,i,i,i,i,e=r?i:e);return o.placeholder=t.placeholder,o},Re.curryRight=function t(n,e,r){var o=Gi(n,16,i,i,i,i,i,e=r?i:e);return o.placeholder=t.placeholder,o},Re.debounce=Eu,Re.defaults=ka,Re.defaultsDeep=Sa,Re.defer=Cu,Re.delay=$u,Re.difference=Po,Re.differenceBy=zo,Re.differenceWith=Io,Re.drop=function(t,n,e){var r=null==t?0:t.length;return r?ti(t,(n=e||n===i?1:pa(n))<0?0:n,r):[]},Re.dropRight=function(t,n,e){var r=null==t?0:t.length;return r?ti(t,0,(n=r-(n=e||n===i?1:pa(n)))<0?0:n):[]},Re.dropRightWhile=function(t,n){return t&&t.length?fi(t,oo(n,3),!0,!0):[]},Re.dropWhile=function(t,n){return t&&t.length?fi(t,oo(n,3),!0):[]},Re.fill=function(t,n,e,r){var o=null==t?0:t.length;return o?(e&&\"number\"!=typeof e&&yo(t,n,e)&&(e=0,r=o),function(t,n,e,r){var o=t.length;for((e=pa(e))<0&&(e=-e>o?0:o+e),(r=r===i||r>o?o:pa(r))<0&&(r+=o),r=e>r?0:va(r);e<r;)t[e++]=n;return t}(t,n,e,r)):[]},Re.filter=function(t,n){return(Hu(t)?jn:vr)(t,oo(n,3))},Re.flatMap=function(t,n){return dr(wu(t,n),1)},Re.flatMapDeep=function(t,n){return dr(wu(t,n),f)},Re.flatMapDepth=function(t,n,e){return e=e===i?1:pa(e),dr(wu(t,n),e)},Re.flatten=Wo,Re.flattenDeep=function(t){return null!=t&&t.length?dr(t,f):[]},Re.flattenDepth=function(t,n){return null!=t&&t.length?dr(t,n=n===i?1:pa(n)):[]},Re.flip=function(t){return Gi(t,512)},Re.flow=tc,Re.flowRight=nc,Re.fromPairs=function(t){for(var n=-1,e=null==t?0:t.length,r={};++n<e;){var i=t[n];r[i[0]]=i[1]}return r},Re.functions=function(t){return null==t?[]:xr(t,Ea(t))},Re.functionsIn=function(t){return null==t?[]:xr(t,Ca(t))},Re.groupBy=_u,Re.initial=function(t){return null!=t&&t.length?ti(t,0,-1):[]},Re.intersection=Yo,Re.intersectionBy=qo,Re.intersectionWith=Go,Re.invert=Ta,Re.invertBy=Oa,Re.invokeMap=xu,Re.iteratee=rc,Re.keyBy=bu,Re.keys=Ea,Re.keysIn=Ca,Re.map=wu,Re.mapKeys=function(t,n){var e={};return n=oo(n,3),mr(t,(function(t,r,i){rr(e,n(t,r,i),t)})),e},Re.mapValues=function(t,n){var e={};return n=oo(n,3),mr(t,(function(t,r,i){rr(e,r,n(t,r,i))})),e},Re.matches=function(t){return Ur(ur(t,1))},Re.matchesProperty=function(t,n){return Rr(t,ur(n,1))},Re.memoize=Fu,Re.merge=$a,Re.mergeWith=Fa,Re.method=ic,Re.methodOf=oc,Re.mixin=uc,Re.negate=Nu,Re.nthArg=function(t){return t=pa(t),qr((function(n){return zr(n,t)}))},Re.omit=Na,Re.omitBy=function(t,n){return La(t,Nu(oo(n)))},Re.once=function(t){return Tu(2,t)},Re.orderBy=function(t,n,e,r){return null==t?[]:(Hu(n)||(n=null==n?[]:[n]),Hu(e=r?i:e)||(e=null==e?[]:[e]),Ir(t,n,e))},Re.over=cc,Re.overArgs=Du,Re.overEvery=sc,Re.overSome=fc,Re.partial=Lu,Re.partialRight=Uu,Re.partition=ku,Re.pick=Da,Re.pickBy=La,Re.property=lc,Re.propertyOf=function(t){return function(n){return null==t?i:br(t,n)}},Re.pull=Xo,Re.pullAll=Ko,Re.pullAllBy=function(t,n,e){return t&&t.length&&n&&n.length?Hr(t,n,oo(e,2)):t},Re.pullAllWith=function(t,n,e){return t&&t.length&&n&&n.length?Hr(t,n,i,e):t},Re.pullAt=Jo,Re.range=hc,Re.rangeRight=pc,Re.rearg=Ru,Re.reject=function(t,n){return(Hu(t)?jn:vr)(t,Nu(oo(n,3)))},Re.remove=function(t,n){var e=[];if(!t||!t.length)return e;var r=-1,i=[],o=t.length;for(n=oo(n,3);++r<o;){var u=t[r];n(u,r,t)&&(e.push(u),i.push(r))}return Wr(t,i),e},Re.rest=function(t,n){if(\"function\"!=typeof t)throw new Tt(o);return qr(t,n=n===i?n:pa(n))},Re.reverse=Qo,Re.sampleSize=function(t,n,e){return n=(e?yo(t,n,e):n===i)?1:pa(n),(Hu(t)?Xe:Zr)(t,n)},Re.set=function(t,n,e){return null==t?t:Xr(t,n,e)},Re.setWith=function(t,n,e,r){return r=\"function\"==typeof r?r:i,null==t?t:Xr(t,n,e,r)},Re.shuffle=function(t){return(Hu(t)?Ke:Qr)(t)},Re.slice=function(t,n,e){var r=null==t?0:t.length;return r?(e&&\"number\"!=typeof e&&yo(t,n,e)?(n=0,e=r):(n=null==n?0:pa(n),e=e===i?r:pa(e)),ti(t,n,e)):[]},Re.sortBy=Su,Re.sortedUniq=function(t){return t&&t.length?ii(t):[]},Re.sortedUniqBy=function(t,n){return t&&t.length?ii(t,oo(n,2)):[]},Re.split=function(t,n,e){return e&&\"number\"!=typeof e&&yo(t,n,e)&&(n=e=i),(e=e===i?p:e>>>0)?(t=ya(t))&&(\"string\"==typeof n||null!=n&&!ia(n))&&!(n=ui(n))&&ie(t)?mi(le(t),0,e):t.split(n,e):[]},Re.spread=function(t,n){if(\"function\"!=typeof t)throw new Tt(o);return n=null==n?0:ge(pa(n),0),qr((function(e){var r=e[n],i=mi(e,0,n);return r&&Fn(i,r),Sn(t,this,i)}))},Re.tail=function(t){var n=null==t?0:t.length;return n?ti(t,1,n):[]},Re.take=function(t,n,e){return t&&t.length?ti(t,0,(n=e||n===i?1:pa(n))<0?0:n):[]},Re.takeRight=function(t,n,e){var r=null==t?0:t.length;return r?ti(t,(n=r-(n=e||n===i?1:pa(n)))<0?0:n,r):[]},Re.takeRightWhile=function(t,n){return t&&t.length?fi(t,oo(n,3),!1,!0):[]},Re.takeWhile=function(t,n){return t&&t.length?fi(t,oo(n,3)):[]},Re.tap=function(t,n){return n(t),t},Re.throttle=function(t,n,e){var r=!0,i=!0;if(\"function\"!=typeof t)throw new Tt(o);return Qu(e)&&(r=\"leading\"in e?!!e.leading:r,i=\"trailing\"in e?!!e.trailing:i),Eu(t,n,{leading:r,maxWait:n,trailing:i})},Re.thru=hu,Re.toArray=la,Re.toPairs=Ua,Re.toPairsIn=Ra,Re.toPath=function(t){return Hu(t)?$n(t,Lo):aa(t)?[t]:Ai(Do(ya(t)))},Re.toPlainObject=ga,Re.transform=function(t,n,e){var r=Hu(t),i=r||qu(t)||ca(t);if(n=oo(n,4),null==e){var o=t&&t.constructor;e=i?r?new o:[]:Qu(t)&&Xu(o)?Pe(Wt(t)):{}}return(i?An:mr)(t,(function(t,r,i){return n(e,t,r,i)})),e},Re.unary=function(t){return Au(t,1)},Re.union=tu,Re.unionBy=nu,Re.unionWith=eu,Re.uniq=function(t){return t&&t.length?ai(t):[]},Re.uniqBy=function(t,n){return t&&t.length?ai(t,oo(n,2)):[]},Re.uniqWith=function(t,n){return n=\"function\"==typeof n?n:i,t&&t.length?ai(t,i,n):[]},Re.unset=function(t,n){return null==t||ci(t,n)},Re.unzip=ru,Re.unzipWith=iu,Re.update=function(t,n,e){return null==t?t:si(t,n,di(e))},Re.updateWith=function(t,n,e,r){return r=\"function\"==typeof r?r:i,null==t?t:si(t,n,di(e),r)},Re.values=Pa,Re.valuesIn=function(t){return null==t?[]:Kn(t,Ca(t))},Re.without=ou,Re.words=Xa,Re.wrap=function(t,n){return Lu(di(n),t)},Re.xor=uu,Re.xorBy=au,Re.xorWith=cu,Re.zip=su,Re.zipObject=function(t,n){return pi(t||[],n||[],Qe)},Re.zipObjectDeep=function(t,n){return pi(t||[],n||[],Xr)},Re.zipWith=fu,Re.entries=Ua,Re.entriesIn=Ra,Re.extend=_a,Re.extendWith=xa,uc(Re,Re),Re.add=yc,Re.attempt=Ka,Re.camelCase=za,Re.capitalize=Ia,Re.ceil=mc,Re.clamp=function(t,n,e){return e===i&&(e=n,n=i),e!==i&&(e=(e=da(e))==e?e:0),n!==i&&(n=(n=da(n))==n?n:0),or(da(t),n,e)},Re.clone=function(t){return ur(t,4)},Re.cloneDeep=function(t){return ur(t,5)},Re.cloneDeepWith=function(t,n){return ur(t,5,n=\"function\"==typeof n?n:i)},Re.cloneWith=function(t,n){return ur(t,4,n=\"function\"==typeof n?n:i)},Re.conformsTo=function(t,n){return null==n||ar(t,n,Ea(n))},Re.deburr=Ba,Re.defaultTo=function(t,n){return null==t||t!=t?n:t},Re.divide=_c,Re.endsWith=function(t,n,e){t=ya(t),n=ui(n);var r=t.length,o=e=e===i?r:or(pa(e),0,r);return(e-=n.length)>=0&&t.slice(e,o)==n},Re.eq=Pu,Re.escape=function(t){return(t=ya(t))&&G.test(t)?t.replace(Y,ee):t},Re.escapeRegExp=function(t){return(t=ya(t))&&et.test(t)?t.replace(nt,\"\\\\$&\"):t},Re.every=function(t,n,e){var r=Hu(t)?On:hr;return e&&yo(t,n,e)&&(n=i),r(t,oo(n,3))},Re.find=du,Re.findIndex=Bo,Re.findKey=function(t,n){return Rn(t,oo(n,3),mr)},Re.findLast=gu,Re.findLastIndex=Ho,Re.findLastKey=function(t,n){return Rn(t,oo(n,3),_r)},Re.floor=xc,Re.forEach=yu,Re.forEachRight=mu,Re.forIn=function(t,n){return null==t?t:gr(t,oo(n,3),Ca)},Re.forInRight=function(t,n){return null==t?t:yr(t,oo(n,3),Ca)},Re.forOwn=function(t,n){return t&&mr(t,oo(n,3))},Re.forOwnRight=function(t,n){return t&&_r(t,oo(n,3))},Re.get=Ma,Re.gt=zu,Re.gte=Iu,Re.has=function(t,n){return null!=t&&ho(t,n,Mr)},Re.hasIn=Aa,Re.head=Vo,Re.identity=ec,Re.includes=function(t,n,e,r){t=Vu(t)?t:Pa(t),e=e&&!r?pa(e):0;var i=t.length;return e<0&&(e=ge(i+e,0)),ua(t)?e<=i&&t.indexOf(n,e)>-1:!!i&&zn(t,n,e)>-1},Re.indexOf=function(t,n,e){var r=null==t?0:t.length;if(!r)return-1;var i=null==e?0:pa(e);return i<0&&(i=ge(r+i,0)),zn(t,n,i)},Re.inRange=function(t,n,e){return n=ha(n),e===i?(e=n,n=0):e=ha(e),function(t,n,e){return t>=ye(n,e)&&t<ge(n,e)}(t=da(t),n,e)},Re.invoke=ja,Re.isArguments=Bu,Re.isArray=Hu,Re.isArrayBuffer=Wu,Re.isArrayLike=Vu,Re.isArrayLikeObject=Yu,Re.isBoolean=function(t){return!0===t||!1===t||ta(t)&&kr(t)==y},Re.isBuffer=qu,Re.isDate=Gu,Re.isElement=function(t){return ta(t)&&1===t.nodeType&&!ra(t)},Re.isEmpty=function(t){if(null==t)return!0;if(Vu(t)&&(Hu(t)||\"string\"==typeof t||\"function\"==typeof t.splice||qu(t)||ca(t)||Bu(t)))return!t.length;var n=lo(t);if(n==w||n==T)return!t.size;if(bo(t))return!Nr(t).length;for(var e in t)if(Ft.call(t,e))return!1;return!0},Re.isEqual=function(t,n){return Er(t,n)},Re.isEqualWith=function(t,n,e){var r=(e=\"function\"==typeof e?e:i)?e(t,n):i;return r===i?Er(t,n,i,e):!!r},Re.isError=Zu,Re.isFinite=function(t){return\"number\"==typeof t&&Un(t)},Re.isFunction=Xu,Re.isInteger=Ku,Re.isLength=Ju,Re.isMap=na,Re.isMatch=function(t,n){return t===n||Cr(t,n,ao(n))},Re.isMatchWith=function(t,n,e){return e=\"function\"==typeof e?e:i,Cr(t,n,ao(n),e)},Re.isNaN=function(t){return ea(t)&&t!=+t},Re.isNative=function(t){if(xo(t))throw new bt(\"Unsupported core-js use. Try https://npms.io/search?q=ponyfill.\");return $r(t)},Re.isNil=function(t){return null==t},Re.isNull=function(t){return null===t},Re.isNumber=ea,Re.isObject=Qu,Re.isObjectLike=ta,Re.isPlainObject=ra,Re.isRegExp=ia,Re.isSafeInteger=function(t){return Ku(t)&&t>=-9007199254740991&&t<=l},Re.isSet=oa,Re.isString=ua,Re.isSymbol=aa,Re.isTypedArray=ca,Re.isUndefined=function(t){return t===i},Re.isWeakMap=function(t){return ta(t)&&lo(t)==E},Re.isWeakSet=function(t){return ta(t)&&\"[object WeakSet]\"==kr(t)},Re.join=function(t,n){return null==t?\"\":Vn.call(t,n)},Re.kebabCase=Ha,Re.last=Zo,Re.lastIndexOf=function(t,n,e){var r=null==t?0:t.length;if(!r)return-1;var o=r;return e!==i&&(o=(o=pa(e))<0?ge(r+o,0):ye(o,r-1)),n==n?function(t,n,e){for(var r=e+1;r--;)if(t[r]===n)return r;return r}(t,n,o):Pn(t,Bn,o,!0)},Re.lowerCase=Wa,Re.lowerFirst=Va,Re.lt=sa,Re.lte=fa,Re.max=function(t){return t&&t.length?pr(t,ec,Sr):i},Re.maxBy=function(t,n){return t&&t.length?pr(t,oo(n,2),Sr):i},Re.mean=function(t){return Hn(t,ec)},Re.meanBy=function(t,n){return Hn(t,oo(n,2))},Re.min=function(t){return t&&t.length?pr(t,ec,Dr):i},Re.minBy=function(t,n){return t&&t.length?pr(t,oo(n,2),Dr):i},Re.stubArray=vc,Re.stubFalse=dc,Re.stubObject=function(){return{}},Re.stubString=function(){return\"\"},Re.stubTrue=function(){return!0},Re.multiply=bc,Re.nth=function(t,n){return t&&t.length?zr(t,pa(n)):i},Re.noConflict=function(){return hn._===this&&(hn._=Rt),this},Re.noop=ac,Re.now=Mu,Re.pad=function(t,n,e){t=ya(t);var r=(n=pa(n))?fe(t):0;if(!n||r>=n)return t;var i=(n-r)/2;return Ii(vn(i),e)+t+Ii(pn(i),e)},Re.padEnd=function(t,n,e){t=ya(t);var r=(n=pa(n))?fe(t):0;return n&&r<n?t+Ii(n-r,e):t},Re.padStart=function(t,n,e){t=ya(t);var r=(n=pa(n))?fe(t):0;return n&&r<n?Ii(n-r,e)+t:t},Re.parseInt=function(t,n,e){return e||null==n?n=0:n&&(n=+n),_e(ya(t).replace(rt,\"\"),n||0)},Re.random=function(t,n,e){if(e&&\"boolean\"!=typeof e&&yo(t,n,e)&&(n=e=i),e===i&&(\"boolean\"==typeof n?(e=n,n=i):\"boolean\"==typeof t&&(e=t,t=i)),t===i&&n===i?(t=0,n=1):(t=ha(t),n===i?(n=t,t=0):n=ha(n)),t>n){var r=t;t=n,n=r}if(e||t%1||n%1){var o=xe();return ye(t+o*(n-t+cn(\"1e-\"+((o+\"\").length-1))),n)}return Vr(t,n)},Re.reduce=function(t,n,e){var r=Hu(t)?Nn:Yn,i=arguments.length<3;return r(t,oo(n,4),e,i,fr)},Re.reduceRight=function(t,n,e){var r=Hu(t)?Dn:Yn,i=arguments.length<3;return r(t,oo(n,4),e,i,lr)},Re.repeat=function(t,n,e){return n=(e?yo(t,n,e):n===i)?1:pa(n),Yr(ya(t),n)},Re.replace=function(){var t=arguments,n=ya(t[0]);return t.length<3?n:n.replace(t[1],t[2])},Re.result=function(t,n,e){var r=-1,o=(n=gi(n,t)).length;for(o||(o=1,t=i);++r<o;){var u=null==t?i:t[Lo(n[r])];u===i&&(r=o,u=e),t=Xu(u)?u.call(t):u}return t},Re.round=wc,Re.runInContext=t,Re.sample=function(t){return(Hu(t)?Ze:Gr)(t)},Re.size=function(t){if(null==t)return 0;if(Vu(t))return ua(t)?fe(t):t.length;var n=lo(t);return n==w||n==T?t.size:Nr(t).length},Re.snakeCase=Ya,Re.some=function(t,n,e){var r=Hu(t)?Ln:ni;return e&&yo(t,n,e)&&(n=i),r(t,oo(n,3))},Re.sortedIndex=function(t,n){return ei(t,n)},Re.sortedIndexBy=function(t,n,e){return ri(t,n,oo(e,2))},Re.sortedIndexOf=function(t,n){var e=null==t?0:t.length;if(e){var r=ei(t,n);if(r<e&&Pu(t[r],n))return r}return-1},Re.sortedLastIndex=function(t,n){return ei(t,n,!0)},Re.sortedLastIndexBy=function(t,n,e){return ri(t,n,oo(e,2),!0)},Re.sortedLastIndexOf=function(t,n){if(null!=t&&t.length){var e=ei(t,n,!0)-1;if(Pu(t[e],n))return e}return-1},Re.startCase=qa,Re.startsWith=function(t,n,e){return t=ya(t),e=null==e?0:or(pa(e),0,t.length),n=ui(n),t.slice(e,e+n.length)==n},Re.subtract=kc,Re.sum=function(t){return t&&t.length?qn(t,ec):0},Re.sumBy=function(t,n){return t&&t.length?qn(t,oo(n,2)):0},Re.template=function(t,n,e){var r=Re.templateSettings;e&&yo(t,n,e)&&(n=i),t=ya(t),n=xa({},n,r,Zi);var o,u,a=xa({},n.imports,r.imports,Zi),c=Ea(a),s=Kn(a,c),f=0,l=n.interpolate||_t,h=\"__p += '\",p=Mt((n.escape||_t).source+\"|\"+l.source+\"|\"+(l===K?lt:_t).source+\"|\"+(n.evaluate||_t).source+\"|$\",\"g\"),v=\"//# sourceURL=\"+(Ft.call(n,\"sourceURL\")?(n.sourceURL+\"\").replace(/\\s/g,\" \"):\"lodash.templateSources[\"+ ++rn+\"]\")+\"\\n\";t.replace(p,(function(n,e,r,i,a,c){return r||(r=i),h+=t.slice(f,c).replace(xt,re),e&&(o=!0,h+=\"' +\\n__e(\"+e+\") +\\n'\"),a&&(u=!0,h+=\"';\\n\"+a+\";\\n__p += '\"),r&&(h+=\"' +\\n((__t = (\"+r+\")) == null ? '' : __t) +\\n'\"),f=c+n.length,n})),h+=\"';\\n\";var d=Ft.call(n,\"variable\")&&n.variable;if(d){if(st.test(d))throw new bt(\"Invalid `variable` option passed into `_.template`\")}else h=\"with (obj) {\\n\"+h+\"\\n}\\n\";h=(u?h.replace(B,\"\"):h).replace(H,\"$1\").replace(W,\"$1;\"),h=\"function(\"+(d||\"obj\")+\") {\\n\"+(d?\"\":\"obj || (obj = {});\\n\")+\"var __t, __p = ''\"+(o?\", __e = _.escape\":\"\")+(u?\", __j = Array.prototype.join;\\nfunction print() { __p += __j.call(arguments, '') }\\n\":\";\\n\")+h+\"return __p\\n}\";var g=Ka((function(){return wt(c,v+\"return \"+h).apply(i,s)}));if(g.source=h,Zu(g))throw g;return g},Re.times=function(t,n){if((t=pa(t))<1||t>l)return[];var e=p,r=ye(t,p);n=oo(n),t-=p;for(var i=Gn(r,n);++e<t;)n(e);return i},Re.toFinite=ha,Re.toInteger=pa,Re.toLength=va,Re.toLower=function(t){return ya(t).toLowerCase()},Re.toNumber=da,Re.toSafeInteger=function(t){return t?or(pa(t),-9007199254740991,l):0===t?t:0},Re.toString=ya,Re.toUpper=function(t){return ya(t).toUpperCase()},Re.trim=function(t,n,e){if((t=ya(t))&&(e||n===i))return Zn(t);if(!t||!(n=ui(n)))return t;var r=le(t),o=le(n);return mi(r,Qn(r,o),te(r,o)+1).join(\"\")},Re.trimEnd=function(t,n,e){if((t=ya(t))&&(e||n===i))return t.slice(0,he(t)+1);if(!t||!(n=ui(n)))return t;var r=le(t);return mi(r,0,te(r,le(n))+1).join(\"\")},Re.trimStart=function(t,n,e){if((t=ya(t))&&(e||n===i))return t.replace(rt,\"\");if(!t||!(n=ui(n)))return t;var r=le(t);return mi(r,Qn(r,le(n))).join(\"\")},Re.truncate=function(t,n){var e=30,r=\"...\";if(Qu(n)){var o=\"separator\"in n?n.separator:o;e=\"length\"in n?pa(n.length):e,r=\"omission\"in n?ui(n.omission):r}var u=(t=ya(t)).length;if(ie(t)){var a=le(t);u=a.length}if(e>=u)return t;var c=e-fe(r);if(c<1)return r;var s=a?mi(a,0,c).join(\"\"):t.slice(0,c);if(o===i)return s+r;if(a&&(c+=s.length-c),ia(o)){if(t.slice(c).search(o)){var f,l=s;for(o.global||(o=Mt(o.source,ya(ht.exec(o))+\"g\")),o.lastIndex=0;f=o.exec(l);)var h=f.index;s=s.slice(0,h===i?c:h)}}else if(t.indexOf(ui(o),c)!=c){var p=s.lastIndexOf(o);p>-1&&(s=s.slice(0,p))}return s+r},Re.unescape=function(t){return(t=ya(t))&&q.test(t)?t.replace(V,pe):t},Re.uniqueId=function(t){var n=++Nt;return ya(t)+n},Re.upperCase=Ga,Re.upperFirst=Za,Re.each=yu,Re.eachRight=mu,Re.first=Vo,uc(Re,(gc={},mr(Re,(function(t,n){Ft.call(Re.prototype,n)||(gc[n]=t)})),gc),{chain:!1}),Re.VERSION=\"4.17.21\",An([\"bind\",\"bindKey\",\"curry\",\"curryRight\",\"partial\",\"partialRight\"],(function(t){Re[t].placeholder=Re})),An([\"drop\",\"take\"],(function(t,n){Be.prototype[t]=function(e){e=e===i?1:ge(pa(e),0);var r=this.__filtered__&&!n?new Be(this):this.clone();return r.__filtered__?r.__takeCount__=ye(e,r.__takeCount__):r.__views__.push({size:ye(e,p),type:t+(r.__dir__<0?\"Right\":\"\")}),r},Be.prototype[t+\"Right\"]=function(n){return this.reverse()[t](n).reverse()}})),An([\"filter\",\"map\",\"takeWhile\"],(function(t,n){var e=n+1,r=1==e||3==e;Be.prototype[t]=function(t){var n=this.clone();return n.__iteratees__.push({iteratee:oo(t,3),type:e}),n.__filtered__=n.__filtered__||r,n}})),An([\"head\",\"last\"],(function(t,n){var e=\"take\"+(n?\"Right\":\"\");Be.prototype[t]=function(){return this[e](1).value()[0]}})),An([\"initial\",\"tail\"],(function(t,n){var e=\"drop\"+(n?\"\":\"Right\");Be.prototype[t]=function(){return this.__filtered__?new Be(this):this[e](1)}})),Be.prototype.compact=function(){return this.filter(ec)},Be.prototype.find=function(t){return this.filter(t).head()},Be.prototype.findLast=function(t){return this.reverse().find(t)},Be.prototype.invokeMap=qr((function(t,n){return\"function\"==typeof t?new Be(this):this.map((function(e){return Or(e,t,n)}))})),Be.prototype.reject=function(t){return this.filter(Nu(oo(t)))},Be.prototype.slice=function(t,n){t=pa(t);var e=this;return e.__filtered__&&(t>0||n<0)?new Be(e):(t<0?e=e.takeRight(-t):t&&(e=e.drop(t)),n!==i&&(e=(n=pa(n))<0?e.dropRight(-n):e.take(n-t)),e)},Be.prototype.takeRightWhile=function(t){return this.reverse().takeWhile(t).reverse()},Be.prototype.toArray=function(){return this.take(p)},mr(Be.prototype,(function(t,n){var e=/^(?:filter|find|map|reject)|While$/.test(n),r=/^(?:head|last)$/.test(n),o=Re[r?\"take\"+(\"last\"==n?\"Right\":\"\"):n],u=r||/^find/.test(n);o&&(Re.prototype[n]=function(){var n=this.__wrapped__,a=r?[1]:arguments,c=n instanceof Be,s=a[0],f=c||Hu(n),l=function(t){var n=o.apply(Re,Fn([t],a));return r&&h?n[0]:n};f&&e&&\"function\"==typeof s&&1!=s.length&&(c=f=!1);var h=this.__chain__,p=!!this.__actions__.length,v=u&&!h,d=c&&!p;if(!u&&f){n=d?n:new Be(this);var g=t.apply(n,a);return g.__actions__.push({func:hu,args:[l],thisArg:i}),new Ie(g,h)}return v&&d?t.apply(this,a):(g=this.thru(l),v?r?g.value()[0]:g.value():g)})})),An([\"pop\",\"push\",\"shift\",\"sort\",\"splice\",\"unshift\"],(function(t){var n=Ot[t],e=/^(?:push|sort|unshift)$/.test(t)?\"tap\":\"thru\",r=/^(?:pop|shift)$/.test(t);Re.prototype[t]=function(){var t=arguments;if(r&&!this.__chain__){var i=this.value();return n.apply(Hu(i)?i:[],t)}return this[e]((function(e){return n.apply(Hu(e)?e:[],t)}))}})),mr(Be.prototype,(function(t,n){var e=Re[n];if(e){var r=e.name+\"\";Ft.call(je,r)||(je[r]=[]),je[r].push({name:n,func:e})}})),je[Ui(i,2).name]=[{name:\"wrapper\",func:i}],Be.prototype.clone=function(){var t=new Be(this.__wrapped__);return t.__actions__=Ai(this.__actions__),t.__dir__=this.__dir__,t.__filtered__=this.__filtered__,t.__iteratees__=Ai(this.__iteratees__),t.__takeCount__=this.__takeCount__,t.__views__=Ai(this.__views__),t},Be.prototype.reverse=function(){if(this.__filtered__){var t=new Be(this);t.__dir__=-1,t.__filtered__=!0}else(t=this.clone()).__dir__*=-1;return t},Be.prototype.value=function(){var t=this.__wrapped__.value(),n=this.__dir__,e=Hu(t),r=n<0,i=e?t.length:0,o=function(t,n,e){for(var r=-1,i=e.length;++r<i;){var o=e[r],u=o.size;switch(o.type){case\"drop\":t+=u;break;case\"dropRight\":n-=u;break;case\"take\":n=ye(n,t+u);break;case\"takeRight\":t=ge(t,n-u)}}return{start:t,end:n}}(0,i,this.__views__),u=o.start,a=o.end,c=a-u,s=r?a:u-1,f=this.__iteratees__,l=f.length,h=0,p=ye(c,this.__takeCount__);if(!e||!r&&i==c&&p==c)return li(t,this.__actions__);var v=[];t:for(;c--&&h<p;){for(var d=-1,g=t[s+=n];++d<l;){var y=f[d],m=y.iteratee,_=y.type,x=m(g);if(2==_)g=x;else if(!x){if(1==_)continue t;break t}}v[h++]=g}return v},Re.prototype.at=pu,Re.prototype.chain=function(){return lu(this)},Re.prototype.commit=function(){return new Ie(this.value(),this.__chain__)},Re.prototype.next=function(){this.__values__===i&&(this.__values__=la(this.value()));var t=this.__index__>=this.__values__.length;return{done:t,value:t?i:this.__values__[this.__index__++]}},Re.prototype.plant=function(t){for(var n,e=this;e instanceof ze;){var r=Ro(e);r.__index__=0,r.__values__=i,n?o.__wrapped__=r:n=r;var o=r;e=e.__wrapped__}return o.__wrapped__=t,n},Re.prototype.reverse=function(){var t=this.__wrapped__;if(t instanceof Be){var n=t;return this.__actions__.length&&(n=new Be(this)),(n=n.reverse()).__actions__.push({func:hu,args:[Qo],thisArg:i}),new Ie(n,this.__chain__)}return this.thru(Qo)},Re.prototype.toJSON=Re.prototype.valueOf=Re.prototype.value=function(){return li(this.__wrapped__,this.__actions__)},Re.prototype.first=Re.prototype.head,Zt&&(Re.prototype[Zt]=function(){return this}),Re}();hn._=ve,(r=function(){return ve}.call(n,e,n,t))===i||(t.exports=r)}.call(this)},869:(t,n)=>{\"use strict\";var e=Symbol.for(\"react.transitional.element\"),r=Symbol.for(\"react.portal\"),i=Symbol.for(\"react.fragment\"),o=Symbol.for(\"react.strict_mode\"),u=Symbol.for(\"react.profiler\"),a=Symbol.for(\"react.consumer\"),c=Symbol.for(\"react.context\"),s=Symbol.for(\"react.forward_ref\"),f=Symbol.for(\"react.suspense\"),l=Symbol.for(\"react.memo\"),h=Symbol.for(\"react.lazy\"),p=Symbol.iterator,v={isMounted:function(){return!1},enqueueForceUpdate:function(){},enqueueReplaceState:function(){},enqueueSetState:function(){}},d=Object.assign,g={};function y(t,n,e){this.props=t,this.context=n,this.refs=g,this.updater=e||v}function m(){}function _(t,n,e){this.props=t,this.context=n,this.refs=g,this.updater=e||v}y.prototype.isReactComponent={},y.prototype.setState=function(t,n){if(\"object\"!=typeof t&&\"function\"!=typeof t&&null!=t)throw Error(\"takes an object of state variables to update or a function which returns an object of state variables.\");this.updater.enqueueSetState(this,t,n,\"setState\")},y.prototype.forceUpdate=function(t){this.updater.enqueueForceUpdate(this,t,\"forceUpdate\")},m.prototype=y.prototype;var x=_.prototype=new m;x.constructor=_,d(x,y.prototype),x.isPureReactComponent=!0;var b=Array.isArray,w={H:null,A:null,T:null,S:null},k=Object.prototype.hasOwnProperty;function S(t,n,r,i,o,u){return r=u.ref,{$$typeof:e,type:t,key:n,ref:void 0!==r?r:null,props:u}}function M(t){return\"object\"==typeof t&&null!==t&&t.$$typeof===e}var A=/\\/+/g;function T(t,n){return\"object\"==typeof t&&null!==t&&null!=t.key?(e=\"\"+t.key,r={\"=\":\"=0\",\":\":\"=2\"},\"$\"+e.replace(/[=:]/g,(function(t){return r[t]}))):n.toString(36);var e,r}function O(){}function j(t,n,i,o,u){var a=typeof t;\"undefined\"!==a&&\"boolean\"!==a||(t=null);var c,s,f=!1;if(null===t)f=!0;else switch(a){case\"bigint\":case\"string\":case\"number\":f=!0;break;case\"object\":switch(t.$$typeof){case e:case r:f=!0;break;case h:return j((f=t._init)(t._payload),n,i,o,u)}}if(f)return u=u(t),f=\"\"===o?\".\"+T(t,0):o,b(u)?(i=\"\",null!=f&&(i=f.replace(A,\"$&/\")+\"/\"),j(u,n,i,\"\",(function(t){return t}))):null!=u&&(M(u)&&(c=u,s=i+(null==u.key||t&&t.key===u.key?\"\":(\"\"+u.key).replace(A,\"$&/\")+\"/\")+f,u=S(c.type,s,void 0,0,0,c.props)),n.push(u)),1;f=0;var l,v=\"\"===o?\".\":o+\":\";if(b(t))for(var d=0;d<t.length;d++)f+=j(o=t[d],n,i,a=v+T(o,d),u);else if(\"function\"==typeof(d=null===(l=t)||\"object\"!=typeof l?null:\"function\"==typeof(l=p&&l[p]||l[\"@@iterator\"])?l:null))for(t=d.call(t),d=0;!(o=t.next()).done;)f+=j(o=o.value,n,i,a=v+T(o,d++),u);else if(\"object\"===a){if(\"function\"==typeof t.then)return j(function(t){switch(t.status){case\"fulfilled\":return t.value;case\"rejected\":throw t.reason;default:switch(\"string\"==typeof t.status?t.then(O,O):(t.status=\"pending\",t.then((function(n){\"pending\"===t.status&&(t.status=\"fulfilled\",t.value=n)}),(function(n){\"pending\"===t.status&&(t.status=\"rejected\",t.reason=n)}))),t.status){case\"fulfilled\":return t.value;case\"rejected\":throw t.reason}}throw t}(t),n,i,o,u);throw n=String(t),Error(\"Objects are not valid as a React child (found: \"+(\"[object Object]\"===n?\"object with keys {\"+Object.keys(t).join(\", \")+\"}\":n)+\"). If you meant to render a collection of children, use an array instead.\")}return f}function E(t,n,e){if(null==t)return t;var r=[],i=0;return j(t,r,\"\",\"\",(function(t){return n.call(e,t,i++)})),r}function C(t){if(-1===t._status){var n=t._result;(n=n()).then((function(n){0!==t._status&&-1!==t._status||(t._status=1,t._result=n)}),(function(n){0!==t._status&&-1!==t._status||(t._status=2,t._result=n)})),-1===t._status&&(t._status=0,t._result=n)}if(1===t._status)return t._result.default;throw t._result}var $=\"function\"==typeof reportError?reportError:function(t){if(\"object\"==typeof window&&\"function\"==typeof window.ErrorEvent){var n=new window.ErrorEvent(\"error\",{bubbles:!0,cancelable:!0,message:\"object\"==typeof t&&null!==t&&\"string\"==typeof t.message?String(t.message):String(t),error:t});if(!window.dispatchEvent(n))return}else if(\"object\"==typeof process&&\"function\"==typeof process.emit)return void process.emit(\"uncaughtException\",t);console.error(t)};function F(){}n.Children={map:E,forEach:function(t,n,e){E(t,(function(){n.apply(this,arguments)}),e)},count:function(t){var n=0;return E(t,(function(){n++})),n},toArray:function(t){return E(t,(function(t){return t}))||[]},only:function(t){if(!M(t))throw Error(\"React.Children.only expected to receive a single React element child.\");return t}},n.Component=y,n.Fragment=i,n.Profiler=u,n.PureComponent=_,n.StrictMode=o,n.Suspense=f,n.__CLIENT_INTERNALS_DO_NOT_USE_OR_WARN_USERS_THEY_CANNOT_UPGRADE=w,n.act=function(){throw Error(\"act(...) is not supported in production builds of React.\")},n.cache=function(t){return function(){return t.apply(null,arguments)}},n.cloneElement=function(t,n,e){if(null==t)throw Error(\"The argument must be a React element, but you passed \"+t+\".\");var r=d({},t.props),i=t.key;if(null!=n)for(o in n.ref,void 0!==n.key&&(i=\"\"+n.key),n)!k.call(n,o)||\"key\"===o||\"__self\"===o||\"__source\"===o||\"ref\"===o&&void 0===n.ref||(r[o]=n[o]);var o=arguments.length-2;if(1===o)r.children=e;else if(1<o){for(var u=Array(o),a=0;a<o;a++)u[a]=arguments[a+2];r.children=u}return S(t.type,i,void 0,0,0,r)},n.createContext=function(t){return(t={$$typeof:c,_currentValue:t,_currentValue2:t,_threadCount:0,Provider:null,Consumer:null}).Provider=t,t.Consumer={$$typeof:a,_context:t},t},n.createElement=function(t,n,e){var r,i={},o=null;if(null!=n)for(r in void 0!==n.key&&(o=\"\"+n.key),n)k.call(n,r)&&\"key\"!==r&&\"__self\"!==r&&\"__source\"!==r&&(i[r]=n[r]);var u=arguments.length-2;if(1===u)i.children=e;else if(1<u){for(var a=Array(u),c=0;c<u;c++)a[c]=arguments[c+2];i.children=a}if(t&&t.defaultProps)for(r in u=t.defaultProps)void 0===i[r]&&(i[r]=u[r]);return S(t,o,void 0,0,0,i)},n.createRef=function(){return{current:null}},n.forwardRef=function(t){return{$$typeof:s,render:t}},n.isValidElement=M,n.lazy=function(t){return{$$typeof:h,_payload:{_status:-1,_result:t},_init:C}},n.memo=function(t,n){return{$$typeof:l,type:t,compare:void 0===n?null:n}},n.startTransition=function(t){var n=w.T,e={};w.T=e;try{var r=t(),i=w.S;null!==i&&i(e,r),\"object\"==typeof r&&null!==r&&\"function\"==typeof r.then&&r.then(F,$)}catch(t){$(t)}finally{w.T=n}},n.unstable_useCacheRefresh=function(){return w.H.useCacheRefresh()},n.use=function(t){return w.H.use(t)},n.useActionState=function(t,n,e){return w.H.useActionState(t,n,e)},n.useCallback=function(t,n){return w.H.useCallback(t,n)},n.useContext=function(t){return w.H.useContext(t)},n.useDebugValue=function(){},n.useDeferredValue=function(t,n){return w.H.useDeferredValue(t,n)},n.useEffect=function(t,n){return w.H.useEffect(t,n)},n.useId=function(){return w.H.useId()},n.useImperativeHandle=function(t,n,e){return w.H.useImperativeHandle(t,n,e)},n.useInsertionEffect=function(t,n){return w.H.useInsertionEffect(t,n)},n.useLayoutEffect=function(t,n){return w.H.useLayoutEffect(t,n)},n.useMemo=function(t,n){return w.H.useMemo(t,n)},n.useOptimistic=function(t,n){return w.H.useOptimistic(t,n)},n.useReducer=function(t,n,e){return w.H.useReducer(t,n,e)},n.useRef=function(t){return w.H.useRef(t)},n.useState=function(t){return w.H.useState(t)},n.useSyncExternalStore=function(t,n,e){return w.H.useSyncExternalStore(t,n,e)},n.useTransition=function(){return w.H.useTransition()},n.version=\"19.0.0\"},961:(t,n,e)=>{\"use strict\";!function t(){if(\"undefined\"!=typeof __REACT_DEVTOOLS_GLOBAL_HOOK__&&\"function\"==typeof __REACT_DEVTOOLS_GLOBAL_HOOK__.checkDCE)try{__REACT_DEVTOOLS_GLOBAL_HOOK__.checkDCE(t)}catch(t){console.error(t)}}(),t.exports=e(221)}},n={};function e(r){var i=n[r];if(void 0!==i)return i.exports;var o=n[r]={id:r,loaded:!1,exports:{}};return t[r].call(o.exports,o,o.exports,e),o.loaded=!0,o.exports}e.g=function(){if(\"object\"==typeof globalThis)return globalThis;try{return this||new Function(\"return this\")()}catch(t){if(\"object\"==typeof window)return window}}(),e.nmd=t=>(t.paths=[],t.children||(t.children=[]),t),(()=>{\"use strict\";var t=e(540),n=e(961);const r=Math.sqrt(50),i=Math.sqrt(10),o=Math.sqrt(2);function u(t,n,e){const a=(n-t)/Math.max(0,e),c=Math.floor(Math.log10(a)),s=a/Math.pow(10,c),f=s>=r?10:s>=i?5:s>=o?2:1;let l,h,p;return c<0?(p=Math.pow(10,-c)/f,l=Math.round(t*p),h=Math.round(n*p),l/p<t&&++l,h/p>n&&--h,p=-p):(p=Math.pow(10,c)*f,l=Math.round(t/p),h=Math.round(n/p),l*p<t&&++l,h*p>n&&--h),h<l&&.5<=e&&e<2?u(t,n,2*e):[l,h,p]}function a(t,n,e){return u(t=+t,n=+n,e=+e)[2]}function c(t,n,e){e=+e;const r=(n=+n)<(t=+t),i=r?a(n,t,e):a(t,n,e);return(r?-1:1)*(i<0?1/-i:i)}function s(t,n){return null==t||null==n?NaN:t<n?-1:t>n?1:t>=n?0:NaN}function f(t,n){return null==t||null==n?NaN:n<t?-1:n>t?1:n>=t?0:NaN}function l(t){let n,e,r;function i(t,r,i=0,o=t.length){if(i<o){if(0!==n(r,r))return o;do{const n=i+o>>>1;e(t[n],r)<0?i=n+1:o=n}while(i<o)}return i}return 2!==t.length?(n=s,e=(n,e)=>s(t(n),e),r=(n,e)=>t(n)-e):(n=t===s||t===f?t:h,e=t,r=t),{left:i,center:function(t,n,e=0,o=t.length){const u=i(t,n,e,o-1);return u>e&&r(t[u-1],n)>-r(t[u],n)?u-1:u},right:function(t,r,i=0,o=t.length){if(i<o){if(0!==n(r,r))return o;do{const n=i+o>>>1;e(t[n],r)<=0?i=n+1:o=n}while(i<o)}return i}}}function h(){return 0}const p=l(s),v=p.right,d=(p.left,l((function(t){return null===t?NaN:+t})).center,v);function g(t,n,e){t.prototype=n.prototype=e,e.constructor=t}function y(t,n){var e=Object.create(t.prototype);for(var r in n)e[r]=n[r];return e}function m(){}var _=.7,x=1/_,b=\"\\\\s*([+-]?\\\\d+)\\\\s*\",w=\"\\\\s*([+-]?(?:\\\\d*\\\\.)?\\\\d+(?:[eE][+-]?\\\\d+)?)\\\\s*\",k=\"\\\\s*([+-]?(?:\\\\d*\\\\.)?\\\\d+(?:[eE][+-]?\\\\d+)?)%\\\\s*\",S=/^#([0-9a-f]{3,8})$/,M=new RegExp(`^rgb\\\\(${b},${b},${b}\\\\)$`),A=new RegExp(`^rgb\\\\(${k},${k},${k}\\\\)$`),T=new RegExp(`^rgba\\\\(${b},${b},${b},${w}\\\\)$`),O=new RegExp(`^rgba\\\\(${k},${k},${k},${w}\\\\)$`),j=new RegExp(`^hsl\\\\(${w},${k},${k}\\\\)$`),E=new RegExp(`^hsla\\\\(${w},${k},${k},${w}\\\\)$`),C={aliceblue:15792383,antiquewhite:16444375,aqua:65535,aquamarine:8388564,azure:15794175,beige:16119260,bisque:16770244,black:0,blanchedalmond:16772045,blue:255,blueviolet:9055202,brown:10824234,burlywood:14596231,cadetblue:6266528,chartreuse:8388352,chocolate:13789470,coral:16744272,cornflowerblue:6591981,cornsilk:16775388,crimson:14423100,cyan:65535,darkblue:139,darkcyan:35723,darkgoldenrod:12092939,darkgray:11119017,darkgreen:25600,darkgrey:11119017,darkkhaki:12433259,darkmagenta:9109643,darkolivegreen:5597999,darkorange:16747520,darkorchid:10040012,darkred:9109504,darksalmon:15308410,darkseagreen:9419919,darkslateblue:4734347,darkslategray:3100495,darkslategrey:3100495,darkturquoise:52945,darkviolet:9699539,deeppink:16716947,deepskyblue:49151,dimgray:6908265,dimgrey:6908265,dodgerblue:2003199,firebrick:11674146,floralwhite:16775920,forestgreen:2263842,fuchsia:16711935,gainsboro:14474460,ghostwhite:16316671,gold:16766720,goldenrod:14329120,gray:8421504,green:32768,greenyellow:11403055,grey:8421504,honeydew:15794160,hotpink:16738740,indianred:13458524,indigo:4915330,ivory:16777200,khaki:15787660,lavender:15132410,lavenderblush:16773365,lawngreen:8190976,lemonchiffon:16775885,lightblue:11393254,lightcoral:15761536,lightcyan:14745599,lightgoldenrodyellow:16448210,lightgray:13882323,lightgreen:9498256,lightgrey:13882323,lightpink:16758465,lightsalmon:16752762,lightseagreen:2142890,lightskyblue:8900346,lightslategray:7833753,lightslategrey:7833753,lightsteelblue:11584734,lightyellow:16777184,lime:65280,limegreen:3329330,linen:16445670,magenta:16711935,maroon:8388608,mediumaquamarine:6737322,mediumblue:205,mediumorchid:12211667,mediumpurple:9662683,mediumseagreen:3978097,mediumslateblue:8087790,mediumspringgreen:64154,mediumturquoise:4772300,mediumvioletred:13047173,midnightblue:1644912,mintcream:16121850,mistyrose:16770273,moccasin:16770229,navajowhite:16768685,navy:128,oldlace:16643558,olive:8421376,olivedrab:7048739,orange:16753920,orangered:16729344,orchid:14315734,palegoldenrod:15657130,palegreen:10025880,paleturquoise:11529966,palevioletred:14381203,papayawhip:16773077,peachpuff:16767673,peru:13468991,pink:16761035,plum:14524637,powderblue:11591910,purple:8388736,rebeccapurple:6697881,red:16711680,rosybrown:12357519,royalblue:4286945,saddlebrown:9127187,salmon:16416882,sandybrown:16032864,seagreen:3050327,seashell:16774638,sienna:10506797,silver:12632256,skyblue:8900331,slateblue:6970061,slategray:7372944,slategrey:7372944,snow:16775930,springgreen:65407,steelblue:4620980,tan:13808780,teal:32896,thistle:14204888,tomato:16737095,turquoise:4251856,violet:15631086,wheat:16113331,white:16777215,whitesmoke:16119285,yellow:16776960,yellowgreen:10145074};function $(){return this.rgb().formatHex()}function F(){return this.rgb().formatRgb()}function N(t){var n,e;return t=(t+\"\").trim().toLowerCase(),(n=S.exec(t))?(e=n[1].length,n=parseInt(n[1],16),6===e?D(n):3===e?new R(n>>8&15|n>>4&240,n>>4&15|240&n,(15&n)<<4|15&n,1):8===e?L(n>>24&255,n>>16&255,n>>8&255,(255&n)/255):4===e?L(n>>12&15|n>>8&240,n>>8&15|n>>4&240,n>>4&15|240&n,((15&n)<<4|15&n)/255):null):(n=M.exec(t))?new R(n[1],n[2],n[3],1):(n=A.exec(t))?new R(255*n[1]/100,255*n[2]/100,255*n[3]/100,1):(n=T.exec(t))?L(n[1],n[2],n[3],n[4]):(n=O.exec(t))?L(255*n[1]/100,255*n[2]/100,255*n[3]/100,n[4]):(n=j.exec(t))?W(n[1],n[2]/100,n[3]/100,1):(n=E.exec(t))?W(n[1],n[2]/100,n[3]/100,n[4]):C.hasOwnProperty(t)?D(C[t]):\"transparent\"===t?new R(NaN,NaN,NaN,0):null}function D(t){return new R(t>>16&255,t>>8&255,255&t,1)}function L(t,n,e,r){return r<=0&&(t=n=e=NaN),new R(t,n,e,r)}function U(t,n,e,r){return 1===arguments.length?((i=t)instanceof m||(i=N(i)),i?new R((i=i.rgb()).r,i.g,i.b,i.opacity):new R):new R(t,n,e,null==r?1:r);var i}function R(t,n,e,r){this.r=+t,this.g=+n,this.b=+e,this.opacity=+r}function P(){return`#${H(this.r)}${H(this.g)}${H(this.b)}`}function z(){const t=I(this.opacity);return`${1===t?\"rgb(\":\"rgba(\"}${B(this.r)}, ${B(this.g)}, ${B(this.b)}${1===t?\")\":`, ${t})`}`}function I(t){return isNaN(t)?1:Math.max(0,Math.min(1,t))}function B(t){return Math.max(0,Math.min(255,Math.round(t)||0))}function H(t){return((t=B(t))<16?\"0\":\"\")+t.toString(16)}function W(t,n,e,r){return r<=0?t=n=e=NaN:e<=0||e>=1?t=n=NaN:n<=0&&(t=NaN),new q(t,n,e,r)}function V(t){if(t instanceof q)return new q(t.h,t.s,t.l,t.opacity);if(t instanceof m||(t=N(t)),!t)return new q;if(t instanceof q)return t;var n=(t=t.rgb()).r/255,e=t.g/255,r=t.b/255,i=Math.min(n,e,r),o=Math.max(n,e,r),u=NaN,a=o-i,c=(o+i)/2;return a?(u=n===o?(e-r)/a+6*(e<r):e===o?(r-n)/a+2:(n-e)/a+4,a/=c<.5?o+i:2-o-i,u*=60):a=c>0&&c<1?0:u,new q(u,a,c,t.opacity)}function Y(t,n,e,r){return 1===arguments.length?V(t):new q(t,n,e,null==r?1:r)}function q(t,n,e,r){this.h=+t,this.s=+n,this.l=+e,this.opacity=+r}function G(t){return(t=(t||0)%360)<0?t+360:t}function Z(t){return Math.max(0,Math.min(1,t||0))}function X(t,n,e){return 255*(t<60?n+(e-n)*t/60:t<180?e:t<240?n+(e-n)*(240-t)/60:n)}function K(t,n,e,r,i){var o=t*t,u=o*t;return((1-3*t+3*o-u)*n+(4-6*o+3*u)*e+(1+3*t+3*o-3*u)*r+u*i)/6}g(m,N,{copy(t){return Object.assign(new this.constructor,this,t)},displayable(){return this.rgb().displayable()},hex:$,formatHex:$,formatHex8:function(){return this.rgb().formatHex8()},formatHsl:function(){return V(this).formatHsl()},formatRgb:F,toString:F}),g(R,U,y(m,{brighter(t){return t=null==t?x:Math.pow(x,t),new R(this.r*t,this.g*t,this.b*t,this.opacity)},darker(t){return t=null==t?_:Math.pow(_,t),new R(this.r*t,this.g*t,this.b*t,this.opacity)},rgb(){return this},clamp(){return new R(B(this.r),B(this.g),B(this.b),I(this.opacity))},displayable(){return-.5<=this.r&&this.r<255.5&&-.5<=this.g&&this.g<255.5&&-.5<=this.b&&this.b<255.5&&0<=this.opacity&&this.opacity<=1},hex:P,formatHex:P,formatHex8:function(){return`#${H(this.r)}${H(this.g)}${H(this.b)}${H(255*(isNaN(this.opacity)?1:this.opacity))}`},formatRgb:z,toString:z})),g(q,Y,y(m,{brighter(t){return t=null==t?x:Math.pow(x,t),new q(this.h,this.s,this.l*t,this.opacity)},darker(t){return t=null==t?_:Math.pow(_,t),new q(this.h,this.s,this.l*t,this.opacity)},rgb(){var t=this.h%360+360*(this.h<0),n=isNaN(t)||isNaN(this.s)?0:this.s,e=this.l,r=e+(e<.5?e:1-e)*n,i=2*e-r;return new R(X(t>=240?t-240:t+120,i,r),X(t,i,r),X(t<120?t+240:t-120,i,r),this.opacity)},clamp(){return new q(G(this.h),Z(this.s),Z(this.l),I(this.opacity))},displayable(){return(0<=this.s&&this.s<=1||isNaN(this.s))&&0<=this.l&&this.l<=1&&0<=this.opacity&&this.opacity<=1},formatHsl(){const t=I(this.opacity);return`${1===t?\"hsl(\":\"hsla(\"}${G(this.h)}, ${100*Z(this.s)}%, ${100*Z(this.l)}%${1===t?\")\":`, ${t})`}`}}));const J=t=>()=>t;function Q(t,n){var e=n-t;return e?function(t,n){return function(e){return t+e*n}}(t,e):J(isNaN(t)?n:t)}const tt=function t(n){var e=function(t){return 1==(t=+t)?Q:function(n,e){return e-n?function(t,n,e){return t=Math.pow(t,e),n=Math.pow(n,e)-t,e=1/e,function(r){return Math.pow(t+r*n,e)}}(n,e,t):J(isNaN(n)?e:n)}}(n);function r(t,n){var r=e((t=U(t)).r,(n=U(n)).r),i=e(t.g,n.g),o=e(t.b,n.b),u=Q(t.opacity,n.opacity);return function(n){return t.r=r(n),t.g=i(n),t.b=o(n),t.opacity=u(n),t+\"\"}}return r.gamma=t,r}(1);function nt(t){return function(n){var e,r,i=n.length,o=new Array(i),u=new Array(i),a=new Array(i);for(e=0;e<i;++e)r=U(n[e]),o[e]=r.r||0,u[e]=r.g||0,a[e]=r.b||0;return o=t(o),u=t(u),a=t(a),r.opacity=1,function(t){return r.r=o(t),r.g=u(t),r.b=a(t),r+\"\"}}}function et(t,n){var e,r=n?n.length:0,i=t?Math.min(r,t.length):0,o=new Array(i),u=new Array(r);for(e=0;e<i;++e)o[e]=ft(t[e],n[e]);for(;e<r;++e)u[e]=n[e];return function(t){for(e=0;e<i;++e)u[e]=o[e](t);return u}}function rt(t,n){var e=new Date;return t=+t,n=+n,function(r){return e.setTime(t*(1-r)+n*r),e}}function it(t,n){return t=+t,n=+n,function(e){return t*(1-e)+n*e}}function ot(t,n){var e,r={},i={};for(e in null!==t&&\"object\"==typeof t||(t={}),null!==n&&\"object\"==typeof n||(n={}),n)e in t?r[e]=ft(t[e],n[e]):i[e]=n[e];return function(t){for(e in r)i[e]=r[e](t);return i}}nt((function(t){var n=t.length-1;return function(e){var r=e<=0?e=0:e>=1?(e=1,n-1):Math.floor(e*n),i=t[r],o=t[r+1],u=r>0?t[r-1]:2*i-o,a=r<n-1?t[r+2]:2*o-i;return K((e-r/n)*n,u,i,o,a)}})),nt((function(t){var n=t.length;return function(e){var r=Math.floor(((e%=1)<0?++e:e)*n),i=t[(r+n-1)%n],o=t[r%n],u=t[(r+1)%n],a=t[(r+2)%n];return K((e-r/n)*n,i,o,u,a)}}));var ut=/[-+]?(?:\\d+\\.?\\d*|\\.?\\d+)(?:[eE][-+]?\\d+)?/g,at=new RegExp(ut.source,\"g\");function ct(t,n){var e,r,i,o=ut.lastIndex=at.lastIndex=0,u=-1,a=[],c=[];for(t+=\"\",n+=\"\";(e=ut.exec(t))&&(r=at.exec(n));)(i=r.index)>o&&(i=n.slice(o,i),a[u]?a[u]+=i:a[++u]=i),(e=e[0])===(r=r[0])?a[u]?a[u]+=r:a[++u]=r:(a[++u]=null,c.push({i:u,x:it(e,r)})),o=at.lastIndex;return o<n.length&&(i=n.slice(o),a[u]?a[u]+=i:a[++u]=i),a.length<2?c[0]?function(t){return function(n){return t(n)+\"\"}}(c[0].x):function(t){return function(){return t}}(n):(n=c.length,function(t){for(var e,r=0;r<n;++r)a[(e=c[r]).i]=e.x(t);return a.join(\"\")})}function st(t,n){n||(n=[]);var e,r=t?Math.min(n.length,t.length):0,i=n.slice();return function(o){for(e=0;e<r;++e)i[e]=t[e]*(1-o)+n[e]*o;return i}}function ft(t,n){var e,r,i=typeof n;return null==n||\"boolean\"===i?J(n):(\"number\"===i?it:\"string\"===i?(e=N(n))?(n=e,tt):ct:n instanceof N?tt:n instanceof Date?rt:(r=n,!ArrayBuffer.isView(r)||r instanceof DataView?Array.isArray(n)?et:\"function\"!=typeof n.valueOf&&\"function\"!=typeof n.toString||isNaN(n)?ot:it:st))(t,n)}function lt(t,n){return t=+t,n=+n,function(e){return Math.round(t*(1-e)+n*e)}}function ht(t){return+t}var pt=[0,1];function vt(t){return t}function dt(t,n){return(n-=t=+t)?function(e){return(e-t)/n}:(e=isNaN(n)?NaN:.5,function(){return e});var e}function gt(t,n,e){var r=t[0],i=t[1],o=n[0],u=n[1];return i<r?(r=dt(i,r),o=e(u,o)):(r=dt(r,i),o=e(o,u)),function(t){return o(r(t))}}function yt(t,n,e){var r=Math.min(t.length,n.length)-1,i=new Array(r),o=new Array(r),u=-1;for(t[r]<t[0]&&(t=t.slice().reverse(),n=n.slice().reverse());++u<r;)i[u]=dt(t[u],t[u+1]),o[u]=e(n[u],n[u+1]);return function(n){var e=d(t,n,1,r)-1;return o[e](i[e](n))}}function mt(t,n){return n.domain(t.domain()).range(t.range()).interpolate(t.interpolate()).clamp(t.clamp()).unknown(t.unknown())}function _t(){return function(){var t,n,e,r,i,o,u=pt,a=pt,c=ft,s=vt;function f(){var t,n,e,c=Math.min(u.length,a.length);return s!==vt&&(t=u[0],n=u[c-1],t>n&&(e=t,t=n,n=e),s=function(e){return Math.max(t,Math.min(n,e))}),r=c>2?yt:gt,i=o=null,l}function l(n){return null==n||isNaN(n=+n)?e:(i||(i=r(u.map(t),a,c)))(t(s(n)))}return l.invert=function(e){return s(n((o||(o=r(a,u.map(t),it)))(e)))},l.domain=function(t){return arguments.length?(u=Array.from(t,ht),f()):u.slice()},l.range=function(t){return arguments.length?(a=Array.from(t),f()):a.slice()},l.rangeRound=function(t){return a=Array.from(t),c=lt,f()},l.clamp=function(t){return arguments.length?(s=!!t||vt,f()):s!==vt},l.interpolate=function(t){return arguments.length?(c=t,f()):c},l.unknown=function(t){return arguments.length?(e=t,l):e},function(e,r){return t=e,n=r,f()}}()(vt,vt)}function xt(t,n){switch(arguments.length){case 0:break;case 1:this.range(t);break;default:this.range(n).domain(t)}return this}var bt,wt=/^(?:(.)?([<>=^]))?([+\\-( ])?([$#])?(0)?(\\d+)?(,)?(\\.\\d+)?(~)?([a-z%])?$/i;function kt(t){if(!(n=wt.exec(t)))throw new Error(\"invalid format: \"+t);var n;return new St({fill:n[1],align:n[2],sign:n[3],symbol:n[4],zero:n[5],width:n[6],comma:n[7],precision:n[8]&&n[8].slice(1),trim:n[9],type:n[10]})}function St(t){this.fill=void 0===t.fill?\" \":t.fill+\"\",this.align=void 0===t.align?\">\":t.align+\"\",this.sign=void 0===t.sign?\"-\":t.sign+\"\",this.symbol=void 0===t.symbol?\"\":t.symbol+\"\",this.zero=!!t.zero,this.width=void 0===t.width?void 0:+t.width,this.comma=!!t.comma,this.precision=void 0===t.precision?void 0:+t.precision,this.trim=!!t.trim,this.type=void 0===t.type?\"\":t.type+\"\"}function Mt(t,n){if((e=(t=n?t.toExponential(n-1):t.toExponential()).indexOf(\"e\"))<0)return null;var e,r=t.slice(0,e);return[r.length>1?r[0]+r.slice(2):r,+t.slice(e+1)]}function At(t){return(t=Mt(Math.abs(t)))?t[1]:NaN}function Tt(t,n){var e=Mt(t,n);if(!e)return t+\"\";var r=e[0],i=e[1];return i<0?\"0.\"+new Array(-i).join(\"0\")+r:r.length>i+1?r.slice(0,i+1)+\".\"+r.slice(i+1):r+new Array(i-r.length+2).join(\"0\")}kt.prototype=St.prototype,St.prototype.toString=function(){return this.fill+this.align+this.sign+this.symbol+(this.zero?\"0\":\"\")+(void 0===this.width?\"\":Math.max(1,0|this.width))+(this.comma?\",\":\"\")+(void 0===this.precision?\"\":\".\"+Math.max(0,0|this.precision))+(this.trim?\"~\":\"\")+this.type};const Ot={\"%\":(t,n)=>(100*t).toFixed(n),b:t=>Math.round(t).toString(2),c:t=>t+\"\",d:function(t){return Math.abs(t=Math.round(t))>=1e21?t.toLocaleString(\"en\").replace(/,/g,\"\"):t.toString(10)},e:(t,n)=>t.toExponential(n),f:(t,n)=>t.toFixed(n),g:(t,n)=>t.toPrecision(n),o:t=>Math.round(t).toString(8),p:(t,n)=>Tt(100*t,n),r:Tt,s:function(t,n){var e=Mt(t,n);if(!e)return t+\"\";var r=e[0],i=e[1],o=i-(bt=3*Math.max(-8,Math.min(8,Math.floor(i/3))))+1,u=r.length;return o===u?r:o>u?r+new Array(o-u+1).join(\"0\"):o>0?r.slice(0,o)+\".\"+r.slice(o):\"0.\"+new Array(1-o).join(\"0\")+Mt(t,Math.max(0,n+o-1))[0]},X:t=>Math.round(t).toString(16).toUpperCase(),x:t=>Math.round(t).toString(16)};function jt(t){return t}var Et,Ct,$t,Ft=Array.prototype.map,Nt=[\"y\",\"z\",\"a\",\"f\",\"p\",\"n\",\"µ\",\"m\",\"\",\"k\",\"M\",\"G\",\"T\",\"P\",\"E\",\"Z\",\"Y\"];function Dt(t){var n=t.domain;return t.ticks=function(t){var e=n();return function(t,n,e){if(!((e=+e)>0))return[];if((t=+t)==(n=+n))return[t];const r=n<t,[i,o,a]=r?u(n,t,e):u(t,n,e);if(!(o>=i))return[];const c=o-i+1,s=new Array(c);if(r)if(a<0)for(let t=0;t<c;++t)s[t]=(o-t)/-a;else for(let t=0;t<c;++t)s[t]=(o-t)*a;else if(a<0)for(let t=0;t<c;++t)s[t]=(i+t)/-a;else for(let t=0;t<c;++t)s[t]=(i+t)*a;return s}(e[0],e[e.length-1],null==t?10:t)},t.tickFormat=function(t,e){var r=n();return function(t,n,e,r){var i,o=c(t,n,e);switch((r=kt(null==r?\",f\":r)).type){case\"s\":var u=Math.max(Math.abs(t),Math.abs(n));return null!=r.precision||isNaN(i=function(t,n){return Math.max(0,3*Math.max(-8,Math.min(8,Math.floor(At(n)/3)))-At(Math.abs(t)))}(o,u))||(r.precision=i),$t(r,u);case\"\":case\"e\":case\"g\":case\"p\":case\"r\":null!=r.precision||isNaN(i=function(t,n){return t=Math.abs(t),n=Math.abs(n)-t,Math.max(0,At(n)-At(t))+1}(o,Math.max(Math.abs(t),Math.abs(n))))||(r.precision=i-(\"e\"===r.type));break;case\"f\":case\"%\":null!=r.precision||isNaN(i=function(t){return Math.max(0,-At(Math.abs(t)))}(o))||(r.precision=i-2*(\"%\"===r.type))}return Ct(r)}(r[0],r[r.length-1],null==t?10:t,e)},t.nice=function(e){null==e&&(e=10);var r,i,o=n(),u=0,c=o.length-1,s=o[u],f=o[c],l=10;for(f<s&&(i=s,s=f,f=i,i=u,u=c,c=i);l-- >0;){if((i=a(s,f,e))===r)return o[u]=s,o[c]=f,n(o);if(i>0)s=Math.floor(s/i)*i,f=Math.ceil(f/i)*i;else{if(!(i<0))break;s=Math.ceil(s*i)/i,f=Math.floor(f*i)/i}r=i}return t},t}function Lt(){var t=_t();return t.copy=function(){return mt(t,Lt())},xt.apply(t,arguments),Dt(t)}Et=function(t){var n,e,r=void 0===t.grouping||void 0===t.thousands?jt:(n=Ft.call(t.grouping,Number),e=t.thousands+\"\",function(t,r){for(var i=t.length,o=[],u=0,a=n[0],c=0;i>0&&a>0&&(c+a+1>r&&(a=Math.max(1,r-c)),o.push(t.substring(i-=a,i+a)),!((c+=a+1)>r));)a=n[u=(u+1)%n.length];return o.reverse().join(e)}),i=void 0===t.currency?\"\":t.currency[0]+\"\",o=void 0===t.currency?\"\":t.currency[1]+\"\",u=void 0===t.decimal?\".\":t.decimal+\"\",a=void 0===t.numerals?jt:function(t){return function(n){return n.replace(/[0-9]/g,(function(n){return t[+n]}))}}(Ft.call(t.numerals,String)),c=void 0===t.percent?\"%\":t.percent+\"\",s=void 0===t.minus?\"−\":t.minus+\"\",f=void 0===t.nan?\"NaN\":t.nan+\"\";function l(t){var n=(t=kt(t)).fill,e=t.align,l=t.sign,h=t.symbol,p=t.zero,v=t.width,d=t.comma,g=t.precision,y=t.trim,m=t.type;\"n\"===m?(d=!0,m=\"g\"):Ot[m]||(void 0===g&&(g=12),y=!0,m=\"g\"),(p||\"0\"===n&&\"=\"===e)&&(p=!0,n=\"0\",e=\"=\");var _=\"$\"===h?i:\"#\"===h&&/[boxX]/.test(m)?\"0\"+m.toLowerCase():\"\",x=\"$\"===h?o:/[%p]/.test(m)?c:\"\",b=Ot[m],w=/[defgprs%]/.test(m);function k(t){var i,o,c,h=_,k=x;if(\"c\"===m)k=b(t)+k,t=\"\";else{var S=(t=+t)<0||1/t<0;if(t=isNaN(t)?f:b(Math.abs(t),g),y&&(t=function(t){t:for(var n,e=t.length,r=1,i=-1;r<e;++r)switch(t[r]){case\".\":i=n=r;break;case\"0\":0===i&&(i=r),n=r;break;default:if(!+t[r])break t;i>0&&(i=0)}return i>0?t.slice(0,i)+t.slice(n+1):t}(t)),S&&0==+t&&\"+\"!==l&&(S=!1),h=(S?\"(\"===l?l:s:\"-\"===l||\"(\"===l?\"\":l)+h,k=(\"s\"===m?Nt[8+bt/3]:\"\")+k+(S&&\"(\"===l?\")\":\"\"),w)for(i=-1,o=t.length;++i<o;)if(48>(c=t.charCodeAt(i))||c>57){k=(46===c?u+t.slice(i+1):t.slice(i))+k,t=t.slice(0,i);break}}d&&!p&&(t=r(t,1/0));var M=h.length+t.length+k.length,A=M<v?new Array(v-M+1).join(n):\"\";switch(d&&p&&(t=r(A+t,A.length?v-k.length:1/0),A=\"\"),e){case\"<\":t=h+t+k+A;break;case\"=\":t=h+A+t+k;break;case\"^\":t=A.slice(0,M=A.length>>1)+h+t+k+A.slice(M);break;default:t=A+h+t+k}return a(t)}return g=void 0===g?6:/[gprs]/.test(m)?Math.max(1,Math.min(21,g)):Math.max(0,Math.min(20,g)),k.toString=function(){return t+\"\"},k}return{format:l,formatPrefix:function(t,n){var e=l(((t=kt(t)).type=\"f\",t)),r=3*Math.max(-8,Math.min(8,Math.floor(At(n)/3))),i=Math.pow(10,-r),o=Nt[8+r/3];return function(t){return e(i*t)+o}}}}({thousands:\",\",grouping:[3],currency:[\"$\",\"\"]}),Ct=Et.format,$t=Et.formatPrefix;var Ut=e(543);const Rt={colors:{RdBu:[\"rgb(255, 13, 87)\",\"rgb(30, 136, 229)\"],GnPR:[\"rgb(24, 196, 93)\",\"rgb(124, 82, 255)\"],CyPU:[\"#0099C6\",\"#990099\"],PkYg:[\"#DD4477\",\"#66AA00\"],DrDb:[\"#B82E2E\",\"#316395\"],LpLb:[\"#994499\",\"#22AA99\"],YlDp:[\"#AAAA11\",\"#6633CC\"],OrId:[\"#E67300\",\"#3E0099\"]},gray:\"#777\"};function Pt(t){return Pt=\"function\"==typeof Symbol&&\"symbol\"==typeof Symbol.iterator?function(t){return typeof t}:function(t){return t&&\"function\"==typeof Symbol&&t.constructor===Symbol&&t!==Symbol.prototype?\"symbol\":typeof t},Pt(t)}function zt(t,n){for(var e=0;e<n.length;e++){var r=n[e];r.enumerable=r.enumerable||!1,r.configurable=!0,\"value\"in r&&(r.writable=!0),Object.defineProperty(t,It(r.key),r)}}function It(t){var n=function(t){if(\"object\"!=Pt(t)||!t)return t;var n=t[Symbol.toPrimitive];if(void 0!==n){var e=n.call(t,\"string\");if(\"object\"!=Pt(e))return e;throw new TypeError(\"@@toPrimitive must return a primitive value.\")}return String(t)}(t);return\"symbol\"==Pt(n)?n:n+\"\"}function Bt(){try{var t=!Boolean.prototype.valueOf.call(Reflect.construct(Boolean,[],(function(){})))}catch(t){}return(Bt=function(){return!!t})()}function Ht(t){return Ht=Object.setPrototypeOf?Object.getPrototypeOf.bind():function(t){return t.__proto__||Object.getPrototypeOf(t)},Ht(t)}function Wt(t,n){return Wt=Object.setPrototypeOf?Object.setPrototypeOf.bind():function(t,n){return t.__proto__=n,t},Wt(t,n)}var Vt=function(n){function e(){var t;return function(t,n){if(!(t instanceof n))throw new TypeError(\"Cannot call a class as a function\")}(this,e),(t=function(t,n,e){return n=Ht(n),function(t,n){if(n&&(\"object\"==Pt(n)||\"function\"==typeof n))return n;if(void 0!==n)throw new TypeError(\"Derived constructors may only return object or undefined\");return function(t){if(void 0===t)throw new ReferenceError(\"this hasn't been initialised - super() hasn't been called\");return t}(t)}(t,Bt()?Reflect.construct(n,e||[],Ht(t).constructor):n.apply(t,e))}(this,e)).width=100,window.lastSimpleListInstance=t,t.effectFormat=Ct(\".2\"),t}return function(t,n){if(\"function\"!=typeof n&&null!==n)throw new TypeError(\"Super expression must either be null or a function\");t.prototype=Object.create(n&&n.prototype,{constructor:{value:t,writable:!0,configurable:!0}}),Object.defineProperty(t,\"prototype\",{writable:!1}),n&&Wt(t,n)}(e,n),r=e,(i=[{key:\"render\",value:function(){var n=this,e=void 0;\"string\"==typeof this.props.plot_cmap?this.props.plot_cmap in Rt.colors?e=Rt.colors[this.props.plot_cmap]:(console.log(\"Invalid color map name, reverting to default.\"),e=Rt.colors.RdBu):Array.isArray(this.props.plot_cmap)&&(e=this.props.plot_cmap),console.log(this.props.features,this.props.features),this.scale=Lt().domain([0,(0,Ut.max)((0,Ut.map)(this.props.features,(function(t){return Math.abs(t.effect)})))]).range([0,this.width]);var r=(0,Ut.reverse)((0,Ut.sortBy)(Object.keys(this.props.features),(function(t){return Math.abs(n.props.features[t].effect)}))).map((function(r){var i,o,u=n.props.features[r],a=n.props.featureNames[r],c={width:n.scale(Math.abs(u.effect)),height:\"20px\",background:u.effect<0?e[0]:e[1],display:\"inline-block\"},s={lineHeight:\"20px\",display:\"inline-block\",width:n.width+40,verticalAlign:\"top\",marginRight:\"5px\",textAlign:\"right\"},f={lineHeight:\"20px\",display:\"inline-block\",width:n.width+40,verticalAlign:\"top\",marginLeft:\"5px\"};return u.effect<0?(o=t.createElement(\"span\",{style:f},a),s.width=40+n.width-n.scale(Math.abs(u.effect)),s.textAlign=\"right\",s.color=\"#999\",s.fontSize=\"13px\",i=t.createElement(\"span\",{style:s},n.effectFormat(u.effect))):(s.textAlign=\"right\",i=t.createElement(\"span\",{style:s},a),f.width=40,f.textAlign=\"left\",f.color=\"#999\",f.fontSize=\"13px\",o=t.createElement(\"span\",{style:f},n.effectFormat(u.effect))),t.createElement(\"div\",{key:r,style:{marginTop:\"2px\"}},i,t.createElement(\"div\",{style:c}),o)}));return t.createElement(\"span\",null,r)}}])&&zt(r.prototype,i),Object.defineProperty(r,\"prototype\",{writable:!1}),r;var r,i}(t.Component);Vt.defaultProps={plot_cmap:\"RdBu\"};const Yt=Vt;function qt(){}function Gt(t){return null==t?qt:function(){return this.querySelector(t)}}function Zt(){return[]}function Xt(t){return function(n){return n.matches(t)}}var Kt=Array.prototype.find;function Jt(){return this.firstElementChild}var Qt=Array.prototype.filter;function tn(){return Array.from(this.children)}function nn(t){return new Array(t.length)}function en(t,n){this.ownerDocument=t.ownerDocument,this.namespaceURI=t.namespaceURI,this._next=null,this._parent=t,this.__data__=n}function rn(t,n,e,r,i,o){for(var u,a=0,c=n.length,s=o.length;a<s;++a)(u=n[a])?(u.__data__=o[a],r[a]=u):e[a]=new en(t,o[a]);for(;a<c;++a)(u=n[a])&&(i[a]=u)}function on(t,n,e,r,i,o,u){var a,c,s,f=new Map,l=n.length,h=o.length,p=new Array(l);for(a=0;a<l;++a)(c=n[a])&&(p[a]=s=u.call(c,c.__data__,a,n)+\"\",f.has(s)?i[a]=c:f.set(s,c));for(a=0;a<h;++a)s=u.call(t,o[a],a,o)+\"\",(c=f.get(s))?(r[a]=c,c.__data__=o[a],f.delete(s)):e[a]=new en(t,o[a]);for(a=0;a<l;++a)(c=n[a])&&f.get(p[a])===c&&(i[a]=c)}function un(t){return t.__data__}function an(t){return\"object\"==typeof t&&\"length\"in t?t:Array.from(t)}function cn(t,n){return t<n?-1:t>n?1:t>=n?0:NaN}en.prototype={constructor:en,appendChild:function(t){return this._parent.insertBefore(t,this._next)},insertBefore:function(t,n){return this._parent.insertBefore(t,n)},querySelector:function(t){return this._parent.querySelector(t)},querySelectorAll:function(t){return this._parent.querySelectorAll(t)}};var sn=\"http://www.w3.org/1999/xhtml\";const fn={svg:\"http://www.w3.org/2000/svg\",xhtml:sn,xlink:\"http://www.w3.org/1999/xlink\",xml:\"http://www.w3.org/XML/1998/namespace\",xmlns:\"http://www.w3.org/2000/xmlns/\"};function ln(t){var n=t+=\"\",e=n.indexOf(\":\");return e>=0&&\"xmlns\"!==(n=t.slice(0,e))&&(t=t.slice(e+1)),fn.hasOwnProperty(n)?{space:fn[n],local:t}:t}function hn(t){return function(){this.removeAttribute(t)}}function pn(t){return function(){this.removeAttributeNS(t.space,t.local)}}function vn(t,n){return function(){this.setAttribute(t,n)}}function dn(t,n){return function(){this.setAttributeNS(t.space,t.local,n)}}function gn(t,n){return function(){var e=n.apply(this,arguments);null==e?this.removeAttribute(t):this.setAttribute(t,e)}}function yn(t,n){return function(){var e=n.apply(this,arguments);null==e?this.removeAttributeNS(t.space,t.local):this.setAttributeNS(t.space,t.local,e)}}function mn(t){return t.ownerDocument&&t.ownerDocument.defaultView||t.document&&t||t.defaultView}function _n(t){return function(){this.style.removeProperty(t)}}function xn(t,n,e){return function(){this.style.setProperty(t,n,e)}}function bn(t,n,e){return function(){var r=n.apply(this,arguments);null==r?this.style.removeProperty(t):this.style.setProperty(t,r,e)}}function wn(t){return function(){delete this[t]}}function kn(t,n){return function(){this[t]=n}}function Sn(t,n){return function(){var e=n.apply(this,arguments);null==e?delete this[t]:this[t]=e}}function Mn(t){return t.trim().split(/^|\\s+/)}function An(t){return t.classList||new Tn(t)}function Tn(t){this._node=t,this._names=Mn(t.getAttribute(\"class\")||\"\")}function On(t,n){for(var e=An(t),r=-1,i=n.length;++r<i;)e.add(n[r])}function jn(t,n){for(var e=An(t),r=-1,i=n.length;++r<i;)e.remove(n[r])}function En(t){return function(){On(this,t)}}function Cn(t){return function(){jn(this,t)}}function $n(t,n){return function(){(n.apply(this,arguments)?On:jn)(this,t)}}function Fn(){this.textContent=\"\"}function Nn(t){return function(){this.textContent=t}}function Dn(t){return function(){var n=t.apply(this,arguments);this.textContent=null==n?\"\":n}}function Ln(){this.innerHTML=\"\"}function Un(t){return function(){this.innerHTML=t}}function Rn(t){return function(){var n=t.apply(this,arguments);this.innerHTML=null==n?\"\":n}}function Pn(){this.nextSibling&&this.parentNode.appendChild(this)}function zn(){this.previousSibling&&this.parentNode.insertBefore(this,this.parentNode.firstChild)}function In(t){return function(){var n=this.ownerDocument,e=this.namespaceURI;return e===sn&&n.documentElement.namespaceURI===sn?n.createElement(t):n.createElementNS(e,t)}}function Bn(t){return function(){return this.ownerDocument.createElementNS(t.space,t.local)}}function Hn(t){var n=ln(t);return(n.local?Bn:In)(n)}function Wn(){return null}function Vn(){var t=this.parentNode;t&&t.removeChild(this)}function Yn(){var t=this.cloneNode(!1),n=this.parentNode;return n?n.insertBefore(t,this.nextSibling):t}function qn(){var t=this.cloneNode(!0),n=this.parentNode;return n?n.insertBefore(t,this.nextSibling):t}function Gn(t){return function(){var n=this.__on;if(n){for(var e,r=0,i=-1,o=n.length;r<o;++r)e=n[r],t.type&&e.type!==t.type||e.name!==t.name?n[++i]=e:this.removeEventListener(e.type,e.listener,e.options);++i?n.length=i:delete this.__on}}}function Zn(t,n,e){return function(){var r,i=this.__on,o=function(t){return function(n){t.call(this,n,this.__data__)}}(n);if(i)for(var u=0,a=i.length;u<a;++u)if((r=i[u]).type===t.type&&r.name===t.name)return this.removeEventListener(r.type,r.listener,r.options),this.addEventListener(r.type,r.listener=o,r.options=e),void(r.value=n);this.addEventListener(t.type,o,e),r={type:t.type,name:t.name,value:n,listener:o,options:e},i?i.push(r):this.__on=[r]}}function Xn(t,n,e){var r=mn(t),i=r.CustomEvent;\"function\"==typeof i?i=new i(n,e):(i=r.document.createEvent(\"Event\"),e?(i.initEvent(n,e.bubbles,e.cancelable),i.detail=e.detail):i.initEvent(n,!1,!1)),t.dispatchEvent(i)}function Kn(t,n){return function(){return Xn(this,t,n)}}function Jn(t,n){return function(){return Xn(this,t,n.apply(this,arguments))}}Tn.prototype={add:function(t){this._names.indexOf(t)<0&&(this._names.push(t),this._node.setAttribute(\"class\",this._names.join(\" \")))},remove:function(t){var n=this._names.indexOf(t);n>=0&&(this._names.splice(n,1),this._node.setAttribute(\"class\",this._names.join(\" \")))},contains:function(t){return this._names.indexOf(t)>=0}};var Qn=[null];function te(t,n){this._groups=t,this._parents=n}function ne(t){return\"string\"==typeof t?new te([[document.querySelector(t)]],[document.documentElement]):new te([[t]],Qn)}function ee(t){return t}te.prototype=function(){return new te([[document.documentElement]],Qn)}.prototype={constructor:te,select:function(t){\"function\"!=typeof t&&(t=Gt(t));for(var n=this._groups,e=n.length,r=new Array(e),i=0;i<e;++i)for(var o,u,a=n[i],c=a.length,s=r[i]=new Array(c),f=0;f<c;++f)(o=a[f])&&(u=t.call(o,o.__data__,f,a))&&(\"__data__\"in o&&(u.__data__=o.__data__),s[f]=u);return new te(r,this._parents)},selectAll:function(t){t=\"function\"==typeof t?function(t){return function(){return null==(n=t.apply(this,arguments))?[]:Array.isArray(n)?n:Array.from(n);var n}}(t):function(t){return null==t?Zt:function(){return this.querySelectorAll(t)}}(t);for(var n=this._groups,e=n.length,r=[],i=[],o=0;o<e;++o)for(var u,a=n[o],c=a.length,s=0;s<c;++s)(u=a[s])&&(r.push(t.call(u,u.__data__,s,a)),i.push(u));return new te(r,i)},selectChild:function(t){return this.select(null==t?Jt:function(t){return function(){return Kt.call(this.children,t)}}(\"function\"==typeof t?t:Xt(t)))},selectChildren:function(t){return this.selectAll(null==t?tn:function(t){return function(){return Qt.call(this.children,t)}}(\"function\"==typeof t?t:Xt(t)))},filter:function(t){\"function\"!=typeof t&&(t=function(t){return function(){return this.matches(t)}}(t));for(var n=this._groups,e=n.length,r=new Array(e),i=0;i<e;++i)for(var o,u=n[i],a=u.length,c=r[i]=[],s=0;s<a;++s)(o=u[s])&&t.call(o,o.__data__,s,u)&&c.push(o);return new te(r,this._parents)},data:function(t,n){if(!arguments.length)return Array.from(this,un);var e,r=n?on:rn,i=this._parents,o=this._groups;\"function\"!=typeof t&&(e=t,t=function(){return e});for(var u=o.length,a=new Array(u),c=new Array(u),s=new Array(u),f=0;f<u;++f){var l=i[f],h=o[f],p=h.length,v=an(t.call(l,l&&l.__data__,f,i)),d=v.length,g=c[f]=new Array(d),y=a[f]=new Array(d);r(l,h,g,y,s[f]=new Array(p),v,n);for(var m,_,x=0,b=0;x<d;++x)if(m=g[x]){for(x>=b&&(b=x+1);!(_=y[b])&&++b<d;);m._next=_||null}}return(a=new te(a,i))._enter=c,a._exit=s,a},enter:function(){return new te(this._enter||this._groups.map(nn),this._parents)},exit:function(){return new te(this._exit||this._groups.map(nn),this._parents)},join:function(t,n,e){var r=this.enter(),i=this,o=this.exit();return\"function\"==typeof t?(r=t(r))&&(r=r.selection()):r=r.append(t+\"\"),null!=n&&(i=n(i))&&(i=i.selection()),null==e?o.remove():e(o),r&&i?r.merge(i).order():i},merge:function(t){for(var n=t.selection?t.selection():t,e=this._groups,r=n._groups,i=e.length,o=r.length,u=Math.min(i,o),a=new Array(i),c=0;c<u;++c)for(var s,f=e[c],l=r[c],h=f.length,p=a[c]=new Array(h),v=0;v<h;++v)(s=f[v]||l[v])&&(p[v]=s);for(;c<i;++c)a[c]=e[c];return new te(a,this._parents)},selection:function(){return this},order:function(){for(var t=this._groups,n=-1,e=t.length;++n<e;)for(var r,i=t[n],o=i.length-1,u=i[o];--o>=0;)(r=i[o])&&(u&&4^r.compareDocumentPosition(u)&&u.parentNode.insertBefore(r,u),u=r);return this},sort:function(t){function n(n,e){return n&&e?t(n.__data__,e.__data__):!n-!e}t||(t=cn);for(var e=this._groups,r=e.length,i=new Array(r),o=0;o<r;++o){for(var u,a=e[o],c=a.length,s=i[o]=new Array(c),f=0;f<c;++f)(u=a[f])&&(s[f]=u);s.sort(n)}return new te(i,this._parents).order()},call:function(){var t=arguments[0];return arguments[0]=this,t.apply(null,arguments),this},nodes:function(){return Array.from(this)},node:function(){for(var t=this._groups,n=0,e=t.length;n<e;++n)for(var r=t[n],i=0,o=r.length;i<o;++i){var u=r[i];if(u)return u}return null},size:function(){let t=0;for(const n of this)++t;return t},empty:function(){return!this.node()},each:function(t){for(var n=this._groups,e=0,r=n.length;e<r;++e)for(var i,o=n[e],u=0,a=o.length;u<a;++u)(i=o[u])&&t.call(i,i.__data__,u,o);return this},attr:function(t,n){var e=ln(t);if(arguments.length<2){var r=this.node();return e.local?r.getAttributeNS(e.space,e.local):r.getAttribute(e)}return this.each((null==n?e.local?pn:hn:\"function\"==typeof n?e.local?yn:gn:e.local?dn:vn)(e,n))},style:function(t,n,e){return arguments.length>1?this.each((null==n?_n:\"function\"==typeof n?bn:xn)(t,n,null==e?\"\":e)):function(t,n){return t.style.getPropertyValue(n)||mn(t).getComputedStyle(t,null).getPropertyValue(n)}(this.node(),t)},property:function(t,n){return arguments.length>1?this.each((null==n?wn:\"function\"==typeof n?Sn:kn)(t,n)):this.node()[t]},classed:function(t,n){var e=Mn(t+\"\");if(arguments.length<2){for(var r=An(this.node()),i=-1,o=e.length;++i<o;)if(!r.contains(e[i]))return!1;return!0}return this.each((\"function\"==typeof n?$n:n?En:Cn)(e,n))},text:function(t){return arguments.length?this.each(null==t?Fn:(\"function\"==typeof t?Dn:Nn)(t)):this.node().textContent},html:function(t){return arguments.length?this.each(null==t?Ln:(\"function\"==typeof t?Rn:Un)(t)):this.node().innerHTML},raise:function(){return this.each(Pn)},lower:function(){return this.each(zn)},append:function(t){var n=\"function\"==typeof t?t:Hn(t);return this.select((function(){return this.appendChild(n.apply(this,arguments))}))},insert:function(t,n){var e=\"function\"==typeof t?t:Hn(t),r=null==n?Wn:\"function\"==typeof n?n:Gt(n);return this.select((function(){return this.insertBefore(e.apply(this,arguments),r.apply(this,arguments)||null)}))},remove:function(){return this.each(Vn)},clone:function(t){return this.select(t?qn:Yn)},datum:function(t){return arguments.length?this.property(\"__data__\",t):this.node().__data__},on:function(t,n,e){var r,i,o=function(t){return t.trim().split(/^|\\s+/).map((function(t){var n=\"\",e=t.indexOf(\".\");return e>=0&&(n=t.slice(e+1),t=t.slice(0,e)),{type:t,name:n}}))}(t+\"\"),u=o.length;if(!(arguments.length<2)){for(a=n?Zn:Gn,r=0;r<u;++r)this.each(a(o[r],n,e));return this}var a=this.node().__on;if(a)for(var c,s=0,f=a.length;s<f;++s)for(r=0,c=a[s];r<u;++r)if((i=o[r]).type===c.type&&i.name===c.name)return c.value},dispatch:function(t,n){return this.each((\"function\"==typeof n?Jn:Kn)(t,n))},[Symbol.iterator]:function*(){for(var t=this._groups,n=0,e=t.length;n<e;++n)for(var r,i=t[n],o=0,u=i.length;o<u;++o)(r=i[o])&&(yield r)}};var re=1e-6;function ie(t){return\"translate(\"+t+\",0)\"}function oe(t){return\"translate(0,\"+t+\")\"}function ue(t){return n=>+t(n)}function ae(t,n){return n=Math.max(0,t.bandwidth()-2*n)/2,t.round()&&(n=Math.round(n)),e=>+t(e)+n}function ce(){return!this.__axis}function se(t,n){var e=[],r=null,i=null,o=6,u=6,a=3,c=\"undefined\"!=typeof window&&window.devicePixelRatio>1?0:.5,s=1===t||4===t?-1:1,f=4===t||2===t?\"x\":\"y\",l=1===t||3===t?ie:oe;function h(h){var p=null==r?n.ticks?n.ticks.apply(n,e):n.domain():r,v=null==i?n.tickFormat?n.tickFormat.apply(n,e):ee:i,d=Math.max(o,0)+a,g=n.range(),y=+g[0]+c,m=+g[g.length-1]+c,_=(n.bandwidth?ae:ue)(n.copy(),c),x=h.selection?h.selection():h,b=x.selectAll(\".domain\").data([null]),w=x.selectAll(\".tick\").data(p,n).order(),k=w.exit(),S=w.enter().append(\"g\").attr(\"class\",\"tick\"),M=w.select(\"line\"),A=w.select(\"text\");b=b.merge(b.enter().insert(\"path\",\".tick\").attr(\"class\",\"domain\").attr(\"stroke\",\"currentColor\")),w=w.merge(S),M=M.merge(S.append(\"line\").attr(\"stroke\",\"currentColor\").attr(f+\"2\",s*o)),A=A.merge(S.append(\"text\").attr(\"fill\",\"currentColor\").attr(f,s*d).attr(\"dy\",1===t?\"0em\":3===t?\"0.71em\":\"0.32em\")),h!==x&&(b=b.transition(h),w=w.transition(h),M=M.transition(h),A=A.transition(h),k=k.transition(h).attr(\"opacity\",re).attr(\"transform\",(function(t){return isFinite(t=_(t))?l(t+c):this.getAttribute(\"transform\")})),S.attr(\"opacity\",re).attr(\"transform\",(function(t){var n=this.parentNode.__axis;return l((n&&isFinite(n=n(t))?n:_(t))+c)}))),k.remove(),b.attr(\"d\",4===t||2===t?u?\"M\"+s*u+\",\"+y+\"H\"+c+\"V\"+m+\"H\"+s*u:\"M\"+c+\",\"+y+\"V\"+m:u?\"M\"+y+\",\"+s*u+\"V\"+c+\"H\"+m+\"V\"+s*u:\"M\"+y+\",\"+c+\"H\"+m),w.attr(\"opacity\",1).attr(\"transform\",(function(t){return l(_(t)+c)})),M.attr(f+\"2\",s*o),A.attr(f,s*d).text(v),x.filter(ce).attr(\"fill\",\"none\").attr(\"font-size\",10).attr(\"font-family\",\"sans-serif\").attr(\"text-anchor\",2===t?\"start\":4===t?\"end\":\"middle\"),x.each((function(){this.__axis=_}))}return h.scale=function(t){return arguments.length?(n=t,h):n},h.ticks=function(){return e=Array.from(arguments),h},h.tickArguments=function(t){return arguments.length?(e=null==t?[]:Array.from(t),h):e.slice()},h.tickValues=function(t){return arguments.length?(r=null==t?null:Array.from(t),h):r&&r.slice()},h.tickFormat=function(t){return arguments.length?(i=t,h):i},h.tickSize=function(t){return arguments.length?(o=u=+t,h):o},h.tickSizeInner=function(t){return arguments.length?(o=+t,h):o},h.tickSizeOuter=function(t){return arguments.length?(u=+t,h):u},h.tickPadding=function(t){return arguments.length?(a=+t,h):a},h.offset=function(t){return arguments.length?(c=+t,h):c},h}function fe(t){return se(3,t)}function le(t){return function(){return t}}function he(t){this._context=t}function pe(t){return new he(t)}Array.prototype.slice,he.prototype={areaStart:function(){this._line=0},areaEnd:function(){this._line=NaN},lineStart:function(){this._point=0},lineEnd:function(){(this._line||0!==this._line&&1===this._point)&&this._context.closePath(),this._line=1-this._line},point:function(t,n){switch(t=+t,n=+n,this._point){case 0:this._point=1,this._line?this._context.lineTo(t,n):this._context.moveTo(t,n);break;case 1:this._point=2;default:this._context.lineTo(t,n)}}};const ve=Math.PI,de=2*ve,ge=1e-6,ye=de-ge;function me(t){this._+=t[0];for(let n=1,e=t.length;n<e;++n)this._+=arguments[n]+t[n]}class _e{constructor(t){this._x0=this._y0=this._x1=this._y1=null,this._=\"\",this._append=null==t?me:function(t){let n=Math.floor(t);if(!(n>=0))throw new Error(`invalid digits: ${t}`);if(n>15)return me;const e=10**n;return function(t){this._+=t[0];for(let n=1,r=t.length;n<r;++n)this._+=Math.round(arguments[n]*e)/e+t[n]}}(t)}moveTo(t,n){this._append`M${this._x0=this._x1=+t},${this._y0=this._y1=+n}`}closePath(){null!==this._x1&&(this._x1=this._x0,this._y1=this._y0,this._append`Z`)}lineTo(t,n){this._append`L${this._x1=+t},${this._y1=+n}`}quadraticCurveTo(t,n,e,r){this._append`Q${+t},${+n},${this._x1=+e},${this._y1=+r}`}bezierCurveTo(t,n,e,r,i,o){this._append`C${+t},${+n},${+e},${+r},${this._x1=+i},${this._y1=+o}`}arcTo(t,n,e,r,i){if(t=+t,n=+n,e=+e,r=+r,(i=+i)<0)throw new Error(`negative radius: ${i}`);let o=this._x1,u=this._y1,a=e-t,c=r-n,s=o-t,f=u-n,l=s*s+f*f;if(null===this._x1)this._append`M${this._x1=t},${this._y1=n}`;else if(l>ge)if(Math.abs(f*a-c*s)>ge&&i){let h=e-o,p=r-u,v=a*a+c*c,d=h*h+p*p,g=Math.sqrt(v),y=Math.sqrt(l),m=i*Math.tan((ve-Math.acos((v+l-d)/(2*g*y)))/2),_=m/y,x=m/g;Math.abs(_-1)>ge&&this._append`L${t+_*s},${n+_*f}`,this._append`A${i},${i},0,0,${+(f*h>s*p)},${this._x1=t+x*a},${this._y1=n+x*c}`}else this._append`L${this._x1=t},${this._y1=n}`}arc(t,n,e,r,i,o){if(t=+t,n=+n,o=!!o,(e=+e)<0)throw new Error(`negative radius: ${e}`);let u=e*Math.cos(r),a=e*Math.sin(r),c=t+u,s=n+a,f=1^o,l=o?r-i:i-r;null===this._x1?this._append`M${c},${s}`:(Math.abs(this._x1-c)>ge||Math.abs(this._y1-s)>ge)&&this._append`L${c},${s}`,e&&(l<0&&(l=l%de+de),l>ye?this._append`A${e},${e},0,1,${f},${t-u},${n-a}A${e},${e},0,1,${f},${this._x1=c},${this._y1=s}`:l>ge&&this._append`A${e},${e},0,${+(l>=ve)},${f},${this._x1=t+e*Math.cos(i)},${this._y1=n+e*Math.sin(i)}`)}rect(t,n,e,r){this._append`M${this._x0=this._x1=+t},${this._y0=this._y1=+n}h${e=+e}v${+r}h${-e}Z`}toString(){return this._}}function xe(t){return t[0]}function be(t){return t[1]}function we(t,n){var e=le(!0),r=null,i=pe,o=null,u=function(t){let n=3;return t.digits=function(e){if(!arguments.length)return n;if(null==e)n=null;else{const t=Math.floor(e);if(!(t>=0))throw new RangeError(`invalid digits: ${e}`);n=t}return t},()=>new _e(n)}(a);function a(a){var c,s,f,l=(a=function(t){return\"object\"==typeof t&&\"length\"in t?t:Array.from(t)}(a)).length,h=!1;for(null==r&&(o=i(f=u())),c=0;c<=l;++c)!(c<l&&e(s=a[c],c,a))===h&&((h=!h)?o.lineStart():o.lineEnd()),h&&o.point(+t(s,c,a),+n(s,c,a));if(f)return o=null,f+\"\"||null}return t=\"function\"==typeof t?t:void 0===t?xe:le(t),n=\"function\"==typeof n?n:void 0===n?be:le(n),a.x=function(n){return arguments.length?(t=\"function\"==typeof n?n:le(+n),a):t},a.y=function(t){return arguments.length?(n=\"function\"==typeof t?t:le(+t),a):n},a.defined=function(t){return arguments.length?(e=\"function\"==typeof t?t:le(!!t),a):e},a.curve=function(t){return arguments.length?(i=t,null!=r&&(o=i(r)),a):i},a.context=function(t){return arguments.length?(null==t?r=o=null:o=i(r=t),a):r},a}function ke(t){return ke=\"function\"==typeof Symbol&&\"symbol\"==typeof Symbol.iterator?function(t){return typeof t}:function(t){return t&&\"function\"==typeof Symbol&&t.constructor===Symbol&&t!==Symbol.prototype?\"symbol\":typeof t},ke(t)}function Se(t,n){for(var e=0;e<n.length;e++){var r=n[e];r.enumerable=r.enumerable||!1,r.configurable=!0,\"value\"in r&&(r.writable=!0),Object.defineProperty(t,Me(r.key),r)}}function Me(t){var n=function(t){if(\"object\"!=ke(t)||!t)return t;var n=t[Symbol.toPrimitive];if(void 0!==n){var e=n.call(t,\"string\");if(\"object\"!=ke(e))return e;throw new TypeError(\"@@toPrimitive must return a primitive value.\")}return String(t)}(t);return\"symbol\"==ke(n)?n:n+\"\"}function Ae(){try{var t=!Boolean.prototype.valueOf.call(Reflect.construct(Boolean,[],(function(){})))}catch(t){}return(Ae=function(){return!!t})()}function Te(t){return Te=Object.setPrototypeOf?Object.getPrototypeOf.bind():function(t){return t.__proto__||Object.getPrototypeOf(t)},Te(t)}function Oe(t,n){return Oe=Object.setPrototypeOf?Object.setPrototypeOf.bind():function(t,n){return t.__proto__=n,t},Oe(t,n)}var je=function(n){function e(){var t;return function(t,n){if(!(t instanceof n))throw new TypeError(\"Cannot call a class as a function\")}(this,e),t=function(t,n,e){return n=Te(n),function(t,n){if(n&&(\"object\"==ke(n)||\"function\"==typeof n))return n;if(void 0!==n)throw new TypeError(\"Derived constructors may only return object or undefined\");return function(t){if(void 0===t)throw new ReferenceError(\"this hasn't been initialised - super() hasn't been called\");return t}(t)}(t,Ae()?Reflect.construct(n,e||[],Te(t).constructor):n.apply(t,e))}(this,e),window.lastAdditiveForceVisualizer=t,t.effectFormat=Ct(\".2\"),t.redraw=(0,Ut.debounce)((function(){return t.draw()}),200),t}return function(t,n){if(\"function\"!=typeof n&&null!==n)throw new TypeError(\"Super expression must either be null or a function\");t.prototype=Object.create(n&&n.prototype,{constructor:{value:t,writable:!0,configurable:!0}}),Object.defineProperty(t,\"prototype\",{writable:!1}),n&&Oe(t,n)}(e,n),r=e,(i=[{key:\"componentDidMount\",value:function(){var t=this;this.mainGroup=this.svg.append(\"g\"),this.axisElement=this.mainGroup.append(\"g\").attr(\"transform\",\"translate(0,35)\").attr(\"class\",\"force-bar-axis\"),this.onTopGroup=this.svg.append(\"g\"),this.baseValueTitle=this.svg.append(\"text\"),this.joinPointLine=this.svg.append(\"line\"),this.joinPointLabelOutline=this.svg.append(\"text\"),this.joinPointLabel=this.svg.append(\"text\"),this.joinPointTitleLeft=this.svg.append(\"text\"),this.joinPointTitleLeftArrow=this.svg.append(\"text\"),this.joinPointTitle=this.svg.append(\"text\"),this.joinPointTitleRightArrow=this.svg.append(\"text\"),this.joinPointTitleRight=this.svg.append(\"text\"),this.hoverLabelBacking=this.svg.append(\"text\").attr(\"x\",10).attr(\"y\",20).attr(\"text-anchor\",\"middle\").attr(\"font-size\",12).attr(\"stroke\",\"#fff\").attr(\"fill\",\"#fff\").attr(\"stroke-width\",\"4\").attr(\"stroke-linejoin\",\"round\").text(\"\").on(\"mouseover\",(function(){t.hoverLabel.attr(\"opacity\",1),t.hoverLabelBacking.attr(\"opacity\",1)})).on(\"mouseout\",(function(){t.hoverLabel.attr(\"opacity\",0),t.hoverLabelBacking.attr(\"opacity\",0)})),this.hoverLabel=this.svg.append(\"text\").attr(\"x\",10).attr(\"y\",20).attr(\"text-anchor\",\"middle\").attr(\"font-size\",12).attr(\"fill\",\"#0f0\").text(\"\").on(\"mouseover\",(function(){t.hoverLabel.attr(\"opacity\",1),t.hoverLabelBacking.attr(\"opacity\",1)})).on(\"mouseout\",(function(){t.hoverLabel.attr(\"opacity\",0),t.hoverLabelBacking.attr(\"opacity\",0)}));var n=void 0;\"string\"==typeof this.props.plot_cmap?this.props.plot_cmap in Rt.colors?n=Rt.colors[this.props.plot_cmap]:(console.log(\"Invalid color map name, reverting to default.\"),n=Rt.colors.RdBu):Array.isArray(this.props.plot_cmap)&&(n=this.props.plot_cmap),this.colors=n.map((function(t){return Y(t)})),this.brighterColors=[1.45,1.6].map((function(n,e){return t.colors[e].brighter(n)})),this.colors.map((function(n,e){var r=t.svg.append(\"linearGradient\").attr(\"id\",\"linear-grad-\"+e).attr(\"x1\",\"0%\").attr(\"y1\",\"0%\").attr(\"x2\",\"0%\").attr(\"y2\",\"100%\");r.append(\"stop\").attr(\"offset\",\"0%\").attr(\"stop-color\",n).attr(\"stop-opacity\",.6),r.append(\"stop\").attr(\"offset\",\"100%\").attr(\"stop-color\",n).attr(\"stop-opacity\",0);var i=t.svg.append(\"linearGradient\").attr(\"id\",\"linear-backgrad-\"+e).attr(\"x1\",\"0%\").attr(\"y1\",\"0%\").attr(\"x2\",\"0%\").attr(\"y2\",\"100%\");i.append(\"stop\").attr(\"offset\",\"0%\").attr(\"stop-color\",n).attr(\"stop-opacity\",.5),i.append(\"stop\").attr(\"offset\",\"100%\").attr(\"stop-color\",n).attr(\"stop-opacity\",0)})),this.tickFormat=Ct(\",.4\"),this.scaleCentered=Lt(),this.axis=fe().scale(this.scaleCentered).tickSizeInner(4).tickSizeOuter(0).tickFormat((function(n){return t.tickFormat(t.invLinkFunction(n))})).tickPadding(-18),window.addEventListener(\"resize\",this.redraw),window.setTimeout(this.redraw,50)}},{key:\"componentDidUpdate\",value:function(){this.draw()}},{key:\"draw\",value:function(){var t=this;(0,Ut.each)(this.props.featureNames,(function(n,e){t.props.features[e]&&(t.props.features[e].name=n)})),\"identity\"===this.props.link?this.invLinkFunction=function(n){return t.props.baseValue+n}:\"logit\"===this.props.link?this.invLinkFunction=function(n){return 1/(1+Math.exp(-(t.props.baseValue+n)))}:console.log(\"ERROR: Unrecognized link function: \",this.props.link);var n=this.svg.node().parentNode.offsetWidth;if(0==n)return setTimeout((function(){return t.draw(t.props)}),500);this.svg.style(\"height\",\"150px\"),this.svg.style(\"width\",n+\"px\");var e=(0,Ut.sortBy)(this.props.features,(function(t){return-1/(t.effect+1e-10)})),r=(0,Ut.sum)((0,Ut.map)(e,(function(t){return Math.abs(t.effect)}))),i=(0,Ut.sum)((0,Ut.map)((0,Ut.filter)(e,(function(t){return t.effect>0})),(function(t){return t.effect})))||0,o=(0,Ut.sum)((0,Ut.map)((0,Ut.filter)(e,(function(t){return t.effect<0})),(function(t){return-t.effect})))||0;this.domainSize=3*Math.max(i,o);var u=Lt().domain([0,this.domainSize]).range([0,n]),a=n/2-u(o);this.scaleCentered.domain([-this.domainSize/2,this.domainSize/2]).range([0,n]).clamp(!0),this.axisElement.attr(\"transform\",\"translate(0,50)\").call(this.axis);var c,s,f,l=0;for(c=0;c<e.length;++c)e[c].x=l,e[c].effect<0&&void 0===s&&(s=l,f=c),l+=Math.abs(e[c].effect);void 0===s&&(s=l,f=c);var h=we().x((function(t){return t[0]})).y((function(t){return t[1]})),p=function(n){return void 0!==n.value&&null!==n.value&&\"\"!==n.value?n.name+\" = \"+(isNaN(n.value)?n.value:t.tickFormat(n.value)):n.name};e=this.props.hideBars?[]:e;var v=this.mainGroup.selectAll(\".force-bar-blocks\").data(e);v.enter().append(\"path\").attr(\"class\",\"force-bar-blocks\").merge(v).attr(\"d\",(function(t,n){var e=u(t.x)+a,r=u(Math.abs(t.effect)),i=t.effect<0?-4:4,o=i;return n===f&&(i=0),n===f-1&&(o=0),h([[e,56],[e+r,56],[e+r+o,64.5],[e+r,73],[e,73],[e+i,64.5]])})).attr(\"fill\",(function(n){return n.effect>0?t.colors[0]:t.colors[1]})).on(\"mouseover\",(function(n){if(u(Math.abs(n.effect))<u(r)/50||u(Math.abs(n.effect))<10){var e=u(n.x)+a,i=u(Math.abs(n.effect));t.hoverLabel.attr(\"opacity\",1).attr(\"x\",e+i/2).attr(\"y\",50.5).attr(\"fill\",n.effect>0?t.colors[0]:t.colors[1]).text(p(n)),t.hoverLabelBacking.attr(\"opacity\",1).attr(\"x\",e+i/2).attr(\"y\",50.5).text(p(n))}})).on(\"mouseout\",(function(){t.hoverLabel.attr(\"opacity\",0),t.hoverLabelBacking.attr(\"opacity\",0)})),v.exit().remove();var d=(0,Ut.filter)(e,(function(t){return u(Math.abs(t.effect))>u(r)/50&&u(Math.abs(t.effect))>10})),g=this.onTopGroup.selectAll(\".force-bar-labels\").data(d);if(g.exit().remove(),g=g.enter().append(\"text\").attr(\"class\",\"force-bar-labels\").attr(\"font-size\",\"12px\").attr(\"y\",98).merge(g).text((function(n){return void 0!==n.value&&null!==n.value&&\"\"!==n.value?n.name+\" = \"+(isNaN(n.value)?n.value:t.tickFormat(n.value)):n.name})).attr(\"fill\",(function(n){return n.effect>0?t.colors[0]:t.colors[1]})).attr(\"stroke\",(function(t){return t.textWidth=Math.max(this.getComputedTextLength(),u(Math.abs(t.effect))-10),t.innerTextWidth=this.getComputedTextLength(),\"none\"})),this.filteredData=d,e.length>0){l=s+u.invert(5);for(var y=f;y<e.length;++y)e[y].textx=l,l+=u.invert(e[y].textWidth+10);l=s-u.invert(5);for(var m=f-1;m>=0;--m)e[m].textx=l,l-=u.invert(e[m].textWidth+10)}g.attr(\"x\",(function(t){return u(t.textx)+a+(t.effect>0?-t.textWidth/2:t.textWidth/2)})).attr(\"text-anchor\",\"middle\"),d=(0,Ut.filter)(d,(function(e){return u(e.textx)+a>t.props.labelMargin&&u(e.textx)+a<n-t.props.labelMargin})),this.filteredData2=d;var _=d.slice(),x=(0,Ut.findIndex)(e,d[0])-1;x>=0&&_.unshift(e[x]);var b=this.mainGroup.selectAll(\".force-bar-labelBacking\").data(d);b.enter().append(\"path\").attr(\"class\",\"force-bar-labelBacking\").attr(\"stroke\",\"none\").attr(\"opacity\",.2).merge(b).attr(\"d\",(function(t){return h([[u(t.x)+u(Math.abs(t.effect))+a,73],[(t.effect>0?u(t.textx):u(t.textx)+t.textWidth)+a+5,83],[(t.effect>0?u(t.textx):u(t.textx)+t.textWidth)+a+5,104],[(t.effect>0?u(t.textx)-t.textWidth:u(t.textx))+a-5,104],[(t.effect>0?u(t.textx)-t.textWidth:u(t.textx))+a-5,83],[u(t.x)+a,73]])})).attr(\"fill\",(function(t){return\"url(#linear-backgrad-\".concat(t.effect>0?0:1,\")\")})),b.exit().remove();var w=this.mainGroup.selectAll(\".force-bar-labelDividers\").data(d.slice(0,-1));w.enter().append(\"rect\").attr(\"class\",\"force-bar-labelDividers\").attr(\"height\",\"21px\").attr(\"width\",\"1px\").attr(\"y\",83).merge(w).attr(\"x\",(function(t){return(t.effect>0?u(t.textx):u(t.textx)+t.textWidth)+a+4.5})).attr(\"fill\",(function(t){return\"url(#linear-grad-\".concat(t.effect>0?0:1,\")\")})),w.exit().remove();var k=this.mainGroup.selectAll(\".force-bar-labelLinks\").data(d.slice(0,-1));k.enter().append(\"line\").attr(\"class\",\"force-bar-labelLinks\").attr(\"y1\",73).attr(\"y2\",83).attr(\"stroke-opacity\",.5).attr(\"stroke-width\",1).merge(k).attr(\"x1\",(function(t){return u(t.x)+u(Math.abs(t.effect))+a})).attr(\"x2\",(function(t){return(t.effect>0?u(t.textx):u(t.textx)+t.textWidth)+a+5})).attr(\"stroke\",(function(n){return n.effect>0?t.colors[0]:t.colors[1]})),k.exit().remove();var S=this.mainGroup.selectAll(\".force-bar-blockDividers\").data(e.slice(0,-1));S.enter().append(\"path\").attr(\"class\",\"force-bar-blockDividers\").attr(\"stroke-width\",2).attr(\"fill\",\"none\").merge(S).attr(\"d\",(function(t){var n=u(t.x)+u(Math.abs(t.effect))+a;return h([[n,56],[n+(t.effect<0?-4:4),64.5],[n,73]])})).attr(\"stroke\",(function(n,e){return f===e+1||Math.abs(n.effect)<1e-8?\"#rgba(0,0,0,0)\":n.effect>0?t.brighterColors[0]:t.brighterColors[1]})),S.exit().remove(),this.joinPointLine.attr(\"x1\",u(s)+a).attr(\"x2\",u(s)+a).attr(\"y1\",50).attr(\"y2\",56).attr(\"stroke\",\"#F2F2F2\").attr(\"stroke-width\",1).attr(\"opacity\",1),this.joinPointLabelOutline.attr(\"x\",u(s)+a).attr(\"y\",45).attr(\"color\",\"#fff\").attr(\"text-anchor\",\"middle\").attr(\"font-weight\",\"bold\").attr(\"stroke\",\"#fff\").attr(\"stroke-width\",6).text(Ct(\",.2f\")(this.invLinkFunction(s-o))).attr(\"opacity\",1),console.log(\"joinPoint\",s,a,50,o),this.joinPointLabel.attr(\"x\",u(s)+a).attr(\"y\",45).attr(\"text-anchor\",\"middle\").attr(\"font-weight\",\"bold\").attr(\"fill\",\"#000\").text(Ct(\",.2f\")(this.invLinkFunction(s-o))).attr(\"opacity\",1),this.joinPointTitle.attr(\"x\",u(s)+a).attr(\"y\",28).attr(\"text-anchor\",\"middle\").attr(\"font-size\",\"12\").attr(\"fill\",\"#000\").text(this.props.outNames[0]).attr(\"opacity\",.5),this.props.hideBars||(this.joinPointTitleLeft.attr(\"x\",u(s)+a-16).attr(\"y\",12).attr(\"text-anchor\",\"end\").attr(\"font-size\",\"13\").attr(\"fill\",this.colors[0]).text(\"higher\").attr(\"opacity\",1),this.joinPointTitleRight.attr(\"x\",u(s)+a+16).attr(\"y\",12).attr(\"text-anchor\",\"start\").attr(\"font-size\",\"13\").attr(\"fill\",this.colors[1]).text(\"lower\").attr(\"opacity\",1),this.joinPointTitleLeftArrow.attr(\"x\",u(s)+a+7).attr(\"y\",8).attr(\"text-anchor\",\"end\").attr(\"font-size\",\"13\").attr(\"fill\",this.colors[0]).text(\"→\").attr(\"opacity\",1),this.joinPointTitleRightArrow.attr(\"x\",u(s)+a-7).attr(\"y\",14).attr(\"text-anchor\",\"start\").attr(\"font-size\",\"13\").attr(\"fill\",this.colors[1]).text(\"←\").attr(\"opacity\",1)),this.props.hideBaseValueLabel||this.baseValueTitle.attr(\"x\",this.scaleCentered(0)).attr(\"y\",28).attr(\"text-anchor\",\"middle\").attr(\"font-size\",\"12\").attr(\"fill\",\"#000\").text(\"base value\").attr(\"opacity\",.5)}},{key:\"componentWillUnmount\",value:function(){window.removeEventListener(\"resize\",this.redraw)}},{key:\"render\",value:function(){var n=this;return t.createElement(\"svg\",{ref:function(t){return n.svg=ne(t)},style:{userSelect:\"none\",display:\"block\",fontFamily:\"arial\",sansSerif:!0}},t.createElement(\"style\",{dangerouslySetInnerHTML:{__html:\"\\n          .force-bar-axis path {\\n            fill: none;\\n            opacity: 0.4;\\n          }\\n          .force-bar-axis paths {\\n            display: none;\\n          }\\n          .tick line {\\n            stroke: #000;\\n            stroke-width: 1px;\\n            opacity: 0.4;\\n          }\\n          .tick text {\\n            fill: #000;\\n            opacity: 0.5;\\n            font-size: 12px;\\n            padding: 0px;\\n          }\"}}))}}])&&Se(r.prototype,i),Object.defineProperty(r,\"prototype\",{writable:!1}),r;var r,i}(t.Component);je.defaultProps={plot_cmap:\"RdBu\"};const Ee=je,Ce=1e3,$e=6e4,Fe=36e5,Ne=864e5,De=6048e5,Le=31536e6,Ue=new Date,Re=new Date;function Pe(t,n,e,r){function i(n){return t(n=0===arguments.length?new Date:new Date(+n)),n}return i.floor=n=>(t(n=new Date(+n)),n),i.ceil=e=>(t(e=new Date(e-1)),n(e,1),t(e),e),i.round=t=>{const n=i(t),e=i.ceil(t);return t-n<e-t?n:e},i.offset=(t,e)=>(n(t=new Date(+t),null==e?1:Math.floor(e)),t),i.range=(e,r,o)=>{const u=[];if(e=i.ceil(e),o=null==o?1:Math.floor(o),!(e<r&&o>0))return u;let a;do{u.push(a=new Date(+e)),n(e,o),t(e)}while(a<e&&e<r);return u},i.filter=e=>Pe((n=>{if(n>=n)for(;t(n),!e(n);)n.setTime(n-1)}),((t,r)=>{if(t>=t)if(r<0)for(;++r<=0;)for(;n(t,-1),!e(t););else for(;--r>=0;)for(;n(t,1),!e(t););})),e&&(i.count=(n,r)=>(Ue.setTime(+n),Re.setTime(+r),t(Ue),t(Re),Math.floor(e(Ue,Re))),i.every=t=>(t=Math.floor(t),isFinite(t)&&t>0?t>1?i.filter(r?n=>r(n)%t==0:n=>i.count(0,n)%t==0):i:null)),i}const ze=Pe((()=>{}),((t,n)=>{t.setTime(+t+n)}),((t,n)=>n-t));ze.every=t=>(t=Math.floor(t),isFinite(t)&&t>0?t>1?Pe((n=>{n.setTime(Math.floor(n/t)*t)}),((n,e)=>{n.setTime(+n+e*t)}),((n,e)=>(e-n)/t)):ze:null),ze.range;const Ie=Pe((t=>{t.setTime(t-t.getMilliseconds())}),((t,n)=>{t.setTime(+t+n*Ce)}),((t,n)=>(n-t)/Ce),(t=>t.getUTCSeconds())),Be=(Ie.range,Pe((t=>{t.setTime(t-t.getMilliseconds()-t.getSeconds()*Ce)}),((t,n)=>{t.setTime(+t+n*$e)}),((t,n)=>(n-t)/$e),(t=>t.getMinutes()))),He=(Be.range,Pe((t=>{t.setUTCSeconds(0,0)}),((t,n)=>{t.setTime(+t+n*$e)}),((t,n)=>(n-t)/$e),(t=>t.getUTCMinutes()))),We=(He.range,Pe((t=>{t.setTime(t-t.getMilliseconds()-t.getSeconds()*Ce-t.getMinutes()*$e)}),((t,n)=>{t.setTime(+t+n*Fe)}),((t,n)=>(n-t)/Fe),(t=>t.getHours()))),Ve=(We.range,Pe((t=>{t.setUTCMinutes(0,0,0)}),((t,n)=>{t.setTime(+t+n*Fe)}),((t,n)=>(n-t)/Fe),(t=>t.getUTCHours()))),Ye=(Ve.range,Pe((t=>t.setHours(0,0,0,0)),((t,n)=>t.setDate(t.getDate()+n)),((t,n)=>(n-t-(n.getTimezoneOffset()-t.getTimezoneOffset())*$e)/Ne),(t=>t.getDate()-1))),qe=(Ye.range,Pe((t=>{t.setUTCHours(0,0,0,0)}),((t,n)=>{t.setUTCDate(t.getUTCDate()+n)}),((t,n)=>(n-t)/Ne),(t=>t.getUTCDate()-1))),Ge=(qe.range,Pe((t=>{t.setUTCHours(0,0,0,0)}),((t,n)=>{t.setUTCDate(t.getUTCDate()+n)}),((t,n)=>(n-t)/Ne),(t=>Math.floor(t/Ne))));function Ze(t){return Pe((n=>{n.setDate(n.getDate()-(n.getDay()+7-t)%7),n.setHours(0,0,0,0)}),((t,n)=>{t.setDate(t.getDate()+7*n)}),((t,n)=>(n-t-(n.getTimezoneOffset()-t.getTimezoneOffset())*$e)/De))}Ge.range;const Xe=Ze(0),Ke=Ze(1),Je=Ze(2),Qe=Ze(3),tr=Ze(4),nr=Ze(5),er=Ze(6);function rr(t){return Pe((n=>{n.setUTCDate(n.getUTCDate()-(n.getUTCDay()+7-t)%7),n.setUTCHours(0,0,0,0)}),((t,n)=>{t.setUTCDate(t.getUTCDate()+7*n)}),((t,n)=>(n-t)/De))}Xe.range,Ke.range,Je.range,Qe.range,tr.range,nr.range,er.range;const ir=rr(0),or=rr(1),ur=rr(2),ar=rr(3),cr=rr(4),sr=rr(5),fr=rr(6),lr=(ir.range,or.range,ur.range,ar.range,cr.range,sr.range,fr.range,Pe((t=>{t.setDate(1),t.setHours(0,0,0,0)}),((t,n)=>{t.setMonth(t.getMonth()+n)}),((t,n)=>n.getMonth()-t.getMonth()+12*(n.getFullYear()-t.getFullYear())),(t=>t.getMonth()))),hr=(lr.range,Pe((t=>{t.setUTCDate(1),t.setUTCHours(0,0,0,0)}),((t,n)=>{t.setUTCMonth(t.getUTCMonth()+n)}),((t,n)=>n.getUTCMonth()-t.getUTCMonth()+12*(n.getUTCFullYear()-t.getUTCFullYear())),(t=>t.getUTCMonth()))),pr=(hr.range,Pe((t=>{t.setMonth(0,1),t.setHours(0,0,0,0)}),((t,n)=>{t.setFullYear(t.getFullYear()+n)}),((t,n)=>n.getFullYear()-t.getFullYear()),(t=>t.getFullYear())));pr.every=t=>isFinite(t=Math.floor(t))&&t>0?Pe((n=>{n.setFullYear(Math.floor(n.getFullYear()/t)*t),n.setMonth(0,1),n.setHours(0,0,0,0)}),((n,e)=>{n.setFullYear(n.getFullYear()+e*t)})):null,pr.range;const vr=Pe((t=>{t.setUTCMonth(0,1),t.setUTCHours(0,0,0,0)}),((t,n)=>{t.setUTCFullYear(t.getUTCFullYear()+n)}),((t,n)=>n.getUTCFullYear()-t.getUTCFullYear()),(t=>t.getUTCFullYear()));function dr(t,n,e,r,i,o){const u=[[Ie,1,Ce],[Ie,5,5e3],[Ie,15,15e3],[Ie,30,3e4],[o,1,$e],[o,5,3e5],[o,15,9e5],[o,30,18e5],[i,1,Fe],[i,3,108e5],[i,6,216e5],[i,12,432e5],[r,1,Ne],[r,2,1728e5],[e,1,De],[n,1,2592e6],[n,3,7776e6],[t,1,Le]];function a(n,e,r){const i=Math.abs(e-n)/r,o=l((([,,t])=>t)).right(u,i);if(o===u.length)return t.every(c(n/Le,e/Le,r));if(0===o)return ze.every(Math.max(c(n,e,r),1));const[a,s]=u[i/u[o-1][2]<u[o][2]/i?o-1:o];return a.every(s)}return[function(t,n,e){const r=n<t;r&&([t,n]=[n,t]);const i=e&&\"function\"==typeof e.range?e:a(t,n,e),o=i?i.range(t,+n+1):[];return r?o.reverse():o},a]}vr.every=t=>isFinite(t=Math.floor(t))&&t>0?Pe((n=>{n.setUTCFullYear(Math.floor(n.getUTCFullYear()/t)*t),n.setUTCMonth(0,1),n.setUTCHours(0,0,0,0)}),((n,e)=>{n.setUTCFullYear(n.getUTCFullYear()+e*t)})):null,vr.range;const[gr,yr]=dr(vr,hr,ir,Ge,Ve,He),[mr,_r]=dr(pr,lr,Xe,Ye,We,Be);function xr(t){if(0<=t.y&&t.y<100){var n=new Date(-1,t.m,t.d,t.H,t.M,t.S,t.L);return n.setFullYear(t.y),n}return new Date(t.y,t.m,t.d,t.H,t.M,t.S,t.L)}function br(t){if(0<=t.y&&t.y<100){var n=new Date(Date.UTC(-1,t.m,t.d,t.H,t.M,t.S,t.L));return n.setUTCFullYear(t.y),n}return new Date(Date.UTC(t.y,t.m,t.d,t.H,t.M,t.S,t.L))}function wr(t,n,e){return{y:t,m:n,d:e,H:0,M:0,S:0,L:0}}var kr,Sr,Mr,Ar={\"-\":\"\",_:\" \",0:\"0\"},Tr=/^\\s*\\d+/,Or=/^%/,jr=/[\\\\^$*+?|[\\]().{}]/g;function Er(t,n,e){var r=t<0?\"-\":\"\",i=(r?-t:t)+\"\",o=i.length;return r+(o<e?new Array(e-o+1).join(n)+i:i)}function Cr(t){return t.replace(jr,\"\\\\$&\")}function $r(t){return new RegExp(\"^(?:\"+t.map(Cr).join(\"|\")+\")\",\"i\")}function Fr(t){return new Map(t.map(((t,n)=>[t.toLowerCase(),n])))}function Nr(t,n,e){var r=Tr.exec(n.slice(e,e+1));return r?(t.w=+r[0],e+r[0].length):-1}function Dr(t,n,e){var r=Tr.exec(n.slice(e,e+1));return r?(t.u=+r[0],e+r[0].length):-1}function Lr(t,n,e){var r=Tr.exec(n.slice(e,e+2));return r?(t.U=+r[0],e+r[0].length):-1}function Ur(t,n,e){var r=Tr.exec(n.slice(e,e+2));return r?(t.V=+r[0],e+r[0].length):-1}function Rr(t,n,e){var r=Tr.exec(n.slice(e,e+2));return r?(t.W=+r[0],e+r[0].length):-1}function Pr(t,n,e){var r=Tr.exec(n.slice(e,e+4));return r?(t.y=+r[0],e+r[0].length):-1}function zr(t,n,e){var r=Tr.exec(n.slice(e,e+2));return r?(t.y=+r[0]+(+r[0]>68?1900:2e3),e+r[0].length):-1}function Ir(t,n,e){var r=/^(Z)|([+-]\\d\\d)(?::?(\\d\\d))?/.exec(n.slice(e,e+6));return r?(t.Z=r[1]?0:-(r[2]+(r[3]||\"00\")),e+r[0].length):-1}function Br(t,n,e){var r=Tr.exec(n.slice(e,e+1));return r?(t.q=3*r[0]-3,e+r[0].length):-1}function Hr(t,n,e){var r=Tr.exec(n.slice(e,e+2));return r?(t.m=r[0]-1,e+r[0].length):-1}function Wr(t,n,e){var r=Tr.exec(n.slice(e,e+2));return r?(t.d=+r[0],e+r[0].length):-1}function Vr(t,n,e){var r=Tr.exec(n.slice(e,e+3));return r?(t.m=0,t.d=+r[0],e+r[0].length):-1}function Yr(t,n,e){var r=Tr.exec(n.slice(e,e+2));return r?(t.H=+r[0],e+r[0].length):-1}function qr(t,n,e){var r=Tr.exec(n.slice(e,e+2));return r?(t.M=+r[0],e+r[0].length):-1}function Gr(t,n,e){var r=Tr.exec(n.slice(e,e+2));return r?(t.S=+r[0],e+r[0].length):-1}function Zr(t,n,e){var r=Tr.exec(n.slice(e,e+3));return r?(t.L=+r[0],e+r[0].length):-1}function Xr(t,n,e){var r=Tr.exec(n.slice(e,e+6));return r?(t.L=Math.floor(r[0]/1e3),e+r[0].length):-1}function Kr(t,n,e){var r=Or.exec(n.slice(e,e+1));return r?e+r[0].length:-1}function Jr(t,n,e){var r=Tr.exec(n.slice(e));return r?(t.Q=+r[0],e+r[0].length):-1}function Qr(t,n,e){var r=Tr.exec(n.slice(e));return r?(t.s=+r[0],e+r[0].length):-1}function ti(t,n){return Er(t.getDate(),n,2)}function ni(t,n){return Er(t.getHours(),n,2)}function ei(t,n){return Er(t.getHours()%12||12,n,2)}function ri(t,n){return Er(1+Ye.count(pr(t),t),n,3)}function ii(t,n){return Er(t.getMilliseconds(),n,3)}function oi(t,n){return ii(t,n)+\"000\"}function ui(t,n){return Er(t.getMonth()+1,n,2)}function ai(t,n){return Er(t.getMinutes(),n,2)}function ci(t,n){return Er(t.getSeconds(),n,2)}function si(t){var n=t.getDay();return 0===n?7:n}function fi(t,n){return Er(Xe.count(pr(t)-1,t),n,2)}function li(t){var n=t.getDay();return n>=4||0===n?tr(t):tr.ceil(t)}function hi(t,n){return t=li(t),Er(tr.count(pr(t),t)+(4===pr(t).getDay()),n,2)}function pi(t){return t.getDay()}function vi(t,n){return Er(Ke.count(pr(t)-1,t),n,2)}function di(t,n){return Er(t.getFullYear()%100,n,2)}function gi(t,n){return Er((t=li(t)).getFullYear()%100,n,2)}function yi(t,n){return Er(t.getFullYear()%1e4,n,4)}function mi(t,n){var e=t.getDay();return Er((t=e>=4||0===e?tr(t):tr.ceil(t)).getFullYear()%1e4,n,4)}function _i(t){var n=t.getTimezoneOffset();return(n>0?\"-\":(n*=-1,\"+\"))+Er(n/60|0,\"0\",2)+Er(n%60,\"0\",2)}function xi(t,n){return Er(t.getUTCDate(),n,2)}function bi(t,n){return Er(t.getUTCHours(),n,2)}function wi(t,n){return Er(t.getUTCHours()%12||12,n,2)}function ki(t,n){return Er(1+qe.count(vr(t),t),n,3)}function Si(t,n){return Er(t.getUTCMilliseconds(),n,3)}function Mi(t,n){return Si(t,n)+\"000\"}function Ai(t,n){return Er(t.getUTCMonth()+1,n,2)}function Ti(t,n){return Er(t.getUTCMinutes(),n,2)}function Oi(t,n){return Er(t.getUTCSeconds(),n,2)}function ji(t){var n=t.getUTCDay();return 0===n?7:n}function Ei(t,n){return Er(ir.count(vr(t)-1,t),n,2)}function Ci(t){var n=t.getUTCDay();return n>=4||0===n?cr(t):cr.ceil(t)}function $i(t,n){return t=Ci(t),Er(cr.count(vr(t),t)+(4===vr(t).getUTCDay()),n,2)}function Fi(t){return t.getUTCDay()}function Ni(t,n){return Er(or.count(vr(t)-1,t),n,2)}function Di(t,n){return Er(t.getUTCFullYear()%100,n,2)}function Li(t,n){return Er((t=Ci(t)).getUTCFullYear()%100,n,2)}function Ui(t,n){return Er(t.getUTCFullYear()%1e4,n,4)}function Ri(t,n){var e=t.getUTCDay();return Er((t=e>=4||0===e?cr(t):cr.ceil(t)).getUTCFullYear()%1e4,n,4)}function Pi(){return\"+0000\"}function zi(){return\"%\"}function Ii(t){return+t}function Bi(t){return Math.floor(+t/1e3)}function Hi(t){return new Date(t)}function Wi(t){return t instanceof Date?+t:+new Date(+t)}function Vi(t,n,e,r,i,o,u,a,c,s){var f=_t(),l=f.invert,h=f.domain,p=s(\".%L\"),v=s(\":%S\"),d=s(\"%I:%M\"),g=s(\"%I %p\"),y=s(\"%a %d\"),m=s(\"%b %d\"),_=s(\"%B\"),x=s(\"%Y\");function b(t){return(c(t)<t?p:a(t)<t?v:u(t)<t?d:o(t)<t?g:r(t)<t?i(t)<t?y:m:e(t)<t?_:x)(t)}return f.invert=function(t){return new Date(l(t))},f.domain=function(t){return arguments.length?h(Array.from(t,Wi)):h().map(Hi)},f.ticks=function(n){var e=h();return t(e[0],e[e.length-1],null==n?10:n)},f.tickFormat=function(t,n){return null==n?b:s(n)},f.nice=function(t){var e=h();return t&&\"function\"==typeof t.range||(t=n(e[0],e[e.length-1],null==t?10:t)),t?h(function(t,n){var e,r=0,i=(t=t.slice()).length-1,o=t[r],u=t[i];return u<o&&(e=r,r=i,i=e,e=o,o=u,u=e),t[r]=n.floor(o),t[i]=n.ceil(u),t}(e,t)):f},f.copy=function(){return mt(f,Vi(t,n,e,r,i,o,u,a,c,s))},f}function Yi(){return xt.apply(Vi(mr,_r,pr,lr,Xe,Ye,We,Be,Ie,Sr).domain([new Date(2e3,0,1),new Date(2e3,0,2)]),arguments)}function qi(t,n){var e=\"undefined\"!=typeof Symbol&&t[Symbol.iterator]||t[\"@@iterator\"];if(!e){if(Array.isArray(t)||(e=function(t,n){if(t){if(\"string\"==typeof t)return Gi(t,n);var e={}.toString.call(t).slice(8,-1);return\"Object\"===e&&t.constructor&&(e=t.constructor.name),\"Map\"===e||\"Set\"===e?Array.from(t):\"Arguments\"===e||/^(?:Ui|I)nt(?:8|16|32)(?:Clamped)?Array$/.test(e)?Gi(t,n):void 0}}(t))||n&&t&&\"number\"==typeof t.length){e&&(t=e);var r=0,i=function(){};return{s:i,n:function(){return r>=t.length?{done:!0}:{done:!1,value:t[r++]}},e:function(t){throw t},f:i}}throw new TypeError(\"Invalid attempt to iterate non-iterable instance.\\nIn order to be iterable, non-array objects must have a [Symbol.iterator]() method.\")}var o,u=!0,a=!1;return{s:function(){e=e.call(t)},n:function(){var t=e.next();return u=t.done,t},e:function(t){a=!0,o=t},f:function(){try{u||null==e.return||e.return()}finally{if(a)throw o}}}}function Gi(t,n){(null==n||n>t.length)&&(n=t.length);for(var e=0,r=Array(n);e<n;e++)r[e]=t[e];return r}function Zi(t){return Zi=\"function\"==typeof Symbol&&\"symbol\"==typeof Symbol.iterator?function(t){return typeof t}:function(t){return t&&\"function\"==typeof Symbol&&t.constructor===Symbol&&t!==Symbol.prototype?\"symbol\":typeof t},Zi(t)}function Xi(t,n){for(var e=0;e<n.length;e++){var r=n[e];r.enumerable=r.enumerable||!1,r.configurable=!0,\"value\"in r&&(r.writable=!0),Object.defineProperty(t,Ki(r.key),r)}}function Ki(t){var n=function(t){if(\"object\"!=Zi(t)||!t)return t;var n=t[Symbol.toPrimitive];if(void 0!==n){var e=n.call(t,\"string\");if(\"object\"!=Zi(e))return e;throw new TypeError(\"@@toPrimitive must return a primitive value.\")}return String(t)}(t);return\"symbol\"==Zi(n)?n:n+\"\"}function Ji(){try{var t=!Boolean.prototype.valueOf.call(Reflect.construct(Boolean,[],(function(){})))}catch(t){}return(Ji=function(){return!!t})()}function Qi(t){return Qi=Object.setPrototypeOf?Object.getPrototypeOf.bind():function(t){return t.__proto__||Object.getPrototypeOf(t)},Qi(t)}function to(t,n){return to=Object.setPrototypeOf?Object.setPrototypeOf.bind():function(t,n){return t.__proto__=n,t},to(t,n)}kr=function(t){var n=t.dateTime,e=t.date,r=t.time,i=t.periods,o=t.days,u=t.shortDays,a=t.months,c=t.shortMonths,s=$r(i),f=Fr(i),l=$r(o),h=Fr(o),p=$r(u),v=Fr(u),d=$r(a),g=Fr(a),y=$r(c),m=Fr(c),_={a:function(t){return u[t.getDay()]},A:function(t){return o[t.getDay()]},b:function(t){return c[t.getMonth()]},B:function(t){return a[t.getMonth()]},c:null,d:ti,e:ti,f:oi,g:gi,G:mi,H:ni,I:ei,j:ri,L:ii,m:ui,M:ai,p:function(t){return i[+(t.getHours()>=12)]},q:function(t){return 1+~~(t.getMonth()/3)},Q:Ii,s:Bi,S:ci,u:si,U:fi,V:hi,w:pi,W:vi,x:null,X:null,y:di,Y:yi,Z:_i,\"%\":zi},x={a:function(t){return u[t.getUTCDay()]},A:function(t){return o[t.getUTCDay()]},b:function(t){return c[t.getUTCMonth()]},B:function(t){return a[t.getUTCMonth()]},c:null,d:xi,e:xi,f:Mi,g:Li,G:Ri,H:bi,I:wi,j:ki,L:Si,m:Ai,M:Ti,p:function(t){return i[+(t.getUTCHours()>=12)]},q:function(t){return 1+~~(t.getUTCMonth()/3)},Q:Ii,s:Bi,S:Oi,u:ji,U:Ei,V:$i,w:Fi,W:Ni,x:null,X:null,y:Di,Y:Ui,Z:Pi,\"%\":zi},b={a:function(t,n,e){var r=p.exec(n.slice(e));return r?(t.w=v.get(r[0].toLowerCase()),e+r[0].length):-1},A:function(t,n,e){var r=l.exec(n.slice(e));return r?(t.w=h.get(r[0].toLowerCase()),e+r[0].length):-1},b:function(t,n,e){var r=y.exec(n.slice(e));return r?(t.m=m.get(r[0].toLowerCase()),e+r[0].length):-1},B:function(t,n,e){var r=d.exec(n.slice(e));return r?(t.m=g.get(r[0].toLowerCase()),e+r[0].length):-1},c:function(t,e,r){return S(t,n,e,r)},d:Wr,e:Wr,f:Xr,g:zr,G:Pr,H:Yr,I:Yr,j:Vr,L:Zr,m:Hr,M:qr,p:function(t,n,e){var r=s.exec(n.slice(e));return r?(t.p=f.get(r[0].toLowerCase()),e+r[0].length):-1},q:Br,Q:Jr,s:Qr,S:Gr,u:Dr,U:Lr,V:Ur,w:Nr,W:Rr,x:function(t,n,r){return S(t,e,n,r)},X:function(t,n,e){return S(t,r,n,e)},y:zr,Y:Pr,Z:Ir,\"%\":Kr};function w(t,n){return function(e){var r,i,o,u=[],a=-1,c=0,s=t.length;for(e instanceof Date||(e=new Date(+e));++a<s;)37===t.charCodeAt(a)&&(u.push(t.slice(c,a)),null!=(i=Ar[r=t.charAt(++a)])?r=t.charAt(++a):i=\"e\"===r?\" \":\"0\",(o=n[r])&&(r=o(e,i)),u.push(r),c=a+1);return u.push(t.slice(c,a)),u.join(\"\")}}function k(t,n){return function(e){var r,i,o=wr(1900,void 0,1);if(S(o,t,e+=\"\",0)!=e.length)return null;if(\"Q\"in o)return new Date(o.Q);if(\"s\"in o)return new Date(1e3*o.s+(\"L\"in o?o.L:0));if(n&&!(\"Z\"in o)&&(o.Z=0),\"p\"in o&&(o.H=o.H%12+12*o.p),void 0===o.m&&(o.m=\"q\"in o?o.q:0),\"V\"in o){if(o.V<1||o.V>53)return null;\"w\"in o||(o.w=1),\"Z\"in o?(i=(r=br(wr(o.y,0,1))).getUTCDay(),r=i>4||0===i?or.ceil(r):or(r),r=qe.offset(r,7*(o.V-1)),o.y=r.getUTCFullYear(),o.m=r.getUTCMonth(),o.d=r.getUTCDate()+(o.w+6)%7):(i=(r=xr(wr(o.y,0,1))).getDay(),r=i>4||0===i?Ke.ceil(r):Ke(r),r=Ye.offset(r,7*(o.V-1)),o.y=r.getFullYear(),o.m=r.getMonth(),o.d=r.getDate()+(o.w+6)%7)}else(\"W\"in o||\"U\"in o)&&(\"w\"in o||(o.w=\"u\"in o?o.u%7:\"W\"in o?1:0),i=\"Z\"in o?br(wr(o.y,0,1)).getUTCDay():xr(wr(o.y,0,1)).getDay(),o.m=0,o.d=\"W\"in o?(o.w+6)%7+7*o.W-(i+5)%7:o.w+7*o.U-(i+6)%7);return\"Z\"in o?(o.H+=o.Z/100|0,o.M+=o.Z%100,br(o)):xr(o)}}function S(t,n,e,r){for(var i,o,u=0,a=n.length,c=e.length;u<a;){if(r>=c)return-1;if(37===(i=n.charCodeAt(u++))){if(i=n.charAt(u++),!(o=b[i in Ar?n.charAt(u++):i])||(r=o(t,e,r))<0)return-1}else if(i!=e.charCodeAt(r++))return-1}return r}return _.x=w(e,_),_.X=w(r,_),_.c=w(n,_),x.x=w(e,x),x.X=w(r,x),x.c=w(n,x),{format:function(t){var n=w(t+=\"\",_);return n.toString=function(){return t},n},parse:function(t){var n=k(t+=\"\",!1);return n.toString=function(){return t},n},utcFormat:function(t){var n=w(t+=\"\",x);return n.toString=function(){return t},n},utcParse:function(t){var n=k(t+=\"\",!0);return n.toString=function(){return t},n}}}({dateTime:\"%x, %X\",date:\"%-m/%-d/%Y\",time:\"%-I:%M:%S %p\",periods:[\"AM\",\"PM\"],days:[\"Sunday\",\"Monday\",\"Tuesday\",\"Wednesday\",\"Thursday\",\"Friday\",\"Saturday\"],shortDays:[\"Sun\",\"Mon\",\"Tue\",\"Wed\",\"Thu\",\"Fri\",\"Sat\"],months:[\"January\",\"February\",\"March\",\"April\",\"May\",\"June\",\"July\",\"August\",\"September\",\"October\",\"November\",\"December\"],shortMonths:[\"Jan\",\"Feb\",\"Mar\",\"Apr\",\"May\",\"Jun\",\"Jul\",\"Aug\",\"Sep\",\"Oct\",\"Nov\",\"Dec\"]}),Sr=kr.format,Mr=kr.parse,kr.utcFormat,kr.utcParse;var no=function(n){function e(){var t;return function(t,n){if(!(t instanceof n))throw new TypeError(\"Cannot call a class as a function\")}(this,e),t=function(t,n,e){return n=Qi(n),function(t,n){if(n&&(\"object\"==Zi(n)||\"function\"==typeof n))return n;if(void 0!==n)throw new TypeError(\"Derived constructors may only return object or undefined\");return function(t){if(void 0===t)throw new ReferenceError(\"this hasn't been initialised - super() hasn't been called\");return t}(t)}(t,Ji()?Reflect.construct(n,e||[],Qi(t).constructor):n.apply(t,e))}(this,e),window.lastAdditiveForceArrayVisualizer=t,t.topOffset=28,t.leftOffset=80,t.height=350,t.effectFormat=Ct(\".2\"),t.redraw=(0,Ut.debounce)((function(){return t.draw()}),200),t}return function(t,n){if(\"function\"!=typeof n&&null!==n)throw new TypeError(\"Super expression must either be null or a function\");t.prototype=Object.create(n&&n.prototype,{constructor:{value:t,writable:!0,configurable:!0}}),Object.defineProperty(t,\"prototype\",{writable:!1}),n&&to(t,n)}(e,n),r=e,i=[{key:\"componentDidMount\",value:function(){var t=this;this.mainGroup=this.svg.append(\"g\"),this.onTopGroup=this.svg.append(\"g\"),this.xaxisElement=this.onTopGroup.append(\"g\").attr(\"transform\",\"translate(0,35)\").attr(\"class\",\"force-bar-array-xaxis\"),this.yaxisElement=this.onTopGroup.append(\"g\").attr(\"transform\",\"translate(0,35)\").attr(\"class\",\"force-bar-array-yaxis\"),this.hoverGroup1=this.svg.append(\"g\"),this.hoverGroup2=this.svg.append(\"g\"),this.baseValueTitle=this.svg.append(\"text\"),this.hoverLine=this.svg.append(\"line\"),this.hoverxOutline=this.svg.append(\"text\").attr(\"text-anchor\",\"middle\").attr(\"font-weight\",\"bold\").attr(\"fill\",\"#fff\").attr(\"stroke\",\"#fff\").attr(\"stroke-width\",\"6\").attr(\"font-size\",\"12px\"),this.hoverx=this.svg.append(\"text\").attr(\"text-anchor\",\"middle\").attr(\"font-weight\",\"bold\").attr(\"fill\",\"#000\").attr(\"font-size\",\"12px\"),this.hoverxTitle=this.svg.append(\"text\").attr(\"text-anchor\",\"middle\").attr(\"opacity\",.6).attr(\"font-size\",\"12px\"),this.hoveryOutline=this.svg.append(\"text\").attr(\"text-anchor\",\"end\").attr(\"font-weight\",\"bold\").attr(\"fill\",\"#fff\").attr(\"stroke\",\"#fff\").attr(\"stroke-width\",\"6\").attr(\"font-size\",\"12px\"),this.hovery=this.svg.append(\"text\").attr(\"text-anchor\",\"end\").attr(\"font-weight\",\"bold\").attr(\"fill\",\"#000\").attr(\"font-size\",\"12px\"),this.xlabel=this.wrapper.select(\".additive-force-array-xlabel\"),this.ylabel=this.wrapper.select(\".additive-force-array-ylabel\");var n=void 0;\"string\"==typeof this.props.plot_cmap?this.props.plot_cmap in Rt.colors?n=Rt.colors[this.props.plot_cmap]:(console.log(\"Invalid color map name, reverting to default.\"),n=Rt.colors.RdBu):Array.isArray(this.props.plot_cmap)&&(n=this.props.plot_cmap),this.colors=n.map((function(t){return Y(t)})),this.brighterColors=[1.45,1.6].map((function(n,e){return t.colors[e].brighter(n)}));var e=Ct(\",.4\");null!=this.props.ordering_keys&&null!=this.props.ordering_keys_time_format?(this.parseTime=Mr(this.props.ordering_keys_time_format),this.formatTime=Sr(this.props.ordering_keys_time_format),this.xtickFormat=function(t){return\"object\"==Zi(t)?this.formatTime(t):e(t)}):(this.parseTime=null,this.formatTime=null,this.xtickFormat=e),this.xscale=Lt(),this.xaxis=fe().scale(this.xscale).tickSizeInner(4).tickSizeOuter(0).tickFormat((function(n){return t.xtickFormat(n)})).tickPadding(-18),this.ytickFormat=e,this.yscale=Lt(),this.yaxis=se(4,undefined).scale(this.yscale).tickSizeInner(4).tickSizeOuter(0).tickFormat((function(n){return t.ytickFormat(t.invLinkFunction(n))})).tickPadding(2),this.xlabel.node().onchange=function(){return t.internalDraw()},this.ylabel.node().onchange=function(){return t.internalDraw()},this.svg.on(\"mousemove\",(function(n){return t.mouseMoved(n)})),this.svg.on(\"click\",(function(){return alert(\"This original index of the sample you clicked is \"+t.nearestExpIndex)})),this.svg.on(\"mouseout\",(function(n){return t.mouseOut(n)})),window.addEventListener(\"resize\",this.redraw),window.setTimeout(this.redraw,50)}},{key:\"componentDidUpdate\",value:function(){this.draw()}},{key:\"mouseOut\",value:function(){this.hoverLine.attr(\"display\",\"none\"),this.hoverx.attr(\"display\",\"none\"),this.hoverxOutline.attr(\"display\",\"none\"),this.hoverxTitle.attr(\"display\",\"none\"),this.hovery.attr(\"display\",\"none\"),this.hoveryOutline.attr(\"display\",\"none\"),this.hoverGroup1.attr(\"display\",\"none\"),this.hoverGroup2.attr(\"display\",\"none\")}},{key:\"mouseMoved\",value:function(t){var n,e,r=this;this.hoverLine.attr(\"display\",\"\"),this.hoverx.attr(\"display\",\"\"),this.hoverxOutline.attr(\"display\",\"\"),this.hoverxTitle.attr(\"display\",\"\"),this.hovery.attr(\"display\",\"\"),this.hoveryOutline.attr(\"display\",\"\"),this.hoverGroup1.attr(\"display\",\"\"),this.hoverGroup2.attr(\"display\",\"\");var i=function(t,n){if(t=function(t){let n;for(;n=t.sourceEvent;)t=n;return t}(t),void 0===n&&(n=t.currentTarget),n){var e=n.ownerSVGElement||n;if(e.createSVGPoint){var r=e.createSVGPoint();return r.x=t.clientX,r.y=t.clientY,[(r=r.matrixTransform(n.getScreenCTM().inverse())).x,r.y]}if(n.getBoundingClientRect){var i=n.getBoundingClientRect();return[t.clientX-i.left-n.clientLeft,t.clientY-i.top-n.clientTop]}}return[t.pageX,t.pageY]}(t,this.svg.node())[0];if(this.props.explanations){for(n=0;n<this.currExplanations.length;++n)(!e||Math.abs(e.xmapScaled-i)>Math.abs(this.currExplanations[n].xmapScaled-i))&&(e=this.currExplanations[n]);this.nearestExpIndex=e.origInd,this.hoverLine.attr(\"x1\",e.xmapScaled).attr(\"x2\",e.xmapScaled).attr(\"y1\",0+this.topOffset).attr(\"y2\",this.height),this.hoverx.attr(\"x\",e.xmapScaled).attr(\"y\",this.topOffset-5).text(this.xtickFormat(e.xmap)),this.hoverxOutline.attr(\"x\",e.xmapScaled).attr(\"y\",this.topOffset-5).text(this.xtickFormat(e.xmap)),this.hoverxTitle.attr(\"x\",e.xmapScaled).attr(\"y\",this.topOffset-18).text(e.count>1?e.count+\" averaged samples\":\"\"),this.hovery.attr(\"x\",this.leftOffset-6).attr(\"y\",e.joinPointy).text(this.ytickFormat(this.invLinkFunction(e.joinPoint))),this.hoveryOutline.attr(\"x\",this.leftOffset-6).attr(\"y\",e.joinPointy).text(this.ytickFormat(this.invLinkFunction(e.joinPoint)));for(var o,u,a=[],c=this.currPosOrderedFeatures.length-1;c>=0;--c){var s=this.currPosOrderedFeatures[c],f=e.features[s];u=5+(f.posyTop+f.posyBottom)/2,(!o||u-o>=15)&&f.posyTop-f.posyBottom>=6&&(a.push(f),o=u)}var l=[];o=void 0;var h,p=qi(this.currNegOrderedFeatures);try{for(p.s();!(h=p.n()).done;){var v=h.value,d=e.features[v];u=5+(d.negyTop+d.negyBottom)/2,(!o||o-u>=15)&&d.negyTop-d.negyBottom>=6&&(l.push(d),o=u)}}catch(t){p.e(t)}finally{p.f()}var g=function(t){var n=\"\";return null!==t.value&&void 0!==t.value&&(n=\" = \"+(isNaN(t.value)?t.value:r.ytickFormat(t.value))),e.count>1?\"mean(\"+r.props.featureNames[t.ind]+\")\"+n:r.props.featureNames[t.ind]+n},y=this.hoverGroup1.selectAll(\".pos-values\").data(a);y.enter().append(\"text\").attr(\"class\",\"pos-values\").merge(y).attr(\"x\",e.xmapScaled+5).attr(\"y\",(function(t){return 4+(t.posyTop+t.posyBottom)/2})).attr(\"text-anchor\",\"start\").attr(\"font-size\",12).attr(\"stroke\",\"#fff\").attr(\"fill\",\"#fff\").attr(\"stroke-width\",\"4\").attr(\"stroke-linejoin\",\"round\").attr(\"opacity\",1).text(g),y.exit().remove();var m=this.hoverGroup2.selectAll(\".pos-values\").data(a);m.enter().append(\"text\").attr(\"class\",\"pos-values\").merge(m).attr(\"x\",e.xmapScaled+5).attr(\"y\",(function(t){return 4+(t.posyTop+t.posyBottom)/2})).attr(\"text-anchor\",\"start\").attr(\"font-size\",12).attr(\"fill\",this.colors[0]).text(g),m.exit().remove();var _=this.hoverGroup1.selectAll(\".neg-values\").data(l);_.enter().append(\"text\").attr(\"class\",\"neg-values\").merge(_).attr(\"x\",e.xmapScaled+5).attr(\"y\",(function(t){return 4+(t.negyTop+t.negyBottom)/2})).attr(\"text-anchor\",\"start\").attr(\"font-size\",12).attr(\"stroke\",\"#fff\").attr(\"fill\",\"#fff\").attr(\"stroke-width\",\"4\").attr(\"stroke-linejoin\",\"round\").attr(\"opacity\",1).text(g),_.exit().remove();var x=this.hoverGroup2.selectAll(\".neg-values\").data(l);x.enter().append(\"text\").attr(\"class\",\"neg-values\").merge(x).attr(\"x\",e.xmapScaled+5).attr(\"y\",(function(t){return 4+(t.negyTop+t.negyBottom)/2})).attr(\"text-anchor\",\"start\").attr(\"font-size\",12).attr(\"fill\",this.colors[1]).text(g),x.exit().remove()}}},{key:\"draw\",value:function(){var t=this;if(this.props.explanations&&0!==this.props.explanations.length){(0,Ut.each)(this.props.explanations,(function(t,n){return t.origInd=n}));var n,e={},r={},i={},o=qi(this.props.explanations);try{for(o.s();!(n=o.n()).done;){var u=n.value;for(var a in u.features)void 0===e[a]&&(e[a]=0,r[a]=0,i[a]=0),u.features[a].effect>0?e[a]+=u.features[a].effect:r[a]-=u.features[a].effect,null!==u.features[a].value&&void 0!==u.features[a].value&&(i[a]+=1)}}catch(t){o.e(t)}finally{o.f()}this.usedFeatures=(0,Ut.sortBy)((0,Ut.keys)(e),(function(t){return-(e[t]+r[t])})),console.log(\"found \",this.usedFeatures.length,\" used features\"),this.posOrderedFeatures=(0,Ut.sortBy)(this.usedFeatures,(function(t){return e[t]})),this.negOrderedFeatures=(0,Ut.sortBy)(this.usedFeatures,(function(t){return-r[t]})),this.singleValueFeatures=(0,Ut.filter)(this.usedFeatures,(function(t){return i[t]>0}));var c=[\"sample order by similarity\",\"sample order by output value\",\"original sample ordering\"].concat(this.singleValueFeatures.map((function(n){return t.props.featureNames[n]})));null!=this.props.ordering_keys&&c.unshift(\"sample order by key\");var s=this.xlabel.selectAll(\"option\").data(c);s.enter().append(\"option\").merge(s).attr(\"value\",(function(t){return t})).text((function(t){return t})),s.exit().remove();var f=this.props.outNames[0]?this.props.outNames[0]:\"model output value\";(c=(0,Ut.map)(this.usedFeatures,(function(n){return[t.props.featureNames[n],t.props.featureNames[n]+\" effects\"]}))).unshift([\"model output value\",f]);var l=this.ylabel.selectAll(\"option\").data(c);l.enter().append(\"option\").merge(l).attr(\"value\",(function(t){return t[0]})).text((function(t){return t[1]})),l.exit().remove(),this.ylabel.style(\"top\",(this.height-10-this.topOffset)/2+this.topOffset+\"px\").style(\"left\",10-this.ylabel.node().offsetWidth/2+\"px\"),this.internalDraw()}}},{key:\"internalDraw\",value:function(){var t,n,e=this,r=qi(this.props.explanations);try{for(r.s();!(t=r.n()).done;){var i,o=t.value,u=qi(this.usedFeatures);try{for(u.s();!(i=u.n()).done;){var a=i.value;o.features.hasOwnProperty(a)||(o.features[a]={effect:0,value:0}),o.features[a].ind=a}}catch(t){u.e(t)}finally{u.f()}}}catch(t){r.e(t)}finally{r.f()}var c=this.xlabel.node().value,s=\"sample order by key\"===c&&null!=this.props.ordering_keys_time_format;if(this.xscale=s?Yi():Lt(),this.xaxis.scale(this.xscale),\"sample order by similarity\"===c)n=(0,Ut.sortBy)(this.props.explanations,(function(t){return t.simIndex})),(0,Ut.each)(n,(function(t,n){return t.xmap=n}));else if(\"sample order by output value\"===c)n=(0,Ut.sortBy)(this.props.explanations,(function(t){return-t.outValue})),(0,Ut.each)(n,(function(t,n){return t.xmap=n}));else if(\"original sample ordering\"===c)n=(0,Ut.sortBy)(this.props.explanations,(function(t){return t.origInd})),(0,Ut.each)(n,(function(t,n){return t.xmap=n}));else if(\"sample order by key\"===c)n=this.props.explanations,s?(0,Ut.each)(n,(function(t,n){return t.xmap=e.parseTime(e.props.ordering_keys[n])})):(0,Ut.each)(n,(function(t,n){return t.xmap=e.props.ordering_keys[n]})),n=(0,Ut.sortBy)(n,(function(t){return t.xmap}));else{var f=(0,Ut.findKey)(this.props.featureNames,(function(t){return t===c}));(0,Ut.each)(this.props.explanations,(function(t,n){return t.xmap=t.features[f].value}));var l=(0,Ut.sortBy)(this.props.explanations,(function(t){return t.xmap})),h=(0,Ut.map)(l,(function(t){return t.xmap}));if(\"string\"==typeof h[0])return void alert(\"Ordering by category names is not yet supported.\");var p,v,d=(0,Ut.min)(h),g=((0,Ut.max)(h)-d)/100;n=[];for(var y=0;y<l.length;++y){var m=l[y];if(p&&!v&&m.xmap-p.xmap<=g||v&&m.xmap-v.xmap<=g){v||((v=(0,Ut.cloneDeep)(p)).count=1);var _,x=qi(this.usedFeatures);try{for(x.s();!(_=x.n()).done;){var b=_.value;v.features[b].effect+=m.features[b].effect,v.features[b].value+=m.features[b].value}}catch(t){x.e(t)}finally{x.f()}v.count+=1}else if(p)if(v){var w,k=qi(this.usedFeatures);try{for(k.s();!(w=k.n()).done;){var S=w.value;v.features[S].effect/=v.count,v.features[S].value/=v.count}}catch(t){k.e(t)}finally{k.f()}n.push(v),v=void 0}else n.push(p);p=m}p.xmap-n[n.length-1].xmap>g&&n.push(p)}this.currUsedFeatures=this.usedFeatures,this.currPosOrderedFeatures=this.posOrderedFeatures,this.currNegOrderedFeatures=this.negOrderedFeatures;var M=this.ylabel.node().value;if(\"model output value\"!==M){var A=n;n=(0,Ut.cloneDeep)(n);for(var T=(0,Ut.findKey)(this.props.featureNames,(function(t){return t===M})),O=0;O<n.length;++O){var j=n[O].features[T];n[O].features={},n[O].features[T]=j,A[O].remapped_version=n[O]}this.currUsedFeatures=[T],this.currPosOrderedFeatures=[T],this.currNegOrderedFeatures=[T]}this.currExplanations=n,\"identity\"===this.props.link?this.invLinkFunction=function(t){return e.props.baseValue+t}:\"logit\"===this.props.link?this.invLinkFunction=function(t){return 1/(1+Math.exp(-(e.props.baseValue+t)))}:console.log(\"ERROR: Unrecognized link function: \",this.props.link),this.predValues=(0,Ut.map)(n,(function(t){return(0,Ut.sum)((0,Ut.map)(t.features,(function(t){return t.effect})))}));var E=this.wrapper.node().offsetWidth;if(0==E)return setTimeout((function(){return e.draw(n)}),500);this.svg.style(\"height\",this.height+\"px\"),this.svg.style(\"width\",E+\"px\");var C=(0,Ut.map)(n,(function(t){return t.xmap}));this.xscale.domain([(0,Ut.min)(C),(0,Ut.max)(C)]).range([this.leftOffset,E]).clamp(!0),this.xaxisElement.attr(\"transform\",\"translate(0,\"+this.topOffset+\")\").call(this.xaxis);for(var $=0;$<this.currExplanations.length;++$)this.currExplanations[$].xmapScaled=this.xscale(this.currExplanations[$].xmap);for(var F=n.length,N=0,D=0;D<F;++D){var L=n[D].features,U=(0,Ut.sum)((0,Ut.map)((0,Ut.filter)(L,(function(t){return t.effect>0})),(function(t){return t.effect})))||0,R=(0,Ut.sum)((0,Ut.map)((0,Ut.filter)(L,(function(t){return t.effect<0})),(function(t){return-t.effect})))||0;N=Math.max(N,2.2*Math.max(U,R))}this.yscale.domain([-N/2,N/2]).range([this.height-10,this.topOffset]),this.yaxisElement.attr(\"transform\",\"translate(\"+this.leftOffset+\",0)\").call(this.yaxis);for(var P=0;P<F;++P){var z,I=n[P].features,B=-((0,Ut.sum)((0,Ut.map)((0,Ut.filter)(I,(function(t){return t.effect<0})),(function(t){return-t.effect})))||0),H=void 0,W=qi(this.currPosOrderedFeatures);try{for(W.s();!(z=W.n()).done;)I[H=z.value].posyTop=this.yscale(B),I[H].effect>0&&(B+=I[H].effect),I[H].posyBottom=this.yscale(B),I[H].ind=H}catch(t){W.e(t)}finally{W.f()}var V,Y=B,q=qi(this.currNegOrderedFeatures);try{for(q.s();!(V=q.n()).done;)I[H=V.value].negyTop=this.yscale(B),I[H].effect<0&&(B-=I[H].effect),I[H].negyBottom=this.yscale(B)}catch(t){q.e(t)}finally{q.f()}n[P].joinPoint=Y,n[P].joinPointy=this.yscale(Y)}var G=we().x((function(t){return t[0]})).y((function(t){return t[1]})),Z=this.mainGroup.selectAll(\".force-bar-array-area-pos\").data(this.currUsedFeatures);Z.enter().append(\"path\").attr(\"class\",\"force-bar-array-area-pos\").merge(Z).attr(\"d\",(function(t){var e=(0,Ut.map)((0,Ut.range)(F),(function(e){return[n[e].xmapScaled,n[e].features[t].posyTop]})),r=(0,Ut.map)((0,Ut.rangeRight)(F),(function(e){return[n[e].xmapScaled,n[e].features[t].posyBottom]}));return G(e.concat(r))})).attr(\"fill\",this.colors[0]),Z.exit().remove();var X=this.mainGroup.selectAll(\".force-bar-array-area-neg\").data(this.currUsedFeatures);X.enter().append(\"path\").attr(\"class\",\"force-bar-array-area-neg\").merge(X).attr(\"d\",(function(t){var e=(0,Ut.map)((0,Ut.range)(F),(function(e){return[n[e].xmapScaled,n[e].features[t].negyTop]})),r=(0,Ut.map)((0,Ut.rangeRight)(F),(function(e){return[n[e].xmapScaled,n[e].features[t].negyBottom]}));return G(e.concat(r))})).attr(\"fill\",this.colors[1]),X.exit().remove();var K=this.mainGroup.selectAll(\".force-bar-array-divider-pos\").data(this.currUsedFeatures);K.enter().append(\"path\").attr(\"class\",\"force-bar-array-divider-pos\").merge(K).attr(\"d\",(function(t){var e=(0,Ut.map)((0,Ut.range)(F),(function(e){return[n[e].xmapScaled,n[e].features[t].posyBottom]}));return G(e)})).attr(\"fill\",\"none\").attr(\"stroke-width\",1).attr(\"stroke\",(function(){return e.colors[0].brighter(1.2)})),K.exit().remove();var J=this.mainGroup.selectAll(\".force-bar-array-divider-neg\").data(this.currUsedFeatures);J.enter().append(\"path\").attr(\"class\",\"force-bar-array-divider-neg\").merge(J).attr(\"d\",(function(t){var e=(0,Ut.map)((0,Ut.range)(F),(function(e){return[n[e].xmapScaled,n[e].features[t].negyTop]}));return G(e)})).attr(\"fill\",\"none\").attr(\"stroke-width\",1).attr(\"stroke\",(function(){return e.colors[1].brighter(1.5)})),J.exit().remove();for(var Q=function(t,n,e,r,i){var o,u,a,c;\"pos\"===i?(o=t[e].features[n].posyBottom,u=t[e].features[n].posyTop):(o=t[e].features[n].negyBottom,u=t[e].features[n].negyTop);for(var s=e+1;s<=r;++s)\"pos\"===i?(a=t[s].features[n].posyBottom,c=t[s].features[n].posyTop):(a=t[s].features[n].negyBottom,c=t[s].features[n].negyTop),a>o&&(o=a),c<u&&(u=c);return{top:o,bottom:u}},tt=[],nt=0,et=[\"pos\",\"neg\"];nt<et.length;nt++){var rt,it=et[nt],ot=qi(this.currUsedFeatures);try{for(ot.s();!(rt=ot.n()).done;)for(var ut=rt.value,at=0,ct=0,st=0,ft={top:0,bottom:0},lt=void 0;ct<F-1;){for(;st<100&&ct<F-1;)++ct,st=n[ct].xmapScaled-n[at].xmapScaled;for(ft=Q(n,ut,at,ct,it);ft.bottom-ft.top<20&&at<ct;)++at,ft=Q(n,ut,at,ct,it);if(st=n[ct].xmapScaled-n[at].xmapScaled,ft.bottom-ft.top>=20&&st>=100){for(;ct<F-1;){if(++ct,!((lt=Q(n,ut,at,ct,it)).bottom-lt.top>20)){--ct;break}ft=lt}st=n[ct].xmapScaled-n[at].xmapScaled,tt.push([(n[ct].xmapScaled+n[at].xmapScaled)/2,(ft.top+ft.bottom)/2,this.props.featureNames[ut]]);var ht=n[ct].xmapScaled;for(at=ct;ht+100>n[at].xmapScaled&&at<F-1;)++at;ct=at}}}catch(t){ot.e(t)}finally{ot.f()}}var pt=this.onTopGroup.selectAll(\".force-bar-array-flabels\").data(tt);pt.enter().append(\"text\").attr(\"class\",\"force-bar-array-flabels\").merge(pt).attr(\"x\",(function(t){return t[0]})).attr(\"y\",(function(t){return t[1]+4})).text((function(t){return t[2]})),pt.exit().remove()}},{key:\"componentWillUnmount\",value:function(){window.removeEventListener(\"resize\",this.redraw)}},{key:\"render\",value:function(){var n=this;return t.createElement(\"div\",{ref:function(t){return n.wrapper=ne(t)},style:{textAlign:\"center\"}},t.createElement(\"style\",{dangerouslySetInnerHTML:{__html:\"\\n          .force-bar-array-wrapper {\\n            text-align: center;\\n          }\\n          .force-bar-array-xaxis path {\\n            fill: none;\\n            opacity: 0.4;\\n          }\\n          .force-bar-array-xaxis .domain {\\n            opacity: 0;\\n          }\\n          .force-bar-array-xaxis paths {\\n            display: none;\\n          }\\n          .force-bar-array-yaxis path {\\n            fill: none;\\n            opacity: 0.4;\\n          }\\n          .force-bar-array-yaxis paths {\\n            display: none;\\n          }\\n          .tick line {\\n            stroke: #000;\\n            stroke-width: 1px;\\n            opacity: 0.4;\\n          }\\n          .tick text {\\n            fill: #000;\\n            opacity: 0.5;\\n            font-size: 12px;\\n            padding: 0px;\\n          }\\n          .force-bar-array-flabels {\\n            font-size: 12px;\\n            fill: #fff;\\n            text-anchor: middle;\\n          }\\n          .additive-force-array-xlabel {\\n            background: none;\\n            border: 1px solid #ccc;\\n            opacity: 0.5;\\n            margin-bottom: 0px;\\n            font-size: 12px;\\n            font-family: arial;\\n            margin-left: 80px;\\n            max-width: 300px;\\n          }\\n          .additive-force-array-xlabel:focus {\\n            outline: none;\\n          }\\n          .additive-force-array-ylabel {\\n            position: relative;\\n            top: 0px;\\n            left: 0px;\\n            transform: rotate(-90deg);\\n            background: none;\\n            border: 1px solid #ccc;\\n            opacity: 0.5;\\n            margin-bottom: 0px;\\n            font-size: 12px;\\n            font-family: arial;\\n            max-width: 150px;\\n          }\\n          .additive-force-array-ylabel:focus {\\n            outline: none;\\n          }\\n          .additive-force-array-hoverLine {\\n            stroke-width: 1px;\\n            stroke: #fff;\\n            opacity: 1;\\n          }\"}}),t.createElement(\"select\",{className:\"additive-force-array-xlabel\"}),t.createElement(\"div\",{style:{height:\"0px\",textAlign:\"left\"}},t.createElement(\"select\",{className:\"additive-force-array-ylabel\"})),t.createElement(\"svg\",{ref:function(t){return n.svg=ne(t)},style:{userSelect:\"none\",display:\"block\",fontFamily:\"arial\",sansSerif:!0}}))}}],i&&Xi(r.prototype,i),Object.defineProperty(r,\"prototype\",{writable:!1}),r;var r,i}(t.Component);no.defaultProps={plot_cmap:\"RdBu\",ordering_keys:null,ordering_keys_time_format:null};const eo=no;window.SHAP={SimpleListVisualizer:Yt,AdditiveForceVisualizer:Ee,AdditiveForceArrayVisualizer:eo,React:t,ReactDom:n}})()})();\n",
       "</script>"
      ],
      "text/plain": [
       "<IPython.core.display.HTML object>"
      ]
     },
     "metadata": {},
     "output_type": "display_data"
    },
    {
     "name": "stderr",
     "output_type": "stream",
     "text": [
      "C:\\Users\\derick\\AppData\\Local\\Temp\\ipykernel_13976\\701283614.py:28: FutureWarning: The NumPy global RNG was seeded by calling `np.random.seed`. In a future version this function will no longer use the global RNG. Pass `rng` explicitly to opt-in to the new behaviour and silence this warning.\n",
      "  shap.summary_plot(\n"
     ]
    },
    {
     "data": {
      "image/png": "[encoded data removed]",
      "text/plain": [
       "<Figure size 800x2150 with 2 Axes>"
      ]
     },
     "metadata": {},
     "output_type": "display_data"
    }
   ],
   "source": [
    "def model_wrapper(input_data):\n",
    "    with torch.no_grad():\n",
    "        input_tensor = torch.tensor(input_data).float().to(device)\n",
    "        output_tensor = best_model(input_tensor)\n",
    "        return output_tensor.cpu().numpy()\n",
    "\n",
    "sample_data = [input_batch for input_batch, _, _ in test_loader]\n",
    "sample_data = torch.cat(sample_data, dim=0)\n",
    "\n",
    "rng = np.random.default_rng()\n",
    "\n",
    "# Background and feature batches\n",
    "background_data = sample_data[rng.choice(sample_data.shape[0], 100, replace=False)].numpy()\n",
    "feature_data_batch = sample_data[rng.choice(sample_data.shape[0], 200, replace=False)].numpy()\n",
    "\n",
    "# SHAP explanation\n",
    "explainer = shap.KernelExplainer(model_wrapper, background_data)\n",
    "shap_values = explainer.shap_values(feature_data_batch)\n",
    "\n",
    "shap_values = np.squeeze(np.array(shap_values, dtype=np.float64))\n",
    "feature_data_batch = feature_data_batch.astype(np.float64)\n",
    "\n",
    "shap_value_df = pd.DataFrame(shap_values, columns=feature_names)\n",
    "feature_data_df = pd.DataFrame(feature_data_batch, columns=feature_names)\n",
    "\n",
    "# Visualize SHAP summary plot\n",
    "shap.initjs()\n",
    "shap.summary_plot(\n",
    "    shap_value_df.values,\n",
    "    feature_data_df.values,\n",
    "    feature_names=list(shap_value_df.columns),\n",
    "    max_display=50\n",
    ")"
   ]
  },
  {
   "cell_type": "code",
   "execution_count": 28,
   "metadata": {},
   "outputs": [
    {
     "data": {
      "image/png": "[encoded data removed]",
      "text/plain": [
       "<Figure size 1000x1000 with 2 Axes>"
      ]
     },
     "metadata": {},
     "output_type": "display_data"
    }
   ],
   "source": [
    "best_training_loss = best_trial.user_attrs['training_loss']\n",
    "best_validation_loss = best_trial.user_attrs['validation_ndcg']\n",
    "\n",
    "fig, axes = plt.subplots(2, 1, figsize=(10, 10))\n",
    "\n",
    "# Training Loss Plot\n",
    "for fold_idx, train_loss in enumerate(best_training_loss):\n",
    "    epochs = range(1, len(train_loss) + 1)\n",
    "    axes[0].plot(epochs, train_loss, label=f'Fold {fold_idx + 1}', marker='o')\n",
    "\n",
    "axes[0].set_title('Training Loss Across Folds')\n",
    "axes[0].set_xlabel('Epochs')\n",
    "axes[0].set_ylabel('Loss')\n",
    "axes[0].legend()\n",
    "axes[0].grid()\n",
    "\n",
    "# Validation NDCG Plot\n",
    "for fold_idx, val_ndcg in enumerate(best_validation_loss):\n",
    "    epochs = range(1, len(val_ndcg) + 1)\n",
    "    axes[1].plot(epochs, val_ndcg, label=f'Fold {fold_idx + 1}', marker='o')\n",
    "\n",
    "axes[1].set_title('Validation NDCG Across Folds')\n",
    "axes[1].set_xlabel('Epochs')\n",
    "axes[1].set_ylabel('NDCG')\n",
    "axes[1].legend()\n",
    "axes[1].grid()\n",
    "\n",
    "plt.tight_layout()\n",
    "plt.show()"
   ]
  },
  {
   "cell_type": "code",
   "execution_count": 29,
   "metadata": {},
   "outputs": [
    {
     "data": {
      "application/vnd.plotly.v1+json": {
       "config": {
        "plotlyServerURL": "https://plot.ly"
       },
       "data": [
        {
         "mode": "markers",
         "name": "Objective Value",
         "type": "scatter",
         "x": [
          0,
          1,
          2,
          3,
          4,
          5,
          6,
          7,
          8,
          9,
          10,
          11,
          12,
          13,
          14,
          15,
          16,
          17,
          18,
          19
         ],
         "y": [
          0.781190259304333,
          0.8068046819158304,
          0.8050095812595914,
          0.8079097463225333,
          0.7950885727588064,
          0.7848425960914013,
          0.8035014810470618,
          0.8124451449140488,
          0.8142252928008645,
          0.8076746110131031,
          0.7991966973473256,
          0.8094149915704886,
          0.8081853670285719,
          0.803665935426842,
          0.8062224226510061,
          0.7755954413792355,
          0.8041622465657964,
          0.8039152443571449,
          0.800078780825211,
          0.8018966316420254
         ]
        },
        {
         "mode": "lines",
         "name": "Best Value",
         "type": "scatter",
         "x": [
          0,
          1,
          2,
          3,
          4,
          5,
          6,
          7,
          8,
          9,
          10,
          11,
          12,
          13,
          14,
          15,
          16,
          17,
          18,
          19
         ],
         "y": [
          0.781190259304333,
          0.8068046819158304,
          0.8068046819158304,
          0.8079097463225333,
          0.8079097463225333,
          0.8079097463225333,
          0.8079097463225333,
          0.8124451449140488,
          0.8142252928008645,
          0.8142252928008645,
          0.8142252928008645,
          0.8142252928008645,
          0.8142252928008645,
          0.8142252928008645,
          0.8142252928008645,
          0.8142252928008645,
          0.8142252928008645,
          0.8142252928008645,
          0.8142252928008645,
          0.8142252928008645
         ]
        },
        {
         "marker": {
          "color": "#cccccc"
         },
         "mode": "markers",
         "name": "Infeasible Trial",
         "showlegend": false,
         "type": "scatter",
         "x": [],
         "y": []
        }
       ],
       "layout": {
        "template": {
         "data": {
          "bar": [
           {
            "error_x": {
             "color": "#2a3f5f"
            },
            "error_y": {
             "color": "#2a3f5f"
            },
            "marker": {
             "line": {
              "color": "#E5ECF6",
              "width": 0.5
             },
             "pattern": {
              "fillmode": "overlay",
              "size": 10,
              "solidity": 0.2
             }
            },
            "type": "bar"
           }
          ],
          "barpolar": [
           {
            "marker": {
             "line": {
              "color": "#E5ECF6",
              "width": 0.5
             },
             "pattern": {
              "fillmode": "overlay",
              "size": 10,
              "solidity": 0.2
             }
            },
            "type": "barpolar"
           }
          ],
          "carpet": [
           {
            "aaxis": {
             "endlinecolor": "#2a3f5f",
             "gridcolor": "white",
             "linecolor": "white",
             "minorgridcolor": "white",
             "startlinecolor": "#2a3f5f"
            },
            "baxis": {
             "endlinecolor": "#2a3f5f",
             "gridcolor": "white",
             "linecolor": "white",
             "minorgridcolor": "white",
             "startlinecolor": "#2a3f5f"
            },
            "type": "carpet"
           }
          ],
          "choropleth": [
           {
            "colorbar": {
             "outlinewidth": 0,
             "ticks": ""
            },
            "type": "choropleth"
           }
          ],
          "contour": [
           {
            "colorbar": {
             "outlinewidth": 0,
             "ticks": ""
            },
            "colorscale": [
             [
              0,
              "#0d0887"
             ],
             [
              0.1111111111111111,
              "#46039f"
             ],
             [
              0.2222222222222222,
              "#7201a8"
             ],
             [
              0.3333333333333333,
              "#9c179e"
             ],
             [
              0.4444444444444444,
              "#bd3786"
             ],
             [
              0.5555555555555556,
              "#d8576b"
             ],
             [
              0.6666666666666666,
              "#ed7953"
             ],
             [
              0.7777777777777778,
              "#fb9f3a"
             ],
             [
              0.8888888888888888,
              "#fdca26"
             ],
             [
              1,
              "#f0f921"
             ]
            ],
            "type": "contour"
           }
          ],
          "contourcarpet": [
           {
            "colorbar": {
             "outlinewidth": 0,
             "ticks": ""
            },
            "type": "contourcarpet"
           }
          ],
          "heatmap": [
           {
            "colorbar": {
             "outlinewidth": 0,
             "ticks": ""
            },
            "colorscale": [
             [
              0,
              "#0d0887"
             ],
             [
              0.1111111111111111,
              "#46039f"
             ],
             [
              0.2222222222222222,
              "#7201a8"
             ],
             [
              0.3333333333333333,
              "#9c179e"
             ],
             [
              0.4444444444444444,
              "#bd3786"
             ],
             [
              0.5555555555555556,
              "#d8576b"
             ],
             [
              0.6666666666666666,
              "#ed7953"
             ],
             [
              0.7777777777777778,
              "#fb9f3a"
             ],
             [
              0.8888888888888888,
              "#fdca26"
             ],
             [
              1,
              "#f0f921"
             ]
            ],
            "type": "heatmap"
           }
          ],
          "histogram": [
           {
            "marker": {
             "pattern": {
              "fillmode": "overlay",
              "size": 10,
              "solidity": 0.2
             }
            },
            "type": "histogram"
           }
          ],
          "histogram2d": [
           {
            "colorbar": {
             "outlinewidth": 0,
             "ticks": ""
            },
            "colorscale": [
             [
              0,
              "#0d0887"
             ],
             [
              0.1111111111111111,
              "#46039f"
             ],
             [
              0.2222222222222222,
              "#7201a8"
             ],
             [
              0.3333333333333333,
              "#9c179e"
             ],
             [
              0.4444444444444444,
              "#bd3786"
             ],
             [
              0.5555555555555556,
              "#d8576b"
             ],
             [
              0.6666666666666666,
              "#ed7953"
             ],
             [
              0.7777777777777778,
              "#fb9f3a"
             ],
             [
              0.8888888888888888,
              "#fdca26"
             ],
             [
              1,
              "#f0f921"
             ]
            ],
            "type": "histogram2d"
           }
          ],
          "histogram2dcontour": [
           {
            "colorbar": {
             "outlinewidth": 0,
             "ticks": ""
            },
            "colorscale": [
             [
              0,
              "#0d0887"
             ],
             [
              0.1111111111111111,
              "#46039f"
             ],
             [
              0.2222222222222222,
              "#7201a8"
             ],
             [
              0.3333333333333333,
              "#9c179e"
             ],
             [
              0.4444444444444444,
              "#bd3786"
             ],
             [
              0.5555555555555556,
              "#d8576b"
             ],
             [
              0.6666666666666666,
              "#ed7953"
             ],
             [
              0.7777777777777778,
              "#fb9f3a"
             ],
             [
              0.8888888888888888,
              "#fdca26"
             ],
             [
              1,
              "#f0f921"
             ]
            ],
            "type": "histogram2dcontour"
           }
          ],
          "mesh3d": [
           {
            "colorbar": {
             "outlinewidth": 0,
             "ticks": ""
            },
            "type": "mesh3d"
           }
          ],
          "parcoords": [
           {
            "line": {
             "colorbar": {
              "outlinewidth": 0,
              "ticks": ""
             }
            },
            "type": "parcoords"
           }
          ],
          "pie": [
           {
            "automargin": true,
            "type": "pie"
           }
          ],
          "scatter": [
           {
            "fillpattern": {
             "fillmode": "overlay",
             "size": 10,
             "solidity": 0.2
            },
            "type": "scatter"
           }
          ],
          "scatter3d": [
           {
            "line": {
             "colorbar": {
              "outlinewidth": 0,
              "ticks": ""
             }
            },
            "marker": {
             "colorbar": {
              "outlinewidth": 0,
              "ticks": ""
             }
            },
            "type": "scatter3d"
           }
          ],
          "scattercarpet": [
           {
            "marker": {
             "colorbar": {
              "outlinewidth": 0,
              "ticks": ""
             }
            },
            "type": "scattercarpet"
           }
          ],
          "scattergeo": [
           {
            "marker": {
             "colorbar": {
              "outlinewidth": 0,
              "ticks": ""
             }
            },
            "type": "scattergeo"
           }
          ],
          "scattergl": [
           {
            "marker": {
             "colorbar": {
              "outlinewidth": 0,
              "ticks": ""
             }
            },
            "type": "scattergl"
           }
          ],
          "scattermap": [
           {
            "marker": {
             "colorbar": {
              "outlinewidth": 0,
              "ticks": ""
             }
            },
            "type": "scattermap"
           }
          ],
          "scattermapbox": [
           {
            "marker": {
             "colorbar": {
              "outlinewidth": 0,
              "ticks": ""
             }
            },
            "type": "scattermapbox"
           }
          ],
          "scatterpolar": [
           {
            "marker": {
             "colorbar": {
              "outlinewidth": 0,
              "ticks": ""
             }
            },
            "type": "scatterpolar"
           }
          ],
          "scatterpolargl": [
           {
            "marker": {
             "colorbar": {
              "outlinewidth": 0,
              "ticks": ""
             }
            },
            "type": "scatterpolargl"
           }
          ],
          "scatterternary": [
           {
            "marker": {
             "colorbar": {
              "outlinewidth": 0,
              "ticks": ""
             }
            },
            "type": "scatterternary"
           }
          ],
          "surface": [
           {
            "colorbar": {
             "outlinewidth": 0,
             "ticks": ""
            },
            "colorscale": [
             [
              0,
              "#0d0887"
             ],
             [
              0.1111111111111111,
              "#46039f"
             ],
             [
              0.2222222222222222,
              "#7201a8"
             ],
             [
              0.3333333333333333,
              "#9c179e"
             ],
             [
              0.4444444444444444,
              "#bd3786"
             ],
             [
              0.5555555555555556,
              "#d8576b"
             ],
             [
              0.6666666666666666,
              "#ed7953"
             ],
             [
              0.7777777777777778,
              "#fb9f3a"
             ],
             [
              0.8888888888888888,
              "#fdca26"
             ],
             [
              1,
              "#f0f921"
             ]
            ],
            "type": "surface"
           }
          ],
          "table": [
           {
            "cells": {
             "fill": {
              "color": "#EBF0F8"
             },
             "line": {
              "color": "white"
             }
            },
            "header": {
             "fill": {
              "color": "#C8D4E3"
             },
             "line": {
              "color": "white"
             }
            },
            "type": "table"
           }
          ]
         },
         "layout": {
          "annotationdefaults": {
           "arrowcolor": "#2a3f5f",
           "arrowhead": 0,
           "arrowwidth": 1
          },
          "autotypenumbers": "strict",
          "coloraxis": {
           "colorbar": {
            "outlinewidth": 0,
            "ticks": ""
           }
          },
          "colorscale": {
           "diverging": [
            [
             0,
             "#8e0152"
            ],
            [
             0.1,
             "#c51b7d"
            ],
            [
             0.2,
             "#de77ae"
            ],
            [
             0.3,
             "#f1b6da"
            ],
            [
             0.4,
             "#fde0ef"
            ],
            [
             0.5,
             "#f7f7f7"
            ],
            [
             0.6,
             "#e6f5d0"
            ],
            [
             0.7,
             "#b8e186"
            ],
            [
             0.8,
             "#7fbc41"
            ],
            [
             0.9,
             "#4d9221"
            ],
            [
             1,
             "#276419"
            ]
           ],
           "sequential": [
            [
             0,
             "#0d0887"
            ],
            [
             0.1111111111111111,
             "#46039f"
            ],
            [
             0.2222222222222222,
             "#7201a8"
            ],
            [
             0.3333333333333333,
             "#9c179e"
            ],
            [
             0.4444444444444444,
             "#bd3786"
            ],
            [
             0.5555555555555556,
             "#d8576b"
            ],
            [
             0.6666666666666666,
             "#ed7953"
            ],
            [
             0.7777777777777778,
             "#fb9f3a"
            ],
            [
             0.8888888888888888,
             "#fdca26"
            ],
            [
             1,
             "#f0f921"
            ]
           ],
           "sequentialminus": [
            [
             0,
             "#0d0887"
            ],
            [
             0.1111111111111111,
             "#46039f"
            ],
            [
             0.2222222222222222,
             "#7201a8"
            ],
            [
             0.3333333333333333,
             "#9c179e"
            ],
            [
             0.4444444444444444,
             "#bd3786"
            ],
            [
             0.5555555555555556,
             "#d8576b"
            ],
            [
             0.6666666666666666,
             "#ed7953"
            ],
            [
             0.7777777777777778,
             "#fb9f3a"
            ],
            [
             0.8888888888888888,
             "#fdca26"
            ],
            [
             1,
             "#f0f921"
            ]
           ]
          },
          "colorway": [
           "#636efa",
           "#EF553B",
           "#00cc96",
           "#ab63fa",
           "#FFA15A",
           "#19d3f3",
           "#FF6692",
           "#B6E880",
           "#FF97FF",
           "#FECB52"
          ],
          "font": {
           "color": "#2a3f5f"
          },
          "geo": {
           "bgcolor": "white",
           "lakecolor": "white",
           "landcolor": "#E5ECF6",
           "showlakes": true,
           "showland": true,
           "subunitcolor": "white"
          },
          "hoverlabel": {
           "align": "left"
          },
          "hovermode": "closest",
          "mapbox": {
           "style": "light"
          },
          "paper_bgcolor": "white",
          "plot_bgcolor": "#E5ECF6",
          "polar": {
           "angularaxis": {
            "gridcolor": "white",
            "linecolor": "white",
            "ticks": ""
           },
           "bgcolor": "#E5ECF6",
           "radialaxis": {
            "gridcolor": "white",
            "linecolor": "white",
            "ticks": ""
           }
          },
          "scene": {
           "xaxis": {
            "backgroundcolor": "#E5ECF6",
            "gridcolor": "white",
            "gridwidth": 2,
            "linecolor": "white",
            "showbackground": true,
            "ticks": "",
            "zerolinecolor": "white"
           },
           "yaxis": {
            "backgroundcolor": "#E5ECF6",
            "gridcolor": "white",
            "gridwidth": 2,
            "linecolor": "white",
            "showbackground": true,
            "ticks": "",
            "zerolinecolor": "white"
           },
           "zaxis": {
            "backgroundcolor": "#E5ECF6",
            "gridcolor": "white",
            "gridwidth": 2,
            "linecolor": "white",
            "showbackground": true,
            "ticks": "",
            "zerolinecolor": "white"
           }
          },
          "shapedefaults": {
           "line": {
            "color": "#2a3f5f"
           }
          },
          "ternary": {
           "aaxis": {
            "gridcolor": "white",
            "linecolor": "white",
            "ticks": ""
           },
           "baxis": {
            "gridcolor": "white",
            "linecolor": "white",
            "ticks": ""
           },
           "bgcolor": "#E5ECF6",
           "caxis": {
            "gridcolor": "white",
            "linecolor": "white",
            "ticks": ""
           }
          },
          "title": {
           "x": 0.05
          },
          "xaxis": {
           "automargin": true,
           "gridcolor": "white",
           "linecolor": "white",
           "ticks": "",
           "title": {
            "standoff": 15
           },
           "zerolinecolor": "white",
           "zerolinewidth": 2
          },
          "yaxis": {
           "automargin": true,
           "gridcolor": "white",
           "linecolor": "white",
           "ticks": "",
           "title": {
            "standoff": 15
           },
           "zerolinecolor": "white",
           "zerolinewidth": 2
          }
         }
        },
        "title": {
         "text": "Optimization History Plot"
        },
        "xaxis": {
         "title": {
          "text": "Trial"
         }
        },
        "yaxis": {
         "title": {
          "text": "Objective Value"
         }
        }
       }
      }
     },
     "metadata": {},
     "output_type": "display_data"
    }
   ],
   "source": [
    "plot_optimization_history(study).show()"
   ]
  },
  {
   "cell_type": "code",
   "execution_count": 30,
   "metadata": {},
   "outputs": [
    {
     "data": {
      "application/vnd.plotly.v1+json": {
       "config": {
        "plotlyServerURL": "https://plot.ly"
       },
       "data": [
        {
         "cliponaxis": false,
         "hovertemplate": [
          "num_layers (IntDistribution): 0.0166089513217707<extra></extra>",
          "dropout_rate (FloatDistribution): 0.029166851441506852<extra></extra>",
          "hidden_size_0 (IntDistribution): 0.06623368838498725<extra></extra>",
          "embedding_dim (IntDistribution): 0.12181264778151916<extra></extra>",
          "hidden_size_1 (IntDistribution): 0.23998790496151903<extra></extra>",
          "learning_rate (FloatDistribution): 0.5261899561086969<extra></extra>"
         ],
         "name": "Objective Value",
         "orientation": "h",
         "text": [
          "0.02",
          "0.03",
          "0.07",
          "0.12",
          "0.24",
          "0.53"
         ],
         "textposition": "outside",
         "type": "bar",
         "x": [
          0.0166089513217707,
          0.029166851441506852,
          0.06623368838498725,
          0.12181264778151916,
          0.23998790496151903,
          0.5261899561086969
         ],
         "y": [
          "num_layers",
          "dropout_rate",
          "hidden_size_0",
          "embedding_dim",
          "hidden_size_1",
          "learning_rate"
         ]
        }
       ],
       "layout": {
        "template": {
         "data": {
          "bar": [
           {
            "error_x": {
             "color": "#2a3f5f"
            },
            "error_y": {
             "color": "#2a3f5f"
            },
            "marker": {
             "line": {
              "color": "#E5ECF6",
              "width": 0.5
             },
             "pattern": {
              "fillmode": "overlay",
              "size": 10,
              "solidity": 0.2
             }
            },
            "type": "bar"
           }
          ],
          "barpolar": [
           {
            "marker": {
             "line": {
              "color": "#E5ECF6",
              "width": 0.5
             },
             "pattern": {
              "fillmode": "overlay",
              "size": 10,
              "solidity": 0.2
             }
            },
            "type": "barpolar"
           }
          ],
          "carpet": [
           {
            "aaxis": {
             "endlinecolor": "#2a3f5f",
             "gridcolor": "white",
             "linecolor": "white",
             "minorgridcolor": "white",
             "startlinecolor": "#2a3f5f"
            },
            "baxis": {
             "endlinecolor": "#2a3f5f",
             "gridcolor": "white",
             "linecolor": "white",
             "minorgridcolor": "white",
             "startlinecolor": "#2a3f5f"
            },
            "type": "carpet"
           }
          ],
          "choropleth": [
           {
            "colorbar": {
             "outlinewidth": 0,
             "ticks": ""
            },
            "type": "choropleth"
           }
          ],
          "contour": [
           {
            "colorbar": {
             "outlinewidth": 0,
             "ticks": ""
            },
            "colorscale": [
             [
              0,
              "#0d0887"
             ],
             [
              0.1111111111111111,
              "#46039f"
             ],
             [
              0.2222222222222222,
              "#7201a8"
             ],
             [
              0.3333333333333333,
              "#9c179e"
             ],
             [
              0.4444444444444444,
              "#bd3786"
             ],
             [
              0.5555555555555556,
              "#d8576b"
             ],
             [
              0.6666666666666666,
              "#ed7953"
             ],
             [
              0.7777777777777778,
              "#fb9f3a"
             ],
             [
              0.8888888888888888,
              "#fdca26"
             ],
             [
              1,
              "#f0f921"
             ]
            ],
            "type": "contour"
           }
          ],
          "contourcarpet": [
           {
            "colorbar": {
             "outlinewidth": 0,
             "ticks": ""
            },
            "type": "contourcarpet"
           }
          ],
          "heatmap": [
           {
            "colorbar": {
             "outlinewidth": 0,
             "ticks": ""
            },
            "colorscale": [
             [
              0,
              "#0d0887"
             ],
             [
              0.1111111111111111,
              "#46039f"
             ],
             [
              0.2222222222222222,
              "#7201a8"
             ],
             [
              0.3333333333333333,
              "#9c179e"
             ],
             [
              0.4444444444444444,
              "#bd3786"
             ],
             [
              0.5555555555555556,
              "#d8576b"
             ],
             [
              0.6666666666666666,
              "#ed7953"
             ],
             [
              0.7777777777777778,
              "#fb9f3a"
             ],
             [
              0.8888888888888888,
              "#fdca26"
             ],
             [
              1,
              "#f0f921"
             ]
            ],
            "type": "heatmap"
           }
          ],
          "histogram": [
           {
            "marker": {
             "pattern": {
              "fillmode": "overlay",
              "size": 10,
              "solidity": 0.2
             }
            },
            "type": "histogram"
           }
          ],
          "histogram2d": [
           {
            "colorbar": {
             "outlinewidth": 0,
             "ticks": ""
            },
            "colorscale": [
             [
              0,
              "#0d0887"
             ],
             [
              0.1111111111111111,
              "#46039f"
             ],
             [
              0.2222222222222222,
              "#7201a8"
             ],
             [
              0.3333333333333333,
              "#9c179e"
             ],
             [
              0.4444444444444444,
              "#bd3786"
             ],
             [
              0.5555555555555556,
              "#d8576b"
             ],
             [
              0.6666666666666666,
              "#ed7953"
             ],
             [
              0.7777777777777778,
              "#fb9f3a"
             ],
             [
              0.8888888888888888,
              "#fdca26"
             ],
             [
              1,
              "#f0f921"
             ]
            ],
            "type": "histogram2d"
           }
          ],
          "histogram2dcontour": [
           {
            "colorbar": {
             "outlinewidth": 0,
             "ticks": ""
            },
            "colorscale": [
             [
              0,
              "#0d0887"
             ],
             [
              0.1111111111111111,
              "#46039f"
             ],
             [
              0.2222222222222222,
              "#7201a8"
             ],
             [
              0.3333333333333333,
              "#9c179e"
             ],
             [
              0.4444444444444444,
              "#bd3786"
             ],
             [
              0.5555555555555556,
              "#d8576b"
             ],
             [
              0.6666666666666666,
              "#ed7953"
             ],
             [
              0.7777777777777778,
              "#fb9f3a"
             ],
             [
              0.8888888888888888,
              "#fdca26"
             ],
             [
              1,
              "#f0f921"
             ]
            ],
            "type": "histogram2dcontour"
           }
          ],
          "mesh3d": [
           {
            "colorbar": {
             "outlinewidth": 0,
             "ticks": ""
            },
            "type": "mesh3d"
           }
          ],
          "parcoords": [
           {
            "line": {
             "colorbar": {
              "outlinewidth": 0,
              "ticks": ""
             }
            },
            "type": "parcoords"
           }
          ],
          "pie": [
           {
            "automargin": true,
            "type": "pie"
           }
          ],
          "scatter": [
           {
            "fillpattern": {
             "fillmode": "overlay",
             "size": 10,
             "solidity": 0.2
            },
            "type": "scatter"
           }
          ],
          "scatter3d": [
           {
            "line": {
             "colorbar": {
              "outlinewidth": 0,
              "ticks": ""
             }
            },
            "marker": {
             "colorbar": {
              "outlinewidth": 0,
              "ticks": ""
             }
            },
            "type": "scatter3d"
           }
          ],
          "scattercarpet": [
           {
            "marker": {
             "colorbar": {
              "outlinewidth": 0,
              "ticks": ""
             }
            },
            "type": "scattercarpet"
           }
          ],
          "scattergeo": [
           {
            "marker": {
             "colorbar": {
              "outlinewidth": 0,
              "ticks": ""
             }
            },
            "type": "scattergeo"
           }
          ],
          "scattergl": [
           {
            "marker": {
             "colorbar": {
              "outlinewidth": 0,
              "ticks": ""
             }
            },
            "type": "scattergl"
           }
          ],
          "scattermap": [
           {
            "marker": {
             "colorbar": {
              "outlinewidth": 0,
              "ticks": ""
             }
            },
            "type": "scattermap"
           }
          ],
          "scattermapbox": [
           {
            "marker": {
             "colorbar": {
              "outlinewidth": 0,
              "ticks": ""
             }
            },
            "type": "scattermapbox"
           }
          ],
          "scatterpolar": [
           {
            "marker": {
             "colorbar": {
              "outlinewidth": 0,
              "ticks": ""
             }
            },
            "type": "scatterpolar"
           }
          ],
          "scatterpolargl": [
           {
            "marker": {
             "colorbar": {
              "outlinewidth": 0,
              "ticks": ""
             }
            },
            "type": "scatterpolargl"
           }
          ],
          "scatterternary": [
           {
            "marker": {
             "colorbar": {
              "outlinewidth": 0,
              "ticks": ""
             }
            },
            "type": "scatterternary"
           }
          ],
          "surface": [
           {
            "colorbar": {
             "outlinewidth": 0,
             "ticks": ""
            },
            "colorscale": [
             [
              0,
              "#0d0887"
             ],
             [
              0.1111111111111111,
              "#46039f"
             ],
             [
              0.2222222222222222,
              "#7201a8"
             ],
             [
              0.3333333333333333,
              "#9c179e"
             ],
             [
              0.4444444444444444,
              "#bd3786"
             ],
             [
              0.5555555555555556,
              "#d8576b"
             ],
             [
              0.6666666666666666,
              "#ed7953"
             ],
             [
              0.7777777777777778,
              "#fb9f3a"
             ],
             [
              0.8888888888888888,
              "#fdca26"
             ],
             [
              1,
              "#f0f921"
             ]
            ],
            "type": "surface"
           }
          ],
          "table": [
           {
            "cells": {
             "fill": {
              "color": "#EBF0F8"
             },
             "line": {
              "color": "white"
             }
            },
            "header": {
             "fill": {
              "color": "#C8D4E3"
             },
             "line": {
              "color": "white"
             }
            },
            "type": "table"
           }
          ]
         },
         "layout": {
          "annotationdefaults": {
           "arrowcolor": "#2a3f5f",
           "arrowhead": 0,
           "arrowwidth": 1
          },
          "autotypenumbers": "strict",
          "coloraxis": {
           "colorbar": {
            "outlinewidth": 0,
            "ticks": ""
           }
          },
          "colorscale": {
           "diverging": [
            [
             0,
             "#8e0152"
            ],
            [
             0.1,
             "#c51b7d"
            ],
            [
             0.2,
             "#de77ae"
            ],
            [
             0.3,
             "#f1b6da"
            ],
            [
             0.4,
             "#fde0ef"
            ],
            [
             0.5,
             "#f7f7f7"
            ],
            [
             0.6,
             "#e6f5d0"
            ],
            [
             0.7,
             "#b8e186"
            ],
            [
             0.8,
             "#7fbc41"
            ],
            [
             0.9,
             "#4d9221"
            ],
            [
             1,
             "#276419"
            ]
           ],
           "sequential": [
            [
             0,
             "#0d0887"
            ],
            [
             0.1111111111111111,
             "#46039f"
            ],
            [
             0.2222222222222222,
             "#7201a8"
            ],
            [
             0.3333333333333333,
             "#9c179e"
            ],
            [
             0.4444444444444444,
             "#bd3786"
            ],
            [
             0.5555555555555556,
             "#d8576b"
            ],
            [
             0.6666666666666666,
             "#ed7953"
            ],
            [
             0.7777777777777778,
             "#fb9f3a"
            ],
            [
             0.8888888888888888,
             "#fdca26"
            ],
            [
             1,
             "#f0f921"
            ]
           ],
           "sequentialminus": [
            [
             0,
             "#0d0887"
            ],
            [
             0.1111111111111111,
             "#46039f"
            ],
            [
             0.2222222222222222,
             "#7201a8"
            ],
            [
             0.3333333333333333,
             "#9c179e"
            ],
            [
             0.4444444444444444,
             "#bd3786"
            ],
            [
             0.5555555555555556,
             "#d8576b"
            ],
            [
             0.6666666666666666,
             "#ed7953"
            ],
            [
             0.7777777777777778,
             "#fb9f3a"
            ],
            [
             0.8888888888888888,
             "#fdca26"
            ],
            [
             1,
             "#f0f921"
            ]
           ]
          },
          "colorway": [
           "#636efa",
           "#EF553B",
           "#00cc96",
           "#ab63fa",
           "#FFA15A",
           "#19d3f3",
           "#FF6692",
           "#B6E880",
           "#FF97FF",
           "#FECB52"
          ],
          "font": {
           "color": "#2a3f5f"
          },
          "geo": {
           "bgcolor": "white",
           "lakecolor": "white",
           "landcolor": "#E5ECF6",
           "showlakes": true,
           "showland": true,
           "subunitcolor": "white"
          },
          "hoverlabel": {
           "align": "left"
          },
          "hovermode": "closest",
          "mapbox": {
           "style": "light"
          },
          "paper_bgcolor": "white",
          "plot_bgcolor": "#E5ECF6",
          "polar": {
           "angularaxis": {
            "gridcolor": "white",
            "linecolor": "white",
            "ticks": ""
           },
           "bgcolor": "#E5ECF6",
           "radialaxis": {
            "gridcolor": "white",
            "linecolor": "white",
            "ticks": ""
           }
          },
          "scene": {
           "xaxis": {
            "backgroundcolor": "#E5ECF6",
            "gridcolor": "white",
            "gridwidth": 2,
            "linecolor": "white",
            "showbackground": true,
            "ticks": "",
            "zerolinecolor": "white"
           },
           "yaxis": {
            "backgroundcolor": "#E5ECF6",
            "gridcolor": "white",
            "gridwidth": 2,
            "linecolor": "white",
            "showbackground": true,
            "ticks": "",
            "zerolinecolor": "white"
           },
           "zaxis": {
            "backgroundcolor": "#E5ECF6",
            "gridcolor": "white",
            "gridwidth": 2,
            "linecolor": "white",
            "showbackground": true,
            "ticks": "",
            "zerolinecolor": "white"
           }
          },
          "shapedefaults": {
           "line": {
            "color": "#2a3f5f"
           }
          },
          "ternary": {
           "aaxis": {
            "gridcolor": "white",
            "linecolor": "white",
            "ticks": ""
           },
           "baxis": {
            "gridcolor": "white",
            "linecolor": "white",
            "ticks": ""
           },
           "bgcolor": "#E5ECF6",
           "caxis": {
            "gridcolor": "white",
            "linecolor": "white",
            "ticks": ""
           }
          },
          "title": {
           "x": 0.05
          },
          "xaxis": {
           "automargin": true,
           "gridcolor": "white",
           "linecolor": "white",
           "ticks": "",
           "title": {
            "standoff": 15
           },
           "zerolinecolor": "white",
           "zerolinewidth": 2
          },
          "yaxis": {
           "automargin": true,
           "gridcolor": "white",
           "linecolor": "white",
           "ticks": "",
           "title": {
            "standoff": 15
           },
           "zerolinecolor": "white",
           "zerolinewidth": 2
          }
         }
        },
        "title": {
         "text": "Hyperparameter Importances"
        },
        "xaxis": {
         "title": {
          "text": "Hyperparameter Importance"
         }
        },
        "yaxis": {
         "title": {
          "text": "Hyperparameter"
         }
        }
       }
      }
     },
     "metadata": {},
     "output_type": "display_data"
    }
   ],
   "source": [
    "plot_param_importances(study).show()"
   ]
  },
  {
   "cell_type": "code",
   "execution_count": 31,
   "metadata": {},
   "outputs": [
    {
     "data": {
      "application/vnd.plotly.v1+json": {
       "config": {
        "plotlyServerURL": "https://plot.ly"
       },
       "data": [
        {
         "dimensions": [
          {
           "label": "Objective Value",
           "range": [
            0.781190259304333,
            0.8068046819158304
           ],
           "values": [
            0.781190259304333,
            0.8068046819158304,
            0.803665935426842,
            0.8039152443571449
           ]
          },
          {
           "label": "dropout_rate",
           "range": [
            0.2147617134384135,
            0.49744554895909354
           ],
           "values": [
            0.4597818814842819,
            0.43440887795033534,
            0.49744554895909354,
            0.2147617134384135
           ]
          },
          {
           "label": "embedding_dim",
           "range": [
            10,
            13
           ],
           "values": [
            11,
            13,
            10,
            11
           ]
          },
          {
           "label": "hidden_size_0",
           "range": [
            52,
            123
           ],
           "values": [
            123,
            61,
            86,
            52
           ]
          },
          {
           "label": "hidden_size_1",
           "range": [
            46,
            119
           ],
           "values": [
            119,
            60,
            46,
            69
           ]
          },
          {
           "label": "hidden_size_2",
           "range": [
            50,
            97
           ],
           "values": [
            77,
            50,
            97,
            61
           ]
          },
          {
           "label": "hidden_size_3",
           "range": [
            35,
            123
           ],
           "values": [
            123,
            94,
            48,
            35
           ]
          },
          {
           "label": "hidden_size_4",
           "range": [
            16,
            128
           ],
           "values": [
            122,
            55,
            16,
            128
           ]
          },
          {
           "label": "learning_rate",
           "range": [
            -3.535976340167729,
            -2.2558581304751493
           ],
           "ticktext": [
            "0.000291",
            "0.001",
            "0.00555"
           ],
           "tickvals": [
            -3.535976340167729,
            -3,
            -2.2558581304751493
           ],
           "values": [
            -3.535976340167729,
            -2.816872837552461,
            -2.2558581304751493,
            -2.4936799046226215
           ]
          },
          {
           "label": "num_layers",
           "range": [
            5,
            5
           ],
           "values": [
            5,
            5,
            5,
            5
           ]
          }
         ],
         "labelangle": 30,
         "labelside": "bottom",
         "line": {
          "color": [
           0.781190259304333,
           0.8068046819158304,
           0.803665935426842,
           0.8039152443571449
          ],
          "colorbar": {
           "title": {
            "text": "Objective Value"
           }
          },
          "colorscale": [
           [
            0,
            "rgb(247,251,255)"
           ],
           [
            0.125,
            "rgb(222,235,247)"
           ],
           [
            0.25,
            "rgb(198,219,239)"
           ],
           [
            0.375,
            "rgb(158,202,225)"
           ],
           [
            0.5,
            "rgb(107,174,214)"
           ],
           [
            0.625,
            "rgb(66,146,198)"
           ],
           [
            0.75,
            "rgb(33,113,181)"
           ],
           [
            0.875,
            "rgb(8,81,156)"
           ],
           [
            1,
            "rgb(8,48,107)"
           ]
          ],
          "reversescale": false,
          "showscale": true
         },
         "type": "parcoords"
        }
       ],
       "layout": {
        "template": {
         "data": {
          "bar": [
           {
            "error_x": {
             "color": "#2a3f5f"
            },
            "error_y": {
             "color": "#2a3f5f"
            },
            "marker": {
             "line": {
              "color": "#E5ECF6",
              "width": 0.5
             },
             "pattern": {
              "fillmode": "overlay",
              "size": 10,
              "solidity": 0.2
             }
            },
            "type": "bar"
           }
          ],
          "barpolar": [
           {
            "marker": {
             "line": {
              "color": "#E5ECF6",
              "width": 0.5
             },
             "pattern": {
              "fillmode": "overlay",
              "size": 10,
              "solidity": 0.2
             }
            },
            "type": "barpolar"
           }
          ],
          "carpet": [
           {
            "aaxis": {
             "endlinecolor": "#2a3f5f",
             "gridcolor": "white",
             "linecolor": "white",
             "minorgridcolor": "white",
             "startlinecolor": "#2a3f5f"
            },
            "baxis": {
             "endlinecolor": "#2a3f5f",
             "gridcolor": "white",
             "linecolor": "white",
             "minorgridcolor": "white",
             "startlinecolor": "#2a3f5f"
            },
            "type": "carpet"
           }
          ],
          "choropleth": [
           {
            "colorbar": {
             "outlinewidth": 0,
             "ticks": ""
            },
            "type": "choropleth"
           }
          ],
          "contour": [
           {
            "colorbar": {
             "outlinewidth": 0,
             "ticks": ""
            },
            "colorscale": [
             [
              0,
              "#0d0887"
             ],
             [
              0.1111111111111111,
              "#46039f"
             ],
             [
              0.2222222222222222,
              "#7201a8"
             ],
             [
              0.3333333333333333,
              "#9c179e"
             ],
             [
              0.4444444444444444,
              "#bd3786"
             ],
             [
              0.5555555555555556,
              "#d8576b"
             ],
             [
              0.6666666666666666,
              "#ed7953"
             ],
             [
              0.7777777777777778,
              "#fb9f3a"
             ],
             [
              0.8888888888888888,
              "#fdca26"
             ],
             [
              1,
              "#f0f921"
             ]
            ],
            "type": "contour"
           }
          ],
          "contourcarpet": [
           {
            "colorbar": {
             "outlinewidth": 0,
             "ticks": ""
            },
            "type": "contourcarpet"
           }
          ],
          "heatmap": [
           {
            "colorbar": {
             "outlinewidth": 0,
             "ticks": ""
            },
            "colorscale": [
             [
              0,
              "#0d0887"
             ],
             [
              0.1111111111111111,
              "#46039f"
             ],
             [
              0.2222222222222222,
              "#7201a8"
             ],
             [
              0.3333333333333333,
              "#9c179e"
             ],
             [
              0.4444444444444444,
              "#bd3786"
             ],
             [
              0.5555555555555556,
              "#d8576b"
             ],
             [
              0.6666666666666666,
              "#ed7953"
             ],
             [
              0.7777777777777778,
              "#fb9f3a"
             ],
             [
              0.8888888888888888,
              "#fdca26"
             ],
             [
              1,
              "#f0f921"
             ]
            ],
            "type": "heatmap"
           }
          ],
          "histogram": [
           {
            "marker": {
             "pattern": {
              "fillmode": "overlay",
              "size": 10,
              "solidity": 0.2
             }
            },
            "type": "histogram"
           }
          ],
          "histogram2d": [
           {
            "colorbar": {
             "outlinewidth": 0,
             "ticks": ""
            },
            "colorscale": [
             [
              0,
              "#0d0887"
             ],
             [
              0.1111111111111111,
              "#46039f"
             ],
             [
              0.2222222222222222,
              "#7201a8"
             ],
             [
              0.3333333333333333,
              "#9c179e"
             ],
             [
              0.4444444444444444,
              "#bd3786"
             ],
             [
              0.5555555555555556,
              "#d8576b"
             ],
             [
              0.6666666666666666,
              "#ed7953"
             ],
             [
              0.7777777777777778,
              "#fb9f3a"
             ],
             [
              0.8888888888888888,
              "#fdca26"
             ],
             [
              1,
              "#f0f921"
             ]
            ],
            "type": "histogram2d"
           }
          ],
          "histogram2dcontour": [
           {
            "colorbar": {
             "outlinewidth": 0,
             "ticks": ""
            },
            "colorscale": [
             [
              0,
              "#0d0887"
             ],
             [
              0.1111111111111111,
              "#46039f"
             ],
             [
              0.2222222222222222,
              "#7201a8"
             ],
             [
              0.3333333333333333,
              "#9c179e"
             ],
             [
              0.4444444444444444,
              "#bd3786"
             ],
             [
              0.5555555555555556,
              "#d8576b"
             ],
             [
              0.6666666666666666,
              "#ed7953"
             ],
             [
              0.7777777777777778,
              "#fb9f3a"
             ],
             [
              0.8888888888888888,
              "#fdca26"
             ],
             [
              1,
              "#f0f921"
             ]
            ],
            "type": "histogram2dcontour"
           }
          ],
          "mesh3d": [
           {
            "colorbar": {
             "outlinewidth": 0,
             "ticks": ""
            },
            "type": "mesh3d"
           }
          ],
          "parcoords": [
           {
            "line": {
             "colorbar": {
              "outlinewidth": 0,
              "ticks": ""
             }
            },
            "type": "parcoords"
           }
          ],
          "pie": [
           {
            "automargin": true,
            "type": "pie"
           }
          ],
          "scatter": [
           {
            "fillpattern": {
             "fillmode": "overlay",
             "size": 10,
             "solidity": 0.2
            },
            "type": "scatter"
           }
          ],
          "scatter3d": [
           {
            "line": {
             "colorbar": {
              "outlinewidth": 0,
              "ticks": ""
             }
            },
            "marker": {
             "colorbar": {
              "outlinewidth": 0,
              "ticks": ""
             }
            },
            "type": "scatter3d"
           }
          ],
          "scattercarpet": [
           {
            "marker": {
             "colorbar": {
              "outlinewidth": 0,
              "ticks": ""
             }
            },
            "type": "scattercarpet"
           }
          ],
          "scattergeo": [
           {
            "marker": {
             "colorbar": {
              "outlinewidth": 0,
              "ticks": ""
             }
            },
            "type": "scattergeo"
           }
          ],
          "scattergl": [
           {
            "marker": {
             "colorbar": {
              "outlinewidth": 0,
              "ticks": ""
             }
            },
            "type": "scattergl"
           }
          ],
          "scattermap": [
           {
            "marker": {
             "colorbar": {
              "outlinewidth": 0,
              "ticks": ""
             }
            },
            "type": "scattermap"
           }
          ],
          "scattermapbox": [
           {
            "marker": {
             "colorbar": {
              "outlinewidth": 0,
              "ticks": ""
             }
            },
            "type": "scattermapbox"
           }
          ],
          "scatterpolar": [
           {
            "marker": {
             "colorbar": {
              "outlinewidth": 0,
              "ticks": ""
             }
            },
            "type": "scatterpolar"
           }
          ],
          "scatterpolargl": [
           {
            "marker": {
             "colorbar": {
              "outlinewidth": 0,
              "ticks": ""
             }
            },
            "type": "scatterpolargl"
           }
          ],
          "scatterternary": [
           {
            "marker": {
             "colorbar": {
              "outlinewidth": 0,
              "ticks": ""
             }
            },
            "type": "scatterternary"
           }
          ],
          "surface": [
           {
            "colorbar": {
             "outlinewidth": 0,
             "ticks": ""
            },
            "colorscale": [
             [
              0,
              "#0d0887"
             ],
             [
              0.1111111111111111,
              "#46039f"
             ],
             [
              0.2222222222222222,
              "#7201a8"
             ],
             [
              0.3333333333333333,
              "#9c179e"
             ],
             [
              0.4444444444444444,
              "#bd3786"
             ],
             [
              0.5555555555555556,
              "#d8576b"
             ],
             [
              0.6666666666666666,
              "#ed7953"
             ],
             [
              0.7777777777777778,
              "#fb9f3a"
             ],
             [
              0.8888888888888888,
              "#fdca26"
             ],
             [
              1,
              "#f0f921"
             ]
            ],
            "type": "surface"
           }
          ],
          "table": [
           {
            "cells": {
             "fill": {
              "color": "#EBF0F8"
             },
             "line": {
              "color": "white"
             }
            },
            "header": {
             "fill": {
              "color": "#C8D4E3"
             },
             "line": {
              "color": "white"
             }
            },
            "type": "table"
           }
          ]
         },
         "layout": {
          "annotationdefaults": {
           "arrowcolor": "#2a3f5f",
           "arrowhead": 0,
           "arrowwidth": 1
          },
          "autotypenumbers": "strict",
          "coloraxis": {
           "colorbar": {
            "outlinewidth": 0,
            "ticks": ""
           }
          },
          "colorscale": {
           "diverging": [
            [
             0,
             "#8e0152"
            ],
            [
             0.1,
             "#c51b7d"
            ],
            [
             0.2,
             "#de77ae"
            ],
            [
             0.3,
             "#f1b6da"
            ],
            [
             0.4,
             "#fde0ef"
            ],
            [
             0.5,
             "#f7f7f7"
            ],
            [
             0.6,
             "#e6f5d0"
            ],
            [
             0.7,
             "#b8e186"
            ],
            [
             0.8,
             "#7fbc41"
            ],
            [
             0.9,
             "#4d9221"
            ],
            [
             1,
             "#276419"
            ]
           ],
           "sequential": [
            [
             0,
             "#0d0887"
            ],
            [
             0.1111111111111111,
             "#46039f"
            ],
            [
             0.2222222222222222,
             "#7201a8"
            ],
            [
             0.3333333333333333,
             "#9c179e"
            ],
            [
             0.4444444444444444,
             "#bd3786"
            ],
            [
             0.5555555555555556,
             "#d8576b"
            ],
            [
             0.6666666666666666,
             "#ed7953"
            ],
            [
             0.7777777777777778,
             "#fb9f3a"
            ],
            [
             0.8888888888888888,
             "#fdca26"
            ],
            [
             1,
             "#f0f921"
            ]
           ],
           "sequentialminus": [
            [
             0,
             "#0d0887"
            ],
            [
             0.1111111111111111,
             "#46039f"
            ],
            [
             0.2222222222222222,
             "#7201a8"
            ],
            [
             0.3333333333333333,
             "#9c179e"
            ],
            [
             0.4444444444444444,
             "#bd3786"
            ],
            [
             0.5555555555555556,
             "#d8576b"
            ],
            [
             0.6666666666666666,
             "#ed7953"
            ],
            [
             0.7777777777777778,
             "#fb9f3a"
            ],
            [
             0.8888888888888888,
             "#fdca26"
            ],
            [
             1,
             "#f0f921"
            ]
           ]
          },
          "colorway": [
           "#636efa",
           "#EF553B",
           "#00cc96",
           "#ab63fa",
           "#FFA15A",
           "#19d3f3",
           "#FF6692",
           "#B6E880",
           "#FF97FF",
           "#FECB52"
          ],
          "font": {
           "color": "#2a3f5f"
          },
          "geo": {
           "bgcolor": "white",
           "lakecolor": "white",
           "landcolor": "#E5ECF6",
           "showlakes": true,
           "showland": true,
           "subunitcolor": "white"
          },
          "hoverlabel": {
           "align": "left"
          },
          "hovermode": "closest",
          "mapbox": {
           "style": "light"
          },
          "paper_bgcolor": "white",
          "plot_bgcolor": "#E5ECF6",
          "polar": {
           "angularaxis": {
            "gridcolor": "white",
            "linecolor": "white",
            "ticks": ""
           },
           "bgcolor": "#E5ECF6",
           "radialaxis": {
            "gridcolor": "white",
            "linecolor": "white",
            "ticks": ""
           }
          },
          "scene": {
           "xaxis": {
            "backgroundcolor": "#E5ECF6",
            "gridcolor": "white",
            "gridwidth": 2,
            "linecolor": "white",
            "showbackground": true,
            "ticks": "",
            "zerolinecolor": "white"
           },
           "yaxis": {
            "backgroundcolor": "#E5ECF6",
            "gridcolor": "white",
            "gridwidth": 2,
            "linecolor": "white",
            "showbackground": true,
            "ticks": "",
            "zerolinecolor": "white"
           },
           "zaxis": {
            "backgroundcolor": "#E5ECF6",
            "gridcolor": "white",
            "gridwidth": 2,
            "linecolor": "white",
            "showbackground": true,
            "ticks": "",
            "zerolinecolor": "white"
           }
          },
          "shapedefaults": {
           "line": {
            "color": "#2a3f5f"
           }
          },
          "ternary": {
           "aaxis": {
            "gridcolor": "white",
            "linecolor": "white",
            "ticks": ""
           },
           "baxis": {
            "gridcolor": "white",
            "linecolor": "white",
            "ticks": ""
           },
           "bgcolor": "#E5ECF6",
           "caxis": {
            "gridcolor": "white",
            "linecolor": "white",
            "ticks": ""
           }
          },
          "title": {
           "x": 0.05
          },
          "xaxis": {
           "automargin": true,
           "gridcolor": "white",
           "linecolor": "white",
           "ticks": "",
           "title": {
            "standoff": 15
           },
           "zerolinecolor": "white",
           "zerolinewidth": 2
          },
          "yaxis": {
           "automargin": true,
           "gridcolor": "white",
           "linecolor": "white",
           "ticks": "",
           "title": {
            "standoff": 15
           },
           "zerolinecolor": "white",
           "zerolinewidth": 2
          }
         }
        },
        "title": {
         "text": "Parallel Coordinate Plot"
        }
       }
      }
     },
     "metadata": {},
     "output_type": "display_data"
    }
   ],
   "source": [
    "plot_parallel_coordinate(study).show()"
   ]
  },
  {
   "cell_type": "code",
   "execution_count": 32,
   "metadata": {},
   "outputs": [
    {
     "data": {
      "application/vnd.plotly.v1+json": {
       "config": {
        "plotlyServerURL": "https://plot.ly"
       },
       "data": [
        {
         "marker": {
          "color": [
           0,
           1,
           2,
           3,
           4,
           5,
           6,
           7,
           8,
           9,
           10,
           11,
           12,
           13,
           14,
           15,
           16,
           17,
           18,
           19
          ],
          "colorbar": {
           "title": {
            "text": "Trial"
           },
           "x": 1,
           "xpad": 40
          },
          "colorscale": [
           [
            0,
            "rgb(247,251,255)"
           ],
           [
            0.125,
            "rgb(222,235,247)"
           ],
           [
            0.25,
            "rgb(198,219,239)"
           ],
           [
            0.375,
            "rgb(158,202,225)"
           ],
           [
            0.5,
            "rgb(107,174,214)"
           ],
           [
            0.625,
            "rgb(66,146,198)"
           ],
           [
            0.75,
            "rgb(33,113,181)"
           ],
           [
            0.875,
            "rgb(8,81,156)"
           ],
           [
            1,
            "rgb(8,48,107)"
           ]
          ],
          "line": {
           "color": "Grey",
           "width": 0.5
          },
          "showscale": true
         },
         "mode": "markers",
         "name": "Feasible Trial",
         "showlegend": false,
         "type": "scatter",
         "x": [
          0.4597818814842819,
          0.43440887795033534,
          0.2952484347561144,
          0.11350037839573385,
          0.39681402694192314,
          0.301674818271765,
          0.4398983242249209,
          0.4021584643101088,
          0.2055988349818034,
          0.267488509826987,
          0.16608185630380976,
          0.2322291454176627,
          0.3592746532339798,
          0.49744554895909354,
          0.20302691159089514,
          0.34884137686501715,
          0.14220430794209593,
          0.2147617134384135,
          0.3446672499137017,
          0.3857132342441874
         ],
         "xaxis": "x",
         "y": [
          0.781190259304333,
          0.8068046819158304,
          0.8050095812595914,
          0.8079097463225333,
          0.7950885727588064,
          0.7848425960914013,
          0.8035014810470618,
          0.8124451449140488,
          0.8142252928008645,
          0.8076746110131031,
          0.7991966973473256,
          0.8094149915704886,
          0.8081853670285719,
          0.803665935426842,
          0.8062224226510061,
          0.7755954413792355,
          0.8041622465657964,
          0.8039152443571449,
          0.800078780825211,
          0.8018966316420254
         ],
         "yaxis": "y"
        },
        {
         "marker": {
          "color": [
           0,
           1,
           2,
           3,
           4,
           5,
           6,
           7,
           8,
           9,
           10,
           11,
           12,
           13,
           14,
           15,
           16,
           17,
           18,
           19
          ],
          "colorbar": {
           "title": {
            "text": "Trial"
           },
           "x": 1,
           "xpad": 40
          },
          "colorscale": [
           [
            0,
            "rgb(247,251,255)"
           ],
           [
            0.125,
            "rgb(222,235,247)"
           ],
           [
            0.25,
            "rgb(198,219,239)"
           ],
           [
            0.375,
            "rgb(158,202,225)"
           ],
           [
            0.5,
            "rgb(107,174,214)"
           ],
           [
            0.625,
            "rgb(66,146,198)"
           ],
           [
            0.75,
            "rgb(33,113,181)"
           ],
           [
            0.875,
            "rgb(8,81,156)"
           ],
           [
            1,
            "rgb(8,48,107)"
           ]
          ],
          "line": {
           "color": "Grey",
           "width": 0.5
          },
          "showscale": false
         },
         "mode": "markers",
         "name": "Feasible Trial",
         "showlegend": false,
         "type": "scatter",
         "x": [
          11,
          13,
          7,
          13,
          12,
          5,
          10,
          13,
          12,
          16,
          8,
          16,
          14,
          10,
          14,
          9,
          15,
          11,
          12,
          4
         ],
         "xaxis": "x2",
         "y": [
          0.781190259304333,
          0.8068046819158304,
          0.8050095812595914,
          0.8079097463225333,
          0.7950885727588064,
          0.7848425960914013,
          0.8035014810470618,
          0.8124451449140488,
          0.8142252928008645,
          0.8076746110131031,
          0.7991966973473256,
          0.8094149915704886,
          0.8081853670285719,
          0.803665935426842,
          0.8062224226510061,
          0.7755954413792355,
          0.8041622465657964,
          0.8039152443571449,
          0.800078780825211,
          0.8018966316420254
         ],
         "yaxis": "y2"
        },
        {
         "marker": {
          "color": [
           0,
           1,
           2,
           3,
           4,
           5,
           6,
           7,
           8,
           9,
           10,
           11,
           12,
           13,
           14,
           15,
           16,
           17,
           18,
           19
          ],
          "colorbar": {
           "title": {
            "text": "Trial"
           },
           "x": 1,
           "xpad": 40
          },
          "colorscale": [
           [
            0,
            "rgb(247,251,255)"
           ],
           [
            0.125,
            "rgb(222,235,247)"
           ],
           [
            0.25,
            "rgb(198,219,239)"
           ],
           [
            0.375,
            "rgb(158,202,225)"
           ],
           [
            0.5,
            "rgb(107,174,214)"
           ],
           [
            0.625,
            "rgb(66,146,198)"
           ],
           [
            0.75,
            "rgb(33,113,181)"
           ],
           [
            0.875,
            "rgb(8,81,156)"
           ],
           [
            1,
            "rgb(8,48,107)"
           ]
          ],
          "line": {
           "color": "Grey",
           "width": 0.5
          },
          "showscale": false
         },
         "mode": "markers",
         "name": "Feasible Trial",
         "showlegend": false,
         "type": "scatter",
         "x": [
          123,
          61,
          76,
          21,
          62,
          63,
          117,
          64,
          70,
          110,
          91,
          37,
          42,
          86,
          46,
          98,
          76,
          52,
          30,
          101
         ],
         "xaxis": "x3",
         "y": [
          0.781190259304333,
          0.8068046819158304,
          0.8050095812595914,
          0.8079097463225333,
          0.7950885727588064,
          0.7848425960914013,
          0.8035014810470618,
          0.8124451449140488,
          0.8142252928008645,
          0.8076746110131031,
          0.7991966973473256,
          0.8094149915704886,
          0.8081853670285719,
          0.803665935426842,
          0.8062224226510061,
          0.7755954413792355,
          0.8041622465657964,
          0.8039152443571449,
          0.800078780825211,
          0.8018966316420254
         ],
         "yaxis": "y3"
        },
        {
         "marker": {
          "color": [
           0,
           1,
           2,
           3,
           4,
           5,
           6,
           7,
           8,
           9,
           10,
           11,
           12,
           13,
           14,
           15,
           16,
           17,
           18,
           19
          ],
          "colorbar": {
           "title": {
            "text": "Trial"
           },
           "x": 1,
           "xpad": 40
          },
          "colorscale": [
           [
            0,
            "rgb(247,251,255)"
           ],
           [
            0.125,
            "rgb(222,235,247)"
           ],
           [
            0.25,
            "rgb(198,219,239)"
           ],
           [
            0.375,
            "rgb(158,202,225)"
           ],
           [
            0.5,
            "rgb(107,174,214)"
           ],
           [
            0.625,
            "rgb(66,146,198)"
           ],
           [
            0.75,
            "rgb(33,113,181)"
           ],
           [
            0.875,
            "rgb(8,81,156)"
           ],
           [
            1,
            "rgb(8,48,107)"
           ]
          ],
          "line": {
           "color": "Grey",
           "width": 0.5
          },
          "showscale": false
         },
         "mode": "markers",
         "name": "Feasible Trial",
         "showlegend": false,
         "type": "scatter",
         "x": [
          119,
          60,
          21,
          56,
          30,
          101,
          25,
          66,
          71,
          66,
          88,
          82,
          49,
          46,
          80,
          101,
          38,
          69,
          127,
          96
         ],
         "xaxis": "x4",
         "y": [
          0.781190259304333,
          0.8068046819158304,
          0.8050095812595914,
          0.8079097463225333,
          0.7950885727588064,
          0.7848425960914013,
          0.8035014810470618,
          0.8124451449140488,
          0.8142252928008645,
          0.8076746110131031,
          0.7991966973473256,
          0.8094149915704886,
          0.8081853670285719,
          0.803665935426842,
          0.8062224226510061,
          0.7755954413792355,
          0.8041622465657964,
          0.8039152443571449,
          0.800078780825211,
          0.8018966316420254
         ],
         "yaxis": "y4"
        },
        {
         "marker": {
          "color": [
           0,
           1,
           2,
           6,
           7,
           8,
           9,
           10,
           11,
           12,
           13,
           14,
           15,
           16,
           17,
           18,
           19
          ],
          "colorbar": {
           "title": {
            "text": "Trial"
           },
           "x": 1,
           "xpad": 40
          },
          "colorscale": [
           [
            0,
            "rgb(247,251,255)"
           ],
           [
            0.125,
            "rgb(222,235,247)"
           ],
           [
            0.25,
            "rgb(198,219,239)"
           ],
           [
            0.375,
            "rgb(158,202,225)"
           ],
           [
            0.5,
            "rgb(107,174,214)"
           ],
           [
            0.625,
            "rgb(66,146,198)"
           ],
           [
            0.75,
            "rgb(33,113,181)"
           ],
           [
            0.875,
            "rgb(8,81,156)"
           ],
           [
            1,
            "rgb(8,48,107)"
           ]
          ],
          "line": {
           "color": "Grey",
           "width": 0.5
          },
          "showscale": false
         },
         "mode": "markers",
         "name": "Feasible Trial",
         "showlegend": false,
         "type": "scatter",
         "x": [
          77,
          50,
          40,
          32,
          30,
          86,
          99,
          126,
          16,
          75,
          97,
          59,
          86,
          118,
          61,
          20,
          105
         ],
         "xaxis": "x5",
         "y": [
          0.781190259304333,
          0.8068046819158304,
          0.8050095812595914,
          0.8035014810470618,
          0.8124451449140488,
          0.8142252928008645,
          0.8076746110131031,
          0.7991966973473256,
          0.8094149915704886,
          0.8081853670285719,
          0.803665935426842,
          0.8062224226510061,
          0.7755954413792355,
          0.8041622465657964,
          0.8039152443571449,
          0.800078780825211,
          0.8018966316420254
         ],
         "yaxis": "y5"
        },
        {
         "marker": {
          "color": [
           0,
           1,
           6,
           7,
           8,
           9,
           11,
           12,
           13,
           15,
           17,
           18
          ],
          "colorbar": {
           "title": {
            "text": "Trial"
           },
           "x": 1,
           "xpad": 40
          },
          "colorscale": [
           [
            0,
            "rgb(247,251,255)"
           ],
           [
            0.125,
            "rgb(222,235,247)"
           ],
           [
            0.25,
            "rgb(198,219,239)"
           ],
           [
            0.375,
            "rgb(158,202,225)"
           ],
           [
            0.5,
            "rgb(107,174,214)"
           ],
           [
            0.625,
            "rgb(66,146,198)"
           ],
           [
            0.75,
            "rgb(33,113,181)"
           ],
           [
            0.875,
            "rgb(8,81,156)"
           ],
           [
            1,
            "rgb(8,48,107)"
           ]
          ],
          "line": {
           "color": "Grey",
           "width": 0.5
          },
          "showscale": false
         },
         "mode": "markers",
         "name": "Feasible Trial",
         "showlegend": false,
         "type": "scatter",
         "x": [
          123,
          94,
          51,
          54,
          16,
          54,
          17,
          23,
          48,
          81,
          35,
          70
         ],
         "xaxis": "x6",
         "y": [
          0.781190259304333,
          0.8068046819158304,
          0.8035014810470618,
          0.8124451449140488,
          0.8142252928008645,
          0.8076746110131031,
          0.8094149915704886,
          0.8081853670285719,
          0.803665935426842,
          0.7755954413792355,
          0.8039152443571449,
          0.800078780825211
         ],
         "yaxis": "y6"
        },
        {
         "marker": {
          "color": [
           0,
           1,
           13,
           17
          ],
          "colorbar": {
           "title": {
            "text": "Trial"
           },
           "x": 1,
           "xpad": 40
          },
          "colorscale": [
           [
            0,
            "rgb(247,251,255)"
           ],
           [
            0.125,
            "rgb(222,235,247)"
           ],
           [
            0.25,
            "rgb(198,219,239)"
           ],
           [
            0.375,
            "rgb(158,202,225)"
           ],
           [
            0.5,
            "rgb(107,174,214)"
           ],
           [
            0.625,
            "rgb(66,146,198)"
           ],
           [
            0.75,
            "rgb(33,113,181)"
           ],
           [
            0.875,
            "rgb(8,81,156)"
           ],
           [
            1,
            "rgb(8,48,107)"
           ]
          ],
          "line": {
           "color": "Grey",
           "width": 0.5
          },
          "showscale": false
         },
         "mode": "markers",
         "name": "Feasible Trial",
         "showlegend": false,
         "type": "scatter",
         "x": [
          122,
          55,
          16,
          128
         ],
         "xaxis": "x7",
         "y": [
          0.781190259304333,
          0.8068046819158304,
          0.803665935426842,
          0.8039152443571449
         ],
         "yaxis": "y7"
        },
        {
         "marker": {
          "color": [
           0,
           1,
           2,
           3,
           4,
           5,
           6,
           7,
           8,
           9,
           10,
           11,
           12,
           13,
           14,
           15,
           16,
           17,
           18,
           19
          ],
          "colorbar": {
           "title": {
            "text": "Trial"
           },
           "x": 1,
           "xpad": 40
          },
          "colorscale": [
           [
            0,
            "rgb(247,251,255)"
           ],
           [
            0.125,
            "rgb(222,235,247)"
           ],
           [
            0.25,
            "rgb(198,219,239)"
           ],
           [
            0.375,
            "rgb(158,202,225)"
           ],
           [
            0.5,
            "rgb(107,174,214)"
           ],
           [
            0.625,
            "rgb(66,146,198)"
           ],
           [
            0.75,
            "rgb(33,113,181)"
           ],
           [
            0.875,
            "rgb(8,81,156)"
           ],
           [
            1,
            "rgb(8,48,107)"
           ]
          ],
          "line": {
           "color": "Grey",
           "width": 0.5
          },
          "showscale": false
         },
         "mode": "markers",
         "name": "Feasible Trial",
         "showlegend": false,
         "type": "scatter",
         "x": [
          0.00029108756946951455,
          0.0015244990653717624,
          0.004914786499791043,
          0.007810015428187113,
          0.0003402263980651893,
          0.0003918328662876625,
          0.0018525458898499092,
          0.003215391857859165,
          0.006880704638558596,
          0.0034110926781141487,
          0.0007468607838395264,
          0.009427496277536737,
          0.0031652394849924184,
          0.005548069202788531,
          0.0019086626578709396,
          0.00013687810430735897,
          0.0009505420413730638,
          0.003208633366290779,
          0.005392835760022026,
          0.00960436054466608
         ],
         "xaxis": "x8",
         "y": [
          0.781190259304333,
          0.8068046819158304,
          0.8050095812595914,
          0.8079097463225333,
          0.7950885727588064,
          0.7848425960914013,
          0.8035014810470618,
          0.8124451449140488,
          0.8142252928008645,
          0.8076746110131031,
          0.7991966973473256,
          0.8094149915704886,
          0.8081853670285719,
          0.803665935426842,
          0.8062224226510061,
          0.7755954413792355,
          0.8041622465657964,
          0.8039152443571449,
          0.800078780825211,
          0.8018966316420254
         ],
         "yaxis": "y8"
        },
        {
         "marker": {
          "color": [
           0,
           1,
           2,
           3,
           4,
           5,
           6,
           7,
           8,
           9,
           10,
           11,
           12,
           13,
           14,
           15,
           16,
           17,
           18,
           19
          ],
          "colorbar": {
           "title": {
            "text": "Trial"
           },
           "x": 1,
           "xpad": 40
          },
          "colorscale": [
           [
            0,
            "rgb(247,251,255)"
           ],
           [
            0.125,
            "rgb(222,235,247)"
           ],
           [
            0.25,
            "rgb(198,219,239)"
           ],
           [
            0.375,
            "rgb(158,202,225)"
           ],
           [
            0.5,
            "rgb(107,174,214)"
           ],
           [
            0.625,
            "rgb(66,146,198)"
           ],
           [
            0.75,
            "rgb(33,113,181)"
           ],
           [
            0.875,
            "rgb(8,81,156)"
           ],
           [
            1,
            "rgb(8,48,107)"
           ]
          ],
          "line": {
           "color": "Grey",
           "width": 0.5
          },
          "showscale": false
         },
         "mode": "markers",
         "name": "Feasible Trial",
         "showlegend": false,
         "type": "scatter",
         "x": [
          5,
          5,
          3,
          2,
          2,
          2,
          4,
          4,
          4,
          4,
          3,
          4,
          4,
          5,
          3,
          4,
          3,
          5,
          4,
          3
         ],
         "xaxis": "x9",
         "y": [
          0.781190259304333,
          0.8068046819158304,
          0.8050095812595914,
          0.8079097463225333,
          0.7950885727588064,
          0.7848425960914013,
          0.8035014810470618,
          0.8124451449140488,
          0.8142252928008645,
          0.8076746110131031,
          0.7991966973473256,
          0.8094149915704886,
          0.8081853670285719,
          0.803665935426842,
          0.8062224226510061,
          0.7755954413792355,
          0.8041622465657964,
          0.8039152443571449,
          0.800078780825211,
          0.8018966316420254
         ],
         "yaxis": "y9"
        }
       ],
       "layout": {
        "template": {
         "data": {
          "bar": [
           {
            "error_x": {
             "color": "#2a3f5f"
            },
            "error_y": {
             "color": "#2a3f5f"
            },
            "marker": {
             "line": {
              "color": "#E5ECF6",
              "width": 0.5
             },
             "pattern": {
              "fillmode": "overlay",
              "size": 10,
              "solidity": 0.2
             }
            },
            "type": "bar"
           }
          ],
          "barpolar": [
           {
            "marker": {
             "line": {
              "color": "#E5ECF6",
              "width": 0.5
             },
             "pattern": {
              "fillmode": "overlay",
              "size": 10,
              "solidity": 0.2
             }
            },
            "type": "barpolar"
           }
          ],
          "carpet": [
           {
            "aaxis": {
             "endlinecolor": "#2a3f5f",
             "gridcolor": "white",
             "linecolor": "white",
             "minorgridcolor": "white",
             "startlinecolor": "#2a3f5f"
            },
            "baxis": {
             "endlinecolor": "#2a3f5f",
             "gridcolor": "white",
             "linecolor": "white",
             "minorgridcolor": "white",
             "startlinecolor": "#2a3f5f"
            },
            "type": "carpet"
           }
          ],
          "choropleth": [
           {
            "colorbar": {
             "outlinewidth": 0,
             "ticks": ""
            },
            "type": "choropleth"
           }
          ],
          "contour": [
           {
            "colorbar": {
             "outlinewidth": 0,
             "ticks": ""
            },
            "colorscale": [
             [
              0,
              "#0d0887"
             ],
             [
              0.1111111111111111,
              "#46039f"
             ],
             [
              0.2222222222222222,
              "#7201a8"
             ],
             [
              0.3333333333333333,
              "#9c179e"
             ],
             [
              0.4444444444444444,
              "#bd3786"
             ],
             [
              0.5555555555555556,
              "#d8576b"
             ],
             [
              0.6666666666666666,
              "#ed7953"
             ],
             [
              0.7777777777777778,
              "#fb9f3a"
             ],
             [
              0.8888888888888888,
              "#fdca26"
             ],
             [
              1,
              "#f0f921"
             ]
            ],
            "type": "contour"
           }
          ],
          "contourcarpet": [
           {
            "colorbar": {
             "outlinewidth": 0,
             "ticks": ""
            },
            "type": "contourcarpet"
           }
          ],
          "heatmap": [
           {
            "colorbar": {
             "outlinewidth": 0,
             "ticks": ""
            },
            "colorscale": [
             [
              0,
              "#0d0887"
             ],
             [
              0.1111111111111111,
              "#46039f"
             ],
             [
              0.2222222222222222,
              "#7201a8"
             ],
             [
              0.3333333333333333,
              "#9c179e"
             ],
             [
              0.4444444444444444,
              "#bd3786"
             ],
             [
              0.5555555555555556,
              "#d8576b"
             ],
             [
              0.6666666666666666,
              "#ed7953"
             ],
             [
              0.7777777777777778,
              "#fb9f3a"
             ],
             [
              0.8888888888888888,
              "#fdca26"
             ],
             [
              1,
              "#f0f921"
             ]
            ],
            "type": "heatmap"
           }
          ],
          "histogram": [
           {
            "marker": {
             "pattern": {
              "fillmode": "overlay",
              "size": 10,
              "solidity": 0.2
             }
            },
            "type": "histogram"
           }
          ],
          "histogram2d": [
           {
            "colorbar": {
             "outlinewidth": 0,
             "ticks": ""
            },
            "colorscale": [
             [
              0,
              "#0d0887"
             ],
             [
              0.1111111111111111,
              "#46039f"
             ],
             [
              0.2222222222222222,
              "#7201a8"
             ],
             [
              0.3333333333333333,
              "#9c179e"
             ],
             [
              0.4444444444444444,
              "#bd3786"
             ],
             [
              0.5555555555555556,
              "#d8576b"
             ],
             [
              0.6666666666666666,
              "#ed7953"
             ],
             [
              0.7777777777777778,
              "#fb9f3a"
             ],
             [
              0.8888888888888888,
              "#fdca26"
             ],
             [
              1,
              "#f0f921"
             ]
            ],
            "type": "histogram2d"
           }
          ],
          "histogram2dcontour": [
           {
            "colorbar": {
             "outlinewidth": 0,
             "ticks": ""
            },
            "colorscale": [
             [
              0,
              "#0d0887"
             ],
             [
              0.1111111111111111,
              "#46039f"
             ],
             [
              0.2222222222222222,
              "#7201a8"
             ],
             [
              0.3333333333333333,
              "#9c179e"
             ],
             [
              0.4444444444444444,
              "#bd3786"
             ],
             [
              0.5555555555555556,
              "#d8576b"
             ],
             [
              0.6666666666666666,
              "#ed7953"
             ],
             [
              0.7777777777777778,
              "#fb9f3a"
             ],
             [
              0.8888888888888888,
              "#fdca26"
             ],
             [
              1,
              "#f0f921"
             ]
            ],
            "type": "histogram2dcontour"
           }
          ],
          "mesh3d": [
           {
            "colorbar": {
             "outlinewidth": 0,
             "ticks": ""
            },
            "type": "mesh3d"
           }
          ],
          "parcoords": [
           {
            "line": {
             "colorbar": {
              "outlinewidth": 0,
              "ticks": ""
             }
            },
            "type": "parcoords"
           }
          ],
          "pie": [
           {
            "automargin": true,
            "type": "pie"
           }
          ],
          "scatter": [
           {
            "fillpattern": {
             "fillmode": "overlay",
             "size": 10,
             "solidity": 0.2
            },
            "type": "scatter"
           }
          ],
          "scatter3d": [
           {
            "line": {
             "colorbar": {
              "outlinewidth": 0,
              "ticks": ""
             }
            },
            "marker": {
             "colorbar": {
              "outlinewidth": 0,
              "ticks": ""
             }
            },
            "type": "scatter3d"
           }
          ],
          "scattercarpet": [
           {
            "marker": {
             "colorbar": {
              "outlinewidth": 0,
              "ticks": ""
             }
            },
            "type": "scattercarpet"
           }
          ],
          "scattergeo": [
           {
            "marker": {
             "colorbar": {
              "outlinewidth": 0,
              "ticks": ""
             }
            },
            "type": "scattergeo"
           }
          ],
          "scattergl": [
           {
            "marker": {
             "colorbar": {
              "outlinewidth": 0,
              "ticks": ""
             }
            },
            "type": "scattergl"
           }
          ],
          "scattermap": [
           {
            "marker": {
             "colorbar": {
              "outlinewidth": 0,
              "ticks": ""
             }
            },
            "type": "scattermap"
           }
          ],
          "scattermapbox": [
           {
            "marker": {
             "colorbar": {
              "outlinewidth": 0,
              "ticks": ""
             }
            },
            "type": "scattermapbox"
           }
          ],
          "scatterpolar": [
           {
            "marker": {
             "colorbar": {
              "outlinewidth": 0,
              "ticks": ""
             }
            },
            "type": "scatterpolar"
           }
          ],
          "scatterpolargl": [
           {
            "marker": {
             "colorbar": {
              "outlinewidth": 0,
              "ticks": ""
             }
            },
            "type": "scatterpolargl"
           }
          ],
          "scatterternary": [
           {
            "marker": {
             "colorbar": {
              "outlinewidth": 0,
              "ticks": ""
             }
            },
            "type": "scatterternary"
           }
          ],
          "surface": [
           {
            "colorbar": {
             "outlinewidth": 0,
             "ticks": ""
            },
            "colorscale": [
             [
              0,
              "#0d0887"
             ],
             [
              0.1111111111111111,
              "#46039f"
             ],
             [
              0.2222222222222222,
              "#7201a8"
             ],
             [
              0.3333333333333333,
              "#9c179e"
             ],
             [
              0.4444444444444444,
              "#bd3786"
             ],
             [
              0.5555555555555556,
              "#d8576b"
             ],
             [
              0.6666666666666666,
              "#ed7953"
             ],
             [
              0.7777777777777778,
              "#fb9f3a"
             ],
             [
              0.8888888888888888,
              "#fdca26"
             ],
             [
              1,
              "#f0f921"
             ]
            ],
            "type": "surface"
           }
          ],
          "table": [
           {
            "cells": {
             "fill": {
              "color": "#EBF0F8"
             },
             "line": {
              "color": "white"
             }
            },
            "header": {
             "fill": {
              "color": "#C8D4E3"
             },
             "line": {
              "color": "white"
             }
            },
            "type": "table"
           }
          ]
         },
         "layout": {
          "annotationdefaults": {
           "arrowcolor": "#2a3f5f",
           "arrowhead": 0,
           "arrowwidth": 1
          },
          "autotypenumbers": "strict",
          "coloraxis": {
           "colorbar": {
            "outlinewidth": 0,
            "ticks": ""
           }
          },
          "colorscale": {
           "diverging": [
            [
             0,
             "#8e0152"
            ],
            [
             0.1,
             "#c51b7d"
            ],
            [
             0.2,
             "#de77ae"
            ],
            [
             0.3,
             "#f1b6da"
            ],
            [
             0.4,
             "#fde0ef"
            ],
            [
             0.5,
             "#f7f7f7"
            ],
            [
             0.6,
             "#e6f5d0"
            ],
            [
             0.7,
             "#b8e186"
            ],
            [
             0.8,
             "#7fbc41"
            ],
            [
             0.9,
             "#4d9221"
            ],
            [
             1,
             "#276419"
            ]
           ],
           "sequential": [
            [
             0,
             "#0d0887"
            ],
            [
             0.1111111111111111,
             "#46039f"
            ],
            [
             0.2222222222222222,
             "#7201a8"
            ],
            [
             0.3333333333333333,
             "#9c179e"
            ],
            [
             0.4444444444444444,
             "#bd3786"
            ],
            [
             0.5555555555555556,
             "#d8576b"
            ],
            [
             0.6666666666666666,
             "#ed7953"
            ],
            [
             0.7777777777777778,
             "#fb9f3a"
            ],
            [
             0.8888888888888888,
             "#fdca26"
            ],
            [
             1,
             "#f0f921"
            ]
           ],
           "sequentialminus": [
            [
             0,
             "#0d0887"
            ],
            [
             0.1111111111111111,
             "#46039f"
            ],
            [
             0.2222222222222222,
             "#7201a8"
            ],
            [
             0.3333333333333333,
             "#9c179e"
            ],
            [
             0.4444444444444444,
             "#bd3786"
            ],
            [
             0.5555555555555556,
             "#d8576b"
            ],
            [
             0.6666666666666666,
             "#ed7953"
            ],
            [
             0.7777777777777778,
             "#fb9f3a"
            ],
            [
             0.8888888888888888,
             "#fdca26"
            ],
            [
             1,
             "#f0f921"
            ]
           ]
          },
          "colorway": [
           "#636efa",
           "#EF553B",
           "#00cc96",
           "#ab63fa",
           "#FFA15A",
           "#19d3f3",
           "#FF6692",
           "#B6E880",
           "#FF97FF",
           "#FECB52"
          ],
          "font": {
           "color": "#2a3f5f"
          },
          "geo": {
           "bgcolor": "white",
           "lakecolor": "white",
           "landcolor": "#E5ECF6",
           "showlakes": true,
           "showland": true,
           "subunitcolor": "white"
          },
          "hoverlabel": {
           "align": "left"
          },
          "hovermode": "closest",
          "mapbox": {
           "style": "light"
          },
          "paper_bgcolor": "white",
          "plot_bgcolor": "#E5ECF6",
          "polar": {
           "angularaxis": {
            "gridcolor": "white",
            "linecolor": "white",
            "ticks": ""
           },
           "bgcolor": "#E5ECF6",
           "radialaxis": {
            "gridcolor": "white",
            "linecolor": "white",
            "ticks": ""
           }
          },
          "scene": {
           "xaxis": {
            "backgroundcolor": "#E5ECF6",
            "gridcolor": "white",
            "gridwidth": 2,
            "linecolor": "white",
            "showbackground": true,
            "ticks": "",
            "zerolinecolor": "white"
           },
           "yaxis": {
            "backgroundcolor": "#E5ECF6",
            "gridcolor": "white",
            "gridwidth": 2,
            "linecolor": "white",
            "showbackground": true,
            "ticks": "",
            "zerolinecolor": "white"
           },
           "zaxis": {
            "backgroundcolor": "#E5ECF6",
            "gridcolor": "white",
            "gridwidth": 2,
            "linecolor": "white",
            "showbackground": true,
            "ticks": "",
            "zerolinecolor": "white"
           }
          },
          "shapedefaults": {
           "line": {
            "color": "#2a3f5f"
           }
          },
          "ternary": {
           "aaxis": {
            "gridcolor": "white",
            "linecolor": "white",
            "ticks": ""
           },
           "baxis": {
            "gridcolor": "white",
            "linecolor": "white",
            "ticks": ""
           },
           "bgcolor": "#E5ECF6",
           "caxis": {
            "gridcolor": "white",
            "linecolor": "white",
            "ticks": ""
           }
          },
          "title": {
           "x": 0.05
          },
          "xaxis": {
           "automargin": true,
           "gridcolor": "white",
           "linecolor": "white",
           "ticks": "",
           "title": {
            "standoff": 15
           },
           "zerolinecolor": "white",
           "zerolinewidth": 2
          },
          "yaxis": {
           "automargin": true,
           "gridcolor": "white",
           "linecolor": "white",
           "ticks": "",
           "title": {
            "standoff": 15
           },
           "zerolinecolor": "white",
           "zerolinewidth": 2
          }
         }
        },
        "title": {
         "text": "Slice Plot"
        },
        "width": 2700,
        "xaxis": {
         "anchor": "y",
         "domain": [
          0,
          0.09135802469135802
         ],
         "title": {
          "text": "dropout_rate"
         }
        },
        "xaxis2": {
         "anchor": "y2",
         "domain": [
          0.11358024691358025,
          0.20493827160493827
         ],
         "title": {
          "text": "embedding_dim"
         }
        },
        "xaxis3": {
         "anchor": "y3",
         "domain": [
          0.2271604938271605,
          0.31851851851851853
         ],
         "title": {
          "text": "hidden_size_0"
         }
        },
        "xaxis4": {
         "anchor": "y4",
         "domain": [
          0.34074074074074073,
          0.43209876543209874
         ],
         "title": {
          "text": "hidden_size_1"
         }
        },
        "xaxis5": {
         "anchor": "y5",
         "domain": [
          0.454320987654321,
          0.5456790123456791
         ],
         "title": {
          "text": "hidden_size_2"
         }
        },
        "xaxis6": {
         "anchor": "y6",
         "domain": [
          0.5679012345679012,
          0.6592592592592592
         ],
         "title": {
          "text": "hidden_size_3"
         }
        },
        "xaxis7": {
         "anchor": "y7",
         "domain": [
          0.6814814814814815,
          0.7728395061728395
         ],
         "title": {
          "text": "hidden_size_4"
         }
        },
        "xaxis8": {
         "anchor": "y8",
         "domain": [
          0.7950617283950617,
          0.8864197530864197
         ],
         "title": {
          "text": "learning_rate"
         },
         "type": "log"
        },
        "xaxis9": {
         "anchor": "y9",
         "domain": [
          0.908641975308642,
          1
         ],
         "title": {
          "text": "num_layers"
         }
        },
        "yaxis": {
         "anchor": "x",
         "domain": [
          0,
          1
         ],
         "title": {
          "text": "Objective Value"
         }
        },
        "yaxis2": {
         "anchor": "x2",
         "domain": [
          0,
          1
         ],
         "matches": "y",
         "showticklabels": false
        },
        "yaxis3": {
         "anchor": "x3",
         "domain": [
          0,
          1
         ],
         "matches": "y",
         "showticklabels": false
        },
        "yaxis4": {
         "anchor": "x4",
         "domain": [
          0,
          1
         ],
         "matches": "y",
         "showticklabels": false
        },
        "yaxis5": {
         "anchor": "x5",
         "domain": [
          0,
          1
         ],
         "matches": "y",
         "showticklabels": false
        },
        "yaxis6": {
         "anchor": "x6",
         "domain": [
          0,
          1
         ],
         "matches": "y",
         "showticklabels": false
        },
        "yaxis7": {
         "anchor": "x7",
         "domain": [
          0,
          1
         ],
         "matches": "y",
         "showticklabels": false
        },
        "yaxis8": {
         "anchor": "x8",
         "domain": [
          0,
          1
         ],
         "matches": "y",
         "showticklabels": false
        },
        "yaxis9": {
         "anchor": "x9",
         "domain": [
          0,
          1
         ],
         "matches": "y",
         "showticklabels": false
        }
       }
      }
     },
     "metadata": {},
     "output_type": "display_data"
    }
   ],
   "source": [
    "plot_slice(study).show()"
   ]
  },
  {
   "cell_type": "code",
   "execution_count": 33,
   "metadata": {},
   "outputs": [
    {
     "name": "stdout",
     "output_type": "stream",
     "text": [
      "Note: you may need to restart the kernel to use updated packages.\n"
     ]
    }
   ],
   "source": [
    "pip freeze > ..\\requirements.txt"
   ]
  }
 ],
 "metadata": {
  "kernelspec": {
   "display_name": "env699",
   "language": "python",
   "name": "python3"
  },
  "language_info": {
   "codemirror_mode": {
    "name": "ipython",
    "version": 3
   },
   "file_extension": ".py",
   "mimetype": "text/x-python",
   "name": "python",
   "nbconvert_exporter": "python",
   "pygments_lexer": "ipython3",
   "version": "3.12.0"
  }
 },
 "nbformat": 4,
 "nbformat_minor": 2
}
