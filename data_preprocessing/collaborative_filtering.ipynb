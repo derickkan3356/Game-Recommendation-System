{
 "cells": [
  {
   "cell_type": "code",
   "execution_count": 1,
   "metadata": {},
   "outputs": [],
   "source": [
    "import os\n",
    "os.environ[\"OPENBLAS_NUM_THREADS\"] = \"1\"\n",
    "\n",
    "import pandas as pd\n",
    "import joblib\n",
    "import numpy as np\n",
    "from scipy.sparse import coo_matrix, csr_matrix\n",
    "from implicit.als import AlternatingLeastSquares\n",
    "from implicit.evaluation import ndcg_at_k\n",
    "import optuna\n",
    "\n",
    "RANDOM_SEED = 42"
   ]
  },
  {
   "cell_type": "code",
   "execution_count": 2,
   "metadata": {},
   "outputs": [
    {
     "name": "stdout",
     "output_type": "stream",
     "text": [
      "(2643279, 141) (694638, 141)\n"
     ]
    }
   ],
   "source": [
    "df_train = joblib.load(r\"..\\assets\\combined\\train_feature_engineered.pkl\")\n",
    "df_test = joblib.load(r\"..\\assets\\combined\\test_feature_engineered.pkl\")\n",
    "\n",
    "print(df_train.shape, df_test.shape)"
   ]
  },
  {
   "cell_type": "code",
   "execution_count": 3,
   "metadata": {},
   "outputs": [
    {
     "name": "stdout",
     "output_type": "stream",
     "text": [
      "3232 24301\n"
     ]
    }
   ],
   "source": [
    "print(len(df_train['user_id'].unique()), len(df_train['app_id'].unique()))"
   ]
  },
  {
   "cell_type": "markdown",
   "metadata": {},
   "source": [
    "## Model Training"
   ]
  },
  {
   "cell_type": "code",
   "execution_count": null,
   "metadata": {},
   "outputs": [],
   "source": [
    "def build_user_item_matrix(df, user2idx, game2idx, n_users, n_games):\n",
    "    \"\"\"\n",
    "    Return a user * game CSR matrix\n",
    "    \"\"\"\n",
    "    user_idx = df['user_id'].map(user2idx)\n",
    "    game_idx = df['app_id'].map(game2idx)\n",
    "    relevance = df['relevance_score'].values\n",
    "    \n",
    "    mat_coo = coo_matrix(\n",
    "        (relevance, (user_idx, game_idx)),\n",
    "        shape=(n_users, n_games)\n",
    "    )\n",
    "    return mat_coo.tocsr()\n",
    "\n",
    "def train_als_model(train_matrix, factors, reg, alpha, iters=15):\n",
    "    model = AlternatingLeastSquares(\n",
    "        factors=factors,\n",
    "        regularization=reg,\n",
    "        iterations=iters,\n",
    "        alpha=alpha,\n",
    "        use_gpu=False,\n",
    "        random_state=RANDOM_SEED\n",
    "    )\n",
    "    model.fit(train_matrix, show_progress=False)\n",
    "    return model\n",
    "\n",
    "def evaluate_ndcg(model, train_matrix, val_matrix, K=10):\n",
    "    return ndcg_at_k(\n",
    "        model,\n",
    "        train_user_items=train_matrix,\n",
    "        test_user_items=val_matrix,\n",
    "        K=K,\n",
    "        show_progress=False\n",
    "    )\n",
    "\n",
    "def user_based_cv_folds(unique_users, n_folds=5):\n",
    "    \"\"\"\n",
    "    Returns a list of folds, each fold is a set of user_ids.\n",
    "    \"\"\"\n",
    "    rng = np.random.default_rng(RANDOM_SEED)\n",
    "    shuffled_users = rng.permutation(unique_users)\n",
    "    fold_size = len(shuffled_users) // n_folds\n",
    "    \n",
    "    folds = []\n",
    "    start = 0\n",
    "    for i in range(n_folds):\n",
    "        end = start + fold_size\n",
    "        if i == n_folds - 1:\n",
    "            end = len(shuffled_users)  # Get the rest if it is final fold\n",
    "        fold_users = shuffled_users[start:end]\n",
    "        folds.append(set(fold_users))\n",
    "        start = end\n",
    "    return folds"
   ]
  },
  {
   "cell_type": "code",
   "execution_count": 5,
   "metadata": {},
   "outputs": [],
   "source": [
    "unique_train_users = df_train['user_id'].unique()\n",
    "\n",
    "unique_games = df_train['app_id'].unique()\n",
    "game2idx = {g: i for i, g in enumerate(unique_games)}\n",
    "n_games = len(unique_games)\n",
    "\n",
    "# CV folds\n",
    "n_folds = 5\n",
    "folds = user_based_cv_folds(unique_train_users, n_folds)"
   ]
  },
  {
   "cell_type": "markdown",
   "metadata": {},
   "source": [
    "### Cross validation using Optuna"
   ]
  },
  {
   "cell_type": "code",
   "execution_count": null,
   "metadata": {},
   "outputs": [],
   "source": [
    "def objective(trial):\n",
    "    # Hyperparameters to fine tune\n",
    "    factors_val = trial.suggest_int(\"factors\", 32, 128, step=32)\n",
    "    reg_val = trial.suggest_float(\"regularization\", 1e-3, 1e-1, log=True)\n",
    "    alpha_val = trial.suggest_float(\"alpha\", 1.0, 50, log=True)\n",
    "    \n",
    "    fold_ndcgs = []\n",
    "    \n",
    "    # Perform user-based cross validation\n",
    "    for fold_idx, fold_users in enumerate(folds):\n",
    "        # Split into train and validation\n",
    "        mask_fold_val = df_train['user_id'].isin(fold_users)        \n",
    "        df_fold_val = df_train[mask_fold_val]\n",
    "        df_fold_train = df_train[~mask_fold_val]\n",
    "\n",
    "        # Build local user index mapper for each CV\n",
    "        unique_fold_train_users = df_fold_train['user_id'].unique()\n",
    "        unique_fold_val_users = df_fold_val['user_id'].unique()\n",
    "\n",
    "        user2idx_fold_train = {u: i for i, u in enumerate(unique_fold_train_users)}\n",
    "        user2idx_fold_val = {u: i for i, u in enumerate(unique_fold_val_users)}\n",
    "        \n",
    "        # Build user by item matrix for each\n",
    "        train_matrix_cv = build_user_item_matrix(\n",
    "            df_fold_train, user2idx_fold_train, game2idx, len(unique_fold_train_users), n_games\n",
    "        )\n",
    "        val_matrix_cv = build_user_item_matrix(\n",
    "            df_fold_val, user2idx_fold_val, game2idx, len(unique_fold_val_users), n_games\n",
    "        )\n",
    "        \n",
    "        # Train\n",
    "        model_cv = train_als_model(\n",
    "            train_matrix_cv,\n",
    "            factors=factors_val,\n",
    "            reg=reg_val,\n",
    "            alpha=alpha_val\n",
    "        )\n",
    "        \n",
    "        # Evaluate NDCG on fold's validation\n",
    "        ndcg_val = evaluate_ndcg(model_cv, train_matrix_cv, val_matrix_cv)\n",
    "        fold_ndcgs.append(ndcg_val)\n",
    "    \n",
    "    # Average across folds\n",
    "    mean_ndcg = np.mean(fold_ndcgs)\n",
    "\n",
    "    return mean_ndcg"
   ]
  },
  {
   "cell_type": "code",
   "execution_count": 7,
   "metadata": {},
   "outputs": [
    {
     "name": "stderr",
     "output_type": "stream",
     "text": [
      "[I 2025-03-29 14:30:44,064] A new study created in memory with name: no-name-5ecbdac6-b7fc-4231-b2db-fd3621aa82d1\n",
      "[I 2025-03-29 14:30:59,117] Trial 0 finished with value: 0.3609986628219534 and parameters: {'factors': 128, 'regularization': 0.029047679694155292, 'alpha': 2.52845664390175}. Best is trial 0 with value: 0.3609986628219534.\n",
      "[I 2025-03-29 14:31:14,827] Trial 1 finished with value: 0.3556861926257836 and parameters: {'factors': 96, 'regularization': 0.01608214884599777, 'alpha': 6.494388138956376}. Best is trial 0 with value: 0.3609986628219534.\n",
      "[I 2025-03-29 14:31:32,019] Trial 2 finished with value: 0.2979784822492202 and parameters: {'factors': 128, 'regularization': 0.01729446748627178, 'alpha': 29.249916570393545}. Best is trial 0 with value: 0.3609986628219534.\n",
      "[I 2025-03-29 14:31:47,879] Trial 3 finished with value: 0.38238331685860294 and parameters: {'factors': 64, 'regularization': 0.01843530113448585, 'alpha': 2.473863756986004}. Best is trial 3 with value: 0.38238331685860294.\n",
      "[I 2025-03-29 14:32:03,967] Trial 4 finished with value: 0.2754734696821204 and parameters: {'factors': 96, 'regularization': 0.018465026870235587, 'alpha': 40.40337164540191}. Best is trial 3 with value: 0.38238331685860294.\n",
      "[I 2025-03-29 14:32:19,619] Trial 5 finished with value: 0.3658263791874868 and parameters: {'factors': 64, 'regularization': 0.0606596399791558, 'alpha': 5.007936424384073}. Best is trial 3 with value: 0.38238331685860294.\n",
      "[I 2025-03-29 14:32:34,893] Trial 6 finished with value: 0.31230623127954005 and parameters: {'factors': 32, 'regularization': 0.020581827043906948, 'alpha': 31.768104096911273}. Best is trial 3 with value: 0.38238331685860294.\n",
      "[I 2025-03-29 14:32:51,588] Trial 7 finished with value: 0.2967058393987588 and parameters: {'factors': 128, 'regularization': 0.0025200101483224212, 'alpha': 30.86171097722782}. Best is trial 3 with value: 0.38238331685860294.\n",
      "[I 2025-03-29 14:33:06,902] Trial 8 finished with value: 0.2878302152564509 and parameters: {'factors': 32, 'regularization': 0.06331303194546369, 'alpha': 48.207667817964385}. Best is trial 3 with value: 0.38238331685860294.\n",
      "[I 2025-03-29 14:33:23,049] Trial 9 finished with value: 0.2647959824443359 and parameters: {'factors': 96, 'regularization': 0.0010470851548270562, 'alpha': 49.636597753956714}. Best is trial 3 with value: 0.38238331685860294.\n",
      "[I 2025-03-29 14:33:38,095] Trial 10 finished with value: 0.39471531246355546 and parameters: {'factors': 64, 'regularization': 0.005743080311420229, 'alpha': 1.2223147964228427}. Best is trial 10 with value: 0.39471531246355546.\n",
      "[I 2025-03-29 14:33:53,276] Trial 11 finished with value: 0.39491084919938024 and parameters: {'factors': 64, 'regularization': 0.005101614665341035, 'alpha': 1.126610768986093}. Best is trial 11 with value: 0.39491084919938024.\n",
      "[I 2025-03-29 14:34:09,034] Trial 12 finished with value: 0.3970433071956071 and parameters: {'factors': 64, 'regularization': 0.004629042750286122, 'alpha': 1.0022309959923135}. Best is trial 12 with value: 0.3970433071956071.\n",
      "[I 2025-03-29 14:34:24,745] Trial 13 finished with value: 0.39639755475875205 and parameters: {'factors': 64, 'regularization': 0.0055135713516799275, 'alpha': 1.0341057576765416}. Best is trial 12 with value: 0.3970433071956071.\n",
      "[I 2025-03-29 14:34:39,955] Trial 14 finished with value: 0.40730524654844436 and parameters: {'factors': 32, 'regularization': 0.00320468254464749, 'alpha': 1.893798664055169}. Best is trial 14 with value: 0.40730524654844436.\n",
      "[I 2025-03-29 14:34:55,164] Trial 15 finished with value: 0.40224055962892724 and parameters: {'factors': 32, 'regularization': 0.0019827199814167694, 'alpha': 2.309665937315452}. Best is trial 14 with value: 0.40730524654844436.\n",
      "[I 2025-03-29 14:35:10,495] Trial 16 finished with value: 0.3537810495583167 and parameters: {'factors': 32, 'regularization': 0.0016484483146952914, 'alpha': 13.735245091701698}. Best is trial 14 with value: 0.40730524654844436.\n",
      "[I 2025-03-29 14:35:25,693] Trial 17 finished with value: 0.3993932788813341 and parameters: {'factors': 32, 'regularization': 0.0027942928870544263, 'alpha': 2.755341412214319}. Best is trial 14 with value: 0.40730524654844436.\n",
      "[I 2025-03-29 14:35:41,062] Trial 18 finished with value: 0.4087241143819645 and parameters: {'factors': 32, 'regularization': 0.0024319028717811305, 'alpha': 1.7214833724374905}. Best is trial 18 with value: 0.4087241143819645.\n",
      "[I 2025-03-29 14:35:56,257] Trial 19 finished with value: 0.3911277557284983 and parameters: {'factors': 32, 'regularization': 0.008922444432398929, 'alpha': 4.400524162034928}. Best is trial 18 with value: 0.4087241143819645.\n",
      "[I 2025-03-29 14:36:11,590] Trial 20 finished with value: 0.36102323590084995 and parameters: {'factors': 32, 'regularization': 0.001010084251575758, 'alpha': 11.795187015612546}. Best is trial 18 with value: 0.4087241143819645.\n",
      "[I 2025-03-29 14:36:26,996] Trial 21 finished with value: 0.4085159334162494 and parameters: {'factors': 32, 'regularization': 0.0025253670272775116, 'alpha': 1.6790070775827166}. Best is trial 18 with value: 0.4087241143819645.\n",
      "[I 2025-03-29 14:36:42,349] Trial 22 finished with value: 0.40720174665230385 and parameters: {'factors': 32, 'regularization': 0.003079992812031499, 'alpha': 1.8029522411947934}. Best is trial 18 with value: 0.4087241143819645.\n",
      "[I 2025-03-29 14:36:57,656] Trial 23 finished with value: 0.4083264267770203 and parameters: {'factors': 32, 'regularization': 0.0018100251048278413, 'alpha': 1.7067801128924267}. Best is trial 18 with value: 0.4087241143819645.\n",
      "[I 2025-03-29 14:37:12,865] Trial 24 finished with value: 0.3937556680694129 and parameters: {'factors': 32, 'regularization': 0.0015156154958221079, 'alpha': 3.72970789438548}. Best is trial 18 with value: 0.4087241143819645.\n",
      "[I 2025-03-29 14:37:28,879] Trial 25 finished with value: 0.39288091559569976 and parameters: {'factors': 64, 'regularization': 0.008187637496706647, 'alpha': 1.540691602963217}. Best is trial 18 with value: 0.4087241143819645.\n",
      "[I 2025-03-29 14:37:44,220] Trial 26 finished with value: 0.39728464174046424 and parameters: {'factors': 32, 'regularization': 0.001477190023726061, 'alpha': 3.1587276237247663}. Best is trial 18 with value: 0.4087241143819645.\n",
      "[I 2025-03-29 14:38:00,068] Trial 27 finished with value: 0.39319790223851486 and parameters: {'factors': 64, 'regularization': 0.0039062005700983365, 'alpha': 1.4488045903576574}. Best is trial 18 with value: 0.4087241143819645.\n",
      "[I 2025-03-29 14:38:15,480] Trial 28 finished with value: 0.36452870382012004 and parameters: {'factors': 32, 'regularization': 0.0022273564136382575, 'alpha': 10.660764034350592}. Best is trial 18 with value: 0.4087241143819645.\n",
      "[I 2025-03-29 14:38:32,108] Trial 29 finished with value: 0.37436313739745114 and parameters: {'factors': 96, 'regularization': 0.03531973785030102, 'alpha': 2.064949052017665}. Best is trial 18 with value: 0.4087241143819645.\n"
     ]
    },
    {
     "name": "stdout",
     "output_type": "stream",
     "text": [
      "Best trial:\n",
      "  Value (NDCG): 0.4087\n",
      "  Params: {'factors': 32, 'regularization': 0.0024319028717811305, 'alpha': 1.7214833724374905}\n"
     ]
    }
   ],
   "source": [
    "study = optuna.create_study(direction=\"maximize\")\n",
    "study.optimize(objective, n_trials=30)\n",
    "\n",
    "print(\"Best trial:\")\n",
    "best_trial = study.best_trial\n",
    "print(f\"  Value (NDCG): {best_trial.value:.4f}\")\n",
    "print(\"  Params:\", best_trial.params)"
   ]
  },
  {
   "cell_type": "markdown",
   "metadata": {},
   "source": [
    "### Retrain on the entire training set with the best hyperparameters"
   ]
  },
  {
   "cell_type": "code",
   "execution_count": 8,
   "metadata": {},
   "outputs": [],
   "source": [
    "user2idx_train = {u: i for i, u in enumerate(unique_train_users)}\n",
    "\n",
    "# Build user * game csr matrix for all training data\n",
    "full_train_matrix = build_user_item_matrix(\n",
    "    df_train,\n",
    "    user2idx_train,\n",
    "    game2idx,\n",
    "    len(unique_train_users),\n",
    "    n_games\n",
    ")\n",
    "\n",
    "final_model = train_als_model(\n",
    "    full_train_matrix,\n",
    "    factors=study.best_params[\"factors\"],\n",
    "    reg=study.best_params[\"regularization\"],\n",
    "    alpha=study.best_params[\"alpha\"]\n",
    ")"
   ]
  },
  {
   "cell_type": "markdown",
   "metadata": {},
   "source": [
    "## Training Evaluation"
   ]
  },
  {
   "cell_type": "code",
   "execution_count": 9,
   "metadata": {},
   "outputs": [
    {
     "data": {
      "application/vnd.plotly.v1+json": {
       "config": {
        "plotlyServerURL": "https://plot.ly"
       },
       "data": [
        {
         "mode": "markers",
         "name": "Objective Value",
         "type": "scatter",
         "x": [
          0,
          1,
          2,
          3,
          4,
          5,
          6,
          7,
          8,
          9,
          10,
          11,
          12,
          13,
          14,
          15,
          16,
          17,
          18,
          19,
          20,
          21,
          22,
          23,
          24,
          25,
          26,
          27,
          28,
          29
         ],
         "y": [
          0.3609986628219534,
          0.3556861926257836,
          0.2979784822492202,
          0.38238331685860294,
          0.2754734696821204,
          0.3658263791874868,
          0.31230623127954005,
          0.2967058393987588,
          0.2878302152564509,
          0.2647959824443359,
          0.39471531246355546,
          0.39491084919938024,
          0.3970433071956071,
          0.39639755475875205,
          0.40730524654844436,
          0.40224055962892724,
          0.3537810495583167,
          0.3993932788813341,
          0.4087241143819645,
          0.3911277557284983,
          0.36102323590084995,
          0.4085159334162494,
          0.40720174665230385,
          0.4083264267770203,
          0.3937556680694129,
          0.39288091559569976,
          0.39728464174046424,
          0.39319790223851486,
          0.36452870382012004,
          0.37436313739745114
         ]
        },
        {
         "mode": "lines",
         "name": "Best Value",
         "type": "scatter",
         "x": [
          0,
          1,
          2,
          3,
          4,
          5,
          6,
          7,
          8,
          9,
          10,
          11,
          12,
          13,
          14,
          15,
          16,
          17,
          18,
          19,
          20,
          21,
          22,
          23,
          24,
          25,
          26,
          27,
          28,
          29
         ],
         "y": [
          0.3609986628219534,
          0.3609986628219534,
          0.3609986628219534,
          0.38238331685860294,
          0.38238331685860294,
          0.38238331685860294,
          0.38238331685860294,
          0.38238331685860294,
          0.38238331685860294,
          0.38238331685860294,
          0.39471531246355546,
          0.39491084919938024,
          0.3970433071956071,
          0.3970433071956071,
          0.40730524654844436,
          0.40730524654844436,
          0.40730524654844436,
          0.40730524654844436,
          0.4087241143819645,
          0.4087241143819645,
          0.4087241143819645,
          0.4087241143819645,
          0.4087241143819645,
          0.4087241143819645,
          0.4087241143819645,
          0.4087241143819645,
          0.4087241143819645,
          0.4087241143819645,
          0.4087241143819645,
          0.4087241143819645
         ]
        },
        {
         "marker": {
          "color": "#cccccc"
         },
         "mode": "markers",
         "name": "Infeasible Trial",
         "showlegend": false,
         "type": "scatter",
         "x": [],
         "y": []
        }
       ],
       "layout": {
        "template": {
         "data": {
          "bar": [
           {
            "error_x": {
             "color": "#2a3f5f"
            },
            "error_y": {
             "color": "#2a3f5f"
            },
            "marker": {
             "line": {
              "color": "#E5ECF6",
              "width": 0.5
             },
             "pattern": {
              "fillmode": "overlay",
              "size": 10,
              "solidity": 0.2
             }
            },
            "type": "bar"
           }
          ],
          "barpolar": [
           {
            "marker": {
             "line": {
              "color": "#E5ECF6",
              "width": 0.5
             },
             "pattern": {
              "fillmode": "overlay",
              "size": 10,
              "solidity": 0.2
             }
            },
            "type": "barpolar"
           }
          ],
          "carpet": [
           {
            "aaxis": {
             "endlinecolor": "#2a3f5f",
             "gridcolor": "white",
             "linecolor": "white",
             "minorgridcolor": "white",
             "startlinecolor": "#2a3f5f"
            },
            "baxis": {
             "endlinecolor": "#2a3f5f",
             "gridcolor": "white",
             "linecolor": "white",
             "minorgridcolor": "white",
             "startlinecolor": "#2a3f5f"
            },
            "type": "carpet"
           }
          ],
          "choropleth": [
           {
            "colorbar": {
             "outlinewidth": 0,
             "ticks": ""
            },
            "type": "choropleth"
           }
          ],
          "contour": [
           {
            "colorbar": {
             "outlinewidth": 0,
             "ticks": ""
            },
            "colorscale": [
             [
              0,
              "#0d0887"
             ],
             [
              0.1111111111111111,
              "#46039f"
             ],
             [
              0.2222222222222222,
              "#7201a8"
             ],
             [
              0.3333333333333333,
              "#9c179e"
             ],
             [
              0.4444444444444444,
              "#bd3786"
             ],
             [
              0.5555555555555556,
              "#d8576b"
             ],
             [
              0.6666666666666666,
              "#ed7953"
             ],
             [
              0.7777777777777778,
              "#fb9f3a"
             ],
             [
              0.8888888888888888,
              "#fdca26"
             ],
             [
              1,
              "#f0f921"
             ]
            ],
            "type": "contour"
           }
          ],
          "contourcarpet": [
           {
            "colorbar": {
             "outlinewidth": 0,
             "ticks": ""
            },
            "type": "contourcarpet"
           }
          ],
          "heatmap": [
           {
            "colorbar": {
             "outlinewidth": 0,
             "ticks": ""
            },
            "colorscale": [
             [
              0,
              "#0d0887"
             ],
             [
              0.1111111111111111,
              "#46039f"
             ],
             [
              0.2222222222222222,
              "#7201a8"
             ],
             [
              0.3333333333333333,
              "#9c179e"
             ],
             [
              0.4444444444444444,
              "#bd3786"
             ],
             [
              0.5555555555555556,
              "#d8576b"
             ],
             [
              0.6666666666666666,
              "#ed7953"
             ],
             [
              0.7777777777777778,
              "#fb9f3a"
             ],
             [
              0.8888888888888888,
              "#fdca26"
             ],
             [
              1,
              "#f0f921"
             ]
            ],
            "type": "heatmap"
           }
          ],
          "histogram": [
           {
            "marker": {
             "pattern": {
              "fillmode": "overlay",
              "size": 10,
              "solidity": 0.2
             }
            },
            "type": "histogram"
           }
          ],
          "histogram2d": [
           {
            "colorbar": {
             "outlinewidth": 0,
             "ticks": ""
            },
            "colorscale": [
             [
              0,
              "#0d0887"
             ],
             [
              0.1111111111111111,
              "#46039f"
             ],
             [
              0.2222222222222222,
              "#7201a8"
             ],
             [
              0.3333333333333333,
              "#9c179e"
             ],
             [
              0.4444444444444444,
              "#bd3786"
             ],
             [
              0.5555555555555556,
              "#d8576b"
             ],
             [
              0.6666666666666666,
              "#ed7953"
             ],
             [
              0.7777777777777778,
              "#fb9f3a"
             ],
             [
              0.8888888888888888,
              "#fdca26"
             ],
             [
              1,
              "#f0f921"
             ]
            ],
            "type": "histogram2d"
           }
          ],
          "histogram2dcontour": [
           {
            "colorbar": {
             "outlinewidth": 0,
             "ticks": ""
            },
            "colorscale": [
             [
              0,
              "#0d0887"
             ],
             [
              0.1111111111111111,
              "#46039f"
             ],
             [
              0.2222222222222222,
              "#7201a8"
             ],
             [
              0.3333333333333333,
              "#9c179e"
             ],
             [
              0.4444444444444444,
              "#bd3786"
             ],
             [
              0.5555555555555556,
              "#d8576b"
             ],
             [
              0.6666666666666666,
              "#ed7953"
             ],
             [
              0.7777777777777778,
              "#fb9f3a"
             ],
             [
              0.8888888888888888,
              "#fdca26"
             ],
             [
              1,
              "#f0f921"
             ]
            ],
            "type": "histogram2dcontour"
           }
          ],
          "mesh3d": [
           {
            "colorbar": {
             "outlinewidth": 0,
             "ticks": ""
            },
            "type": "mesh3d"
           }
          ],
          "parcoords": [
           {
            "line": {
             "colorbar": {
              "outlinewidth": 0,
              "ticks": ""
             }
            },
            "type": "parcoords"
           }
          ],
          "pie": [
           {
            "automargin": true,
            "type": "pie"
           }
          ],
          "scatter": [
           {
            "fillpattern": {
             "fillmode": "overlay",
             "size": 10,
             "solidity": 0.2
            },
            "type": "scatter"
           }
          ],
          "scatter3d": [
           {
            "line": {
             "colorbar": {
              "outlinewidth": 0,
              "ticks": ""
             }
            },
            "marker": {
             "colorbar": {
              "outlinewidth": 0,
              "ticks": ""
             }
            },
            "type": "scatter3d"
           }
          ],
          "scattercarpet": [
           {
            "marker": {
             "colorbar": {
              "outlinewidth": 0,
              "ticks": ""
             }
            },
            "type": "scattercarpet"
           }
          ],
          "scattergeo": [
           {
            "marker": {
             "colorbar": {
              "outlinewidth": 0,
              "ticks": ""
             }
            },
            "type": "scattergeo"
           }
          ],
          "scattergl": [
           {
            "marker": {
             "colorbar": {
              "outlinewidth": 0,
              "ticks": ""
             }
            },
            "type": "scattergl"
           }
          ],
          "scattermap": [
           {
            "marker": {
             "colorbar": {
              "outlinewidth": 0,
              "ticks": ""
             }
            },
            "type": "scattermap"
           }
          ],
          "scattermapbox": [
           {
            "marker": {
             "colorbar": {
              "outlinewidth": 0,
              "ticks": ""
             }
            },
            "type": "scattermapbox"
           }
          ],
          "scatterpolar": [
           {
            "marker": {
             "colorbar": {
              "outlinewidth": 0,
              "ticks": ""
             }
            },
            "type": "scatterpolar"
           }
          ],
          "scatterpolargl": [
           {
            "marker": {
             "colorbar": {
              "outlinewidth": 0,
              "ticks": ""
             }
            },
            "type": "scatterpolargl"
           }
          ],
          "scatterternary": [
           {
            "marker": {
             "colorbar": {
              "outlinewidth": 0,
              "ticks": ""
             }
            },
            "type": "scatterternary"
           }
          ],
          "surface": [
           {
            "colorbar": {
             "outlinewidth": 0,
             "ticks": ""
            },
            "colorscale": [
             [
              0,
              "#0d0887"
             ],
             [
              0.1111111111111111,
              "#46039f"
             ],
             [
              0.2222222222222222,
              "#7201a8"
             ],
             [
              0.3333333333333333,
              "#9c179e"
             ],
             [
              0.4444444444444444,
              "#bd3786"
             ],
             [
              0.5555555555555556,
              "#d8576b"
             ],
             [
              0.6666666666666666,
              "#ed7953"
             ],
             [
              0.7777777777777778,
              "#fb9f3a"
             ],
             [
              0.8888888888888888,
              "#fdca26"
             ],
             [
              1,
              "#f0f921"
             ]
            ],
            "type": "surface"
           }
          ],
          "table": [
           {
            "cells": {
             "fill": {
              "color": "#EBF0F8"
             },
             "line": {
              "color": "white"
             }
            },
            "header": {
             "fill": {
              "color": "#C8D4E3"
             },
             "line": {
              "color": "white"
             }
            },
            "type": "table"
           }
          ]
         },
         "layout": {
          "annotationdefaults": {
           "arrowcolor": "#2a3f5f",
           "arrowhead": 0,
           "arrowwidth": 1
          },
          "autotypenumbers": "strict",
          "coloraxis": {
           "colorbar": {
            "outlinewidth": 0,
            "ticks": ""
           }
          },
          "colorscale": {
           "diverging": [
            [
             0,
             "#8e0152"
            ],
            [
             0.1,
             "#c51b7d"
            ],
            [
             0.2,
             "#de77ae"
            ],
            [
             0.3,
             "#f1b6da"
            ],
            [
             0.4,
             "#fde0ef"
            ],
            [
             0.5,
             "#f7f7f7"
            ],
            [
             0.6,
             "#e6f5d0"
            ],
            [
             0.7,
             "#b8e186"
            ],
            [
             0.8,
             "#7fbc41"
            ],
            [
             0.9,
             "#4d9221"
            ],
            [
             1,
             "#276419"
            ]
           ],
           "sequential": [
            [
             0,
             "#0d0887"
            ],
            [
             0.1111111111111111,
             "#46039f"
            ],
            [
             0.2222222222222222,
             "#7201a8"
            ],
            [
             0.3333333333333333,
             "#9c179e"
            ],
            [
             0.4444444444444444,
             "#bd3786"
            ],
            [
             0.5555555555555556,
             "#d8576b"
            ],
            [
             0.6666666666666666,
             "#ed7953"
            ],
            [
             0.7777777777777778,
             "#fb9f3a"
            ],
            [
             0.8888888888888888,
             "#fdca26"
            ],
            [
             1,
             "#f0f921"
            ]
           ],
           "sequentialminus": [
            [
             0,
             "#0d0887"
            ],
            [
             0.1111111111111111,
             "#46039f"
            ],
            [
             0.2222222222222222,
             "#7201a8"
            ],
            [
             0.3333333333333333,
             "#9c179e"
            ],
            [
             0.4444444444444444,
             "#bd3786"
            ],
            [
             0.5555555555555556,
             "#d8576b"
            ],
            [
             0.6666666666666666,
             "#ed7953"
            ],
            [
             0.7777777777777778,
             "#fb9f3a"
            ],
            [
             0.8888888888888888,
             "#fdca26"
            ],
            [
             1,
             "#f0f921"
            ]
           ]
          },
          "colorway": [
           "#636efa",
           "#EF553B",
           "#00cc96",
           "#ab63fa",
           "#FFA15A",
           "#19d3f3",
           "#FF6692",
           "#B6E880",
           "#FF97FF",
           "#FECB52"
          ],
          "font": {
           "color": "#2a3f5f"
          },
          "geo": {
           "bgcolor": "white",
           "lakecolor": "white",
           "landcolor": "#E5ECF6",
           "showlakes": true,
           "showland": true,
           "subunitcolor": "white"
          },
          "hoverlabel": {
           "align": "left"
          },
          "hovermode": "closest",
          "mapbox": {
           "style": "light"
          },
          "paper_bgcolor": "white",
          "plot_bgcolor": "#E5ECF6",
          "polar": {
           "angularaxis": {
            "gridcolor": "white",
            "linecolor": "white",
            "ticks": ""
           },
           "bgcolor": "#E5ECF6",
           "radialaxis": {
            "gridcolor": "white",
            "linecolor": "white",
            "ticks": ""
           }
          },
          "scene": {
           "xaxis": {
            "backgroundcolor": "#E5ECF6",
            "gridcolor": "white",
            "gridwidth": 2,
            "linecolor": "white",
            "showbackground": true,
            "ticks": "",
            "zerolinecolor": "white"
           },
           "yaxis": {
            "backgroundcolor": "#E5ECF6",
            "gridcolor": "white",
            "gridwidth": 2,
            "linecolor": "white",
            "showbackground": true,
            "ticks": "",
            "zerolinecolor": "white"
           },
           "zaxis": {
            "backgroundcolor": "#E5ECF6",
            "gridcolor": "white",
            "gridwidth": 2,
            "linecolor": "white",
            "showbackground": true,
            "ticks": "",
            "zerolinecolor": "white"
           }
          },
          "shapedefaults": {
           "line": {
            "color": "#2a3f5f"
           }
          },
          "ternary": {
           "aaxis": {
            "gridcolor": "white",
            "linecolor": "white",
            "ticks": ""
           },
           "baxis": {
            "gridcolor": "white",
            "linecolor": "white",
            "ticks": ""
           },
           "bgcolor": "#E5ECF6",
           "caxis": {
            "gridcolor": "white",
            "linecolor": "white",
            "ticks": ""
           }
          },
          "title": {
           "x": 0.05
          },
          "xaxis": {
           "automargin": true,
           "gridcolor": "white",
           "linecolor": "white",
           "ticks": "",
           "title": {
            "standoff": 15
           },
           "zerolinecolor": "white",
           "zerolinewidth": 2
          },
          "yaxis": {
           "automargin": true,
           "gridcolor": "white",
           "linecolor": "white",
           "ticks": "",
           "title": {
            "standoff": 15
           },
           "zerolinecolor": "white",
           "zerolinewidth": 2
          }
         }
        },
        "title": {
         "text": "Optimization History Plot"
        },
        "xaxis": {
         "title": {
          "text": "Trial"
         }
        },
        "yaxis": {
         "title": {
          "text": "Objective Value"
         }
        }
       }
      }
     },
     "metadata": {},
     "output_type": "display_data"
    }
   ],
   "source": [
    "from optuna.visualization import (\n",
    "    plot_optimization_history,\n",
    "    plot_param_importances,\n",
    "    plot_parallel_coordinate,\n",
    "    plot_slice\n",
    ")\n",
    "\n",
    "# Optimization History\n",
    "plot_optimization_history(study).show()"
   ]
  },
  {
   "cell_type": "code",
   "execution_count": 10,
   "metadata": {},
   "outputs": [
    {
     "data": {
      "application/vnd.plotly.v1+json": {
       "config": {
        "plotlyServerURL": "https://plot.ly"
       },
       "data": [
        {
         "cliponaxis": false,
         "hovertemplate": [
          "factors (IntDistribution): 0.006881223797170176<extra></extra>",
          "regularization (FloatDistribution): 0.007807209880253611<extra></extra>",
          "alpha (FloatDistribution): 0.9853115663225762<extra></extra>"
         ],
         "name": "Objective Value",
         "orientation": "h",
         "text": [
          "<0.01",
          "<0.01",
          "0.99"
         ],
         "textposition": "outside",
         "type": "bar",
         "x": [
          0.006881223797170176,
          0.007807209880253611,
          0.9853115663225762
         ],
         "y": [
          "factors",
          "regularization",
          "alpha"
         ]
        }
       ],
       "layout": {
        "template": {
         "data": {
          "bar": [
           {
            "error_x": {
             "color": "#2a3f5f"
            },
            "error_y": {
             "color": "#2a3f5f"
            },
            "marker": {
             "line": {
              "color": "#E5ECF6",
              "width": 0.5
             },
             "pattern": {
              "fillmode": "overlay",
              "size": 10,
              "solidity": 0.2
             }
            },
            "type": "bar"
           }
          ],
          "barpolar": [
           {
            "marker": {
             "line": {
              "color": "#E5ECF6",
              "width": 0.5
             },
             "pattern": {
              "fillmode": "overlay",
              "size": 10,
              "solidity": 0.2
             }
            },
            "type": "barpolar"
           }
          ],
          "carpet": [
           {
            "aaxis": {
             "endlinecolor": "#2a3f5f",
             "gridcolor": "white",
             "linecolor": "white",
             "minorgridcolor": "white",
             "startlinecolor": "#2a3f5f"
            },
            "baxis": {
             "endlinecolor": "#2a3f5f",
             "gridcolor": "white",
             "linecolor": "white",
             "minorgridcolor": "white",
             "startlinecolor": "#2a3f5f"
            },
            "type": "carpet"
           }
          ],
          "choropleth": [
           {
            "colorbar": {
             "outlinewidth": 0,
             "ticks": ""
            },
            "type": "choropleth"
           }
          ],
          "contour": [
           {
            "colorbar": {
             "outlinewidth": 0,
             "ticks": ""
            },
            "colorscale": [
             [
              0,
              "#0d0887"
             ],
             [
              0.1111111111111111,
              "#46039f"
             ],
             [
              0.2222222222222222,
              "#7201a8"
             ],
             [
              0.3333333333333333,
              "#9c179e"
             ],
             [
              0.4444444444444444,
              "#bd3786"
             ],
             [
              0.5555555555555556,
              "#d8576b"
             ],
             [
              0.6666666666666666,
              "#ed7953"
             ],
             [
              0.7777777777777778,
              "#fb9f3a"
             ],
             [
              0.8888888888888888,
              "#fdca26"
             ],
             [
              1,
              "#f0f921"
             ]
            ],
            "type": "contour"
           }
          ],
          "contourcarpet": [
           {
            "colorbar": {
             "outlinewidth": 0,
             "ticks": ""
            },
            "type": "contourcarpet"
           }
          ],
          "heatmap": [
           {
            "colorbar": {
             "outlinewidth": 0,
             "ticks": ""
            },
            "colorscale": [
             [
              0,
              "#0d0887"
             ],
             [
              0.1111111111111111,
              "#46039f"
             ],
             [
              0.2222222222222222,
              "#7201a8"
             ],
             [
              0.3333333333333333,
              "#9c179e"
             ],
             [
              0.4444444444444444,
              "#bd3786"
             ],
             [
              0.5555555555555556,
              "#d8576b"
             ],
             [
              0.6666666666666666,
              "#ed7953"
             ],
             [
              0.7777777777777778,
              "#fb9f3a"
             ],
             [
              0.8888888888888888,
              "#fdca26"
             ],
             [
              1,
              "#f0f921"
             ]
            ],
            "type": "heatmap"
           }
          ],
          "histogram": [
           {
            "marker": {
             "pattern": {
              "fillmode": "overlay",
              "size": 10,
              "solidity": 0.2
             }
            },
            "type": "histogram"
           }
          ],
          "histogram2d": [
           {
            "colorbar": {
             "outlinewidth": 0,
             "ticks": ""
            },
            "colorscale": [
             [
              0,
              "#0d0887"
             ],
             [
              0.1111111111111111,
              "#46039f"
             ],
             [
              0.2222222222222222,
              "#7201a8"
             ],
             [
              0.3333333333333333,
              "#9c179e"
             ],
             [
              0.4444444444444444,
              "#bd3786"
             ],
             [
              0.5555555555555556,
              "#d8576b"
             ],
             [
              0.6666666666666666,
              "#ed7953"
             ],
             [
              0.7777777777777778,
              "#fb9f3a"
             ],
             [
              0.8888888888888888,
              "#fdca26"
             ],
             [
              1,
              "#f0f921"
             ]
            ],
            "type": "histogram2d"
           }
          ],
          "histogram2dcontour": [
           {
            "colorbar": {
             "outlinewidth": 0,
             "ticks": ""
            },
            "colorscale": [
             [
              0,
              "#0d0887"
             ],
             [
              0.1111111111111111,
              "#46039f"
             ],
             [
              0.2222222222222222,
              "#7201a8"
             ],
             [
              0.3333333333333333,
              "#9c179e"
             ],
             [
              0.4444444444444444,
              "#bd3786"
             ],
             [
              0.5555555555555556,
              "#d8576b"
             ],
             [
              0.6666666666666666,
              "#ed7953"
             ],
             [
              0.7777777777777778,
              "#fb9f3a"
             ],
             [
              0.8888888888888888,
              "#fdca26"
             ],
             [
              1,
              "#f0f921"
             ]
            ],
            "type": "histogram2dcontour"
           }
          ],
          "mesh3d": [
           {
            "colorbar": {
             "outlinewidth": 0,
             "ticks": ""
            },
            "type": "mesh3d"
           }
          ],
          "parcoords": [
           {
            "line": {
             "colorbar": {
              "outlinewidth": 0,
              "ticks": ""
             }
            },
            "type": "parcoords"
           }
          ],
          "pie": [
           {
            "automargin": true,
            "type": "pie"
           }
          ],
          "scatter": [
           {
            "fillpattern": {
             "fillmode": "overlay",
             "size": 10,
             "solidity": 0.2
            },
            "type": "scatter"
           }
          ],
          "scatter3d": [
           {
            "line": {
             "colorbar": {
              "outlinewidth": 0,
              "ticks": ""
             }
            },
            "marker": {
             "colorbar": {
              "outlinewidth": 0,
              "ticks": ""
             }
            },
            "type": "scatter3d"
           }
          ],
          "scattercarpet": [
           {
            "marker": {
             "colorbar": {
              "outlinewidth": 0,
              "ticks": ""
             }
            },
            "type": "scattercarpet"
           }
          ],
          "scattergeo": [
           {
            "marker": {
             "colorbar": {
              "outlinewidth": 0,
              "ticks": ""
             }
            },
            "type": "scattergeo"
           }
          ],
          "scattergl": [
           {
            "marker": {
             "colorbar": {
              "outlinewidth": 0,
              "ticks": ""
             }
            },
            "type": "scattergl"
           }
          ],
          "scattermap": [
           {
            "marker": {
             "colorbar": {
              "outlinewidth": 0,
              "ticks": ""
             }
            },
            "type": "scattermap"
           }
          ],
          "scattermapbox": [
           {
            "marker": {
             "colorbar": {
              "outlinewidth": 0,
              "ticks": ""
             }
            },
            "type": "scattermapbox"
           }
          ],
          "scatterpolar": [
           {
            "marker": {
             "colorbar": {
              "outlinewidth": 0,
              "ticks": ""
             }
            },
            "type": "scatterpolar"
           }
          ],
          "scatterpolargl": [
           {
            "marker": {
             "colorbar": {
              "outlinewidth": 0,
              "ticks": ""
             }
            },
            "type": "scatterpolargl"
           }
          ],
          "scatterternary": [
           {
            "marker": {
             "colorbar": {
              "outlinewidth": 0,
              "ticks": ""
             }
            },
            "type": "scatterternary"
           }
          ],
          "surface": [
           {
            "colorbar": {
             "outlinewidth": 0,
             "ticks": ""
            },
            "colorscale": [
             [
              0,
              "#0d0887"
             ],
             [
              0.1111111111111111,
              "#46039f"
             ],
             [
              0.2222222222222222,
              "#7201a8"
             ],
             [
              0.3333333333333333,
              "#9c179e"
             ],
             [
              0.4444444444444444,
              "#bd3786"
             ],
             [
              0.5555555555555556,
              "#d8576b"
             ],
             [
              0.6666666666666666,
              "#ed7953"
             ],
             [
              0.7777777777777778,
              "#fb9f3a"
             ],
             [
              0.8888888888888888,
              "#fdca26"
             ],
             [
              1,
              "#f0f921"
             ]
            ],
            "type": "surface"
           }
          ],
          "table": [
           {
            "cells": {
             "fill": {
              "color": "#EBF0F8"
             },
             "line": {
              "color": "white"
             }
            },
            "header": {
             "fill": {
              "color": "#C8D4E3"
             },
             "line": {
              "color": "white"
             }
            },
            "type": "table"
           }
          ]
         },
         "layout": {
          "annotationdefaults": {
           "arrowcolor": "#2a3f5f",
           "arrowhead": 0,
           "arrowwidth": 1
          },
          "autotypenumbers": "strict",
          "coloraxis": {
           "colorbar": {
            "outlinewidth": 0,
            "ticks": ""
           }
          },
          "colorscale": {
           "diverging": [
            [
             0,
             "#8e0152"
            ],
            [
             0.1,
             "#c51b7d"
            ],
            [
             0.2,
             "#de77ae"
            ],
            [
             0.3,
             "#f1b6da"
            ],
            [
             0.4,
             "#fde0ef"
            ],
            [
             0.5,
             "#f7f7f7"
            ],
            [
             0.6,
             "#e6f5d0"
            ],
            [
             0.7,
             "#b8e186"
            ],
            [
             0.8,
             "#7fbc41"
            ],
            [
             0.9,
             "#4d9221"
            ],
            [
             1,
             "#276419"
            ]
           ],
           "sequential": [
            [
             0,
             "#0d0887"
            ],
            [
             0.1111111111111111,
             "#46039f"
            ],
            [
             0.2222222222222222,
             "#7201a8"
            ],
            [
             0.3333333333333333,
             "#9c179e"
            ],
            [
             0.4444444444444444,
             "#bd3786"
            ],
            [
             0.5555555555555556,
             "#d8576b"
            ],
            [
             0.6666666666666666,
             "#ed7953"
            ],
            [
             0.7777777777777778,
             "#fb9f3a"
            ],
            [
             0.8888888888888888,
             "#fdca26"
            ],
            [
             1,
             "#f0f921"
            ]
           ],
           "sequentialminus": [
            [
             0,
             "#0d0887"
            ],
            [
             0.1111111111111111,
             "#46039f"
            ],
            [
             0.2222222222222222,
             "#7201a8"
            ],
            [
             0.3333333333333333,
             "#9c179e"
            ],
            [
             0.4444444444444444,
             "#bd3786"
            ],
            [
             0.5555555555555556,
             "#d8576b"
            ],
            [
             0.6666666666666666,
             "#ed7953"
            ],
            [
             0.7777777777777778,
             "#fb9f3a"
            ],
            [
             0.8888888888888888,
             "#fdca26"
            ],
            [
             1,
             "#f0f921"
            ]
           ]
          },
          "colorway": [
           "#636efa",
           "#EF553B",
           "#00cc96",
           "#ab63fa",
           "#FFA15A",
           "#19d3f3",
           "#FF6692",
           "#B6E880",
           "#FF97FF",
           "#FECB52"
          ],
          "font": {
           "color": "#2a3f5f"
          },
          "geo": {
           "bgcolor": "white",
           "lakecolor": "white",
           "landcolor": "#E5ECF6",
           "showlakes": true,
           "showland": true,
           "subunitcolor": "white"
          },
          "hoverlabel": {
           "align": "left"
          },
          "hovermode": "closest",
          "mapbox": {
           "style": "light"
          },
          "paper_bgcolor": "white",
          "plot_bgcolor": "#E5ECF6",
          "polar": {
           "angularaxis": {
            "gridcolor": "white",
            "linecolor": "white",
            "ticks": ""
           },
           "bgcolor": "#E5ECF6",
           "radialaxis": {
            "gridcolor": "white",
            "linecolor": "white",
            "ticks": ""
           }
          },
          "scene": {
           "xaxis": {
            "backgroundcolor": "#E5ECF6",
            "gridcolor": "white",
            "gridwidth": 2,
            "linecolor": "white",
            "showbackground": true,
            "ticks": "",
            "zerolinecolor": "white"
           },
           "yaxis": {
            "backgroundcolor": "#E5ECF6",
            "gridcolor": "white",
            "gridwidth": 2,
            "linecolor": "white",
            "showbackground": true,
            "ticks": "",
            "zerolinecolor": "white"
           },
           "zaxis": {
            "backgroundcolor": "#E5ECF6",
            "gridcolor": "white",
            "gridwidth": 2,
            "linecolor": "white",
            "showbackground": true,
            "ticks": "",
            "zerolinecolor": "white"
           }
          },
          "shapedefaults": {
           "line": {
            "color": "#2a3f5f"
           }
          },
          "ternary": {
           "aaxis": {
            "gridcolor": "white",
            "linecolor": "white",
            "ticks": ""
           },
           "baxis": {
            "gridcolor": "white",
            "linecolor": "white",
            "ticks": ""
           },
           "bgcolor": "#E5ECF6",
           "caxis": {
            "gridcolor": "white",
            "linecolor": "white",
            "ticks": ""
           }
          },
          "title": {
           "x": 0.05
          },
          "xaxis": {
           "automargin": true,
           "gridcolor": "white",
           "linecolor": "white",
           "ticks": "",
           "title": {
            "standoff": 15
           },
           "zerolinecolor": "white",
           "zerolinewidth": 2
          },
          "yaxis": {
           "automargin": true,
           "gridcolor": "white",
           "linecolor": "white",
           "ticks": "",
           "title": {
            "standoff": 15
           },
           "zerolinecolor": "white",
           "zerolinewidth": 2
          }
         }
        },
        "title": {
         "text": "Hyperparameter Importances"
        },
        "xaxis": {
         "title": {
          "text": "Hyperparameter Importance"
         }
        },
        "yaxis": {
         "title": {
          "text": "Hyperparameter"
         }
        }
       }
      }
     },
     "metadata": {},
     "output_type": "display_data"
    }
   ],
   "source": [
    "# Hyperparameter Importances\n",
    "plot_param_importances(study).show()"
   ]
  },
  {
   "cell_type": "code",
   "execution_count": 11,
   "metadata": {},
   "outputs": [
    {
     "data": {
      "application/vnd.plotly.v1+json": {
       "config": {
        "plotlyServerURL": "https://plot.ly"
       },
       "data": [
        {
         "dimensions": [
          {
           "label": "Objective Value",
           "range": [
            0.2647959824443359,
            0.4087241143819645
           ],
           "values": [
            0.3609986628219534,
            0.3556861926257836,
            0.2979784822492202,
            0.38238331685860294,
            0.2754734696821204,
            0.3658263791874868,
            0.31230623127954005,
            0.2967058393987588,
            0.2878302152564509,
            0.2647959824443359,
            0.39471531246355546,
            0.39491084919938024,
            0.3970433071956071,
            0.39639755475875205,
            0.40730524654844436,
            0.40224055962892724,
            0.3537810495583167,
            0.3993932788813341,
            0.4087241143819645,
            0.3911277557284983,
            0.36102323590084995,
            0.4085159334162494,
            0.40720174665230385,
            0.4083264267770203,
            0.3937556680694129,
            0.39288091559569976,
            0.39728464174046424,
            0.39319790223851486,
            0.36452870382012004,
            0.37436313739745114
           ]
          },
          {
           "label": "alpha",
           "range": [
            0.0009678300371309813,
            1.6958020059588366
           ],
           "ticktext": [
            "1",
            "10",
            "49.6"
           ],
           "tickvals": [
            0.0009678300371309813,
            1,
            1.6958020059588366
           ],
           "values": [
            0.4028555110729092,
            0.812538240799014,
            1.4661246316807843,
            0.39337577806655827,
            1.606417608325808,
            0.6996588068808003,
            1.5019912971432126,
            1.4894199997365407,
            1.6831161217694974,
            1.6958020059588366,
            0.08718306903506486,
            0.0517738982297803,
            0.0009678300371309813,
            0.0145649561918102,
            0.2773338058511763,
            0.3635491694713344,
            1.1378364133760877,
            0.44017541961398543,
            0.23590283227245543,
            0.6435044099228487,
            1.0717048311228161,
            0.2250525268400384,
            0.2559842227510915,
            0.232177573892338,
            0.5716748197914934,
            0.18771571559371175,
            0.4995121784175541,
            0.16100981331638464,
            1.0277883307704683,
            0.3149093408831947
           ]
          },
          {
           "label": "factors",
           "range": [
            32,
            128
           ],
           "values": [
            128,
            96,
            128,
            64,
            96,
            64,
            32,
            128,
            32,
            96,
            64,
            64,
            64,
            64,
            32,
            32,
            32,
            32,
            32,
            32,
            32,
            32,
            32,
            32,
            32,
            64,
            32,
            64,
            32,
            96
           ]
          },
          {
           "label": "regularization",
           "range": [
            -2.995642400011014,
            -1.198506888411
           ],
           "ticktext": [
            "0.00101",
            "0.01",
            "0.0633"
           ],
           "tickvals": [
            -2.995642400011014,
            -2,
            -1.198506888411
           ],
           "values": [
            -1.5368885529903664,
            -1.7936559226516995,
            -1.762092805799614,
            -1.7343497639446357,
            -1.7336500560288945,
            -1.217100171597561,
            -1.6865160756441573,
            -2.5985977102694267,
            -1.198506888411,
            -2.9800179976261676,
            -2.240855110488333,
            -2.2922923475756996,
            -2.3345088083881484,
            -2.2585670008048395,
            -2.4942149851580395,
            -2.7027386166633915,
            -2.7829246651386756,
            -2.5537280747554596,
            -2.61405377442062,
            -2.0495161480826036,
            -2.995642400011014,
            -2.59767549424329,
            -2.511450297038094,
            -2.7423154014774513,
            -2.819410963099056,
            -2.0868413937409755,
            -2.8305636340398457,
            -2.4082454609328052,
            -2.6522102831494556,
            -1.4519825284973629
           ]
          }
         ],
         "labelangle": 30,
         "labelside": "bottom",
         "line": {
          "color": [
           0.3609986628219534,
           0.3556861926257836,
           0.2979784822492202,
           0.38238331685860294,
           0.2754734696821204,
           0.3658263791874868,
           0.31230623127954005,
           0.2967058393987588,
           0.2878302152564509,
           0.2647959824443359,
           0.39471531246355546,
           0.39491084919938024,
           0.3970433071956071,
           0.39639755475875205,
           0.40730524654844436,
           0.40224055962892724,
           0.3537810495583167,
           0.3993932788813341,
           0.4087241143819645,
           0.3911277557284983,
           0.36102323590084995,
           0.4085159334162494,
           0.40720174665230385,
           0.4083264267770203,
           0.3937556680694129,
           0.39288091559569976,
           0.39728464174046424,
           0.39319790223851486,
           0.36452870382012004,
           0.37436313739745114
          ],
          "colorbar": {
           "title": {
            "text": "Objective Value"
           }
          },
          "colorscale": [
           [
            0,
            "rgb(247,251,255)"
           ],
           [
            0.125,
            "rgb(222,235,247)"
           ],
           [
            0.25,
            "rgb(198,219,239)"
           ],
           [
            0.375,
            "rgb(158,202,225)"
           ],
           [
            0.5,
            "rgb(107,174,214)"
           ],
           [
            0.625,
            "rgb(66,146,198)"
           ],
           [
            0.75,
            "rgb(33,113,181)"
           ],
           [
            0.875,
            "rgb(8,81,156)"
           ],
           [
            1,
            "rgb(8,48,107)"
           ]
          ],
          "reversescale": false,
          "showscale": true
         },
         "type": "parcoords"
        }
       ],
       "layout": {
        "template": {
         "data": {
          "bar": [
           {
            "error_x": {
             "color": "#2a3f5f"
            },
            "error_y": {
             "color": "#2a3f5f"
            },
            "marker": {
             "line": {
              "color": "#E5ECF6",
              "width": 0.5
             },
             "pattern": {
              "fillmode": "overlay",
              "size": 10,
              "solidity": 0.2
             }
            },
            "type": "bar"
           }
          ],
          "barpolar": [
           {
            "marker": {
             "line": {
              "color": "#E5ECF6",
              "width": 0.5
             },
             "pattern": {
              "fillmode": "overlay",
              "size": 10,
              "solidity": 0.2
             }
            },
            "type": "barpolar"
           }
          ],
          "carpet": [
           {
            "aaxis": {
             "endlinecolor": "#2a3f5f",
             "gridcolor": "white",
             "linecolor": "white",
             "minorgridcolor": "white",
             "startlinecolor": "#2a3f5f"
            },
            "baxis": {
             "endlinecolor": "#2a3f5f",
             "gridcolor": "white",
             "linecolor": "white",
             "minorgridcolor": "white",
             "startlinecolor": "#2a3f5f"
            },
            "type": "carpet"
           }
          ],
          "choropleth": [
           {
            "colorbar": {
             "outlinewidth": 0,
             "ticks": ""
            },
            "type": "choropleth"
           }
          ],
          "contour": [
           {
            "colorbar": {
             "outlinewidth": 0,
             "ticks": ""
            },
            "colorscale": [
             [
              0,
              "#0d0887"
             ],
             [
              0.1111111111111111,
              "#46039f"
             ],
             [
              0.2222222222222222,
              "#7201a8"
             ],
             [
              0.3333333333333333,
              "#9c179e"
             ],
             [
              0.4444444444444444,
              "#bd3786"
             ],
             [
              0.5555555555555556,
              "#d8576b"
             ],
             [
              0.6666666666666666,
              "#ed7953"
             ],
             [
              0.7777777777777778,
              "#fb9f3a"
             ],
             [
              0.8888888888888888,
              "#fdca26"
             ],
             [
              1,
              "#f0f921"
             ]
            ],
            "type": "contour"
           }
          ],
          "contourcarpet": [
           {
            "colorbar": {
             "outlinewidth": 0,
             "ticks": ""
            },
            "type": "contourcarpet"
           }
          ],
          "heatmap": [
           {
            "colorbar": {
             "outlinewidth": 0,
             "ticks": ""
            },
            "colorscale": [
             [
              0,
              "#0d0887"
             ],
             [
              0.1111111111111111,
              "#46039f"
             ],
             [
              0.2222222222222222,
              "#7201a8"
             ],
             [
              0.3333333333333333,
              "#9c179e"
             ],
             [
              0.4444444444444444,
              "#bd3786"
             ],
             [
              0.5555555555555556,
              "#d8576b"
             ],
             [
              0.6666666666666666,
              "#ed7953"
             ],
             [
              0.7777777777777778,
              "#fb9f3a"
             ],
             [
              0.8888888888888888,
              "#fdca26"
             ],
             [
              1,
              "#f0f921"
             ]
            ],
            "type": "heatmap"
           }
          ],
          "histogram": [
           {
            "marker": {
             "pattern": {
              "fillmode": "overlay",
              "size": 10,
              "solidity": 0.2
             }
            },
            "type": "histogram"
           }
          ],
          "histogram2d": [
           {
            "colorbar": {
             "outlinewidth": 0,
             "ticks": ""
            },
            "colorscale": [
             [
              0,
              "#0d0887"
             ],
             [
              0.1111111111111111,
              "#46039f"
             ],
             [
              0.2222222222222222,
              "#7201a8"
             ],
             [
              0.3333333333333333,
              "#9c179e"
             ],
             [
              0.4444444444444444,
              "#bd3786"
             ],
             [
              0.5555555555555556,
              "#d8576b"
             ],
             [
              0.6666666666666666,
              "#ed7953"
             ],
             [
              0.7777777777777778,
              "#fb9f3a"
             ],
             [
              0.8888888888888888,
              "#fdca26"
             ],
             [
              1,
              "#f0f921"
             ]
            ],
            "type": "histogram2d"
           }
          ],
          "histogram2dcontour": [
           {
            "colorbar": {
             "outlinewidth": 0,
             "ticks": ""
            },
            "colorscale": [
             [
              0,
              "#0d0887"
             ],
             [
              0.1111111111111111,
              "#46039f"
             ],
             [
              0.2222222222222222,
              "#7201a8"
             ],
             [
              0.3333333333333333,
              "#9c179e"
             ],
             [
              0.4444444444444444,
              "#bd3786"
             ],
             [
              0.5555555555555556,
              "#d8576b"
             ],
             [
              0.6666666666666666,
              "#ed7953"
             ],
             [
              0.7777777777777778,
              "#fb9f3a"
             ],
             [
              0.8888888888888888,
              "#fdca26"
             ],
             [
              1,
              "#f0f921"
             ]
            ],
            "type": "histogram2dcontour"
           }
          ],
          "mesh3d": [
           {
            "colorbar": {
             "outlinewidth": 0,
             "ticks": ""
            },
            "type": "mesh3d"
           }
          ],
          "parcoords": [
           {
            "line": {
             "colorbar": {
              "outlinewidth": 0,
              "ticks": ""
             }
            },
            "type": "parcoords"
           }
          ],
          "pie": [
           {
            "automargin": true,
            "type": "pie"
           }
          ],
          "scatter": [
           {
            "fillpattern": {
             "fillmode": "overlay",
             "size": 10,
             "solidity": 0.2
            },
            "type": "scatter"
           }
          ],
          "scatter3d": [
           {
            "line": {
             "colorbar": {
              "outlinewidth": 0,
              "ticks": ""
             }
            },
            "marker": {
             "colorbar": {
              "outlinewidth": 0,
              "ticks": ""
             }
            },
            "type": "scatter3d"
           }
          ],
          "scattercarpet": [
           {
            "marker": {
             "colorbar": {
              "outlinewidth": 0,
              "ticks": ""
             }
            },
            "type": "scattercarpet"
           }
          ],
          "scattergeo": [
           {
            "marker": {
             "colorbar": {
              "outlinewidth": 0,
              "ticks": ""
             }
            },
            "type": "scattergeo"
           }
          ],
          "scattergl": [
           {
            "marker": {
             "colorbar": {
              "outlinewidth": 0,
              "ticks": ""
             }
            },
            "type": "scattergl"
           }
          ],
          "scattermap": [
           {
            "marker": {
             "colorbar": {
              "outlinewidth": 0,
              "ticks": ""
             }
            },
            "type": "scattermap"
           }
          ],
          "scattermapbox": [
           {
            "marker": {
             "colorbar": {
              "outlinewidth": 0,
              "ticks": ""
             }
            },
            "type": "scattermapbox"
           }
          ],
          "scatterpolar": [
           {
            "marker": {
             "colorbar": {
              "outlinewidth": 0,
              "ticks": ""
             }
            },
            "type": "scatterpolar"
           }
          ],
          "scatterpolargl": [
           {
            "marker": {
             "colorbar": {
              "outlinewidth": 0,
              "ticks": ""
             }
            },
            "type": "scatterpolargl"
           }
          ],
          "scatterternary": [
           {
            "marker": {
             "colorbar": {
              "outlinewidth": 0,
              "ticks": ""
             }
            },
            "type": "scatterternary"
           }
          ],
          "surface": [
           {
            "colorbar": {
             "outlinewidth": 0,
             "ticks": ""
            },
            "colorscale": [
             [
              0,
              "#0d0887"
             ],
             [
              0.1111111111111111,
              "#46039f"
             ],
             [
              0.2222222222222222,
              "#7201a8"
             ],
             [
              0.3333333333333333,
              "#9c179e"
             ],
             [
              0.4444444444444444,
              "#bd3786"
             ],
             [
              0.5555555555555556,
              "#d8576b"
             ],
             [
              0.6666666666666666,
              "#ed7953"
             ],
             [
              0.7777777777777778,
              "#fb9f3a"
             ],
             [
              0.8888888888888888,
              "#fdca26"
             ],
             [
              1,
              "#f0f921"
             ]
            ],
            "type": "surface"
           }
          ],
          "table": [
           {
            "cells": {
             "fill": {
              "color": "#EBF0F8"
             },
             "line": {
              "color": "white"
             }
            },
            "header": {
             "fill": {
              "color": "#C8D4E3"
             },
             "line": {
              "color": "white"
             }
            },
            "type": "table"
           }
          ]
         },
         "layout": {
          "annotationdefaults": {
           "arrowcolor": "#2a3f5f",
           "arrowhead": 0,
           "arrowwidth": 1
          },
          "autotypenumbers": "strict",
          "coloraxis": {
           "colorbar": {
            "outlinewidth": 0,
            "ticks": ""
           }
          },
          "colorscale": {
           "diverging": [
            [
             0,
             "#8e0152"
            ],
            [
             0.1,
             "#c51b7d"
            ],
            [
             0.2,
             "#de77ae"
            ],
            [
             0.3,
             "#f1b6da"
            ],
            [
             0.4,
             "#fde0ef"
            ],
            [
             0.5,
             "#f7f7f7"
            ],
            [
             0.6,
             "#e6f5d0"
            ],
            [
             0.7,
             "#b8e186"
            ],
            [
             0.8,
             "#7fbc41"
            ],
            [
             0.9,
             "#4d9221"
            ],
            [
             1,
             "#276419"
            ]
           ],
           "sequential": [
            [
             0,
             "#0d0887"
            ],
            [
             0.1111111111111111,
             "#46039f"
            ],
            [
             0.2222222222222222,
             "#7201a8"
            ],
            [
             0.3333333333333333,
             "#9c179e"
            ],
            [
             0.4444444444444444,
             "#bd3786"
            ],
            [
             0.5555555555555556,
             "#d8576b"
            ],
            [
             0.6666666666666666,
             "#ed7953"
            ],
            [
             0.7777777777777778,
             "#fb9f3a"
            ],
            [
             0.8888888888888888,
             "#fdca26"
            ],
            [
             1,
             "#f0f921"
            ]
           ],
           "sequentialminus": [
            [
             0,
             "#0d0887"
            ],
            [
             0.1111111111111111,
             "#46039f"
            ],
            [
             0.2222222222222222,
             "#7201a8"
            ],
            [
             0.3333333333333333,
             "#9c179e"
            ],
            [
             0.4444444444444444,
             "#bd3786"
            ],
            [
             0.5555555555555556,
             "#d8576b"
            ],
            [
             0.6666666666666666,
             "#ed7953"
            ],
            [
             0.7777777777777778,
             "#fb9f3a"
            ],
            [
             0.8888888888888888,
             "#fdca26"
            ],
            [
             1,
             "#f0f921"
            ]
           ]
          },
          "colorway": [
           "#636efa",
           "#EF553B",
           "#00cc96",
           "#ab63fa",
           "#FFA15A",
           "#19d3f3",
           "#FF6692",
           "#B6E880",
           "#FF97FF",
           "#FECB52"
          ],
          "font": {
           "color": "#2a3f5f"
          },
          "geo": {
           "bgcolor": "white",
           "lakecolor": "white",
           "landcolor": "#E5ECF6",
           "showlakes": true,
           "showland": true,
           "subunitcolor": "white"
          },
          "hoverlabel": {
           "align": "left"
          },
          "hovermode": "closest",
          "mapbox": {
           "style": "light"
          },
          "paper_bgcolor": "white",
          "plot_bgcolor": "#E5ECF6",
          "polar": {
           "angularaxis": {
            "gridcolor": "white",
            "linecolor": "white",
            "ticks": ""
           },
           "bgcolor": "#E5ECF6",
           "radialaxis": {
            "gridcolor": "white",
            "linecolor": "white",
            "ticks": ""
           }
          },
          "scene": {
           "xaxis": {
            "backgroundcolor": "#E5ECF6",
            "gridcolor": "white",
            "gridwidth": 2,
            "linecolor": "white",
            "showbackground": true,
            "ticks": "",
            "zerolinecolor": "white"
           },
           "yaxis": {
            "backgroundcolor": "#E5ECF6",
            "gridcolor": "white",
            "gridwidth": 2,
            "linecolor": "white",
            "showbackground": true,
            "ticks": "",
            "zerolinecolor": "white"
           },
           "zaxis": {
            "backgroundcolor": "#E5ECF6",
            "gridcolor": "white",
            "gridwidth": 2,
            "linecolor": "white",
            "showbackground": true,
            "ticks": "",
            "zerolinecolor": "white"
           }
          },
          "shapedefaults": {
           "line": {
            "color": "#2a3f5f"
           }
          },
          "ternary": {
           "aaxis": {
            "gridcolor": "white",
            "linecolor": "white",
            "ticks": ""
           },
           "baxis": {
            "gridcolor": "white",
            "linecolor": "white",
            "ticks": ""
           },
           "bgcolor": "#E5ECF6",
           "caxis": {
            "gridcolor": "white",
            "linecolor": "white",
            "ticks": ""
           }
          },
          "title": {
           "x": 0.05
          },
          "xaxis": {
           "automargin": true,
           "gridcolor": "white",
           "linecolor": "white",
           "ticks": "",
           "title": {
            "standoff": 15
           },
           "zerolinecolor": "white",
           "zerolinewidth": 2
          },
          "yaxis": {
           "automargin": true,
           "gridcolor": "white",
           "linecolor": "white",
           "ticks": "",
           "title": {
            "standoff": 15
           },
           "zerolinecolor": "white",
           "zerolinewidth": 2
          }
         }
        },
        "title": {
         "text": "Parallel Coordinate Plot"
        }
       }
      }
     },
     "metadata": {},
     "output_type": "display_data"
    }
   ],
   "source": [
    "# Parallel Coordinate\n",
    "plot_parallel_coordinate(study).show()"
   ]
  },
  {
   "cell_type": "code",
   "execution_count": 12,
   "metadata": {},
   "outputs": [
    {
     "data": {
      "application/vnd.plotly.v1+json": {
       "config": {
        "plotlyServerURL": "https://plot.ly"
       },
       "data": [
        {
         "marker": {
          "color": [
           0,
           1,
           2,
           3,
           4,
           5,
           6,
           7,
           8,
           9,
           10,
           11,
           12,
           13,
           14,
           15,
           16,
           17,
           18,
           19,
           20,
           21,
           22,
           23,
           24,
           25,
           26,
           27,
           28,
           29
          ],
          "colorbar": {
           "title": {
            "text": "Trial"
           },
           "x": 1,
           "xpad": 40
          },
          "colorscale": [
           [
            0,
            "rgb(247,251,255)"
           ],
           [
            0.125,
            "rgb(222,235,247)"
           ],
           [
            0.25,
            "rgb(198,219,239)"
           ],
           [
            0.375,
            "rgb(158,202,225)"
           ],
           [
            0.5,
            "rgb(107,174,214)"
           ],
           [
            0.625,
            "rgb(66,146,198)"
           ],
           [
            0.75,
            "rgb(33,113,181)"
           ],
           [
            0.875,
            "rgb(8,81,156)"
           ],
           [
            1,
            "rgb(8,48,107)"
           ]
          ],
          "line": {
           "color": "Grey",
           "width": 0.5
          },
          "showscale": true
         },
         "mode": "markers",
         "name": "Feasible Trial",
         "showlegend": false,
         "type": "scatter",
         "x": [
          2.52845664390175,
          6.494388138956376,
          29.249916570393545,
          2.473863756986004,
          40.40337164540191,
          5.007936424384073,
          31.768104096911273,
          30.86171097722782,
          48.207667817964385,
          49.636597753956714,
          1.2223147964228427,
          1.126610768986093,
          1.0022309959923135,
          1.0341057576765416,
          1.893798664055169,
          2.309665937315452,
          13.735245091701698,
          2.755341412214319,
          1.7214833724374905,
          4.400524162034928,
          11.795187015612546,
          1.6790070775827166,
          1.8029522411947934,
          1.7067801128924267,
          3.72970789438548,
          1.540691602963217,
          3.1587276237247663,
          1.4488045903576574,
          10.660764034350592,
          2.064949052017665
         ],
         "xaxis": "x",
         "y": [
          0.3609986628219534,
          0.3556861926257836,
          0.2979784822492202,
          0.38238331685860294,
          0.2754734696821204,
          0.3658263791874868,
          0.31230623127954005,
          0.2967058393987588,
          0.2878302152564509,
          0.2647959824443359,
          0.39471531246355546,
          0.39491084919938024,
          0.3970433071956071,
          0.39639755475875205,
          0.40730524654844436,
          0.40224055962892724,
          0.3537810495583167,
          0.3993932788813341,
          0.4087241143819645,
          0.3911277557284983,
          0.36102323590084995,
          0.4085159334162494,
          0.40720174665230385,
          0.4083264267770203,
          0.3937556680694129,
          0.39288091559569976,
          0.39728464174046424,
          0.39319790223851486,
          0.36452870382012004,
          0.37436313739745114
         ],
         "yaxis": "y"
        },
        {
         "marker": {
          "color": [
           0,
           1,
           2,
           3,
           4,
           5,
           6,
           7,
           8,
           9,
           10,
           11,
           12,
           13,
           14,
           15,
           16,
           17,
           18,
           19,
           20,
           21,
           22,
           23,
           24,
           25,
           26,
           27,
           28,
           29
          ],
          "colorbar": {
           "title": {
            "text": "Trial"
           },
           "x": 1,
           "xpad": 40
          },
          "colorscale": [
           [
            0,
            "rgb(247,251,255)"
           ],
           [
            0.125,
            "rgb(222,235,247)"
           ],
           [
            0.25,
            "rgb(198,219,239)"
           ],
           [
            0.375,
            "rgb(158,202,225)"
           ],
           [
            0.5,
            "rgb(107,174,214)"
           ],
           [
            0.625,
            "rgb(66,146,198)"
           ],
           [
            0.75,
            "rgb(33,113,181)"
           ],
           [
            0.875,
            "rgb(8,81,156)"
           ],
           [
            1,
            "rgb(8,48,107)"
           ]
          ],
          "line": {
           "color": "Grey",
           "width": 0.5
          },
          "showscale": false
         },
         "mode": "markers",
         "name": "Feasible Trial",
         "showlegend": false,
         "type": "scatter",
         "x": [
          128,
          96,
          128,
          64,
          96,
          64,
          32,
          128,
          32,
          96,
          64,
          64,
          64,
          64,
          32,
          32,
          32,
          32,
          32,
          32,
          32,
          32,
          32,
          32,
          32,
          64,
          32,
          64,
          32,
          96
         ],
         "xaxis": "x2",
         "y": [
          0.3609986628219534,
          0.3556861926257836,
          0.2979784822492202,
          0.38238331685860294,
          0.2754734696821204,
          0.3658263791874868,
          0.31230623127954005,
          0.2967058393987588,
          0.2878302152564509,
          0.2647959824443359,
          0.39471531246355546,
          0.39491084919938024,
          0.3970433071956071,
          0.39639755475875205,
          0.40730524654844436,
          0.40224055962892724,
          0.3537810495583167,
          0.3993932788813341,
          0.4087241143819645,
          0.3911277557284983,
          0.36102323590084995,
          0.4085159334162494,
          0.40720174665230385,
          0.4083264267770203,
          0.3937556680694129,
          0.39288091559569976,
          0.39728464174046424,
          0.39319790223851486,
          0.36452870382012004,
          0.37436313739745114
         ],
         "yaxis": "y2"
        },
        {
         "marker": {
          "color": [
           0,
           1,
           2,
           3,
           4,
           5,
           6,
           7,
           8,
           9,
           10,
           11,
           12,
           13,
           14,
           15,
           16,
           17,
           18,
           19,
           20,
           21,
           22,
           23,
           24,
           25,
           26,
           27,
           28,
           29
          ],
          "colorbar": {
           "title": {
            "text": "Trial"
           },
           "x": 1,
           "xpad": 40
          },
          "colorscale": [
           [
            0,
            "rgb(247,251,255)"
           ],
           [
            0.125,
            "rgb(222,235,247)"
           ],
           [
            0.25,
            "rgb(198,219,239)"
           ],
           [
            0.375,
            "rgb(158,202,225)"
           ],
           [
            0.5,
            "rgb(107,174,214)"
           ],
           [
            0.625,
            "rgb(66,146,198)"
           ],
           [
            0.75,
            "rgb(33,113,181)"
           ],
           [
            0.875,
            "rgb(8,81,156)"
           ],
           [
            1,
            "rgb(8,48,107)"
           ]
          ],
          "line": {
           "color": "Grey",
           "width": 0.5
          },
          "showscale": false
         },
         "mode": "markers",
         "name": "Feasible Trial",
         "showlegend": false,
         "type": "scatter",
         "x": [
          0.029047679694155292,
          0.01608214884599777,
          0.01729446748627178,
          0.01843530113448585,
          0.018465026870235587,
          0.0606596399791558,
          0.020581827043906948,
          0.0025200101483224212,
          0.06331303194546369,
          0.0010470851548270562,
          0.005743080311420229,
          0.005101614665341035,
          0.004629042750286122,
          0.0055135713516799275,
          0.00320468254464749,
          0.0019827199814167694,
          0.0016484483146952914,
          0.0027942928870544263,
          0.0024319028717811305,
          0.008922444432398929,
          0.001010084251575758,
          0.0025253670272775116,
          0.003079992812031499,
          0.0018100251048278413,
          0.0015156154958221079,
          0.008187637496706647,
          0.001477190023726061,
          0.0039062005700983365,
          0.0022273564136382575,
          0.03531973785030102
         ],
         "xaxis": "x3",
         "y": [
          0.3609986628219534,
          0.3556861926257836,
          0.2979784822492202,
          0.38238331685860294,
          0.2754734696821204,
          0.3658263791874868,
          0.31230623127954005,
          0.2967058393987588,
          0.2878302152564509,
          0.2647959824443359,
          0.39471531246355546,
          0.39491084919938024,
          0.3970433071956071,
          0.39639755475875205,
          0.40730524654844436,
          0.40224055962892724,
          0.3537810495583167,
          0.3993932788813341,
          0.4087241143819645,
          0.3911277557284983,
          0.36102323590084995,
          0.4085159334162494,
          0.40720174665230385,
          0.4083264267770203,
          0.3937556680694129,
          0.39288091559569976,
          0.39728464174046424,
          0.39319790223851486,
          0.36452870382012004,
          0.37436313739745114
         ],
         "yaxis": "y3"
        }
       ],
       "layout": {
        "template": {
         "data": {
          "bar": [
           {
            "error_x": {
             "color": "#2a3f5f"
            },
            "error_y": {
             "color": "#2a3f5f"
            },
            "marker": {
             "line": {
              "color": "#E5ECF6",
              "width": 0.5
             },
             "pattern": {
              "fillmode": "overlay",
              "size": 10,
              "solidity": 0.2
             }
            },
            "type": "bar"
           }
          ],
          "barpolar": [
           {
            "marker": {
             "line": {
              "color": "#E5ECF6",
              "width": 0.5
             },
             "pattern": {
              "fillmode": "overlay",
              "size": 10,
              "solidity": 0.2
             }
            },
            "type": "barpolar"
           }
          ],
          "carpet": [
           {
            "aaxis": {
             "endlinecolor": "#2a3f5f",
             "gridcolor": "white",
             "linecolor": "white",
             "minorgridcolor": "white",
             "startlinecolor": "#2a3f5f"
            },
            "baxis": {
             "endlinecolor": "#2a3f5f",
             "gridcolor": "white",
             "linecolor": "white",
             "minorgridcolor": "white",
             "startlinecolor": "#2a3f5f"
            },
            "type": "carpet"
           }
          ],
          "choropleth": [
           {
            "colorbar": {
             "outlinewidth": 0,
             "ticks": ""
            },
            "type": "choropleth"
           }
          ],
          "contour": [
           {
            "colorbar": {
             "outlinewidth": 0,
             "ticks": ""
            },
            "colorscale": [
             [
              0,
              "#0d0887"
             ],
             [
              0.1111111111111111,
              "#46039f"
             ],
             [
              0.2222222222222222,
              "#7201a8"
             ],
             [
              0.3333333333333333,
              "#9c179e"
             ],
             [
              0.4444444444444444,
              "#bd3786"
             ],
             [
              0.5555555555555556,
              "#d8576b"
             ],
             [
              0.6666666666666666,
              "#ed7953"
             ],
             [
              0.7777777777777778,
              "#fb9f3a"
             ],
             [
              0.8888888888888888,
              "#fdca26"
             ],
             [
              1,
              "#f0f921"
             ]
            ],
            "type": "contour"
           }
          ],
          "contourcarpet": [
           {
            "colorbar": {
             "outlinewidth": 0,
             "ticks": ""
            },
            "type": "contourcarpet"
           }
          ],
          "heatmap": [
           {
            "colorbar": {
             "outlinewidth": 0,
             "ticks": ""
            },
            "colorscale": [
             [
              0,
              "#0d0887"
             ],
             [
              0.1111111111111111,
              "#46039f"
             ],
             [
              0.2222222222222222,
              "#7201a8"
             ],
             [
              0.3333333333333333,
              "#9c179e"
             ],
             [
              0.4444444444444444,
              "#bd3786"
             ],
             [
              0.5555555555555556,
              "#d8576b"
             ],
             [
              0.6666666666666666,
              "#ed7953"
             ],
             [
              0.7777777777777778,
              "#fb9f3a"
             ],
             [
              0.8888888888888888,
              "#fdca26"
             ],
             [
              1,
              "#f0f921"
             ]
            ],
            "type": "heatmap"
           }
          ],
          "histogram": [
           {
            "marker": {
             "pattern": {
              "fillmode": "overlay",
              "size": 10,
              "solidity": 0.2
             }
            },
            "type": "histogram"
           }
          ],
          "histogram2d": [
           {
            "colorbar": {
             "outlinewidth": 0,
             "ticks": ""
            },
            "colorscale": [
             [
              0,
              "#0d0887"
             ],
             [
              0.1111111111111111,
              "#46039f"
             ],
             [
              0.2222222222222222,
              "#7201a8"
             ],
             [
              0.3333333333333333,
              "#9c179e"
             ],
             [
              0.4444444444444444,
              "#bd3786"
             ],
             [
              0.5555555555555556,
              "#d8576b"
             ],
             [
              0.6666666666666666,
              "#ed7953"
             ],
             [
              0.7777777777777778,
              "#fb9f3a"
             ],
             [
              0.8888888888888888,
              "#fdca26"
             ],
             [
              1,
              "#f0f921"
             ]
            ],
            "type": "histogram2d"
           }
          ],
          "histogram2dcontour": [
           {
            "colorbar": {
             "outlinewidth": 0,
             "ticks": ""
            },
            "colorscale": [
             [
              0,
              "#0d0887"
             ],
             [
              0.1111111111111111,
              "#46039f"
             ],
             [
              0.2222222222222222,
              "#7201a8"
             ],
             [
              0.3333333333333333,
              "#9c179e"
             ],
             [
              0.4444444444444444,
              "#bd3786"
             ],
             [
              0.5555555555555556,
              "#d8576b"
             ],
             [
              0.6666666666666666,
              "#ed7953"
             ],
             [
              0.7777777777777778,
              "#fb9f3a"
             ],
             [
              0.8888888888888888,
              "#fdca26"
             ],
             [
              1,
              "#f0f921"
             ]
            ],
            "type": "histogram2dcontour"
           }
          ],
          "mesh3d": [
           {
            "colorbar": {
             "outlinewidth": 0,
             "ticks": ""
            },
            "type": "mesh3d"
           }
          ],
          "parcoords": [
           {
            "line": {
             "colorbar": {
              "outlinewidth": 0,
              "ticks": ""
             }
            },
            "type": "parcoords"
           }
          ],
          "pie": [
           {
            "automargin": true,
            "type": "pie"
           }
          ],
          "scatter": [
           {
            "fillpattern": {
             "fillmode": "overlay",
             "size": 10,
             "solidity": 0.2
            },
            "type": "scatter"
           }
          ],
          "scatter3d": [
           {
            "line": {
             "colorbar": {
              "outlinewidth": 0,
              "ticks": ""
             }
            },
            "marker": {
             "colorbar": {
              "outlinewidth": 0,
              "ticks": ""
             }
            },
            "type": "scatter3d"
           }
          ],
          "scattercarpet": [
           {
            "marker": {
             "colorbar": {
              "outlinewidth": 0,
              "ticks": ""
             }
            },
            "type": "scattercarpet"
           }
          ],
          "scattergeo": [
           {
            "marker": {
             "colorbar": {
              "outlinewidth": 0,
              "ticks": ""
             }
            },
            "type": "scattergeo"
           }
          ],
          "scattergl": [
           {
            "marker": {
             "colorbar": {
              "outlinewidth": 0,
              "ticks": ""
             }
            },
            "type": "scattergl"
           }
          ],
          "scattermap": [
           {
            "marker": {
             "colorbar": {
              "outlinewidth": 0,
              "ticks": ""
             }
            },
            "type": "scattermap"
           }
          ],
          "scattermapbox": [
           {
            "marker": {
             "colorbar": {
              "outlinewidth": 0,
              "ticks": ""
             }
            },
            "type": "scattermapbox"
           }
          ],
          "scatterpolar": [
           {
            "marker": {
             "colorbar": {
              "outlinewidth": 0,
              "ticks": ""
             }
            },
            "type": "scatterpolar"
           }
          ],
          "scatterpolargl": [
           {
            "marker": {
             "colorbar": {
              "outlinewidth": 0,
              "ticks": ""
             }
            },
            "type": "scatterpolargl"
           }
          ],
          "scatterternary": [
           {
            "marker": {
             "colorbar": {
              "outlinewidth": 0,
              "ticks": ""
             }
            },
            "type": "scatterternary"
           }
          ],
          "surface": [
           {
            "colorbar": {
             "outlinewidth": 0,
             "ticks": ""
            },
            "colorscale": [
             [
              0,
              "#0d0887"
             ],
             [
              0.1111111111111111,
              "#46039f"
             ],
             [
              0.2222222222222222,
              "#7201a8"
             ],
             [
              0.3333333333333333,
              "#9c179e"
             ],
             [
              0.4444444444444444,
              "#bd3786"
             ],
             [
              0.5555555555555556,
              "#d8576b"
             ],
             [
              0.6666666666666666,
              "#ed7953"
             ],
             [
              0.7777777777777778,
              "#fb9f3a"
             ],
             [
              0.8888888888888888,
              "#fdca26"
             ],
             [
              1,
              "#f0f921"
             ]
            ],
            "type": "surface"
           }
          ],
          "table": [
           {
            "cells": {
             "fill": {
              "color": "#EBF0F8"
             },
             "line": {
              "color": "white"
             }
            },
            "header": {
             "fill": {
              "color": "#C8D4E3"
             },
             "line": {
              "color": "white"
             }
            },
            "type": "table"
           }
          ]
         },
         "layout": {
          "annotationdefaults": {
           "arrowcolor": "#2a3f5f",
           "arrowhead": 0,
           "arrowwidth": 1
          },
          "autotypenumbers": "strict",
          "coloraxis": {
           "colorbar": {
            "outlinewidth": 0,
            "ticks": ""
           }
          },
          "colorscale": {
           "diverging": [
            [
             0,
             "#8e0152"
            ],
            [
             0.1,
             "#c51b7d"
            ],
            [
             0.2,
             "#de77ae"
            ],
            [
             0.3,
             "#f1b6da"
            ],
            [
             0.4,
             "#fde0ef"
            ],
            [
             0.5,
             "#f7f7f7"
            ],
            [
             0.6,
             "#e6f5d0"
            ],
            [
             0.7,
             "#b8e186"
            ],
            [
             0.8,
             "#7fbc41"
            ],
            [
             0.9,
             "#4d9221"
            ],
            [
             1,
             "#276419"
            ]
           ],
           "sequential": [
            [
             0,
             "#0d0887"
            ],
            [
             0.1111111111111111,
             "#46039f"
            ],
            [
             0.2222222222222222,
             "#7201a8"
            ],
            [
             0.3333333333333333,
             "#9c179e"
            ],
            [
             0.4444444444444444,
             "#bd3786"
            ],
            [
             0.5555555555555556,
             "#d8576b"
            ],
            [
             0.6666666666666666,
             "#ed7953"
            ],
            [
             0.7777777777777778,
             "#fb9f3a"
            ],
            [
             0.8888888888888888,
             "#fdca26"
            ],
            [
             1,
             "#f0f921"
            ]
           ],
           "sequentialminus": [
            [
             0,
             "#0d0887"
            ],
            [
             0.1111111111111111,
             "#46039f"
            ],
            [
             0.2222222222222222,
             "#7201a8"
            ],
            [
             0.3333333333333333,
             "#9c179e"
            ],
            [
             0.4444444444444444,
             "#bd3786"
            ],
            [
             0.5555555555555556,
             "#d8576b"
            ],
            [
             0.6666666666666666,
             "#ed7953"
            ],
            [
             0.7777777777777778,
             "#fb9f3a"
            ],
            [
             0.8888888888888888,
             "#fdca26"
            ],
            [
             1,
             "#f0f921"
            ]
           ]
          },
          "colorway": [
           "#636efa",
           "#EF553B",
           "#00cc96",
           "#ab63fa",
           "#FFA15A",
           "#19d3f3",
           "#FF6692",
           "#B6E880",
           "#FF97FF",
           "#FECB52"
          ],
          "font": {
           "color": "#2a3f5f"
          },
          "geo": {
           "bgcolor": "white",
           "lakecolor": "white",
           "landcolor": "#E5ECF6",
           "showlakes": true,
           "showland": true,
           "subunitcolor": "white"
          },
          "hoverlabel": {
           "align": "left"
          },
          "hovermode": "closest",
          "mapbox": {
           "style": "light"
          },
          "paper_bgcolor": "white",
          "plot_bgcolor": "#E5ECF6",
          "polar": {
           "angularaxis": {
            "gridcolor": "white",
            "linecolor": "white",
            "ticks": ""
           },
           "bgcolor": "#E5ECF6",
           "radialaxis": {
            "gridcolor": "white",
            "linecolor": "white",
            "ticks": ""
           }
          },
          "scene": {
           "xaxis": {
            "backgroundcolor": "#E5ECF6",
            "gridcolor": "white",
            "gridwidth": 2,
            "linecolor": "white",
            "showbackground": true,
            "ticks": "",
            "zerolinecolor": "white"
           },
           "yaxis": {
            "backgroundcolor": "#E5ECF6",
            "gridcolor": "white",
            "gridwidth": 2,
            "linecolor": "white",
            "showbackground": true,
            "ticks": "",
            "zerolinecolor": "white"
           },
           "zaxis": {
            "backgroundcolor": "#E5ECF6",
            "gridcolor": "white",
            "gridwidth": 2,
            "linecolor": "white",
            "showbackground": true,
            "ticks": "",
            "zerolinecolor": "white"
           }
          },
          "shapedefaults": {
           "line": {
            "color": "#2a3f5f"
           }
          },
          "ternary": {
           "aaxis": {
            "gridcolor": "white",
            "linecolor": "white",
            "ticks": ""
           },
           "baxis": {
            "gridcolor": "white",
            "linecolor": "white",
            "ticks": ""
           },
           "bgcolor": "#E5ECF6",
           "caxis": {
            "gridcolor": "white",
            "linecolor": "white",
            "ticks": ""
           }
          },
          "title": {
           "x": 0.05
          },
          "xaxis": {
           "automargin": true,
           "gridcolor": "white",
           "linecolor": "white",
           "ticks": "",
           "title": {
            "standoff": 15
           },
           "zerolinecolor": "white",
           "zerolinewidth": 2
          },
          "yaxis": {
           "automargin": true,
           "gridcolor": "white",
           "linecolor": "white",
           "ticks": "",
           "title": {
            "standoff": 15
           },
           "zerolinecolor": "white",
           "zerolinewidth": 2
          }
         }
        },
        "title": {
         "text": "Slice Plot"
        },
        "xaxis": {
         "anchor": "y",
         "domain": [
          0,
          0.2888888888888889
         ],
         "title": {
          "text": "alpha"
         },
         "type": "log"
        },
        "xaxis2": {
         "anchor": "y2",
         "domain": [
          0.35555555555555557,
          0.6444444444444445
         ],
         "title": {
          "text": "factors"
         }
        },
        "xaxis3": {
         "anchor": "y3",
         "domain": [
          0.7111111111111111,
          1
         ],
         "title": {
          "text": "regularization"
         },
         "type": "log"
        },
        "yaxis": {
         "anchor": "x",
         "domain": [
          0,
          1
         ],
         "title": {
          "text": "Objective Value"
         }
        },
        "yaxis2": {
         "anchor": "x2",
         "domain": [
          0,
          1
         ],
         "matches": "y",
         "showticklabels": false
        },
        "yaxis3": {
         "anchor": "x3",
         "domain": [
          0,
          1
         ],
         "matches": "y",
         "showticklabels": false
        }
       }
      }
     },
     "metadata": {},
     "output_type": "display_data"
    }
   ],
   "source": [
    "# Slice Plot\n",
    "plot_slice(study).show()"
   ]
  },
  {
   "cell_type": "markdown",
   "metadata": {},
   "source": [
    "## Extract embedding"
   ]
  },
  {
   "cell_type": "markdown",
   "metadata": {},
   "source": [
    "### Get user and game embedding for train set"
   ]
  },
  {
   "cell_type": "code",
   "execution_count": 13,
   "metadata": {},
   "outputs": [],
   "source": [
    "user_embeddings_train = final_model.user_factors\n",
    "game_embeddings = final_model.item_factors\n",
    "\n",
    "df_train['user_emb'] = df_train['user_id'].map(lambda x: user_embeddings_train[user2idx_train[x]].tolist())\n",
    "df_train['game_emb'] = df_train['app_id'].map(lambda x: game_embeddings[game2idx[x]].tolist())"
   ]
  },
  {
   "cell_type": "code",
   "execution_count": 14,
   "metadata": {},
   "outputs": [
    {
     "data": {
      "text/html": [
       "<div>\n",
       "<style scoped>\n",
       "    .dataframe tbody tr th:only-of-type {\n",
       "        vertical-align: middle;\n",
       "    }\n",
       "\n",
       "    .dataframe tbody tr th {\n",
       "        vertical-align: top;\n",
       "    }\n",
       "\n",
       "    .dataframe thead th {\n",
       "        text-align: right;\n",
       "    }\n",
       "</style>\n",
       "<table border=\"1\" class=\"dataframe\">\n",
       "  <thead>\n",
       "    <tr style=\"text-align: right;\">\n",
       "      <th></th>\n",
       "      <th>user_id</th>\n",
       "      <th>app_id</th>\n",
       "      <th>user_emb</th>\n",
       "      <th>game_emb</th>\n",
       "    </tr>\n",
       "  </thead>\n",
       "  <tbody>\n",
       "    <tr>\n",
       "      <th>418397</th>\n",
       "      <td>76561198062248931</td>\n",
       "      <td>60350</td>\n",
       "      <td>[1.6727778911590576, 1.938355565071106, -1.099...</td>\n",
       "      <td>[0.049368780106306076, -0.032816044986248016, ...</td>\n",
       "    </tr>\n",
       "    <tr>\n",
       "      <th>1370325</th>\n",
       "      <td>76561198087681716</td>\n",
       "      <td>24240</td>\n",
       "      <td>[0.04799453169107437, 0.17479655146598816, 0.1...</td>\n",
       "      <td>[-0.01666131801903248, 0.1066851019859314, -0....</td>\n",
       "    </tr>\n",
       "    <tr>\n",
       "      <th>2254767</th>\n",
       "      <td>76561198052327526</td>\n",
       "      <td>221040</td>\n",
       "      <td>[0.12639452517032623, 0.05996783450245857, -0....</td>\n",
       "      <td>[0.12829409539699554, 0.06835531443357468, -0....</td>\n",
       "    </tr>\n",
       "    <tr>\n",
       "      <th>2490956</th>\n",
       "      <td>76561198043360595</td>\n",
       "      <td>482400</td>\n",
       "      <td>[1.0927624702453613, 0.9949914216995239, 0.171...</td>\n",
       "      <td>[-0.00370860961265862, 0.0018093361286446452, ...</td>\n",
       "    </tr>\n",
       "    <tr>\n",
       "      <th>1853356</th>\n",
       "      <td>76561198074261126</td>\n",
       "      <td>429680</td>\n",
       "      <td>[5.133449554443359, 1.8881070613861084, 0.7728...</td>\n",
       "      <td>[0.0062119909562170506, 0.053033702075481415, ...</td>\n",
       "    </tr>\n",
       "  </tbody>\n",
       "</table>\n",
       "</div>"
      ],
      "text/plain": [
       "                   user_id  app_id  \\\n",
       "418397   76561198062248931   60350   \n",
       "1370325  76561198087681716   24240   \n",
       "2254767  76561198052327526  221040   \n",
       "2490956  76561198043360595  482400   \n",
       "1853356  76561198074261126  429680   \n",
       "\n",
       "                                                  user_emb  \\\n",
       "418397   [1.6727778911590576, 1.938355565071106, -1.099...   \n",
       "1370325  [0.04799453169107437, 0.17479655146598816, 0.1...   \n",
       "2254767  [0.12639452517032623, 0.05996783450245857, -0....   \n",
       "2490956  [1.0927624702453613, 0.9949914216995239, 0.171...   \n",
       "1853356  [5.133449554443359, 1.8881070613861084, 0.7728...   \n",
       "\n",
       "                                                  game_emb  \n",
       "418397   [0.049368780106306076, -0.032816044986248016, ...  \n",
       "1370325  [-0.01666131801903248, 0.1066851019859314, -0....  \n",
       "2254767  [0.12829409539699554, 0.06835531443357468, -0....  \n",
       "2490956  [-0.00370860961265862, 0.0018093361286446452, ...  \n",
       "1853356  [0.0062119909562170506, 0.053033702075481415, ...  "
      ]
     },
     "execution_count": 14,
     "metadata": {},
     "output_type": "execute_result"
    }
   ],
   "source": [
    "df_train[['user_id', 'app_id', 'user_emb', 'game_emb']].sample(5)"
   ]
  },
  {
   "cell_type": "markdown",
   "metadata": {},
   "source": [
    "### Get user and game embedding for test set"
   ]
  },
  {
   "cell_type": "code",
   "execution_count": 15,
   "metadata": {},
   "outputs": [],
   "source": [
    "# Only include data with games that exist in training mapping\n",
    "df_test = df_test[df_test['app_id'].isin(game2idx.keys())].copy()\n",
    "\n",
    "unique_test_users = df_test['user_id'].unique()\n",
    "user2idx_test = {u: i for i, u in enumerate(unique_test_users)}\n",
    "\n",
    "# Build user * game csr matrix for test data\n",
    "test_matrix = build_user_item_matrix(\n",
    "    df_test,\n",
    "    user2idx_test,\n",
    "    game2idx,\n",
    "    len(unique_test_users),\n",
    "    n_games\n",
    ")\n",
    "\n",
    "user_embedding_test = final_model.recalculate_user(unique_test_users, test_matrix)\n",
    "\n",
    "df_test['user_emb'] = df_test['user_id'].map(lambda x: user_embedding_test[user2idx_test[x]].tolist())\n",
    "df_test['game_emb'] = df_test['app_id'].map(lambda x: game_embeddings[game2idx[x]].tolist())"
   ]
  },
  {
   "cell_type": "code",
   "execution_count": 16,
   "metadata": {},
   "outputs": [
    {
     "data": {
      "text/html": [
       "<div>\n",
       "<style scoped>\n",
       "    .dataframe tbody tr th:only-of-type {\n",
       "        vertical-align: middle;\n",
       "    }\n",
       "\n",
       "    .dataframe tbody tr th {\n",
       "        vertical-align: top;\n",
       "    }\n",
       "\n",
       "    .dataframe thead th {\n",
       "        text-align: right;\n",
       "    }\n",
       "</style>\n",
       "<table border=\"1\" class=\"dataframe\">\n",
       "  <thead>\n",
       "    <tr style=\"text-align: right;\">\n",
       "      <th></th>\n",
       "      <th>user_id</th>\n",
       "      <th>app_id</th>\n",
       "      <th>user_emb</th>\n",
       "      <th>game_emb</th>\n",
       "    </tr>\n",
       "  </thead>\n",
       "  <tbody>\n",
       "    <tr>\n",
       "      <th>179219</th>\n",
       "      <td>76561197993525512</td>\n",
       "      <td>659790</td>\n",
       "      <td>[1.654205083847046, 1.1851140260696411, 1.0396...</td>\n",
       "      <td>[-0.005370128899812698, 0.007361488416790962, ...</td>\n",
       "    </tr>\n",
       "    <tr>\n",
       "      <th>677371</th>\n",
       "      <td>76561198048806066</td>\n",
       "      <td>34010</td>\n",
       "      <td>[0.7943929433822632, 1.248560905456543, -0.372...</td>\n",
       "      <td>[0.12801960110664368, 0.062387287616729736, -0...</td>\n",
       "    </tr>\n",
       "    <tr>\n",
       "      <th>378112</th>\n",
       "      <td>76561197990231526</td>\n",
       "      <td>275490</td>\n",
       "      <td>[0.3505335748195648, -0.5510267615318298, 0.26...</td>\n",
       "      <td>[0.07910574972629547, 0.024123266339302063, -0...</td>\n",
       "    </tr>\n",
       "    <tr>\n",
       "      <th>492735</th>\n",
       "      <td>76561198044589452</td>\n",
       "      <td>1048540</td>\n",
       "      <td>[1.6673423051834106, 0.9415253400802612, -1.25...</td>\n",
       "      <td>[0.020088914781808853, -0.09536014497280121, 0...</td>\n",
       "    </tr>\n",
       "    <tr>\n",
       "      <th>671437</th>\n",
       "      <td>76561197978425746</td>\n",
       "      <td>1510</td>\n",
       "      <td>[-0.19167281687259674, -0.16418370604515076, 0...</td>\n",
       "      <td>[0.12016583234071732, -0.07844189554452896, 0....</td>\n",
       "    </tr>\n",
       "  </tbody>\n",
       "</table>\n",
       "</div>"
      ],
      "text/plain": [
       "                  user_id   app_id  \\\n",
       "179219  76561197993525512   659790   \n",
       "677371  76561198048806066    34010   \n",
       "378112  76561197990231526   275490   \n",
       "492735  76561198044589452  1048540   \n",
       "671437  76561197978425746     1510   \n",
       "\n",
       "                                                 user_emb  \\\n",
       "179219  [1.654205083847046, 1.1851140260696411, 1.0396...   \n",
       "677371  [0.7943929433822632, 1.248560905456543, -0.372...   \n",
       "378112  [0.3505335748195648, -0.5510267615318298, 0.26...   \n",
       "492735  [1.6673423051834106, 0.9415253400802612, -1.25...   \n",
       "671437  [-0.19167281687259674, -0.16418370604515076, 0...   \n",
       "\n",
       "                                                 game_emb  \n",
       "179219  [-0.005370128899812698, 0.007361488416790962, ...  \n",
       "677371  [0.12801960110664368, 0.062387287616729736, -0...  \n",
       "378112  [0.07910574972629547, 0.024123266339302063, -0...  \n",
       "492735  [0.020088914781808853, -0.09536014497280121, 0...  \n",
       "671437  [0.12016583234071732, -0.07844189554452896, 0....  "
      ]
     },
     "execution_count": 16,
     "metadata": {},
     "output_type": "execute_result"
    }
   ],
   "source": [
    "df_test[['user_id', 'app_id', 'user_emb', 'game_emb']].sample(5)"
   ]
  },
  {
   "cell_type": "markdown",
   "metadata": {},
   "source": [
    "### NDCG on test set"
   ]
  },
  {
   "cell_type": "code",
   "execution_count": 17,
   "metadata": {},
   "outputs": [
    {
     "data": {
      "text/plain": [
       "0.404195959579037"
      ]
     },
     "execution_count": 17,
     "metadata": {},
     "output_type": "execute_result"
    }
   ],
   "source": [
    "evaluate_ndcg(final_model, full_train_matrix, test_matrix)"
   ]
  },
  {
   "cell_type": "code",
   "execution_count": 18,
   "metadata": {},
   "outputs": [
    {
     "name": "stdout",
     "output_type": "stream",
     "text": [
      "0 0 0 0\n"
     ]
    }
   ],
   "source": [
    "# Check for embedding dim consistence\n",
    "print(\n",
    "    sum(df_train['user_emb'].apply(lambda x: len(x) != final_model.factors)),\n",
    "    sum(df_test['user_emb'].apply(lambda x: len(x) != final_model.factors)),\n",
    "    sum(df_train['game_emb'].apply(lambda x: len(x) != final_model.factors)),\n",
    "    sum(df_test['game_emb'].apply(lambda x: len(x) != final_model.factors))\n",
    ")"
   ]
  },
  {
   "cell_type": "code",
   "execution_count": 19,
   "metadata": {},
   "outputs": [
    {
     "data": {
      "text/plain": [
       "['..\\\\assets\\\\combined\\\\test_CF.pkl']"
      ]
     },
     "execution_count": 19,
     "metadata": {},
     "output_type": "execute_result"
    }
   ],
   "source": [
    "joblib.dump(df_train, r\"..\\assets\\combined\\train_CF.pkl\")\n",
    "joblib.dump(df_test, r\"..\\assets\\combined\\test_CF.pkl\")"
   ]
  },
  {
   "cell_type": "code",
   "execution_count": 20,
   "metadata": {},
   "outputs": [
    {
     "name": "stdout",
     "output_type": "stream",
     "text": [
      "Note: you may need to restart the kernel to use updated packages.\n"
     ]
    }
   ],
   "source": [
    "pip freeze > ..\\requirements.txt"
   ]
  }
 ],
 "metadata": {
  "kernelspec": {
   "display_name": "env699",
   "language": "python",
   "name": "python3"
  },
  "language_info": {
   "codemirror_mode": {
    "name": "ipython",
    "version": 3
   },
   "file_extension": ".py",
   "mimetype": "text/x-python",
   "name": "python",
   "nbconvert_exporter": "python",
   "pygments_lexer": "ipython3",
   "version": "3.12.0"
  }
 },
 "nbformat": 4,
 "nbformat_minor": 2
}
