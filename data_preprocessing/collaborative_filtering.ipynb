{
 "cells": [
  {
   "cell_type": "code",
   "execution_count": 1,
   "metadata": {},
   "outputs": [],
   "source": [
    "import os\n",
    "os.environ[\"OPENBLAS_NUM_THREADS\"] = \"1\"\n",
    "\n",
    "import pandas as pd\n",
    "import joblib\n",
    "import numpy as np\n",
    "from scipy.sparse import coo_matrix, csr_matrix\n",
    "from implicit.als import AlternatingLeastSquares\n",
    "from implicit.evaluation import ndcg_at_k\n",
    "import optuna\n",
    "\n",
    "RANDOM_SEED = 42"
   ]
  },
  {
   "cell_type": "code",
   "execution_count": 2,
   "metadata": {},
   "outputs": [
    {
     "name": "stdout",
     "output_type": "stream",
     "text": [
      "(2595694, 131) (694638, 131)\n"
     ]
    }
   ],
   "source": [
    "df_train = joblib.load(r\"..\\assets\\combined\\train_scaled.pkl\")\n",
    "df_test = joblib.load(r\"..\\assets\\combined\\test_scaled.pkl\")\n",
    "\n",
    "print(df_train.shape, df_test.shape)"
   ]
  },
  {
   "cell_type": "code",
   "execution_count": 3,
   "metadata": {},
   "outputs": [
    {
     "name": "stdout",
     "output_type": "stream",
     "text": [
      "3232 24301\n"
     ]
    }
   ],
   "source": [
    "print(len(df_train['user_id'].unique()), len(df_train['app_id'].unique()))"
   ]
  },
  {
   "cell_type": "markdown",
   "metadata": {},
   "source": [
    "## Model Training"
   ]
  },
  {
   "cell_type": "code",
   "execution_count": 4,
   "metadata": {},
   "outputs": [],
   "source": [
    "def build_user_item_matrix(df, user2idx, game2idx, n_users, n_games):\n",
    "    \"\"\"\n",
    "    Return a user * game CSR matrix\n",
    "    \"\"\"\n",
    "    user_idx = df['user_id'].map(user2idx)\n",
    "    game_idx = df['app_id'].map(game2idx)\n",
    "    relevance = df['relevance_score'].values\n",
    "    \n",
    "    mat_coo = coo_matrix(\n",
    "        (relevance, (user_idx, game_idx)),\n",
    "        shape=(n_users, n_games)\n",
    "    )\n",
    "    return mat_coo.tocsr()\n",
    "\n",
    "def train_als_model(train_matrix, factors, reg, alpha, iters=15):\n",
    "    model = AlternatingLeastSquares(\n",
    "        factors=factors,\n",
    "        regularization=reg,\n",
    "        iterations=iters,\n",
    "        alpha=alpha,\n",
    "        use_gpu=False,\n",
    "        random_state=RANDOM_SEED\n",
    "    )\n",
    "    model.fit(train_matrix, show_progress=False)\n",
    "    return model\n",
    "\n",
    "def evaluate_ndcg(model, train_matrix, val_matrix, K=10):\n",
    "    return ndcg_at_k(\n",
    "        model,\n",
    "        train_user_items=train_matrix,\n",
    "        test_user_items=val_matrix,\n",
    "        K=K,\n",
    "        show_progress=False\n",
    "    )\n",
    "\n",
    "def user_based_cv_folds(unique_users, n_folds=5):\n",
    "    \"\"\"\n",
    "    Returns a list of folds, each fold is a set of user_ids.\n",
    "    \"\"\"\n",
    "    rng = np.random.default_rng(RANDOM_SEED)\n",
    "    shuffled_users = rng.permutation(unique_users)\n",
    "    fold_size = len(shuffled_users) // n_folds\n",
    "    \n",
    "    folds = []\n",
    "    start = 0\n",
    "    for i in range(n_folds):\n",
    "        end = start + fold_size\n",
    "        if i == n_folds - 1:\n",
    "            end = len(shuffled_users)  # Get the rest if it is final fold\n",
    "        fold_users = shuffled_users[start:end]\n",
    "        folds.append(set(fold_users))\n",
    "        start = end\n",
    "    return folds"
   ]
  },
  {
   "cell_type": "code",
   "execution_count": 5,
   "metadata": {},
   "outputs": [],
   "source": [
    "unique_train_users = df_train['user_id'].unique()\n",
    "\n",
    "unique_games = df_train['app_id'].unique()\n",
    "game2idx = {g: i for i, g in enumerate(unique_games)}\n",
    "n_games = len(unique_games)\n",
    "\n",
    "# CV folds\n",
    "n_folds = 5\n",
    "folds = user_based_cv_folds(unique_train_users, n_folds)"
   ]
  },
  {
   "cell_type": "markdown",
   "metadata": {},
   "source": [
    "### Cross validation using Optuna"
   ]
  },
  {
   "cell_type": "code",
   "execution_count": 6,
   "metadata": {},
   "outputs": [],
   "source": [
    "def objective(trial):\n",
    "    # Hyperparameters to fine tune\n",
    "    factors_val = trial.suggest_categorical(\"factors\", [2, 4, 8, 16, 32])\n",
    "    reg_val = trial.suggest_float(\"regularization\", 1e-4, 1e-2, log=True)\n",
    "    alpha_val = trial.suggest_float(\"alpha\", 1.0, 20, log=True)\n",
    "    \n",
    "    fold_ndcgs = []\n",
    "    \n",
    "    # Perform user-based cross validation\n",
    "    for fold_idx, fold_users in enumerate(folds):\n",
    "        # Split into train and validation\n",
    "        mask_fold_val = df_train['user_id'].isin(fold_users)        \n",
    "        df_fold_val = df_train[mask_fold_val]\n",
    "        df_fold_train = df_train[~mask_fold_val]\n",
    "\n",
    "        # Build local user index mapper for each CV\n",
    "        unique_fold_train_users = df_fold_train['user_id'].unique()\n",
    "        unique_fold_val_users = df_fold_val['user_id'].unique()\n",
    "\n",
    "        user2idx_fold_train = {u: i for i, u in enumerate(unique_fold_train_users)}\n",
    "        user2idx_fold_val = {u: i for i, u in enumerate(unique_fold_val_users)}\n",
    "        \n",
    "        # Build user by item matrix for each\n",
    "        train_matrix_cv = build_user_item_matrix(\n",
    "            df_fold_train, user2idx_fold_train, game2idx, len(unique_fold_train_users), n_games\n",
    "        )\n",
    "        val_matrix_cv = build_user_item_matrix(\n",
    "            df_fold_val, user2idx_fold_val, game2idx, len(unique_fold_val_users), n_games\n",
    "        )\n",
    "        \n",
    "        # Train\n",
    "        model_cv = train_als_model(\n",
    "            train_matrix_cv,\n",
    "            factors=factors_val,\n",
    "            reg=reg_val,\n",
    "            alpha=alpha_val\n",
    "        )\n",
    "        \n",
    "        # Evaluate NDCG on fold's validation\n",
    "        ndcg_val = evaluate_ndcg(model_cv, train_matrix_cv, val_matrix_cv)\n",
    "        fold_ndcgs.append(ndcg_val)\n",
    "    \n",
    "    # Average across folds\n",
    "    mean_ndcg = np.mean(fold_ndcgs)\n",
    "\n",
    "    return mean_ndcg"
   ]
  },
  {
   "cell_type": "code",
   "execution_count": 7,
   "metadata": {},
   "outputs": [
    {
     "name": "stderr",
     "output_type": "stream",
     "text": [
      "[I 2025-04-09 15:09:04,804] A new study created in memory with name: no-name-2badeddf-01b9-464a-919b-593e3ab2fc9d\n",
      "[I 2025-04-09 15:09:32,872] Trial 0 finished with value: 0.5405654536319997 and parameters: {'factors': 4, 'regularization': 0.00020511104188433984, 'alpha': 1.1900590783184244}. Best is trial 0 with value: 0.5405654536319997.\n",
      "[I 2025-04-09 15:09:54,803] Trial 1 finished with value: 0.41307911450424334 and parameters: {'factors': 32, 'regularization': 0.004622589001020831, 'alpha': 1.8891200276189386}. Best is trial 0 with value: 0.5405654536319997.\n",
      "[I 2025-04-09 15:10:15,717] Trial 2 finished with value: 0.41416700387702055 and parameters: {'factors': 16, 'regularization': 0.0003823475224675188, 'alpha': 6.252287916406214}. Best is trial 0 with value: 0.5405654536319997.\n",
      "[I 2025-04-09 15:10:36,035] Trial 3 finished with value: 0.3912201341324454 and parameters: {'factors': 32, 'regularization': 0.00025081156860452336, 'alpha': 4.666963767236923}. Best is trial 0 with value: 0.5405654536319997.\n",
      "[I 2025-04-09 15:10:54,905] Trial 4 finished with value: 0.41016561445813504 and parameters: {'factors': 8, 'regularization': 0.007902619549708232, 'alpha': 18.043311207136256}. Best is trial 0 with value: 0.5405654536319997.\n",
      "[I 2025-04-09 15:11:12,751] Trial 5 finished with value: 0.5682976075968703 and parameters: {'factors': 2, 'regularization': 0.00017541893487450815, 'alpha': 4.407984038169241}. Best is trial 5 with value: 0.5682976075968703.\n",
      "[I 2025-04-09 15:11:30,487] Trial 6 finished with value: 0.5269306809593385 and parameters: {'factors': 4, 'regularization': 0.001096821720752952, 'alpha': 5.143828405076927}. Best is trial 5 with value: 0.5682976075968703.\n",
      "[I 2025-04-09 15:11:48,071] Trial 7 finished with value: 0.505234697604223 and parameters: {'factors': 4, 'regularization': 0.0015696396388661157, 'alpha': 15.826541904647563}. Best is trial 5 with value: 0.5682976075968703.\n",
      "[I 2025-04-09 15:12:09,092] Trial 8 finished with value: 0.3609058435793842 and parameters: {'factors': 32, 'regularization': 0.00034889766548903674, 'alpha': 11.973258472758717}. Best is trial 5 with value: 0.5682976075968703.\n",
      "[I 2025-04-09 15:12:30,022] Trial 9 finished with value: 0.34078302931350646 and parameters: {'factors': 32, 'regularization': 0.00014096175149815865, 'alpha': 19.22956707454338}. Best is trial 5 with value: 0.5682976075968703.\n",
      "[I 2025-04-09 15:12:47,234] Trial 10 finished with value: 0.569847546694483 and parameters: {'factors': 2, 'regularization': 0.00010280029617905622, 'alpha': 2.513193354752946}. Best is trial 10 with value: 0.569847546694483.\n",
      "[I 2025-04-09 15:13:04,892] Trial 11 finished with value: 0.5703384660528616 and parameters: {'factors': 2, 'regularization': 0.0001070886827256173, 'alpha': 2.4606160383908016}. Best is trial 11 with value: 0.5703384660528616.\n",
      "[I 2025-04-09 15:13:22,375] Trial 12 finished with value: 0.5708443020829036 and parameters: {'factors': 2, 'regularization': 0.00010271591143171529, 'alpha': 2.481084417076532}. Best is trial 12 with value: 0.5708443020829036.\n",
      "[I 2025-04-09 15:13:39,845] Trial 13 finished with value: 0.5707537492361258 and parameters: {'factors': 2, 'regularization': 0.0006439470675008269, 'alpha': 2.3160166726461453}. Best is trial 12 with value: 0.5708443020829036.\n",
      "[I 2025-04-09 15:14:00,387] Trial 14 finished with value: 0.5695770789241469 and parameters: {'factors': 2, 'regularization': 0.0005392205156640097, 'alpha': 1.1534643927798405}. Best is trial 12 with value: 0.5708443020829036.\n",
      "[I 2025-04-09 15:14:18,575] Trial 15 finished with value: 0.5699253432960244 and parameters: {'factors': 2, 'regularization': 0.0023068317301987297, 'alpha': 2.9156691012312193}. Best is trial 12 with value: 0.5708443020829036.\n",
      "[I 2025-04-09 15:14:39,028] Trial 16 finished with value: 0.47394359981970213 and parameters: {'factors': 8, 'regularization': 0.0005959206131645767, 'alpha': 1.7866151618408723}. Best is trial 12 with value: 0.5708443020829036.\n",
      "[I 2025-04-09 15:14:59,946] Trial 17 finished with value: 0.40776856559197394 and parameters: {'factors': 16, 'regularization': 0.002863850686587134, 'alpha': 7.5955739296064735}. Best is trial 12 with value: 0.5708443020829036.\n",
      "[I 2025-04-09 15:15:17,505] Trial 18 finished with value: 0.569497887500647 and parameters: {'factors': 2, 'regularization': 0.0008883116653692053, 'alpha': 3.3754122480997464}. Best is trial 12 with value: 0.5708443020829036.\n",
      "[I 2025-04-09 15:15:34,820] Trial 19 finished with value: 0.5703413205451479 and parameters: {'factors': 2, 'regularization': 0.0006477407332715554, 'alpha': 1.594701445107743}. Best is trial 12 with value: 0.5708443020829036.\n",
      "[I 2025-04-09 15:15:51,719] Trial 20 finished with value: 0.5690167011978681 and parameters: {'factors': 2, 'regularization': 0.00030873523291388694, 'alpha': 3.5037448317930324}. Best is trial 12 with value: 0.5708443020829036.\n",
      "[I 2025-04-09 15:16:08,875] Trial 21 finished with value: 0.570324009285619 and parameters: {'factors': 2, 'regularization': 0.0007486697626462275, 'alpha': 1.6127033345550927}. Best is trial 12 with value: 0.5708443020829036.\n",
      "[I 2025-04-09 15:16:25,960] Trial 22 finished with value: 0.5710416113516833 and parameters: {'factors': 2, 'regularization': 0.0012908953482830563, 'alpha': 1.515652588106236}. Best is trial 22 with value: 0.5710416113516833.\n",
      "[I 2025-04-09 15:16:42,932] Trial 23 finished with value: 0.571463298232841 and parameters: {'factors': 2, 'regularization': 0.0015974715602455967, 'alpha': 2.1610993148157305}. Best is trial 23 with value: 0.571463298232841.\n",
      "[I 2025-04-09 15:17:03,813] Trial 24 finished with value: 0.46074278438233734 and parameters: {'factors': 16, 'regularization': 0.00145770334178766, 'alpha': 1.3632352257083495}. Best is trial 23 with value: 0.571463298232841.\n",
      "[I 2025-04-09 15:17:22,934] Trial 25 finished with value: 0.488265965120705 and parameters: {'factors': 8, 'regularization': 0.002759125118442843, 'alpha': 1.011064978913526}. Best is trial 23 with value: 0.571463298232841.\n",
      "[I 2025-04-09 15:17:40,364] Trial 26 finished with value: 0.5709271578814809 and parameters: {'factors': 2, 'regularization': 0.0017504500152410811, 'alpha': 2.0742629370798062}. Best is trial 23 with value: 0.571463298232841.\n",
      "[I 2025-04-09 15:17:58,377] Trial 27 finished with value: 0.5704878318298251 and parameters: {'factors': 2, 'regularization': 0.0018447015008093977, 'alpha': 2.1081887687626106}. Best is trial 23 with value: 0.571463298232841.\n",
      "[I 2025-04-09 15:18:15,728] Trial 28 finished with value: 0.5697535714809097 and parameters: {'factors': 2, 'regularization': 0.004524540905246328, 'alpha': 1.3355834092258057}. Best is trial 23 with value: 0.571463298232841.\n",
      "[I 2025-04-09 15:18:38,968] Trial 29 finished with value: 0.5696993256925131 and parameters: {'factors': 2, 'regularization': 0.0012189606240551524, 'alpha': 3.470407742549873}. Best is trial 23 with value: 0.571463298232841.\n"
     ]
    },
    {
     "name": "stdout",
     "output_type": "stream",
     "text": [
      "Best trial:\n",
      "  Value (NDCG): 0.5715\n",
      "  Params: {'factors': 2, 'regularization': 0.0015974715602455967, 'alpha': 2.1610993148157305}\n"
     ]
    }
   ],
   "source": [
    "sampler = optuna.samplers.TPESampler(seed=RANDOM_SEED)\n",
    "study = optuna.create_study(direction=\"maximize\", sampler=sampler)\n",
    "study.optimize(objective, n_trials=30)\n",
    "\n",
    "print(\"Best trial:\")\n",
    "best_trial = study.best_trial\n",
    "print(f\"  Value (NDCG): {best_trial.value:.4f}\")\n",
    "print(\"  Params:\", best_trial.params)"
   ]
  },
  {
   "cell_type": "markdown",
   "metadata": {},
   "source": [
    "### Retrain on the entire training set with the best hyperparameters"
   ]
  },
  {
   "cell_type": "code",
   "execution_count": 8,
   "metadata": {},
   "outputs": [],
   "source": [
    "user2idx_train = {u: i for i, u in enumerate(unique_train_users)}\n",
    "\n",
    "# Build user * game csr matrix for all training data\n",
    "full_train_matrix = build_user_item_matrix(\n",
    "    df_train,\n",
    "    user2idx_train,\n",
    "    game2idx,\n",
    "    len(unique_train_users),\n",
    "    n_games\n",
    ")\n",
    "\n",
    "final_model = train_als_model(\n",
    "    full_train_matrix,\n",
    "    factors=study.best_params[\"factors\"],\n",
    "    reg=study.best_params[\"regularization\"],\n",
    "    alpha=study.best_params[\"alpha\"]\n",
    ")"
   ]
  },
  {
   "cell_type": "markdown",
   "metadata": {},
   "source": [
    "## Training Evaluation"
   ]
  },
  {
   "cell_type": "code",
   "execution_count": 9,
   "metadata": {},
   "outputs": [
    {
     "data": {
      "application/vnd.plotly.v1+json": {
       "config": {
        "plotlyServerURL": "https://plot.ly"
       },
       "data": [
        {
         "mode": "markers",
         "name": "Objective Value",
         "type": "scatter",
         "x": [
          0,
          1,
          2,
          3,
          4,
          5,
          6,
          7,
          8,
          9,
          10,
          11,
          12,
          13,
          14,
          15,
          16,
          17,
          18,
          19,
          20,
          21,
          22,
          23,
          24,
          25,
          26,
          27,
          28,
          29
         ],
         "y": [
          0.5405654536319997,
          0.41307911450424334,
          0.41416700387702055,
          0.3912201341324454,
          0.41016561445813504,
          0.5682976075968703,
          0.5269306809593385,
          0.505234697604223,
          0.3609058435793842,
          0.34078302931350646,
          0.569847546694483,
          0.5703384660528616,
          0.5708443020829036,
          0.5707537492361258,
          0.5695770789241469,
          0.5699253432960244,
          0.47394359981970213,
          0.40776856559197394,
          0.569497887500647,
          0.5703413205451479,
          0.5690167011978681,
          0.570324009285619,
          0.5710416113516833,
          0.571463298232841,
          0.46074278438233734,
          0.488265965120705,
          0.5709271578814809,
          0.5704878318298251,
          0.5697535714809097,
          0.5696993256925131
         ]
        },
        {
         "mode": "lines",
         "name": "Best Value",
         "type": "scatter",
         "x": [
          0,
          1,
          2,
          3,
          4,
          5,
          6,
          7,
          8,
          9,
          10,
          11,
          12,
          13,
          14,
          15,
          16,
          17,
          18,
          19,
          20,
          21,
          22,
          23,
          24,
          25,
          26,
          27,
          28,
          29
         ],
         "y": [
          0.5405654536319997,
          0.5405654536319997,
          0.5405654536319997,
          0.5405654536319997,
          0.5405654536319997,
          0.5682976075968703,
          0.5682976075968703,
          0.5682976075968703,
          0.5682976075968703,
          0.5682976075968703,
          0.569847546694483,
          0.5703384660528616,
          0.5708443020829036,
          0.5708443020829036,
          0.5708443020829036,
          0.5708443020829036,
          0.5708443020829036,
          0.5708443020829036,
          0.5708443020829036,
          0.5708443020829036,
          0.5708443020829036,
          0.5708443020829036,
          0.5710416113516833,
          0.571463298232841,
          0.571463298232841,
          0.571463298232841,
          0.571463298232841,
          0.571463298232841,
          0.571463298232841,
          0.571463298232841
         ]
        },
        {
         "marker": {
          "color": "#cccccc"
         },
         "mode": "markers",
         "name": "Infeasible Trial",
         "showlegend": false,
         "type": "scatter",
         "x": [],
         "y": []
        }
       ],
       "layout": {
        "template": {
         "data": {
          "bar": [
           {
            "error_x": {
             "color": "#2a3f5f"
            },
            "error_y": {
             "color": "#2a3f5f"
            },
            "marker": {
             "line": {
              "color": "#E5ECF6",
              "width": 0.5
             },
             "pattern": {
              "fillmode": "overlay",
              "size": 10,
              "solidity": 0.2
             }
            },
            "type": "bar"
           }
          ],
          "barpolar": [
           {
            "marker": {
             "line": {
              "color": "#E5ECF6",
              "width": 0.5
             },
             "pattern": {
              "fillmode": "overlay",
              "size": 10,
              "solidity": 0.2
             }
            },
            "type": "barpolar"
           }
          ],
          "carpet": [
           {
            "aaxis": {
             "endlinecolor": "#2a3f5f",
             "gridcolor": "white",
             "linecolor": "white",
             "minorgridcolor": "white",
             "startlinecolor": "#2a3f5f"
            },
            "baxis": {
             "endlinecolor": "#2a3f5f",
             "gridcolor": "white",
             "linecolor": "white",
             "minorgridcolor": "white",
             "startlinecolor": "#2a3f5f"
            },
            "type": "carpet"
           }
          ],
          "choropleth": [
           {
            "colorbar": {
             "outlinewidth": 0,
             "ticks": ""
            },
            "type": "choropleth"
           }
          ],
          "contour": [
           {
            "colorbar": {
             "outlinewidth": 0,
             "ticks": ""
            },
            "colorscale": [
             [
              0,
              "#0d0887"
             ],
             [
              0.1111111111111111,
              "#46039f"
             ],
             [
              0.2222222222222222,
              "#7201a8"
             ],
             [
              0.3333333333333333,
              "#9c179e"
             ],
             [
              0.4444444444444444,
              "#bd3786"
             ],
             [
              0.5555555555555556,
              "#d8576b"
             ],
             [
              0.6666666666666666,
              "#ed7953"
             ],
             [
              0.7777777777777778,
              "#fb9f3a"
             ],
             [
              0.8888888888888888,
              "#fdca26"
             ],
             [
              1,
              "#f0f921"
             ]
            ],
            "type": "contour"
           }
          ],
          "contourcarpet": [
           {
            "colorbar": {
             "outlinewidth": 0,
             "ticks": ""
            },
            "type": "contourcarpet"
           }
          ],
          "heatmap": [
           {
            "colorbar": {
             "outlinewidth": 0,
             "ticks": ""
            },
            "colorscale": [
             [
              0,
              "#0d0887"
             ],
             [
              0.1111111111111111,
              "#46039f"
             ],
             [
              0.2222222222222222,
              "#7201a8"
             ],
             [
              0.3333333333333333,
              "#9c179e"
             ],
             [
              0.4444444444444444,
              "#bd3786"
             ],
             [
              0.5555555555555556,
              "#d8576b"
             ],
             [
              0.6666666666666666,
              "#ed7953"
             ],
             [
              0.7777777777777778,
              "#fb9f3a"
             ],
             [
              0.8888888888888888,
              "#fdca26"
             ],
             [
              1,
              "#f0f921"
             ]
            ],
            "type": "heatmap"
           }
          ],
          "histogram": [
           {
            "marker": {
             "pattern": {
              "fillmode": "overlay",
              "size": 10,
              "solidity": 0.2
             }
            },
            "type": "histogram"
           }
          ],
          "histogram2d": [
           {
            "colorbar": {
             "outlinewidth": 0,
             "ticks": ""
            },
            "colorscale": [
             [
              0,
              "#0d0887"
             ],
             [
              0.1111111111111111,
              "#46039f"
             ],
             [
              0.2222222222222222,
              "#7201a8"
             ],
             [
              0.3333333333333333,
              "#9c179e"
             ],
             [
              0.4444444444444444,
              "#bd3786"
             ],
             [
              0.5555555555555556,
              "#d8576b"
             ],
             [
              0.6666666666666666,
              "#ed7953"
             ],
             [
              0.7777777777777778,
              "#fb9f3a"
             ],
             [
              0.8888888888888888,
              "#fdca26"
             ],
             [
              1,
              "#f0f921"
             ]
            ],
            "type": "histogram2d"
           }
          ],
          "histogram2dcontour": [
           {
            "colorbar": {
             "outlinewidth": 0,
             "ticks": ""
            },
            "colorscale": [
             [
              0,
              "#0d0887"
             ],
             [
              0.1111111111111111,
              "#46039f"
             ],
             [
              0.2222222222222222,
              "#7201a8"
             ],
             [
              0.3333333333333333,
              "#9c179e"
             ],
             [
              0.4444444444444444,
              "#bd3786"
             ],
             [
              0.5555555555555556,
              "#d8576b"
             ],
             [
              0.6666666666666666,
              "#ed7953"
             ],
             [
              0.7777777777777778,
              "#fb9f3a"
             ],
             [
              0.8888888888888888,
              "#fdca26"
             ],
             [
              1,
              "#f0f921"
             ]
            ],
            "type": "histogram2dcontour"
           }
          ],
          "mesh3d": [
           {
            "colorbar": {
             "outlinewidth": 0,
             "ticks": ""
            },
            "type": "mesh3d"
           }
          ],
          "parcoords": [
           {
            "line": {
             "colorbar": {
              "outlinewidth": 0,
              "ticks": ""
             }
            },
            "type": "parcoords"
           }
          ],
          "pie": [
           {
            "automargin": true,
            "type": "pie"
           }
          ],
          "scatter": [
           {
            "fillpattern": {
             "fillmode": "overlay",
             "size": 10,
             "solidity": 0.2
            },
            "type": "scatter"
           }
          ],
          "scatter3d": [
           {
            "line": {
             "colorbar": {
              "outlinewidth": 0,
              "ticks": ""
             }
            },
            "marker": {
             "colorbar": {
              "outlinewidth": 0,
              "ticks": ""
             }
            },
            "type": "scatter3d"
           }
          ],
          "scattercarpet": [
           {
            "marker": {
             "colorbar": {
              "outlinewidth": 0,
              "ticks": ""
             }
            },
            "type": "scattercarpet"
           }
          ],
          "scattergeo": [
           {
            "marker": {
             "colorbar": {
              "outlinewidth": 0,
              "ticks": ""
             }
            },
            "type": "scattergeo"
           }
          ],
          "scattergl": [
           {
            "marker": {
             "colorbar": {
              "outlinewidth": 0,
              "ticks": ""
             }
            },
            "type": "scattergl"
           }
          ],
          "scattermap": [
           {
            "marker": {
             "colorbar": {
              "outlinewidth": 0,
              "ticks": ""
             }
            },
            "type": "scattermap"
           }
          ],
          "scattermapbox": [
           {
            "marker": {
             "colorbar": {
              "outlinewidth": 0,
              "ticks": ""
             }
            },
            "type": "scattermapbox"
           }
          ],
          "scatterpolar": [
           {
            "marker": {
             "colorbar": {
              "outlinewidth": 0,
              "ticks": ""
             }
            },
            "type": "scatterpolar"
           }
          ],
          "scatterpolargl": [
           {
            "marker": {
             "colorbar": {
              "outlinewidth": 0,
              "ticks": ""
             }
            },
            "type": "scatterpolargl"
           }
          ],
          "scatterternary": [
           {
            "marker": {
             "colorbar": {
              "outlinewidth": 0,
              "ticks": ""
             }
            },
            "type": "scatterternary"
           }
          ],
          "surface": [
           {
            "colorbar": {
             "outlinewidth": 0,
             "ticks": ""
            },
            "colorscale": [
             [
              0,
              "#0d0887"
             ],
             [
              0.1111111111111111,
              "#46039f"
             ],
             [
              0.2222222222222222,
              "#7201a8"
             ],
             [
              0.3333333333333333,
              "#9c179e"
             ],
             [
              0.4444444444444444,
              "#bd3786"
             ],
             [
              0.5555555555555556,
              "#d8576b"
             ],
             [
              0.6666666666666666,
              "#ed7953"
             ],
             [
              0.7777777777777778,
              "#fb9f3a"
             ],
             [
              0.8888888888888888,
              "#fdca26"
             ],
             [
              1,
              "#f0f921"
             ]
            ],
            "type": "surface"
           }
          ],
          "table": [
           {
            "cells": {
             "fill": {
              "color": "#EBF0F8"
             },
             "line": {
              "color": "white"
             }
            },
            "header": {
             "fill": {
              "color": "#C8D4E3"
             },
             "line": {
              "color": "white"
             }
            },
            "type": "table"
           }
          ]
         },
         "layout": {
          "annotationdefaults": {
           "arrowcolor": "#2a3f5f",
           "arrowhead": 0,
           "arrowwidth": 1
          },
          "autotypenumbers": "strict",
          "coloraxis": {
           "colorbar": {
            "outlinewidth": 0,
            "ticks": ""
           }
          },
          "colorscale": {
           "diverging": [
            [
             0,
             "#8e0152"
            ],
            [
             0.1,
             "#c51b7d"
            ],
            [
             0.2,
             "#de77ae"
            ],
            [
             0.3,
             "#f1b6da"
            ],
            [
             0.4,
             "#fde0ef"
            ],
            [
             0.5,
             "#f7f7f7"
            ],
            [
             0.6,
             "#e6f5d0"
            ],
            [
             0.7,
             "#b8e186"
            ],
            [
             0.8,
             "#7fbc41"
            ],
            [
             0.9,
             "#4d9221"
            ],
            [
             1,
             "#276419"
            ]
           ],
           "sequential": [
            [
             0,
             "#0d0887"
            ],
            [
             0.1111111111111111,
             "#46039f"
            ],
            [
             0.2222222222222222,
             "#7201a8"
            ],
            [
             0.3333333333333333,
             "#9c179e"
            ],
            [
             0.4444444444444444,
             "#bd3786"
            ],
            [
             0.5555555555555556,
             "#d8576b"
            ],
            [
             0.6666666666666666,
             "#ed7953"
            ],
            [
             0.7777777777777778,
             "#fb9f3a"
            ],
            [
             0.8888888888888888,
             "#fdca26"
            ],
            [
             1,
             "#f0f921"
            ]
           ],
           "sequentialminus": [
            [
             0,
             "#0d0887"
            ],
            [
             0.1111111111111111,
             "#46039f"
            ],
            [
             0.2222222222222222,
             "#7201a8"
            ],
            [
             0.3333333333333333,
             "#9c179e"
            ],
            [
             0.4444444444444444,
             "#bd3786"
            ],
            [
             0.5555555555555556,
             "#d8576b"
            ],
            [
             0.6666666666666666,
             "#ed7953"
            ],
            [
             0.7777777777777778,
             "#fb9f3a"
            ],
            [
             0.8888888888888888,
             "#fdca26"
            ],
            [
             1,
             "#f0f921"
            ]
           ]
          },
          "colorway": [
           "#636efa",
           "#EF553B",
           "#00cc96",
           "#ab63fa",
           "#FFA15A",
           "#19d3f3",
           "#FF6692",
           "#B6E880",
           "#FF97FF",
           "#FECB52"
          ],
          "font": {
           "color": "#2a3f5f"
          },
          "geo": {
           "bgcolor": "white",
           "lakecolor": "white",
           "landcolor": "#E5ECF6",
           "showlakes": true,
           "showland": true,
           "subunitcolor": "white"
          },
          "hoverlabel": {
           "align": "left"
          },
          "hovermode": "closest",
          "mapbox": {
           "style": "light"
          },
          "paper_bgcolor": "white",
          "plot_bgcolor": "#E5ECF6",
          "polar": {
           "angularaxis": {
            "gridcolor": "white",
            "linecolor": "white",
            "ticks": ""
           },
           "bgcolor": "#E5ECF6",
           "radialaxis": {
            "gridcolor": "white",
            "linecolor": "white",
            "ticks": ""
           }
          },
          "scene": {
           "xaxis": {
            "backgroundcolor": "#E5ECF6",
            "gridcolor": "white",
            "gridwidth": 2,
            "linecolor": "white",
            "showbackground": true,
            "ticks": "",
            "zerolinecolor": "white"
           },
           "yaxis": {
            "backgroundcolor": "#E5ECF6",
            "gridcolor": "white",
            "gridwidth": 2,
            "linecolor": "white",
            "showbackground": true,
            "ticks": "",
            "zerolinecolor": "white"
           },
           "zaxis": {
            "backgroundcolor": "#E5ECF6",
            "gridcolor": "white",
            "gridwidth": 2,
            "linecolor": "white",
            "showbackground": true,
            "ticks": "",
            "zerolinecolor": "white"
           }
          },
          "shapedefaults": {
           "line": {
            "color": "#2a3f5f"
           }
          },
          "ternary": {
           "aaxis": {
            "gridcolor": "white",
            "linecolor": "white",
            "ticks": ""
           },
           "baxis": {
            "gridcolor": "white",
            "linecolor": "white",
            "ticks": ""
           },
           "bgcolor": "#E5ECF6",
           "caxis": {
            "gridcolor": "white",
            "linecolor": "white",
            "ticks": ""
           }
          },
          "title": {
           "x": 0.05
          },
          "xaxis": {
           "automargin": true,
           "gridcolor": "white",
           "linecolor": "white",
           "ticks": "",
           "title": {
            "standoff": 15
           },
           "zerolinecolor": "white",
           "zerolinewidth": 2
          },
          "yaxis": {
           "automargin": true,
           "gridcolor": "white",
           "linecolor": "white",
           "ticks": "",
           "title": {
            "standoff": 15
           },
           "zerolinecolor": "white",
           "zerolinewidth": 2
          }
         }
        },
        "title": {
         "text": "Optimization History Plot"
        },
        "xaxis": {
         "title": {
          "text": "Trial"
         }
        },
        "yaxis": {
         "title": {
          "text": "Objective Value"
         }
        }
       }
      }
     },
     "metadata": {},
     "output_type": "display_data"
    }
   ],
   "source": [
    "from optuna.visualization import (\n",
    "    plot_optimization_history,\n",
    "    plot_param_importances,\n",
    "    plot_parallel_coordinate,\n",
    "    plot_slice\n",
    ")\n",
    "\n",
    "# Optimization History\n",
    "plot_optimization_history(study).show()"
   ]
  },
  {
   "cell_type": "code",
   "execution_count": 10,
   "metadata": {},
   "outputs": [
    {
     "data": {
      "application/vnd.plotly.v1+json": {
       "config": {
        "plotlyServerURL": "https://plot.ly"
       },
       "data": [
        {
         "cliponaxis": false,
         "hovertemplate": [
          "regularization (FloatDistribution): 0.005981378636799377<extra></extra>",
          "alpha (FloatDistribution): 0.07757081987011809<extra></extra>",
          "factors (CategoricalDistribution): 0.9164478014930826<extra></extra>"
         ],
         "name": "Objective Value",
         "orientation": "h",
         "text": [
          "<0.01",
          "0.08",
          "0.92"
         ],
         "textposition": "outside",
         "type": "bar",
         "x": [
          0.005981378636799377,
          0.07757081987011809,
          0.9164478014930826
         ],
         "y": [
          "regularization",
          "alpha",
          "factors"
         ]
        }
       ],
       "layout": {
        "template": {
         "data": {
          "bar": [
           {
            "error_x": {
             "color": "#2a3f5f"
            },
            "error_y": {
             "color": "#2a3f5f"
            },
            "marker": {
             "line": {
              "color": "#E5ECF6",
              "width": 0.5
             },
             "pattern": {
              "fillmode": "overlay",
              "size": 10,
              "solidity": 0.2
             }
            },
            "type": "bar"
           }
          ],
          "barpolar": [
           {
            "marker": {
             "line": {
              "color": "#E5ECF6",
              "width": 0.5
             },
             "pattern": {
              "fillmode": "overlay",
              "size": 10,
              "solidity": 0.2
             }
            },
            "type": "barpolar"
           }
          ],
          "carpet": [
           {
            "aaxis": {
             "endlinecolor": "#2a3f5f",
             "gridcolor": "white",
             "linecolor": "white",
             "minorgridcolor": "white",
             "startlinecolor": "#2a3f5f"
            },
            "baxis": {
             "endlinecolor": "#2a3f5f",
             "gridcolor": "white",
             "linecolor": "white",
             "minorgridcolor": "white",
             "startlinecolor": "#2a3f5f"
            },
            "type": "carpet"
           }
          ],
          "choropleth": [
           {
            "colorbar": {
             "outlinewidth": 0,
             "ticks": ""
            },
            "type": "choropleth"
           }
          ],
          "contour": [
           {
            "colorbar": {
             "outlinewidth": 0,
             "ticks": ""
            },
            "colorscale": [
             [
              0,
              "#0d0887"
             ],
             [
              0.1111111111111111,
              "#46039f"
             ],
             [
              0.2222222222222222,
              "#7201a8"
             ],
             [
              0.3333333333333333,
              "#9c179e"
             ],
             [
              0.4444444444444444,
              "#bd3786"
             ],
             [
              0.5555555555555556,
              "#d8576b"
             ],
             [
              0.6666666666666666,
              "#ed7953"
             ],
             [
              0.7777777777777778,
              "#fb9f3a"
             ],
             [
              0.8888888888888888,
              "#fdca26"
             ],
             [
              1,
              "#f0f921"
             ]
            ],
            "type": "contour"
           }
          ],
          "contourcarpet": [
           {
            "colorbar": {
             "outlinewidth": 0,
             "ticks": ""
            },
            "type": "contourcarpet"
           }
          ],
          "heatmap": [
           {
            "colorbar": {
             "outlinewidth": 0,
             "ticks": ""
            },
            "colorscale": [
             [
              0,
              "#0d0887"
             ],
             [
              0.1111111111111111,
              "#46039f"
             ],
             [
              0.2222222222222222,
              "#7201a8"
             ],
             [
              0.3333333333333333,
              "#9c179e"
             ],
             [
              0.4444444444444444,
              "#bd3786"
             ],
             [
              0.5555555555555556,
              "#d8576b"
             ],
             [
              0.6666666666666666,
              "#ed7953"
             ],
             [
              0.7777777777777778,
              "#fb9f3a"
             ],
             [
              0.8888888888888888,
              "#fdca26"
             ],
             [
              1,
              "#f0f921"
             ]
            ],
            "type": "heatmap"
           }
          ],
          "histogram": [
           {
            "marker": {
             "pattern": {
              "fillmode": "overlay",
              "size": 10,
              "solidity": 0.2
             }
            },
            "type": "histogram"
           }
          ],
          "histogram2d": [
           {
            "colorbar": {
             "outlinewidth": 0,
             "ticks": ""
            },
            "colorscale": [
             [
              0,
              "#0d0887"
             ],
             [
              0.1111111111111111,
              "#46039f"
             ],
             [
              0.2222222222222222,
              "#7201a8"
             ],
             [
              0.3333333333333333,
              "#9c179e"
             ],
             [
              0.4444444444444444,
              "#bd3786"
             ],
             [
              0.5555555555555556,
              "#d8576b"
             ],
             [
              0.6666666666666666,
              "#ed7953"
             ],
             [
              0.7777777777777778,
              "#fb9f3a"
             ],
             [
              0.8888888888888888,
              "#fdca26"
             ],
             [
              1,
              "#f0f921"
             ]
            ],
            "type": "histogram2d"
           }
          ],
          "histogram2dcontour": [
           {
            "colorbar": {
             "outlinewidth": 0,
             "ticks": ""
            },
            "colorscale": [
             [
              0,
              "#0d0887"
             ],
             [
              0.1111111111111111,
              "#46039f"
             ],
             [
              0.2222222222222222,
              "#7201a8"
             ],
             [
              0.3333333333333333,
              "#9c179e"
             ],
             [
              0.4444444444444444,
              "#bd3786"
             ],
             [
              0.5555555555555556,
              "#d8576b"
             ],
             [
              0.6666666666666666,
              "#ed7953"
             ],
             [
              0.7777777777777778,
              "#fb9f3a"
             ],
             [
              0.8888888888888888,
              "#fdca26"
             ],
             [
              1,
              "#f0f921"
             ]
            ],
            "type": "histogram2dcontour"
           }
          ],
          "mesh3d": [
           {
            "colorbar": {
             "outlinewidth": 0,
             "ticks": ""
            },
            "type": "mesh3d"
           }
          ],
          "parcoords": [
           {
            "line": {
             "colorbar": {
              "outlinewidth": 0,
              "ticks": ""
             }
            },
            "type": "parcoords"
           }
          ],
          "pie": [
           {
            "automargin": true,
            "type": "pie"
           }
          ],
          "scatter": [
           {
            "fillpattern": {
             "fillmode": "overlay",
             "size": 10,
             "solidity": 0.2
            },
            "type": "scatter"
           }
          ],
          "scatter3d": [
           {
            "line": {
             "colorbar": {
              "outlinewidth": 0,
              "ticks": ""
             }
            },
            "marker": {
             "colorbar": {
              "outlinewidth": 0,
              "ticks": ""
             }
            },
            "type": "scatter3d"
           }
          ],
          "scattercarpet": [
           {
            "marker": {
             "colorbar": {
              "outlinewidth": 0,
              "ticks": ""
             }
            },
            "type": "scattercarpet"
           }
          ],
          "scattergeo": [
           {
            "marker": {
             "colorbar": {
              "outlinewidth": 0,
              "ticks": ""
             }
            },
            "type": "scattergeo"
           }
          ],
          "scattergl": [
           {
            "marker": {
             "colorbar": {
              "outlinewidth": 0,
              "ticks": ""
             }
            },
            "type": "scattergl"
           }
          ],
          "scattermap": [
           {
            "marker": {
             "colorbar": {
              "outlinewidth": 0,
              "ticks": ""
             }
            },
            "type": "scattermap"
           }
          ],
          "scattermapbox": [
           {
            "marker": {
             "colorbar": {
              "outlinewidth": 0,
              "ticks": ""
             }
            },
            "type": "scattermapbox"
           }
          ],
          "scatterpolar": [
           {
            "marker": {
             "colorbar": {
              "outlinewidth": 0,
              "ticks": ""
             }
            },
            "type": "scatterpolar"
           }
          ],
          "scatterpolargl": [
           {
            "marker": {
             "colorbar": {
              "outlinewidth": 0,
              "ticks": ""
             }
            },
            "type": "scatterpolargl"
           }
          ],
          "scatterternary": [
           {
            "marker": {
             "colorbar": {
              "outlinewidth": 0,
              "ticks": ""
             }
            },
            "type": "scatterternary"
           }
          ],
          "surface": [
           {
            "colorbar": {
             "outlinewidth": 0,
             "ticks": ""
            },
            "colorscale": [
             [
              0,
              "#0d0887"
             ],
             [
              0.1111111111111111,
              "#46039f"
             ],
             [
              0.2222222222222222,
              "#7201a8"
             ],
             [
              0.3333333333333333,
              "#9c179e"
             ],
             [
              0.4444444444444444,
              "#bd3786"
             ],
             [
              0.5555555555555556,
              "#d8576b"
             ],
             [
              0.6666666666666666,
              "#ed7953"
             ],
             [
              0.7777777777777778,
              "#fb9f3a"
             ],
             [
              0.8888888888888888,
              "#fdca26"
             ],
             [
              1,
              "#f0f921"
             ]
            ],
            "type": "surface"
           }
          ],
          "table": [
           {
            "cells": {
             "fill": {
              "color": "#EBF0F8"
             },
             "line": {
              "color": "white"
             }
            },
            "header": {
             "fill": {
              "color": "#C8D4E3"
             },
             "line": {
              "color": "white"
             }
            },
            "type": "table"
           }
          ]
         },
         "layout": {
          "annotationdefaults": {
           "arrowcolor": "#2a3f5f",
           "arrowhead": 0,
           "arrowwidth": 1
          },
          "autotypenumbers": "strict",
          "coloraxis": {
           "colorbar": {
            "outlinewidth": 0,
            "ticks": ""
           }
          },
          "colorscale": {
           "diverging": [
            [
             0,
             "#8e0152"
            ],
            [
             0.1,
             "#c51b7d"
            ],
            [
             0.2,
             "#de77ae"
            ],
            [
             0.3,
             "#f1b6da"
            ],
            [
             0.4,
             "#fde0ef"
            ],
            [
             0.5,
             "#f7f7f7"
            ],
            [
             0.6,
             "#e6f5d0"
            ],
            [
             0.7,
             "#b8e186"
            ],
            [
             0.8,
             "#7fbc41"
            ],
            [
             0.9,
             "#4d9221"
            ],
            [
             1,
             "#276419"
            ]
           ],
           "sequential": [
            [
             0,
             "#0d0887"
            ],
            [
             0.1111111111111111,
             "#46039f"
            ],
            [
             0.2222222222222222,
             "#7201a8"
            ],
            [
             0.3333333333333333,
             "#9c179e"
            ],
            [
             0.4444444444444444,
             "#bd3786"
            ],
            [
             0.5555555555555556,
             "#d8576b"
            ],
            [
             0.6666666666666666,
             "#ed7953"
            ],
            [
             0.7777777777777778,
             "#fb9f3a"
            ],
            [
             0.8888888888888888,
             "#fdca26"
            ],
            [
             1,
             "#f0f921"
            ]
           ],
           "sequentialminus": [
            [
             0,
             "#0d0887"
            ],
            [
             0.1111111111111111,
             "#46039f"
            ],
            [
             0.2222222222222222,
             "#7201a8"
            ],
            [
             0.3333333333333333,
             "#9c179e"
            ],
            [
             0.4444444444444444,
             "#bd3786"
            ],
            [
             0.5555555555555556,
             "#d8576b"
            ],
            [
             0.6666666666666666,
             "#ed7953"
            ],
            [
             0.7777777777777778,
             "#fb9f3a"
            ],
            [
             0.8888888888888888,
             "#fdca26"
            ],
            [
             1,
             "#f0f921"
            ]
           ]
          },
          "colorway": [
           "#636efa",
           "#EF553B",
           "#00cc96",
           "#ab63fa",
           "#FFA15A",
           "#19d3f3",
           "#FF6692",
           "#B6E880",
           "#FF97FF",
           "#FECB52"
          ],
          "font": {
           "color": "#2a3f5f"
          },
          "geo": {
           "bgcolor": "white",
           "lakecolor": "white",
           "landcolor": "#E5ECF6",
           "showlakes": true,
           "showland": true,
           "subunitcolor": "white"
          },
          "hoverlabel": {
           "align": "left"
          },
          "hovermode": "closest",
          "mapbox": {
           "style": "light"
          },
          "paper_bgcolor": "white",
          "plot_bgcolor": "#E5ECF6",
          "polar": {
           "angularaxis": {
            "gridcolor": "white",
            "linecolor": "white",
            "ticks": ""
           },
           "bgcolor": "#E5ECF6",
           "radialaxis": {
            "gridcolor": "white",
            "linecolor": "white",
            "ticks": ""
           }
          },
          "scene": {
           "xaxis": {
            "backgroundcolor": "#E5ECF6",
            "gridcolor": "white",
            "gridwidth": 2,
            "linecolor": "white",
            "showbackground": true,
            "ticks": "",
            "zerolinecolor": "white"
           },
           "yaxis": {
            "backgroundcolor": "#E5ECF6",
            "gridcolor": "white",
            "gridwidth": 2,
            "linecolor": "white",
            "showbackground": true,
            "ticks": "",
            "zerolinecolor": "white"
           },
           "zaxis": {
            "backgroundcolor": "#E5ECF6",
            "gridcolor": "white",
            "gridwidth": 2,
            "linecolor": "white",
            "showbackground": true,
            "ticks": "",
            "zerolinecolor": "white"
           }
          },
          "shapedefaults": {
           "line": {
            "color": "#2a3f5f"
           }
          },
          "ternary": {
           "aaxis": {
            "gridcolor": "white",
            "linecolor": "white",
            "ticks": ""
           },
           "baxis": {
            "gridcolor": "white",
            "linecolor": "white",
            "ticks": ""
           },
           "bgcolor": "#E5ECF6",
           "caxis": {
            "gridcolor": "white",
            "linecolor": "white",
            "ticks": ""
           }
          },
          "title": {
           "x": 0.05
          },
          "xaxis": {
           "automargin": true,
           "gridcolor": "white",
           "linecolor": "white",
           "ticks": "",
           "title": {
            "standoff": 15
           },
           "zerolinecolor": "white",
           "zerolinewidth": 2
          },
          "yaxis": {
           "automargin": true,
           "gridcolor": "white",
           "linecolor": "white",
           "ticks": "",
           "title": {
            "standoff": 15
           },
           "zerolinecolor": "white",
           "zerolinewidth": 2
          }
         }
        },
        "title": {
         "text": "Hyperparameter Importances"
        },
        "xaxis": {
         "title": {
          "text": "Hyperparameter Importance"
         }
        },
        "yaxis": {
         "title": {
          "text": "Hyperparameter"
         }
        }
       }
      }
     },
     "metadata": {},
     "output_type": "display_data"
    }
   ],
   "source": [
    "# Hyperparameter Importances\n",
    "plot_param_importances(study).show()"
   ]
  },
  {
   "cell_type": "code",
   "execution_count": 11,
   "metadata": {},
   "outputs": [
    {
     "data": {
      "application/vnd.plotly.v1+json": {
       "config": {
        "plotlyServerURL": "https://plot.ly"
       },
       "data": [
        {
         "dimensions": [
          {
           "label": "Objective Value",
           "range": [
            0.34078302931350646,
            0.571463298232841
           ],
           "values": [
            0.5682976075968703,
            0.569847546694483,
            0.5703384660528616,
            0.5708443020829036,
            0.5707537492361258,
            0.5695770789241469,
            0.5699253432960244,
            0.569497887500647,
            0.5703413205451479,
            0.5690167011978681,
            0.570324009285619,
            0.5710416113516833,
            0.571463298232841,
            0.5709271578814809,
            0.5704878318298251,
            0.5697535714809097,
            0.5696993256925131,
            0.5405654536319997,
            0.5269306809593385,
            0.505234697604223,
            0.41016561445813504,
            0.47394359981970213,
            0.488265965120705,
            0.41416700387702055,
            0.40776856559197394,
            0.46074278438233734,
            0.41307911450424334,
            0.3912201341324454,
            0.3609058435793842,
            0.34078302931350646
           ]
          },
          {
           "label": "alpha",
           "range": [
            0.004779067635261163,
            1.2839695068462107
           ],
           "ticktext": [
            "1.01",
            "10",
            "19.2"
           ],
           "tickvals": [
            0.004779067635261163,
            1,
            1.2839695068462107
           ],
           "values": [
            0.6442400132149694,
            0.40022590270793873,
            0.391043850428636,
            0.39464154107463256,
            0.36474168148551805,
            0.062004192478339534,
            0.4647382344389029,
            0.5283268219496547,
            0.20267938778264866,
            0.5445324701617288,
            0.2075544839324281,
            0.18059966543914818,
            0.3346747256455505,
            0.31686380744595777,
            0.32390949532680796,
            0.1256710155587068,
            0.5403805035909729,
            0.07556852168734095,
            0.711286472363441,
            1.1993860319948617,
            1.256316239803995,
            0.2520310152432296,
            0.004779067635261163,
            0.7960389689676517,
            0.8805605951894424,
            0.13457079964467802,
            0.2762595522450512,
            0.6690344291795309,
            1.0782123579385132,
            1.2839695068462107
           ]
          },
          {
           "label": "factors",
           "range": [
            0,
            4
           ],
           "ticktext": [
            "2",
            "4",
            "8",
            "16",
            "32"
           ],
           "tickvals": [
            0,
            1,
            2,
            3,
            4
           ],
           "values": [
            0,
            0,
            0,
            0,
            0,
            0,
            0,
            0,
            0,
            0,
            0,
            0,
            0,
            0,
            0,
            0,
            0,
            1,
            1,
            1,
            2,
            2,
            2,
            3,
            3,
            3,
            4,
            4,
            4,
            4
           ]
          },
          {
           "label": "regularization",
           "range": [
            -3.9883622758599557,
            -2.1022289254933333
           ],
           "ticktext": [
            "0.000103",
            "0.001",
            "0.0079"
           ],
           "tickvals": [
            -3.9883622758599557,
            -3,
            -2.1022289254933333
           ],
           "values": [
            -3.755923530310442,
            -3.9880056340883647,
            -3.9702564235614113,
            -3.9883622758599557,
            -3.1911498302133214,
            -3.2682335926037194,
            -2.6369840835506126,
            -3.0514346346689174,
            -3.188598791414799,
            -3.510413805934339,
            -3.125709706849354,
            -2.8891089641669043,
            -2.7965668648367594,
            -2.7568502861642536,
            -2.7340738989029116,
            -2.3444254810849174,
            -2.914010323119736,
            -3.6880109593275945,
            -2.9598639576443784,
            -2.804200042377829,
            -2.1022289254933333,
            -3.224811591872078,
            -2.5592286050600497,
            -3.417541719603916,
            -2.5430496287111444,
            -2.8363308505952713,
            -2.335114718399156,
            -3.6006524356832803,
            -3.457301936452208,
            -3.850898712640458
           ]
          }
         ],
         "labelangle": 30,
         "labelside": "bottom",
         "line": {
          "color": [
           0.5682976075968703,
           0.569847546694483,
           0.5703384660528616,
           0.5708443020829036,
           0.5707537492361258,
           0.5695770789241469,
           0.5699253432960244,
           0.569497887500647,
           0.5703413205451479,
           0.5690167011978681,
           0.570324009285619,
           0.5710416113516833,
           0.571463298232841,
           0.5709271578814809,
           0.5704878318298251,
           0.5697535714809097,
           0.5696993256925131,
           0.5405654536319997,
           0.5269306809593385,
           0.505234697604223,
           0.41016561445813504,
           0.47394359981970213,
           0.488265965120705,
           0.41416700387702055,
           0.40776856559197394,
           0.46074278438233734,
           0.41307911450424334,
           0.3912201341324454,
           0.3609058435793842,
           0.34078302931350646
          ],
          "colorbar": {
           "title": {
            "text": "Objective Value"
           }
          },
          "colorscale": [
           [
            0,
            "rgb(247,251,255)"
           ],
           [
            0.125,
            "rgb(222,235,247)"
           ],
           [
            0.25,
            "rgb(198,219,239)"
           ],
           [
            0.375,
            "rgb(158,202,225)"
           ],
           [
            0.5,
            "rgb(107,174,214)"
           ],
           [
            0.625,
            "rgb(66,146,198)"
           ],
           [
            0.75,
            "rgb(33,113,181)"
           ],
           [
            0.875,
            "rgb(8,81,156)"
           ],
           [
            1,
            "rgb(8,48,107)"
           ]
          ],
          "reversescale": false,
          "showscale": true
         },
         "type": "parcoords"
        }
       ],
       "layout": {
        "template": {
         "data": {
          "bar": [
           {
            "error_x": {
             "color": "#2a3f5f"
            },
            "error_y": {
             "color": "#2a3f5f"
            },
            "marker": {
             "line": {
              "color": "#E5ECF6",
              "width": 0.5
             },
             "pattern": {
              "fillmode": "overlay",
              "size": 10,
              "solidity": 0.2
             }
            },
            "type": "bar"
           }
          ],
          "barpolar": [
           {
            "marker": {
             "line": {
              "color": "#E5ECF6",
              "width": 0.5
             },
             "pattern": {
              "fillmode": "overlay",
              "size": 10,
              "solidity": 0.2
             }
            },
            "type": "barpolar"
           }
          ],
          "carpet": [
           {
            "aaxis": {
             "endlinecolor": "#2a3f5f",
             "gridcolor": "white",
             "linecolor": "white",
             "minorgridcolor": "white",
             "startlinecolor": "#2a3f5f"
            },
            "baxis": {
             "endlinecolor": "#2a3f5f",
             "gridcolor": "white",
             "linecolor": "white",
             "minorgridcolor": "white",
             "startlinecolor": "#2a3f5f"
            },
            "type": "carpet"
           }
          ],
          "choropleth": [
           {
            "colorbar": {
             "outlinewidth": 0,
             "ticks": ""
            },
            "type": "choropleth"
           }
          ],
          "contour": [
           {
            "colorbar": {
             "outlinewidth": 0,
             "ticks": ""
            },
            "colorscale": [
             [
              0,
              "#0d0887"
             ],
             [
              0.1111111111111111,
              "#46039f"
             ],
             [
              0.2222222222222222,
              "#7201a8"
             ],
             [
              0.3333333333333333,
              "#9c179e"
             ],
             [
              0.4444444444444444,
              "#bd3786"
             ],
             [
              0.5555555555555556,
              "#d8576b"
             ],
             [
              0.6666666666666666,
              "#ed7953"
             ],
             [
              0.7777777777777778,
              "#fb9f3a"
             ],
             [
              0.8888888888888888,
              "#fdca26"
             ],
             [
              1,
              "#f0f921"
             ]
            ],
            "type": "contour"
           }
          ],
          "contourcarpet": [
           {
            "colorbar": {
             "outlinewidth": 0,
             "ticks": ""
            },
            "type": "contourcarpet"
           }
          ],
          "heatmap": [
           {
            "colorbar": {
             "outlinewidth": 0,
             "ticks": ""
            },
            "colorscale": [
             [
              0,
              "#0d0887"
             ],
             [
              0.1111111111111111,
              "#46039f"
             ],
             [
              0.2222222222222222,
              "#7201a8"
             ],
             [
              0.3333333333333333,
              "#9c179e"
             ],
             [
              0.4444444444444444,
              "#bd3786"
             ],
             [
              0.5555555555555556,
              "#d8576b"
             ],
             [
              0.6666666666666666,
              "#ed7953"
             ],
             [
              0.7777777777777778,
              "#fb9f3a"
             ],
             [
              0.8888888888888888,
              "#fdca26"
             ],
             [
              1,
              "#f0f921"
             ]
            ],
            "type": "heatmap"
           }
          ],
          "histogram": [
           {
            "marker": {
             "pattern": {
              "fillmode": "overlay",
              "size": 10,
              "solidity": 0.2
             }
            },
            "type": "histogram"
           }
          ],
          "histogram2d": [
           {
            "colorbar": {
             "outlinewidth": 0,
             "ticks": ""
            },
            "colorscale": [
             [
              0,
              "#0d0887"
             ],
             [
              0.1111111111111111,
              "#46039f"
             ],
             [
              0.2222222222222222,
              "#7201a8"
             ],
             [
              0.3333333333333333,
              "#9c179e"
             ],
             [
              0.4444444444444444,
              "#bd3786"
             ],
             [
              0.5555555555555556,
              "#d8576b"
             ],
             [
              0.6666666666666666,
              "#ed7953"
             ],
             [
              0.7777777777777778,
              "#fb9f3a"
             ],
             [
              0.8888888888888888,
              "#fdca26"
             ],
             [
              1,
              "#f0f921"
             ]
            ],
            "type": "histogram2d"
           }
          ],
          "histogram2dcontour": [
           {
            "colorbar": {
             "outlinewidth": 0,
             "ticks": ""
            },
            "colorscale": [
             [
              0,
              "#0d0887"
             ],
             [
              0.1111111111111111,
              "#46039f"
             ],
             [
              0.2222222222222222,
              "#7201a8"
             ],
             [
              0.3333333333333333,
              "#9c179e"
             ],
             [
              0.4444444444444444,
              "#bd3786"
             ],
             [
              0.5555555555555556,
              "#d8576b"
             ],
             [
              0.6666666666666666,
              "#ed7953"
             ],
             [
              0.7777777777777778,
              "#fb9f3a"
             ],
             [
              0.8888888888888888,
              "#fdca26"
             ],
             [
              1,
              "#f0f921"
             ]
            ],
            "type": "histogram2dcontour"
           }
          ],
          "mesh3d": [
           {
            "colorbar": {
             "outlinewidth": 0,
             "ticks": ""
            },
            "type": "mesh3d"
           }
          ],
          "parcoords": [
           {
            "line": {
             "colorbar": {
              "outlinewidth": 0,
              "ticks": ""
             }
            },
            "type": "parcoords"
           }
          ],
          "pie": [
           {
            "automargin": true,
            "type": "pie"
           }
          ],
          "scatter": [
           {
            "fillpattern": {
             "fillmode": "overlay",
             "size": 10,
             "solidity": 0.2
            },
            "type": "scatter"
           }
          ],
          "scatter3d": [
           {
            "line": {
             "colorbar": {
              "outlinewidth": 0,
              "ticks": ""
             }
            },
            "marker": {
             "colorbar": {
              "outlinewidth": 0,
              "ticks": ""
             }
            },
            "type": "scatter3d"
           }
          ],
          "scattercarpet": [
           {
            "marker": {
             "colorbar": {
              "outlinewidth": 0,
              "ticks": ""
             }
            },
            "type": "scattercarpet"
           }
          ],
          "scattergeo": [
           {
            "marker": {
             "colorbar": {
              "outlinewidth": 0,
              "ticks": ""
             }
            },
            "type": "scattergeo"
           }
          ],
          "scattergl": [
           {
            "marker": {
             "colorbar": {
              "outlinewidth": 0,
              "ticks": ""
             }
            },
            "type": "scattergl"
           }
          ],
          "scattermap": [
           {
            "marker": {
             "colorbar": {
              "outlinewidth": 0,
              "ticks": ""
             }
            },
            "type": "scattermap"
           }
          ],
          "scattermapbox": [
           {
            "marker": {
             "colorbar": {
              "outlinewidth": 0,
              "ticks": ""
             }
            },
            "type": "scattermapbox"
           }
          ],
          "scatterpolar": [
           {
            "marker": {
             "colorbar": {
              "outlinewidth": 0,
              "ticks": ""
             }
            },
            "type": "scatterpolar"
           }
          ],
          "scatterpolargl": [
           {
            "marker": {
             "colorbar": {
              "outlinewidth": 0,
              "ticks": ""
             }
            },
            "type": "scatterpolargl"
           }
          ],
          "scatterternary": [
           {
            "marker": {
             "colorbar": {
              "outlinewidth": 0,
              "ticks": ""
             }
            },
            "type": "scatterternary"
           }
          ],
          "surface": [
           {
            "colorbar": {
             "outlinewidth": 0,
             "ticks": ""
            },
            "colorscale": [
             [
              0,
              "#0d0887"
             ],
             [
              0.1111111111111111,
              "#46039f"
             ],
             [
              0.2222222222222222,
              "#7201a8"
             ],
             [
              0.3333333333333333,
              "#9c179e"
             ],
             [
              0.4444444444444444,
              "#bd3786"
             ],
             [
              0.5555555555555556,
              "#d8576b"
             ],
             [
              0.6666666666666666,
              "#ed7953"
             ],
             [
              0.7777777777777778,
              "#fb9f3a"
             ],
             [
              0.8888888888888888,
              "#fdca26"
             ],
             [
              1,
              "#f0f921"
             ]
            ],
            "type": "surface"
           }
          ],
          "table": [
           {
            "cells": {
             "fill": {
              "color": "#EBF0F8"
             },
             "line": {
              "color": "white"
             }
            },
            "header": {
             "fill": {
              "color": "#C8D4E3"
             },
             "line": {
              "color": "white"
             }
            },
            "type": "table"
           }
          ]
         },
         "layout": {
          "annotationdefaults": {
           "arrowcolor": "#2a3f5f",
           "arrowhead": 0,
           "arrowwidth": 1
          },
          "autotypenumbers": "strict",
          "coloraxis": {
           "colorbar": {
            "outlinewidth": 0,
            "ticks": ""
           }
          },
          "colorscale": {
           "diverging": [
            [
             0,
             "#8e0152"
            ],
            [
             0.1,
             "#c51b7d"
            ],
            [
             0.2,
             "#de77ae"
            ],
            [
             0.3,
             "#f1b6da"
            ],
            [
             0.4,
             "#fde0ef"
            ],
            [
             0.5,
             "#f7f7f7"
            ],
            [
             0.6,
             "#e6f5d0"
            ],
            [
             0.7,
             "#b8e186"
            ],
            [
             0.8,
             "#7fbc41"
            ],
            [
             0.9,
             "#4d9221"
            ],
            [
             1,
             "#276419"
            ]
           ],
           "sequential": [
            [
             0,
             "#0d0887"
            ],
            [
             0.1111111111111111,
             "#46039f"
            ],
            [
             0.2222222222222222,
             "#7201a8"
            ],
            [
             0.3333333333333333,
             "#9c179e"
            ],
            [
             0.4444444444444444,
             "#bd3786"
            ],
            [
             0.5555555555555556,
             "#d8576b"
            ],
            [
             0.6666666666666666,
             "#ed7953"
            ],
            [
             0.7777777777777778,
             "#fb9f3a"
            ],
            [
             0.8888888888888888,
             "#fdca26"
            ],
            [
             1,
             "#f0f921"
            ]
           ],
           "sequentialminus": [
            [
             0,
             "#0d0887"
            ],
            [
             0.1111111111111111,
             "#46039f"
            ],
            [
             0.2222222222222222,
             "#7201a8"
            ],
            [
             0.3333333333333333,
             "#9c179e"
            ],
            [
             0.4444444444444444,
             "#bd3786"
            ],
            [
             0.5555555555555556,
             "#d8576b"
            ],
            [
             0.6666666666666666,
             "#ed7953"
            ],
            [
             0.7777777777777778,
             "#fb9f3a"
            ],
            [
             0.8888888888888888,
             "#fdca26"
            ],
            [
             1,
             "#f0f921"
            ]
           ]
          },
          "colorway": [
           "#636efa",
           "#EF553B",
           "#00cc96",
           "#ab63fa",
           "#FFA15A",
           "#19d3f3",
           "#FF6692",
           "#B6E880",
           "#FF97FF",
           "#FECB52"
          ],
          "font": {
           "color": "#2a3f5f"
          },
          "geo": {
           "bgcolor": "white",
           "lakecolor": "white",
           "landcolor": "#E5ECF6",
           "showlakes": true,
           "showland": true,
           "subunitcolor": "white"
          },
          "hoverlabel": {
           "align": "left"
          },
          "hovermode": "closest",
          "mapbox": {
           "style": "light"
          },
          "paper_bgcolor": "white",
          "plot_bgcolor": "#E5ECF6",
          "polar": {
           "angularaxis": {
            "gridcolor": "white",
            "linecolor": "white",
            "ticks": ""
           },
           "bgcolor": "#E5ECF6",
           "radialaxis": {
            "gridcolor": "white",
            "linecolor": "white",
            "ticks": ""
           }
          },
          "scene": {
           "xaxis": {
            "backgroundcolor": "#E5ECF6",
            "gridcolor": "white",
            "gridwidth": 2,
            "linecolor": "white",
            "showbackground": true,
            "ticks": "",
            "zerolinecolor": "white"
           },
           "yaxis": {
            "backgroundcolor": "#E5ECF6",
            "gridcolor": "white",
            "gridwidth": 2,
            "linecolor": "white",
            "showbackground": true,
            "ticks": "",
            "zerolinecolor": "white"
           },
           "zaxis": {
            "backgroundcolor": "#E5ECF6",
            "gridcolor": "white",
            "gridwidth": 2,
            "linecolor": "white",
            "showbackground": true,
            "ticks": "",
            "zerolinecolor": "white"
           }
          },
          "shapedefaults": {
           "line": {
            "color": "#2a3f5f"
           }
          },
          "ternary": {
           "aaxis": {
            "gridcolor": "white",
            "linecolor": "white",
            "ticks": ""
           },
           "baxis": {
            "gridcolor": "white",
            "linecolor": "white",
            "ticks": ""
           },
           "bgcolor": "#E5ECF6",
           "caxis": {
            "gridcolor": "white",
            "linecolor": "white",
            "ticks": ""
           }
          },
          "title": {
           "x": 0.05
          },
          "xaxis": {
           "automargin": true,
           "gridcolor": "white",
           "linecolor": "white",
           "ticks": "",
           "title": {
            "standoff": 15
           },
           "zerolinecolor": "white",
           "zerolinewidth": 2
          },
          "yaxis": {
           "automargin": true,
           "gridcolor": "white",
           "linecolor": "white",
           "ticks": "",
           "title": {
            "standoff": 15
           },
           "zerolinecolor": "white",
           "zerolinewidth": 2
          }
         }
        },
        "title": {
         "text": "Parallel Coordinate Plot"
        }
       }
      }
     },
     "metadata": {},
     "output_type": "display_data"
    }
   ],
   "source": [
    "# Parallel Coordinate\n",
    "plot_parallel_coordinate(study).show()"
   ]
  },
  {
   "cell_type": "code",
   "execution_count": 12,
   "metadata": {},
   "outputs": [
    {
     "data": {
      "application/vnd.plotly.v1+json": {
       "config": {
        "plotlyServerURL": "https://plot.ly"
       },
       "data": [
        {
         "marker": {
          "color": [
           0,
           1,
           2,
           3,
           4,
           5,
           6,
           7,
           8,
           9,
           10,
           11,
           12,
           13,
           14,
           15,
           16,
           17,
           18,
           19,
           20,
           21,
           22,
           23,
           24,
           25,
           26,
           27,
           28,
           29
          ],
          "colorbar": {
           "title": {
            "text": "Trial"
           },
           "x": 1,
           "xpad": 40
          },
          "colorscale": [
           [
            0,
            "rgb(247,251,255)"
           ],
           [
            0.125,
            "rgb(222,235,247)"
           ],
           [
            0.25,
            "rgb(198,219,239)"
           ],
           [
            0.375,
            "rgb(158,202,225)"
           ],
           [
            0.5,
            "rgb(107,174,214)"
           ],
           [
            0.625,
            "rgb(66,146,198)"
           ],
           [
            0.75,
            "rgb(33,113,181)"
           ],
           [
            0.875,
            "rgb(8,81,156)"
           ],
           [
            1,
            "rgb(8,48,107)"
           ]
          ],
          "line": {
           "color": "Grey",
           "width": 0.5
          },
          "showscale": true
         },
         "mode": "markers",
         "name": "Feasible Trial",
         "showlegend": false,
         "type": "scatter",
         "x": [
          1.1900590783184244,
          1.8891200276189386,
          6.252287916406214,
          4.666963767236923,
          18.043311207136256,
          4.407984038169241,
          5.143828405076927,
          15.826541904647563,
          11.973258472758717,
          19.22956707454338,
          2.513193354752946,
          2.4606160383908016,
          2.481084417076532,
          2.3160166726461453,
          1.1534643927798405,
          2.9156691012312193,
          1.7866151618408723,
          7.5955739296064735,
          3.3754122480997464,
          1.594701445107743,
          3.5037448317930324,
          1.6127033345550927,
          1.515652588106236,
          2.1610993148157305,
          1.3632352257083495,
          1.011064978913526,
          2.0742629370798062,
          2.1081887687626106,
          1.3355834092258057,
          3.470407742549873
         ],
         "xaxis": "x",
         "y": [
          0.5405654536319997,
          0.41307911450424334,
          0.41416700387702055,
          0.3912201341324454,
          0.41016561445813504,
          0.5682976075968703,
          0.5269306809593385,
          0.505234697604223,
          0.3609058435793842,
          0.34078302931350646,
          0.569847546694483,
          0.5703384660528616,
          0.5708443020829036,
          0.5707537492361258,
          0.5695770789241469,
          0.5699253432960244,
          0.47394359981970213,
          0.40776856559197394,
          0.569497887500647,
          0.5703413205451479,
          0.5690167011978681,
          0.570324009285619,
          0.5710416113516833,
          0.571463298232841,
          0.46074278438233734,
          0.488265965120705,
          0.5709271578814809,
          0.5704878318298251,
          0.5697535714809097,
          0.5696993256925131
         ],
         "yaxis": "y"
        },
        {
         "marker": {
          "color": [
           0,
           1,
           2,
           3,
           4,
           5,
           6,
           7,
           8,
           9,
           10,
           11,
           12,
           13,
           14,
           15,
           16,
           17,
           18,
           19,
           20,
           21,
           22,
           23,
           24,
           25,
           26,
           27,
           28,
           29
          ],
          "colorbar": {
           "title": {
            "text": "Trial"
           },
           "x": 1,
           "xpad": 40
          },
          "colorscale": [
           [
            0,
            "rgb(247,251,255)"
           ],
           [
            0.125,
            "rgb(222,235,247)"
           ],
           [
            0.25,
            "rgb(198,219,239)"
           ],
           [
            0.375,
            "rgb(158,202,225)"
           ],
           [
            0.5,
            "rgb(107,174,214)"
           ],
           [
            0.625,
            "rgb(66,146,198)"
           ],
           [
            0.75,
            "rgb(33,113,181)"
           ],
           [
            0.875,
            "rgb(8,81,156)"
           ],
           [
            1,
            "rgb(8,48,107)"
           ]
          ],
          "line": {
           "color": "Grey",
           "width": 0.5
          },
          "showscale": false
         },
         "mode": "markers",
         "name": "Feasible Trial",
         "showlegend": false,
         "type": "scatter",
         "x": [
          4,
          32,
          16,
          32,
          8,
          2,
          4,
          4,
          32,
          32,
          2,
          2,
          2,
          2,
          2,
          2,
          8,
          16,
          2,
          2,
          2,
          2,
          2,
          2,
          16,
          8,
          2,
          2,
          2,
          2
         ],
         "xaxis": "x2",
         "y": [
          0.5405654536319997,
          0.41307911450424334,
          0.41416700387702055,
          0.3912201341324454,
          0.41016561445813504,
          0.5682976075968703,
          0.5269306809593385,
          0.505234697604223,
          0.3609058435793842,
          0.34078302931350646,
          0.569847546694483,
          0.5703384660528616,
          0.5708443020829036,
          0.5707537492361258,
          0.5695770789241469,
          0.5699253432960244,
          0.47394359981970213,
          0.40776856559197394,
          0.569497887500647,
          0.5703413205451479,
          0.5690167011978681,
          0.570324009285619,
          0.5710416113516833,
          0.571463298232841,
          0.46074278438233734,
          0.488265965120705,
          0.5709271578814809,
          0.5704878318298251,
          0.5697535714809097,
          0.5696993256925131
         ],
         "yaxis": "y2"
        },
        {
         "marker": {
          "color": [
           0,
           1,
           2,
           3,
           4,
           5,
           6,
           7,
           8,
           9,
           10,
           11,
           12,
           13,
           14,
           15,
           16,
           17,
           18,
           19,
           20,
           21,
           22,
           23,
           24,
           25,
           26,
           27,
           28,
           29
          ],
          "colorbar": {
           "title": {
            "text": "Trial"
           },
           "x": 1,
           "xpad": 40
          },
          "colorscale": [
           [
            0,
            "rgb(247,251,255)"
           ],
           [
            0.125,
            "rgb(222,235,247)"
           ],
           [
            0.25,
            "rgb(198,219,239)"
           ],
           [
            0.375,
            "rgb(158,202,225)"
           ],
           [
            0.5,
            "rgb(107,174,214)"
           ],
           [
            0.625,
            "rgb(66,146,198)"
           ],
           [
            0.75,
            "rgb(33,113,181)"
           ],
           [
            0.875,
            "rgb(8,81,156)"
           ],
           [
            1,
            "rgb(8,48,107)"
           ]
          ],
          "line": {
           "color": "Grey",
           "width": 0.5
          },
          "showscale": false
         },
         "mode": "markers",
         "name": "Feasible Trial",
         "showlegend": false,
         "type": "scatter",
         "x": [
          0.00020511104188433984,
          0.004622589001020831,
          0.0003823475224675188,
          0.00025081156860452336,
          0.007902619549708232,
          0.00017541893487450815,
          0.001096821720752952,
          0.0015696396388661157,
          0.00034889766548903674,
          0.00014096175149815865,
          0.00010280029617905622,
          0.0001070886827256173,
          0.00010271591143171529,
          0.0006439470675008269,
          0.0005392205156640097,
          0.0023068317301987297,
          0.0005959206131645767,
          0.002863850686587134,
          0.0008883116653692053,
          0.0006477407332715554,
          0.00030873523291388694,
          0.0007486697626462275,
          0.0012908953482830563,
          0.0015974715602455967,
          0.00145770334178766,
          0.002759125118442843,
          0.0017504500152410811,
          0.0018447015008093977,
          0.004524540905246328,
          0.0012189606240551524
         ],
         "xaxis": "x3",
         "y": [
          0.5405654536319997,
          0.41307911450424334,
          0.41416700387702055,
          0.3912201341324454,
          0.41016561445813504,
          0.5682976075968703,
          0.5269306809593385,
          0.505234697604223,
          0.3609058435793842,
          0.34078302931350646,
          0.569847546694483,
          0.5703384660528616,
          0.5708443020829036,
          0.5707537492361258,
          0.5695770789241469,
          0.5699253432960244,
          0.47394359981970213,
          0.40776856559197394,
          0.569497887500647,
          0.5703413205451479,
          0.5690167011978681,
          0.570324009285619,
          0.5710416113516833,
          0.571463298232841,
          0.46074278438233734,
          0.488265965120705,
          0.5709271578814809,
          0.5704878318298251,
          0.5697535714809097,
          0.5696993256925131
         ],
         "yaxis": "y3"
        }
       ],
       "layout": {
        "template": {
         "data": {
          "bar": [
           {
            "error_x": {
             "color": "#2a3f5f"
            },
            "error_y": {
             "color": "#2a3f5f"
            },
            "marker": {
             "line": {
              "color": "#E5ECF6",
              "width": 0.5
             },
             "pattern": {
              "fillmode": "overlay",
              "size": 10,
              "solidity": 0.2
             }
            },
            "type": "bar"
           }
          ],
          "barpolar": [
           {
            "marker": {
             "line": {
              "color": "#E5ECF6",
              "width": 0.5
             },
             "pattern": {
              "fillmode": "overlay",
              "size": 10,
              "solidity": 0.2
             }
            },
            "type": "barpolar"
           }
          ],
          "carpet": [
           {
            "aaxis": {
             "endlinecolor": "#2a3f5f",
             "gridcolor": "white",
             "linecolor": "white",
             "minorgridcolor": "white",
             "startlinecolor": "#2a3f5f"
            },
            "baxis": {
             "endlinecolor": "#2a3f5f",
             "gridcolor": "white",
             "linecolor": "white",
             "minorgridcolor": "white",
             "startlinecolor": "#2a3f5f"
            },
            "type": "carpet"
           }
          ],
          "choropleth": [
           {
            "colorbar": {
             "outlinewidth": 0,
             "ticks": ""
            },
            "type": "choropleth"
           }
          ],
          "contour": [
           {
            "colorbar": {
             "outlinewidth": 0,
             "ticks": ""
            },
            "colorscale": [
             [
              0,
              "#0d0887"
             ],
             [
              0.1111111111111111,
              "#46039f"
             ],
             [
              0.2222222222222222,
              "#7201a8"
             ],
             [
              0.3333333333333333,
              "#9c179e"
             ],
             [
              0.4444444444444444,
              "#bd3786"
             ],
             [
              0.5555555555555556,
              "#d8576b"
             ],
             [
              0.6666666666666666,
              "#ed7953"
             ],
             [
              0.7777777777777778,
              "#fb9f3a"
             ],
             [
              0.8888888888888888,
              "#fdca26"
             ],
             [
              1,
              "#f0f921"
             ]
            ],
            "type": "contour"
           }
          ],
          "contourcarpet": [
           {
            "colorbar": {
             "outlinewidth": 0,
             "ticks": ""
            },
            "type": "contourcarpet"
           }
          ],
          "heatmap": [
           {
            "colorbar": {
             "outlinewidth": 0,
             "ticks": ""
            },
            "colorscale": [
             [
              0,
              "#0d0887"
             ],
             [
              0.1111111111111111,
              "#46039f"
             ],
             [
              0.2222222222222222,
              "#7201a8"
             ],
             [
              0.3333333333333333,
              "#9c179e"
             ],
             [
              0.4444444444444444,
              "#bd3786"
             ],
             [
              0.5555555555555556,
              "#d8576b"
             ],
             [
              0.6666666666666666,
              "#ed7953"
             ],
             [
              0.7777777777777778,
              "#fb9f3a"
             ],
             [
              0.8888888888888888,
              "#fdca26"
             ],
             [
              1,
              "#f0f921"
             ]
            ],
            "type": "heatmap"
           }
          ],
          "histogram": [
           {
            "marker": {
             "pattern": {
              "fillmode": "overlay",
              "size": 10,
              "solidity": 0.2
             }
            },
            "type": "histogram"
           }
          ],
          "histogram2d": [
           {
            "colorbar": {
             "outlinewidth": 0,
             "ticks": ""
            },
            "colorscale": [
             [
              0,
              "#0d0887"
             ],
             [
              0.1111111111111111,
              "#46039f"
             ],
             [
              0.2222222222222222,
              "#7201a8"
             ],
             [
              0.3333333333333333,
              "#9c179e"
             ],
             [
              0.4444444444444444,
              "#bd3786"
             ],
             [
              0.5555555555555556,
              "#d8576b"
             ],
             [
              0.6666666666666666,
              "#ed7953"
             ],
             [
              0.7777777777777778,
              "#fb9f3a"
             ],
             [
              0.8888888888888888,
              "#fdca26"
             ],
             [
              1,
              "#f0f921"
             ]
            ],
            "type": "histogram2d"
           }
          ],
          "histogram2dcontour": [
           {
            "colorbar": {
             "outlinewidth": 0,
             "ticks": ""
            },
            "colorscale": [
             [
              0,
              "#0d0887"
             ],
             [
              0.1111111111111111,
              "#46039f"
             ],
             [
              0.2222222222222222,
              "#7201a8"
             ],
             [
              0.3333333333333333,
              "#9c179e"
             ],
             [
              0.4444444444444444,
              "#bd3786"
             ],
             [
              0.5555555555555556,
              "#d8576b"
             ],
             [
              0.6666666666666666,
              "#ed7953"
             ],
             [
              0.7777777777777778,
              "#fb9f3a"
             ],
             [
              0.8888888888888888,
              "#fdca26"
             ],
             [
              1,
              "#f0f921"
             ]
            ],
            "type": "histogram2dcontour"
           }
          ],
          "mesh3d": [
           {
            "colorbar": {
             "outlinewidth": 0,
             "ticks": ""
            },
            "type": "mesh3d"
           }
          ],
          "parcoords": [
           {
            "line": {
             "colorbar": {
              "outlinewidth": 0,
              "ticks": ""
             }
            },
            "type": "parcoords"
           }
          ],
          "pie": [
           {
            "automargin": true,
            "type": "pie"
           }
          ],
          "scatter": [
           {
            "fillpattern": {
             "fillmode": "overlay",
             "size": 10,
             "solidity": 0.2
            },
            "type": "scatter"
           }
          ],
          "scatter3d": [
           {
            "line": {
             "colorbar": {
              "outlinewidth": 0,
              "ticks": ""
             }
            },
            "marker": {
             "colorbar": {
              "outlinewidth": 0,
              "ticks": ""
             }
            },
            "type": "scatter3d"
           }
          ],
          "scattercarpet": [
           {
            "marker": {
             "colorbar": {
              "outlinewidth": 0,
              "ticks": ""
             }
            },
            "type": "scattercarpet"
           }
          ],
          "scattergeo": [
           {
            "marker": {
             "colorbar": {
              "outlinewidth": 0,
              "ticks": ""
             }
            },
            "type": "scattergeo"
           }
          ],
          "scattergl": [
           {
            "marker": {
             "colorbar": {
              "outlinewidth": 0,
              "ticks": ""
             }
            },
            "type": "scattergl"
           }
          ],
          "scattermap": [
           {
            "marker": {
             "colorbar": {
              "outlinewidth": 0,
              "ticks": ""
             }
            },
            "type": "scattermap"
           }
          ],
          "scattermapbox": [
           {
            "marker": {
             "colorbar": {
              "outlinewidth": 0,
              "ticks": ""
             }
            },
            "type": "scattermapbox"
           }
          ],
          "scatterpolar": [
           {
            "marker": {
             "colorbar": {
              "outlinewidth": 0,
              "ticks": ""
             }
            },
            "type": "scatterpolar"
           }
          ],
          "scatterpolargl": [
           {
            "marker": {
             "colorbar": {
              "outlinewidth": 0,
              "ticks": ""
             }
            },
            "type": "scatterpolargl"
           }
          ],
          "scatterternary": [
           {
            "marker": {
             "colorbar": {
              "outlinewidth": 0,
              "ticks": ""
             }
            },
            "type": "scatterternary"
           }
          ],
          "surface": [
           {
            "colorbar": {
             "outlinewidth": 0,
             "ticks": ""
            },
            "colorscale": [
             [
              0,
              "#0d0887"
             ],
             [
              0.1111111111111111,
              "#46039f"
             ],
             [
              0.2222222222222222,
              "#7201a8"
             ],
             [
              0.3333333333333333,
              "#9c179e"
             ],
             [
              0.4444444444444444,
              "#bd3786"
             ],
             [
              0.5555555555555556,
              "#d8576b"
             ],
             [
              0.6666666666666666,
              "#ed7953"
             ],
             [
              0.7777777777777778,
              "#fb9f3a"
             ],
             [
              0.8888888888888888,
              "#fdca26"
             ],
             [
              1,
              "#f0f921"
             ]
            ],
            "type": "surface"
           }
          ],
          "table": [
           {
            "cells": {
             "fill": {
              "color": "#EBF0F8"
             },
             "line": {
              "color": "white"
             }
            },
            "header": {
             "fill": {
              "color": "#C8D4E3"
             },
             "line": {
              "color": "white"
             }
            },
            "type": "table"
           }
          ]
         },
         "layout": {
          "annotationdefaults": {
           "arrowcolor": "#2a3f5f",
           "arrowhead": 0,
           "arrowwidth": 1
          },
          "autotypenumbers": "strict",
          "coloraxis": {
           "colorbar": {
            "outlinewidth": 0,
            "ticks": ""
           }
          },
          "colorscale": {
           "diverging": [
            [
             0,
             "#8e0152"
            ],
            [
             0.1,
             "#c51b7d"
            ],
            [
             0.2,
             "#de77ae"
            ],
            [
             0.3,
             "#f1b6da"
            ],
            [
             0.4,
             "#fde0ef"
            ],
            [
             0.5,
             "#f7f7f7"
            ],
            [
             0.6,
             "#e6f5d0"
            ],
            [
             0.7,
             "#b8e186"
            ],
            [
             0.8,
             "#7fbc41"
            ],
            [
             0.9,
             "#4d9221"
            ],
            [
             1,
             "#276419"
            ]
           ],
           "sequential": [
            [
             0,
             "#0d0887"
            ],
            [
             0.1111111111111111,
             "#46039f"
            ],
            [
             0.2222222222222222,
             "#7201a8"
            ],
            [
             0.3333333333333333,
             "#9c179e"
            ],
            [
             0.4444444444444444,
             "#bd3786"
            ],
            [
             0.5555555555555556,
             "#d8576b"
            ],
            [
             0.6666666666666666,
             "#ed7953"
            ],
            [
             0.7777777777777778,
             "#fb9f3a"
            ],
            [
             0.8888888888888888,
             "#fdca26"
            ],
            [
             1,
             "#f0f921"
            ]
           ],
           "sequentialminus": [
            [
             0,
             "#0d0887"
            ],
            [
             0.1111111111111111,
             "#46039f"
            ],
            [
             0.2222222222222222,
             "#7201a8"
            ],
            [
             0.3333333333333333,
             "#9c179e"
            ],
            [
             0.4444444444444444,
             "#bd3786"
            ],
            [
             0.5555555555555556,
             "#d8576b"
            ],
            [
             0.6666666666666666,
             "#ed7953"
            ],
            [
             0.7777777777777778,
             "#fb9f3a"
            ],
            [
             0.8888888888888888,
             "#fdca26"
            ],
            [
             1,
             "#f0f921"
            ]
           ]
          },
          "colorway": [
           "#636efa",
           "#EF553B",
           "#00cc96",
           "#ab63fa",
           "#FFA15A",
           "#19d3f3",
           "#FF6692",
           "#B6E880",
           "#FF97FF",
           "#FECB52"
          ],
          "font": {
           "color": "#2a3f5f"
          },
          "geo": {
           "bgcolor": "white",
           "lakecolor": "white",
           "landcolor": "#E5ECF6",
           "showlakes": true,
           "showland": true,
           "subunitcolor": "white"
          },
          "hoverlabel": {
           "align": "left"
          },
          "hovermode": "closest",
          "mapbox": {
           "style": "light"
          },
          "paper_bgcolor": "white",
          "plot_bgcolor": "#E5ECF6",
          "polar": {
           "angularaxis": {
            "gridcolor": "white",
            "linecolor": "white",
            "ticks": ""
           },
           "bgcolor": "#E5ECF6",
           "radialaxis": {
            "gridcolor": "white",
            "linecolor": "white",
            "ticks": ""
           }
          },
          "scene": {
           "xaxis": {
            "backgroundcolor": "#E5ECF6",
            "gridcolor": "white",
            "gridwidth": 2,
            "linecolor": "white",
            "showbackground": true,
            "ticks": "",
            "zerolinecolor": "white"
           },
           "yaxis": {
            "backgroundcolor": "#E5ECF6",
            "gridcolor": "white",
            "gridwidth": 2,
            "linecolor": "white",
            "showbackground": true,
            "ticks": "",
            "zerolinecolor": "white"
           },
           "zaxis": {
            "backgroundcolor": "#E5ECF6",
            "gridcolor": "white",
            "gridwidth": 2,
            "linecolor": "white",
            "showbackground": true,
            "ticks": "",
            "zerolinecolor": "white"
           }
          },
          "shapedefaults": {
           "line": {
            "color": "#2a3f5f"
           }
          },
          "ternary": {
           "aaxis": {
            "gridcolor": "white",
            "linecolor": "white",
            "ticks": ""
           },
           "baxis": {
            "gridcolor": "white",
            "linecolor": "white",
            "ticks": ""
           },
           "bgcolor": "#E5ECF6",
           "caxis": {
            "gridcolor": "white",
            "linecolor": "white",
            "ticks": ""
           }
          },
          "title": {
           "x": 0.05
          },
          "xaxis": {
           "automargin": true,
           "gridcolor": "white",
           "linecolor": "white",
           "ticks": "",
           "title": {
            "standoff": 15
           },
           "zerolinecolor": "white",
           "zerolinewidth": 2
          },
          "yaxis": {
           "automargin": true,
           "gridcolor": "white",
           "linecolor": "white",
           "ticks": "",
           "title": {
            "standoff": 15
           },
           "zerolinecolor": "white",
           "zerolinewidth": 2
          }
         }
        },
        "title": {
         "text": "Slice Plot"
        },
        "xaxis": {
         "anchor": "y",
         "domain": [
          0,
          0.2888888888888889
         ],
         "title": {
          "text": "alpha"
         },
         "type": "log"
        },
        "xaxis2": {
         "anchor": "y2",
         "categoryarray": [
          2,
          4,
          8,
          16,
          32
         ],
         "categoryorder": "array",
         "domain": [
          0.35555555555555557,
          0.6444444444444445
         ],
         "title": {
          "text": "factors"
         },
         "type": "category"
        },
        "xaxis3": {
         "anchor": "y3",
         "domain": [
          0.7111111111111111,
          1
         ],
         "title": {
          "text": "regularization"
         },
         "type": "log"
        },
        "yaxis": {
         "anchor": "x",
         "domain": [
          0,
          1
         ],
         "title": {
          "text": "Objective Value"
         }
        },
        "yaxis2": {
         "anchor": "x2",
         "domain": [
          0,
          1
         ],
         "matches": "y",
         "showticklabels": false
        },
        "yaxis3": {
         "anchor": "x3",
         "domain": [
          0,
          1
         ],
         "matches": "y",
         "showticklabels": false
        }
       }
      }
     },
     "metadata": {},
     "output_type": "display_data"
    }
   ],
   "source": [
    "# Slice Plot\n",
    "plot_slice(study).show()"
   ]
  },
  {
   "cell_type": "markdown",
   "metadata": {},
   "source": [
    "## Extract embedding"
   ]
  },
  {
   "cell_type": "markdown",
   "metadata": {},
   "source": [
    "### Get user and game embedding for train set"
   ]
  },
  {
   "cell_type": "code",
   "execution_count": 13,
   "metadata": {},
   "outputs": [
    {
     "name": "stderr",
     "output_type": "stream",
     "text": [
      "C:\\Users\\HK-Laptop-V639\\AppData\\Local\\Temp\\ipykernel_10128\\2901481310.py:4: PerformanceWarning:\n",
      "\n",
      "DataFrame is highly fragmented.  This is usually the result of calling `frame.insert` many times, which has poor performance.  Consider joining all columns at once using pd.concat(axis=1) instead. To get a de-fragmented frame, use `newframe = frame.copy()`\n",
      "\n",
      "C:\\Users\\HK-Laptop-V639\\AppData\\Local\\Temp\\ipykernel_10128\\2901481310.py:5: PerformanceWarning:\n",
      "\n",
      "DataFrame is highly fragmented.  This is usually the result of calling `frame.insert` many times, which has poor performance.  Consider joining all columns at once using pd.concat(axis=1) instead. To get a de-fragmented frame, use `newframe = frame.copy()`\n",
      "\n"
     ]
    }
   ],
   "source": [
    "user_embeddings_train = final_model.user_factors\n",
    "game_embeddings = final_model.item_factors\n",
    "\n",
    "df_train['user_emb'] = df_train['user_id'].map(lambda x: user_embeddings_train[user2idx_train[x]].tolist())\n",
    "df_train['game_emb'] = df_train['app_id'].map(lambda x: game_embeddings[game2idx[x]].tolist())"
   ]
  },
  {
   "cell_type": "code",
   "execution_count": 14,
   "metadata": {},
   "outputs": [
    {
     "data": {
      "text/html": [
       "<div>\n",
       "<style scoped>\n",
       "    .dataframe tbody tr th:only-of-type {\n",
       "        vertical-align: middle;\n",
       "    }\n",
       "\n",
       "    .dataframe tbody tr th {\n",
       "        vertical-align: top;\n",
       "    }\n",
       "\n",
       "    .dataframe thead th {\n",
       "        text-align: right;\n",
       "    }\n",
       "</style>\n",
       "<table border=\"1\" class=\"dataframe\">\n",
       "  <thead>\n",
       "    <tr style=\"text-align: right;\">\n",
       "      <th></th>\n",
       "      <th>user_id</th>\n",
       "      <th>app_id</th>\n",
       "      <th>user_emb</th>\n",
       "      <th>game_emb</th>\n",
       "    </tr>\n",
       "  </thead>\n",
       "  <tbody>\n",
       "    <tr>\n",
       "      <th>1275382</th>\n",
       "      <td>76561197974979951</td>\n",
       "      <td>746240</td>\n",
       "      <td>[2.5481185913085938, 1.227736234664917]</td>\n",
       "      <td>[2.8363453892423646e-14, -3.0485793197591177e-14]</td>\n",
       "    </tr>\n",
       "    <tr>\n",
       "      <th>2358602</th>\n",
       "      <td>76561198114887225</td>\n",
       "      <td>884660</td>\n",
       "      <td>[1.272007703781128, 0.6709415316581726]</td>\n",
       "      <td>[0.08306746929883957, -0.06489965319633484]</td>\n",
       "    </tr>\n",
       "    <tr>\n",
       "      <th>2493974</th>\n",
       "      <td>76561198067325091</td>\n",
       "      <td>555000</td>\n",
       "      <td>[4.488748073577881, 2.245932102203369]</td>\n",
       "      <td>[0.041495442390441895, -0.006990387570112944]</td>\n",
       "    </tr>\n",
       "    <tr>\n",
       "      <th>2481447</th>\n",
       "      <td>76561198005953161</td>\n",
       "      <td>1577250</td>\n",
       "      <td>[2.9475204944610596, 1.8355811834335327]</td>\n",
       "      <td>[0.0020826251711696386, -0.0012867121258750558]</td>\n",
       "    </tr>\n",
       "    <tr>\n",
       "      <th>283424</th>\n",
       "      <td>76561198079370833</td>\n",
       "      <td>94500</td>\n",
       "      <td>[1.0777556896209717, -0.14990314841270447]</td>\n",
       "      <td>[0.03192488104104996, 6.705158739350736e-05]</td>\n",
       "    </tr>\n",
       "  </tbody>\n",
       "</table>\n",
       "</div>"
      ],
      "text/plain": [
       "                   user_id   app_id  \\\n",
       "1275382  76561197974979951   746240   \n",
       "2358602  76561198114887225   884660   \n",
       "2493974  76561198067325091   555000   \n",
       "2481447  76561198005953161  1577250   \n",
       "283424   76561198079370833    94500   \n",
       "\n",
       "                                           user_emb  \\\n",
       "1275382     [2.5481185913085938, 1.227736234664917]   \n",
       "2358602     [1.272007703781128, 0.6709415316581726]   \n",
       "2493974      [4.488748073577881, 2.245932102203369]   \n",
       "2481447    [2.9475204944610596, 1.8355811834335327]   \n",
       "283424   [1.0777556896209717, -0.14990314841270447]   \n",
       "\n",
       "                                                  game_emb  \n",
       "1275382  [2.8363453892423646e-14, -3.0485793197591177e-14]  \n",
       "2358602        [0.08306746929883957, -0.06489965319633484]  \n",
       "2493974      [0.041495442390441895, -0.006990387570112944]  \n",
       "2481447    [0.0020826251711696386, -0.0012867121258750558]  \n",
       "283424        [0.03192488104104996, 6.705158739350736e-05]  "
      ]
     },
     "execution_count": 14,
     "metadata": {},
     "output_type": "execute_result"
    }
   ],
   "source": [
    "df_train[['user_id', 'app_id', 'user_emb', 'game_emb']].sample(5)"
   ]
  },
  {
   "cell_type": "markdown",
   "metadata": {},
   "source": [
    "### Get user and game embedding for test set"
   ]
  },
  {
   "cell_type": "code",
   "execution_count": 15,
   "metadata": {},
   "outputs": [],
   "source": [
    "# Only include data with games that exist in training mapping\n",
    "df_test = df_test[df_test['app_id'].isin(game2idx.keys())].copy()\n",
    "\n",
    "unique_test_users = df_test['user_id'].unique()\n",
    "user2idx_test = {u: i for i, u in enumerate(unique_test_users)}\n",
    "\n",
    "# Build user * game csr matrix for test data\n",
    "test_matrix = build_user_item_matrix(\n",
    "    df_test,\n",
    "    user2idx_test,\n",
    "    game2idx,\n",
    "    len(unique_test_users),\n",
    "    n_games\n",
    ")\n",
    "\n",
    "user_embedding_test = final_model.recalculate_user(unique_test_users, test_matrix)\n",
    "\n",
    "df_test['user_emb'] = df_test['user_id'].map(lambda x: user_embedding_test[user2idx_test[x]].tolist())\n",
    "df_test['game_emb'] = df_test['app_id'].map(lambda x: game_embeddings[game2idx[x]].tolist())"
   ]
  },
  {
   "cell_type": "code",
   "execution_count": 16,
   "metadata": {},
   "outputs": [
    {
     "data": {
      "text/html": [
       "<div>\n",
       "<style scoped>\n",
       "    .dataframe tbody tr th:only-of-type {\n",
       "        vertical-align: middle;\n",
       "    }\n",
       "\n",
       "    .dataframe tbody tr th {\n",
       "        vertical-align: top;\n",
       "    }\n",
       "\n",
       "    .dataframe thead th {\n",
       "        text-align: right;\n",
       "    }\n",
       "</style>\n",
       "<table border=\"1\" class=\"dataframe\">\n",
       "  <thead>\n",
       "    <tr style=\"text-align: right;\">\n",
       "      <th></th>\n",
       "      <th>user_id</th>\n",
       "      <th>app_id</th>\n",
       "      <th>user_emb</th>\n",
       "      <th>game_emb</th>\n",
       "    </tr>\n",
       "  </thead>\n",
       "  <tbody>\n",
       "    <tr>\n",
       "      <th>72002</th>\n",
       "      <td>76561198043851786</td>\n",
       "      <td>404700</td>\n",
       "      <td>[2.114290952682495, 0.3789134919643402]</td>\n",
       "      <td>[-0.020203720778226852, 0.04575571045279503]</td>\n",
       "    </tr>\n",
       "    <tr>\n",
       "      <th>141053</th>\n",
       "      <td>76561197970709250</td>\n",
       "      <td>228260</td>\n",
       "      <td>[14.175549507141113, 13.645223617553711]</td>\n",
       "      <td>[0.036261554807424545, 0.0029660898726433516]</td>\n",
       "    </tr>\n",
       "    <tr>\n",
       "      <th>95186</th>\n",
       "      <td>76561198087590498</td>\n",
       "      <td>224760</td>\n",
       "      <td>[28.649372100830078, 31.061595916748047]</td>\n",
       "      <td>[0.19413872063159943, -0.14537541568279266]</td>\n",
       "    </tr>\n",
       "    <tr>\n",
       "      <th>494660</th>\n",
       "      <td>76561198071942929</td>\n",
       "      <td>520720</td>\n",
       "      <td>[12.829955101013184, 11.337835311889648]</td>\n",
       "      <td>[0.08556261658668518, -0.04513566941022873]</td>\n",
       "    </tr>\n",
       "    <tr>\n",
       "      <th>203125</th>\n",
       "      <td>76561198014604671</td>\n",
       "      <td>600370</td>\n",
       "      <td>[2.154994010925293, 0.8793543577194214]</td>\n",
       "      <td>[0.0048406412824988365, 0.022836770862340927]</td>\n",
       "    </tr>\n",
       "  </tbody>\n",
       "</table>\n",
       "</div>"
      ],
      "text/plain": [
       "                  user_id  app_id                                  user_emb  \\\n",
       "72002   76561198043851786  404700   [2.114290952682495, 0.3789134919643402]   \n",
       "141053  76561197970709250  228260  [14.175549507141113, 13.645223617553711]   \n",
       "95186   76561198087590498  224760  [28.649372100830078, 31.061595916748047]   \n",
       "494660  76561198071942929  520720  [12.829955101013184, 11.337835311889648]   \n",
       "203125  76561198014604671  600370   [2.154994010925293, 0.8793543577194214]   \n",
       "\n",
       "                                             game_emb  \n",
       "72002    [-0.020203720778226852, 0.04575571045279503]  \n",
       "141053  [0.036261554807424545, 0.0029660898726433516]  \n",
       "95186     [0.19413872063159943, -0.14537541568279266]  \n",
       "494660    [0.08556261658668518, -0.04513566941022873]  \n",
       "203125  [0.0048406412824988365, 0.022836770862340927]  "
      ]
     },
     "execution_count": 16,
     "metadata": {},
     "output_type": "execute_result"
    }
   ],
   "source": [
    "df_test[['user_id', 'app_id', 'user_emb', 'game_emb']].sample(5)"
   ]
  },
  {
   "cell_type": "markdown",
   "metadata": {},
   "source": [
    "### NDCG on test set"
   ]
  },
  {
   "cell_type": "code",
   "execution_count": 17,
   "metadata": {},
   "outputs": [
    {
     "data": {
      "text/plain": [
       "0.55250595957427"
      ]
     },
     "execution_count": 17,
     "metadata": {},
     "output_type": "execute_result"
    }
   ],
   "source": [
    "evaluate_ndcg(final_model, full_train_matrix, test_matrix)"
   ]
  },
  {
   "cell_type": "code",
   "execution_count": 18,
   "metadata": {},
   "outputs": [
    {
     "name": "stdout",
     "output_type": "stream",
     "text": [
      "0 0 0 0\n"
     ]
    }
   ],
   "source": [
    "# Check for embedding dim consistence\n",
    "print(\n",
    "    sum(df_train['user_emb'].apply(lambda x: len(x) != final_model.factors)),\n",
    "    sum(df_test['user_emb'].apply(lambda x: len(x) != final_model.factors)),\n",
    "    sum(df_train['game_emb'].apply(lambda x: len(x) != final_model.factors)),\n",
    "    sum(df_test['game_emb'].apply(lambda x: len(x) != final_model.factors))\n",
    ")"
   ]
  },
  {
   "cell_type": "code",
   "execution_count": 19,
   "metadata": {},
   "outputs": [],
   "source": [
    "# Forgot to remove redundant one hot columns previously\n",
    "df_train.drop(columns=['game_esrb_rating', 'game_available_parent_platforms', 'game_genres'], inplace=True)\n",
    "df_test.drop(columns=['game_esrb_rating', 'game_available_parent_platforms', 'game_genres'], inplace=True)"
   ]
  },
  {
   "cell_type": "code",
   "execution_count": 20,
   "metadata": {},
   "outputs": [
    {
     "data": {
      "text/plain": [
       "['..\\\\assets\\\\combined\\\\test_ready.pkl']"
      ]
     },
     "execution_count": 20,
     "metadata": {},
     "output_type": "execute_result"
    }
   ],
   "source": [
    "joblib.dump(df_train, r\"..\\assets\\combined\\train_ready.pkl\")\n",
    "joblib.dump(df_test, r\"..\\assets\\combined\\test_ready.pkl\")"
   ]
  },
  {
   "cell_type": "code",
   "execution_count": 21,
   "metadata": {},
   "outputs": [
    {
     "name": "stdout",
     "output_type": "stream",
     "text": [
      "Note: you may need to restart the kernel to use updated packages.\n"
     ]
    }
   ],
   "source": [
    "pip freeze > ..\\requirements.txt"
   ]
  }
 ],
 "metadata": {
  "kernelspec": {
   "display_name": "env699",
   "language": "python",
   "name": "python3"
  },
  "language_info": {
   "codemirror_mode": {
    "name": "ipython",
    "version": 3
   },
   "file_extension": ".py",
   "mimetype": "text/x-python",
   "name": "python",
   "nbconvert_exporter": "python",
   "pygments_lexer": "ipython3",
   "version": "3.12.0"
  }
 },
 "nbformat": 4,
 "nbformat_minor": 2
}
