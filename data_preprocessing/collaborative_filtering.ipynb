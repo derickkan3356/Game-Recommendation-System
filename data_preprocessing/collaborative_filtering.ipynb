{
 "cells": [
  {
   "cell_type": "code",
   "execution_count": 1,
   "metadata": {},
   "outputs": [],
   "source": [
    "import os\n",
    "os.environ[\"OPENBLAS_NUM_THREADS\"] = \"1\"\n",
    "\n",
    "import pandas as pd\n",
    "import joblib\n",
    "import numpy as np\n",
    "from scipy.sparse import coo_matrix, csr_matrix\n",
    "from implicit.als import AlternatingLeastSquares\n",
    "from implicit.evaluation import ndcg_at_k\n",
    "import optuna\n",
    "\n",
    "RANDOM_SEED = 42"
   ]
  },
  {
   "cell_type": "code",
   "execution_count": 2,
   "metadata": {},
   "outputs": [
    {
     "name": "stdout",
     "output_type": "stream",
     "text": [
      "(2643279, 131) (694638, 131)\n"
     ]
    }
   ],
   "source": [
    "df_train = joblib.load(r\"..\\assets\\combined\\train_scaled.pkl\")\n",
    "df_test = joblib.load(r\"..\\assets\\combined\\test_scaled.pkl\")\n",
    "\n",
    "print(df_train.shape, df_test.shape)"
   ]
  },
  {
   "cell_type": "code",
   "execution_count": 3,
   "metadata": {},
   "outputs": [
    {
     "name": "stdout",
     "output_type": "stream",
     "text": [
      "3232 24301\n"
     ]
    }
   ],
   "source": [
    "print(len(df_train['user_id'].unique()), len(df_train['app_id'].unique()))"
   ]
  },
  {
   "cell_type": "markdown",
   "metadata": {},
   "source": [
    "## Model Training"
   ]
  },
  {
   "cell_type": "code",
   "execution_count": 4,
   "metadata": {},
   "outputs": [],
   "source": [
    "def build_user_item_matrix(df, user2idx, game2idx, n_users, n_games):\n",
    "    \"\"\"\n",
    "    Return a user * game CSR matrix\n",
    "    \"\"\"\n",
    "    user_idx = df['user_id'].map(user2idx)\n",
    "    game_idx = df['app_id'].map(game2idx)\n",
    "    relevance = df['relevance_score'].values\n",
    "    \n",
    "    mat_coo = coo_matrix(\n",
    "        (relevance, (user_idx, game_idx)),\n",
    "        shape=(n_users, n_games)\n",
    "    )\n",
    "    return mat_coo.tocsr()\n",
    "\n",
    "def train_als_model(train_matrix, factors, reg, alpha, iters=15):\n",
    "    model = AlternatingLeastSquares(\n",
    "        factors=factors,\n",
    "        regularization=reg,\n",
    "        iterations=iters,\n",
    "        alpha=alpha,\n",
    "        use_gpu=False,\n",
    "        random_state=RANDOM_SEED\n",
    "    )\n",
    "    model.fit(train_matrix, show_progress=False)\n",
    "    return model\n",
    "\n",
    "def evaluate_ndcg(model, train_matrix, val_matrix, K=10):\n",
    "    return ndcg_at_k(\n",
    "        model,\n",
    "        train_user_items=train_matrix,\n",
    "        test_user_items=val_matrix,\n",
    "        K=K,\n",
    "        show_progress=False\n",
    "    )\n",
    "\n",
    "def user_based_cv_folds(unique_users, n_folds=5):\n",
    "    \"\"\"\n",
    "    Returns a list of folds, each fold is a set of user_ids.\n",
    "    \"\"\"\n",
    "    rng = np.random.default_rng(RANDOM_SEED)\n",
    "    shuffled_users = rng.permutation(unique_users)\n",
    "    fold_size = len(shuffled_users) // n_folds\n",
    "    \n",
    "    folds = []\n",
    "    start = 0\n",
    "    for i in range(n_folds):\n",
    "        end = start + fold_size\n",
    "        if i == n_folds - 1:\n",
    "            end = len(shuffled_users)  # Get the rest if it is final fold\n",
    "        fold_users = shuffled_users[start:end]\n",
    "        folds.append(set(fold_users))\n",
    "        start = end\n",
    "    return folds"
   ]
  },
  {
   "cell_type": "code",
   "execution_count": 5,
   "metadata": {},
   "outputs": [],
   "source": [
    "unique_train_users = df_train['user_id'].unique()\n",
    "\n",
    "unique_games = df_train['app_id'].unique()\n",
    "game2idx = {g: i for i, g in enumerate(unique_games)}\n",
    "n_games = len(unique_games)\n",
    "\n",
    "# CV folds\n",
    "n_folds = 5\n",
    "folds = user_based_cv_folds(unique_train_users, n_folds)"
   ]
  },
  {
   "cell_type": "markdown",
   "metadata": {},
   "source": [
    "### Cross validation using Optuna"
   ]
  },
  {
   "cell_type": "code",
   "execution_count": 6,
   "metadata": {},
   "outputs": [],
   "source": [
    "def objective(trial):\n",
    "    # Hyperparameters to fine tune\n",
    "    factors_val = trial.suggest_categorical(\"factors\", [2, 4, 8, 16, 32])\n",
    "    reg_val = trial.suggest_float(\"regularization\", 1e-4, 1e-2, log=True)\n",
    "    alpha_val = trial.suggest_float(\"alpha\", 1.0, 20, log=True)\n",
    "    \n",
    "    fold_ndcgs = []\n",
    "    \n",
    "    # Perform user-based cross validation\n",
    "    for fold_idx, fold_users in enumerate(folds):\n",
    "        # Split into train and validation\n",
    "        mask_fold_val = df_train['user_id'].isin(fold_users)        \n",
    "        df_fold_val = df_train[mask_fold_val]\n",
    "        df_fold_train = df_train[~mask_fold_val]\n",
    "\n",
    "        # Build local user index mapper for each CV\n",
    "        unique_fold_train_users = df_fold_train['user_id'].unique()\n",
    "        unique_fold_val_users = df_fold_val['user_id'].unique()\n",
    "\n",
    "        user2idx_fold_train = {u: i for i, u in enumerate(unique_fold_train_users)}\n",
    "        user2idx_fold_val = {u: i for i, u in enumerate(unique_fold_val_users)}\n",
    "        \n",
    "        # Build user by item matrix for each\n",
    "        train_matrix_cv = build_user_item_matrix(\n",
    "            df_fold_train, user2idx_fold_train, game2idx, len(unique_fold_train_users), n_games\n",
    "        )\n",
    "        val_matrix_cv = build_user_item_matrix(\n",
    "            df_fold_val, user2idx_fold_val, game2idx, len(unique_fold_val_users), n_games\n",
    "        )\n",
    "        \n",
    "        # Train\n",
    "        model_cv = train_als_model(\n",
    "            train_matrix_cv,\n",
    "            factors=factors_val,\n",
    "            reg=reg_val,\n",
    "            alpha=alpha_val\n",
    "        )\n",
    "        \n",
    "        # Evaluate NDCG on fold's validation\n",
    "        ndcg_val = evaluate_ndcg(model_cv, train_matrix_cv, val_matrix_cv)\n",
    "        fold_ndcgs.append(ndcg_val)\n",
    "    \n",
    "    # Average across folds\n",
    "    mean_ndcg = np.mean(fold_ndcgs)\n",
    "\n",
    "    return mean_ndcg"
   ]
  },
  {
   "cell_type": "code",
   "execution_count": 7,
   "metadata": {},
   "outputs": [
    {
     "name": "stderr",
     "output_type": "stream",
     "text": [
      "[I 2025-04-02 11:27:44,032] A new study created in memory with name: no-name-cf8a1429-5baa-44ea-baf1-a17584eb0a50\n",
      "[I 2025-04-02 11:28:32,708] Trial 0 finished with value: 0.5300477012662834 and parameters: {'factors': 4, 'regularization': 0.00020511104188433984, 'alpha': 1.1900590783184244}. Best is trial 0 with value: 0.5300477012662834.\n",
      "[I 2025-04-02 11:28:52,753] Trial 1 finished with value: 0.40760163953356543 and parameters: {'factors': 32, 'regularization': 0.004622589001020831, 'alpha': 1.8891200276189386}. Best is trial 0 with value: 0.5300477012662834.\n",
      "[I 2025-04-02 11:29:13,064] Trial 2 finished with value: 0.4121993893187721 and parameters: {'factors': 16, 'regularization': 0.0003823475224675188, 'alpha': 6.252287916406214}. Best is trial 0 with value: 0.5300477012662834.\n",
      "[I 2025-04-02 11:29:32,910] Trial 3 finished with value: 0.3902935656932331 and parameters: {'factors': 32, 'regularization': 0.00025081156860452336, 'alpha': 4.666963767236923}. Best is trial 0 with value: 0.5300477012662834.\n",
      "[I 2025-04-02 11:29:51,904] Trial 4 finished with value: 0.4049924826752697 and parameters: {'factors': 8, 'regularization': 0.007902619549708232, 'alpha': 18.043311207136256}. Best is trial 0 with value: 0.5300477012662834.\n",
      "[I 2025-04-02 11:30:09,002] Trial 5 finished with value: 0.5639440506102563 and parameters: {'factors': 2, 'regularization': 0.00017541893487450815, 'alpha': 4.407984038169241}. Best is trial 5 with value: 0.5639440506102563.\n",
      "[I 2025-04-02 11:30:26,211] Trial 6 finished with value: 0.5207215840624648 and parameters: {'factors': 4, 'regularization': 0.001096821720752952, 'alpha': 5.143828405076927}. Best is trial 5 with value: 0.5639440506102563.\n",
      "[I 2025-04-02 11:30:43,367] Trial 7 finished with value: 0.49674798316887764 and parameters: {'factors': 4, 'regularization': 0.0015696396388661157, 'alpha': 15.826541904647563}. Best is trial 5 with value: 0.5639440506102563.\n",
      "[I 2025-04-02 11:31:03,813] Trial 8 finished with value: 0.3598799171509169 and parameters: {'factors': 32, 'regularization': 0.00034889766548903674, 'alpha': 11.973258472758717}. Best is trial 5 with value: 0.5639440506102563.\n",
      "[I 2025-04-02 11:31:24,230] Trial 9 finished with value: 0.33809922828993033 and parameters: {'factors': 32, 'regularization': 0.00014096175149815865, 'alpha': 19.22956707454338}. Best is trial 5 with value: 0.5639440506102563.\n",
      "[I 2025-04-02 11:31:41,376] Trial 10 finished with value: 0.5657707553366177 and parameters: {'factors': 2, 'regularization': 0.00010280029617905622, 'alpha': 2.513193354752946}. Best is trial 10 with value: 0.5657707553366177.\n",
      "[I 2025-04-02 11:31:58,471] Trial 11 finished with value: 0.5651294993049405 and parameters: {'factors': 2, 'regularization': 0.0001070886827256173, 'alpha': 2.4606160383908016}. Best is trial 10 with value: 0.5657707553366177.\n",
      "[I 2025-04-02 11:32:15,874] Trial 12 finished with value: 0.5640371681304281 and parameters: {'factors': 2, 'regularization': 0.00010271591143171529, 'alpha': 2.481084417076532}. Best is trial 10 with value: 0.5657707553366177.\n",
      "[I 2025-04-02 11:32:32,656] Trial 13 finished with value: 0.5639162516040628 and parameters: {'factors': 2, 'regularization': 0.0005990473893185826, 'alpha': 2.3203121115225653}. Best is trial 10 with value: 0.5657707553366177.\n",
      "[I 2025-04-02 11:32:49,321] Trial 14 finished with value: 0.5647829701171853 and parameters: {'factors': 2, 'regularization': 0.0017500595294197526, 'alpha': 1.2252824207032538}. Best is trial 10 with value: 0.5657707553366177.\n",
      "[I 2025-04-02 11:33:06,063] Trial 15 finished with value: 0.5654944388966341 and parameters: {'factors': 2, 'regularization': 0.00010269905063493826, 'alpha': 3.0526040122501614}. Best is trial 10 with value: 0.5657707553366177.\n",
      "[I 2025-04-02 11:33:24,436] Trial 16 finished with value: 0.4591545109018738 and parameters: {'factors': 8, 'regularization': 0.0005959206131645767, 'alpha': 3.2105679184773694}. Best is trial 10 with value: 0.5657707553366177.\n",
      "[I 2025-04-02 11:33:45,220] Trial 17 finished with value: 0.40480542175880796 and parameters: {'factors': 16, 'regularization': 0.003494043330819633, 'alpha': 7.5955739296064735}. Best is trial 10 with value: 0.5657707553366177.\n",
      "[I 2025-04-02 11:34:01,893] Trial 18 finished with value: 0.5663152044217871 and parameters: {'factors': 2, 'regularization': 0.0003117234774171904, 'alpha': 1.585965518808334}. Best is trial 18 with value: 0.5663152044217871.\n",
      "[I 2025-04-02 11:34:18,384] Trial 19 finished with value: 0.5655811752805759 and parameters: {'factors': 2, 'regularization': 0.0003235176940619831, 'alpha': 1.594701445107743}. Best is trial 18 with value: 0.5663152044217871.\n",
      "[I 2025-04-02 11:34:35,254] Trial 20 finished with value: 0.5648095351657756 and parameters: {'factors': 2, 'regularization': 0.0005266576866704527, 'alpha': 1.4984550737775988}. Best is trial 18 with value: 0.5663152044217871.\n",
      "[I 2025-04-02 11:34:52,740] Trial 21 finished with value: 0.5648837219068314 and parameters: {'factors': 2, 'regularization': 0.0003063885137507342, 'alpha': 1.6127033345550927}. Best is trial 18 with value: 0.5663152044217871.\n",
      "[I 2025-04-02 11:35:10,356] Trial 22 finished with value: 0.5658018425705078 and parameters: {'factors': 2, 'regularization': 0.0008455839228457593, 'alpha': 1.0674498549755438}. Best is trial 18 with value: 0.5663152044217871.\n",
      "[I 2025-04-02 11:35:27,776] Trial 23 finished with value: 0.5640739248267022 and parameters: {'factors': 2, 'regularization': 0.0010517952811424781, 'alpha': 1.02791729807443}. Best is trial 18 with value: 0.5663152044217871.\n",
      "[I 2025-04-02 11:35:48,267] Trial 24 finished with value: 0.4468747259218138 and parameters: {'factors': 16, 'regularization': 0.0006878457104543156, 'alpha': 1.794338275685476}. Best is trial 18 with value: 0.5663152044217871.\n",
      "[I 2025-04-02 11:36:07,224] Trial 25 finished with value: 0.48116458286097724 and parameters: {'factors': 8, 'regularization': 0.002106397978144515, 'alpha': 1.012042468397277}. Best is trial 18 with value: 0.5663152044217871.\n",
      "[I 2025-04-02 11:36:24,111] Trial 26 finished with value: 0.5636201225958385 and parameters: {'factors': 2, 'regularization': 0.00017327925162313181, 'alpha': 3.604723098665268}. Best is trial 18 with value: 0.5663152044217871.\n",
      "[I 2025-04-02 11:36:41,338] Trial 27 finished with value: 0.5655731774865574 and parameters: {'factors': 2, 'regularization': 0.0007965818402655593, 'alpha': 2.1510257333150014}. Best is trial 18 with value: 0.5663152044217871.\n",
      "[I 2025-04-02 11:36:57,713] Trial 28 finished with value: 0.5656332378974654 and parameters: {'factors': 2, 'regularization': 0.00040047249705820555, 'alpha': 1.2808938009497817}. Best is trial 18 with value: 0.5663152044217871.\n",
      "[I 2025-04-02 11:37:14,475] Trial 29 finished with value: 0.5650087959207248 and parameters: {'factors': 2, 'regularization': 0.00021914805291808694, 'alpha': 1.2621561206334704}. Best is trial 18 with value: 0.5663152044217871.\n"
     ]
    },
    {
     "name": "stdout",
     "output_type": "stream",
     "text": [
      "Best trial:\n",
      "  Value (NDCG): 0.5663\n",
      "  Params: {'factors': 2, 'regularization': 0.0003117234774171904, 'alpha': 1.585965518808334}\n"
     ]
    }
   ],
   "source": [
    "sampler = optuna.samplers.TPESampler(seed=RANDOM_SEED)\n",
    "study = optuna.create_study(direction=\"maximize\", sampler=sampler)\n",
    "study.optimize(objective, n_trials=30)\n",
    "\n",
    "print(\"Best trial:\")\n",
    "best_trial = study.best_trial\n",
    "print(f\"  Value (NDCG): {best_trial.value:.4f}\")\n",
    "print(\"  Params:\", best_trial.params)"
   ]
  },
  {
   "cell_type": "markdown",
   "metadata": {},
   "source": [
    "### Retrain on the entire training set with the best hyperparameters"
   ]
  },
  {
   "cell_type": "code",
   "execution_count": 8,
   "metadata": {},
   "outputs": [],
   "source": [
    "user2idx_train = {u: i for i, u in enumerate(unique_train_users)}\n",
    "\n",
    "# Build user * game csr matrix for all training data\n",
    "full_train_matrix = build_user_item_matrix(\n",
    "    df_train,\n",
    "    user2idx_train,\n",
    "    game2idx,\n",
    "    len(unique_train_users),\n",
    "    n_games\n",
    ")\n",
    "\n",
    "final_model = train_als_model(\n",
    "    full_train_matrix,\n",
    "    factors=study.best_params[\"factors\"],\n",
    "    reg=study.best_params[\"regularization\"],\n",
    "    alpha=study.best_params[\"alpha\"]\n",
    ")"
   ]
  },
  {
   "cell_type": "markdown",
   "metadata": {},
   "source": [
    "## Training Evaluation"
   ]
  },
  {
   "cell_type": "code",
   "execution_count": 9,
   "metadata": {},
   "outputs": [
    {
     "data": {
      "application/vnd.plotly.v1+json": {
       "config": {
        "plotlyServerURL": "https://plot.ly"
       },
       "data": [
        {
         "mode": "markers",
         "name": "Objective Value",
         "type": "scatter",
         "x": [
          0,
          1,
          2,
          3,
          4,
          5,
          6,
          7,
          8,
          9,
          10,
          11,
          12,
          13,
          14,
          15,
          16,
          17,
          18,
          19,
          20,
          21,
          22,
          23,
          24,
          25,
          26,
          27,
          28,
          29
         ],
         "y": [
          0.5300477012662834,
          0.40760163953356543,
          0.4121993893187721,
          0.3902935656932331,
          0.4049924826752697,
          0.5639440506102563,
          0.5207215840624648,
          0.49674798316887764,
          0.3598799171509169,
          0.33809922828993033,
          0.5657707553366177,
          0.5651294993049405,
          0.5640371681304281,
          0.5639162516040628,
          0.5647829701171853,
          0.5654944388966341,
          0.4591545109018738,
          0.40480542175880796,
          0.5663152044217871,
          0.5655811752805759,
          0.5648095351657756,
          0.5648837219068314,
          0.5658018425705078,
          0.5640739248267022,
          0.4468747259218138,
          0.48116458286097724,
          0.5636201225958385,
          0.5655731774865574,
          0.5656332378974654,
          0.5650087959207248
         ]
        },
        {
         "mode": "lines",
         "name": "Best Value",
         "type": "scatter",
         "x": [
          0,
          1,
          2,
          3,
          4,
          5,
          6,
          7,
          8,
          9,
          10,
          11,
          12,
          13,
          14,
          15,
          16,
          17,
          18,
          19,
          20,
          21,
          22,
          23,
          24,
          25,
          26,
          27,
          28,
          29
         ],
         "y": [
          0.5300477012662834,
          0.5300477012662834,
          0.5300477012662834,
          0.5300477012662834,
          0.5300477012662834,
          0.5639440506102563,
          0.5639440506102563,
          0.5639440506102563,
          0.5639440506102563,
          0.5639440506102563,
          0.5657707553366177,
          0.5657707553366177,
          0.5657707553366177,
          0.5657707553366177,
          0.5657707553366177,
          0.5657707553366177,
          0.5657707553366177,
          0.5657707553366177,
          0.5663152044217871,
          0.5663152044217871,
          0.5663152044217871,
          0.5663152044217871,
          0.5663152044217871,
          0.5663152044217871,
          0.5663152044217871,
          0.5663152044217871,
          0.5663152044217871,
          0.5663152044217871,
          0.5663152044217871,
          0.5663152044217871
         ]
        },
        {
         "marker": {
          "color": "#cccccc"
         },
         "mode": "markers",
         "name": "Infeasible Trial",
         "showlegend": false,
         "type": "scatter",
         "x": [],
         "y": []
        }
       ],
       "layout": {
        "template": {
         "data": {
          "bar": [
           {
            "error_x": {
             "color": "#2a3f5f"
            },
            "error_y": {
             "color": "#2a3f5f"
            },
            "marker": {
             "line": {
              "color": "#E5ECF6",
              "width": 0.5
             },
             "pattern": {
              "fillmode": "overlay",
              "size": 10,
              "solidity": 0.2
             }
            },
            "type": "bar"
           }
          ],
          "barpolar": [
           {
            "marker": {
             "line": {
              "color": "#E5ECF6",
              "width": 0.5
             },
             "pattern": {
              "fillmode": "overlay",
              "size": 10,
              "solidity": 0.2
             }
            },
            "type": "barpolar"
           }
          ],
          "carpet": [
           {
            "aaxis": {
             "endlinecolor": "#2a3f5f",
             "gridcolor": "white",
             "linecolor": "white",
             "minorgridcolor": "white",
             "startlinecolor": "#2a3f5f"
            },
            "baxis": {
             "endlinecolor": "#2a3f5f",
             "gridcolor": "white",
             "linecolor": "white",
             "minorgridcolor": "white",
             "startlinecolor": "#2a3f5f"
            },
            "type": "carpet"
           }
          ],
          "choropleth": [
           {
            "colorbar": {
             "outlinewidth": 0,
             "ticks": ""
            },
            "type": "choropleth"
           }
          ],
          "contour": [
           {
            "colorbar": {
             "outlinewidth": 0,
             "ticks": ""
            },
            "colorscale": [
             [
              0,
              "#0d0887"
             ],
             [
              0.1111111111111111,
              "#46039f"
             ],
             [
              0.2222222222222222,
              "#7201a8"
             ],
             [
              0.3333333333333333,
              "#9c179e"
             ],
             [
              0.4444444444444444,
              "#bd3786"
             ],
             [
              0.5555555555555556,
              "#d8576b"
             ],
             [
              0.6666666666666666,
              "#ed7953"
             ],
             [
              0.7777777777777778,
              "#fb9f3a"
             ],
             [
              0.8888888888888888,
              "#fdca26"
             ],
             [
              1,
              "#f0f921"
             ]
            ],
            "type": "contour"
           }
          ],
          "contourcarpet": [
           {
            "colorbar": {
             "outlinewidth": 0,
             "ticks": ""
            },
            "type": "contourcarpet"
           }
          ],
          "heatmap": [
           {
            "colorbar": {
             "outlinewidth": 0,
             "ticks": ""
            },
            "colorscale": [
             [
              0,
              "#0d0887"
             ],
             [
              0.1111111111111111,
              "#46039f"
             ],
             [
              0.2222222222222222,
              "#7201a8"
             ],
             [
              0.3333333333333333,
              "#9c179e"
             ],
             [
              0.4444444444444444,
              "#bd3786"
             ],
             [
              0.5555555555555556,
              "#d8576b"
             ],
             [
              0.6666666666666666,
              "#ed7953"
             ],
             [
              0.7777777777777778,
              "#fb9f3a"
             ],
             [
              0.8888888888888888,
              "#fdca26"
             ],
             [
              1,
              "#f0f921"
             ]
            ],
            "type": "heatmap"
           }
          ],
          "histogram": [
           {
            "marker": {
             "pattern": {
              "fillmode": "overlay",
              "size": 10,
              "solidity": 0.2
             }
            },
            "type": "histogram"
           }
          ],
          "histogram2d": [
           {
            "colorbar": {
             "outlinewidth": 0,
             "ticks": ""
            },
            "colorscale": [
             [
              0,
              "#0d0887"
             ],
             [
              0.1111111111111111,
              "#46039f"
             ],
             [
              0.2222222222222222,
              "#7201a8"
             ],
             [
              0.3333333333333333,
              "#9c179e"
             ],
             [
              0.4444444444444444,
              "#bd3786"
             ],
             [
              0.5555555555555556,
              "#d8576b"
             ],
             [
              0.6666666666666666,
              "#ed7953"
             ],
             [
              0.7777777777777778,
              "#fb9f3a"
             ],
             [
              0.8888888888888888,
              "#fdca26"
             ],
             [
              1,
              "#f0f921"
             ]
            ],
            "type": "histogram2d"
           }
          ],
          "histogram2dcontour": [
           {
            "colorbar": {
             "outlinewidth": 0,
             "ticks": ""
            },
            "colorscale": [
             [
              0,
              "#0d0887"
             ],
             [
              0.1111111111111111,
              "#46039f"
             ],
             [
              0.2222222222222222,
              "#7201a8"
             ],
             [
              0.3333333333333333,
              "#9c179e"
             ],
             [
              0.4444444444444444,
              "#bd3786"
             ],
             [
              0.5555555555555556,
              "#d8576b"
             ],
             [
              0.6666666666666666,
              "#ed7953"
             ],
             [
              0.7777777777777778,
              "#fb9f3a"
             ],
             [
              0.8888888888888888,
              "#fdca26"
             ],
             [
              1,
              "#f0f921"
             ]
            ],
            "type": "histogram2dcontour"
           }
          ],
          "mesh3d": [
           {
            "colorbar": {
             "outlinewidth": 0,
             "ticks": ""
            },
            "type": "mesh3d"
           }
          ],
          "parcoords": [
           {
            "line": {
             "colorbar": {
              "outlinewidth": 0,
              "ticks": ""
             }
            },
            "type": "parcoords"
           }
          ],
          "pie": [
           {
            "automargin": true,
            "type": "pie"
           }
          ],
          "scatter": [
           {
            "fillpattern": {
             "fillmode": "overlay",
             "size": 10,
             "solidity": 0.2
            },
            "type": "scatter"
           }
          ],
          "scatter3d": [
           {
            "line": {
             "colorbar": {
              "outlinewidth": 0,
              "ticks": ""
             }
            },
            "marker": {
             "colorbar": {
              "outlinewidth": 0,
              "ticks": ""
             }
            },
            "type": "scatter3d"
           }
          ],
          "scattercarpet": [
           {
            "marker": {
             "colorbar": {
              "outlinewidth": 0,
              "ticks": ""
             }
            },
            "type": "scattercarpet"
           }
          ],
          "scattergeo": [
           {
            "marker": {
             "colorbar": {
              "outlinewidth": 0,
              "ticks": ""
             }
            },
            "type": "scattergeo"
           }
          ],
          "scattergl": [
           {
            "marker": {
             "colorbar": {
              "outlinewidth": 0,
              "ticks": ""
             }
            },
            "type": "scattergl"
           }
          ],
          "scattermap": [
           {
            "marker": {
             "colorbar": {
              "outlinewidth": 0,
              "ticks": ""
             }
            },
            "type": "scattermap"
           }
          ],
          "scattermapbox": [
           {
            "marker": {
             "colorbar": {
              "outlinewidth": 0,
              "ticks": ""
             }
            },
            "type": "scattermapbox"
           }
          ],
          "scatterpolar": [
           {
            "marker": {
             "colorbar": {
              "outlinewidth": 0,
              "ticks": ""
             }
            },
            "type": "scatterpolar"
           }
          ],
          "scatterpolargl": [
           {
            "marker": {
             "colorbar": {
              "outlinewidth": 0,
              "ticks": ""
             }
            },
            "type": "scatterpolargl"
           }
          ],
          "scatterternary": [
           {
            "marker": {
             "colorbar": {
              "outlinewidth": 0,
              "ticks": ""
             }
            },
            "type": "scatterternary"
           }
          ],
          "surface": [
           {
            "colorbar": {
             "outlinewidth": 0,
             "ticks": ""
            },
            "colorscale": [
             [
              0,
              "#0d0887"
             ],
             [
              0.1111111111111111,
              "#46039f"
             ],
             [
              0.2222222222222222,
              "#7201a8"
             ],
             [
              0.3333333333333333,
              "#9c179e"
             ],
             [
              0.4444444444444444,
              "#bd3786"
             ],
             [
              0.5555555555555556,
              "#d8576b"
             ],
             [
              0.6666666666666666,
              "#ed7953"
             ],
             [
              0.7777777777777778,
              "#fb9f3a"
             ],
             [
              0.8888888888888888,
              "#fdca26"
             ],
             [
              1,
              "#f0f921"
             ]
            ],
            "type": "surface"
           }
          ],
          "table": [
           {
            "cells": {
             "fill": {
              "color": "#EBF0F8"
             },
             "line": {
              "color": "white"
             }
            },
            "header": {
             "fill": {
              "color": "#C8D4E3"
             },
             "line": {
              "color": "white"
             }
            },
            "type": "table"
           }
          ]
         },
         "layout": {
          "annotationdefaults": {
           "arrowcolor": "#2a3f5f",
           "arrowhead": 0,
           "arrowwidth": 1
          },
          "autotypenumbers": "strict",
          "coloraxis": {
           "colorbar": {
            "outlinewidth": 0,
            "ticks": ""
           }
          },
          "colorscale": {
           "diverging": [
            [
             0,
             "#8e0152"
            ],
            [
             0.1,
             "#c51b7d"
            ],
            [
             0.2,
             "#de77ae"
            ],
            [
             0.3,
             "#f1b6da"
            ],
            [
             0.4,
             "#fde0ef"
            ],
            [
             0.5,
             "#f7f7f7"
            ],
            [
             0.6,
             "#e6f5d0"
            ],
            [
             0.7,
             "#b8e186"
            ],
            [
             0.8,
             "#7fbc41"
            ],
            [
             0.9,
             "#4d9221"
            ],
            [
             1,
             "#276419"
            ]
           ],
           "sequential": [
            [
             0,
             "#0d0887"
            ],
            [
             0.1111111111111111,
             "#46039f"
            ],
            [
             0.2222222222222222,
             "#7201a8"
            ],
            [
             0.3333333333333333,
             "#9c179e"
            ],
            [
             0.4444444444444444,
             "#bd3786"
            ],
            [
             0.5555555555555556,
             "#d8576b"
            ],
            [
             0.6666666666666666,
             "#ed7953"
            ],
            [
             0.7777777777777778,
             "#fb9f3a"
            ],
            [
             0.8888888888888888,
             "#fdca26"
            ],
            [
             1,
             "#f0f921"
            ]
           ],
           "sequentialminus": [
            [
             0,
             "#0d0887"
            ],
            [
             0.1111111111111111,
             "#46039f"
            ],
            [
             0.2222222222222222,
             "#7201a8"
            ],
            [
             0.3333333333333333,
             "#9c179e"
            ],
            [
             0.4444444444444444,
             "#bd3786"
            ],
            [
             0.5555555555555556,
             "#d8576b"
            ],
            [
             0.6666666666666666,
             "#ed7953"
            ],
            [
             0.7777777777777778,
             "#fb9f3a"
            ],
            [
             0.8888888888888888,
             "#fdca26"
            ],
            [
             1,
             "#f0f921"
            ]
           ]
          },
          "colorway": [
           "#636efa",
           "#EF553B",
           "#00cc96",
           "#ab63fa",
           "#FFA15A",
           "#19d3f3",
           "#FF6692",
           "#B6E880",
           "#FF97FF",
           "#FECB52"
          ],
          "font": {
           "color": "#2a3f5f"
          },
          "geo": {
           "bgcolor": "white",
           "lakecolor": "white",
           "landcolor": "#E5ECF6",
           "showlakes": true,
           "showland": true,
           "subunitcolor": "white"
          },
          "hoverlabel": {
           "align": "left"
          },
          "hovermode": "closest",
          "mapbox": {
           "style": "light"
          },
          "paper_bgcolor": "white",
          "plot_bgcolor": "#E5ECF6",
          "polar": {
           "angularaxis": {
            "gridcolor": "white",
            "linecolor": "white",
            "ticks": ""
           },
           "bgcolor": "#E5ECF6",
           "radialaxis": {
            "gridcolor": "white",
            "linecolor": "white",
            "ticks": ""
           }
          },
          "scene": {
           "xaxis": {
            "backgroundcolor": "#E5ECF6",
            "gridcolor": "white",
            "gridwidth": 2,
            "linecolor": "white",
            "showbackground": true,
            "ticks": "",
            "zerolinecolor": "white"
           },
           "yaxis": {
            "backgroundcolor": "#E5ECF6",
            "gridcolor": "white",
            "gridwidth": 2,
            "linecolor": "white",
            "showbackground": true,
            "ticks": "",
            "zerolinecolor": "white"
           },
           "zaxis": {
            "backgroundcolor": "#E5ECF6",
            "gridcolor": "white",
            "gridwidth": 2,
            "linecolor": "white",
            "showbackground": true,
            "ticks": "",
            "zerolinecolor": "white"
           }
          },
          "shapedefaults": {
           "line": {
            "color": "#2a3f5f"
           }
          },
          "ternary": {
           "aaxis": {
            "gridcolor": "white",
            "linecolor": "white",
            "ticks": ""
           },
           "baxis": {
            "gridcolor": "white",
            "linecolor": "white",
            "ticks": ""
           },
           "bgcolor": "#E5ECF6",
           "caxis": {
            "gridcolor": "white",
            "linecolor": "white",
            "ticks": ""
           }
          },
          "title": {
           "x": 0.05
          },
          "xaxis": {
           "automargin": true,
           "gridcolor": "white",
           "linecolor": "white",
           "ticks": "",
           "title": {
            "standoff": 15
           },
           "zerolinecolor": "white",
           "zerolinewidth": 2
          },
          "yaxis": {
           "automargin": true,
           "gridcolor": "white",
           "linecolor": "white",
           "ticks": "",
           "title": {
            "standoff": 15
           },
           "zerolinecolor": "white",
           "zerolinewidth": 2
          }
         }
        },
        "title": {
         "text": "Optimization History Plot"
        },
        "xaxis": {
         "title": {
          "text": "Trial"
         }
        },
        "yaxis": {
         "title": {
          "text": "Objective Value"
         }
        }
       }
      }
     },
     "metadata": {},
     "output_type": "display_data"
    }
   ],
   "source": [
    "from optuna.visualization import (\n",
    "    plot_optimization_history,\n",
    "    plot_param_importances,\n",
    "    plot_parallel_coordinate,\n",
    "    plot_slice\n",
    ")\n",
    "\n",
    "# Optimization History\n",
    "plot_optimization_history(study).show()"
   ]
  },
  {
   "cell_type": "code",
   "execution_count": 10,
   "metadata": {},
   "outputs": [
    {
     "data": {
      "application/vnd.plotly.v1+json": {
       "config": {
        "plotlyServerURL": "https://plot.ly"
       },
       "data": [
        {
         "cliponaxis": false,
         "hovertemplate": [
          "regularization (FloatDistribution): 0.02692191154730359<extra></extra>",
          "alpha (FloatDistribution): 0.09232214022802251<extra></extra>",
          "factors (CategoricalDistribution): 0.880755948224674<extra></extra>"
         ],
         "name": "Objective Value",
         "orientation": "h",
         "text": [
          "0.03",
          "0.09",
          "0.88"
         ],
         "textposition": "outside",
         "type": "bar",
         "x": [
          0.02692191154730359,
          0.09232214022802251,
          0.880755948224674
         ],
         "y": [
          "regularization",
          "alpha",
          "factors"
         ]
        }
       ],
       "layout": {
        "template": {
         "data": {
          "bar": [
           {
            "error_x": {
             "color": "#2a3f5f"
            },
            "error_y": {
             "color": "#2a3f5f"
            },
            "marker": {
             "line": {
              "color": "#E5ECF6",
              "width": 0.5
             },
             "pattern": {
              "fillmode": "overlay",
              "size": 10,
              "solidity": 0.2
             }
            },
            "type": "bar"
           }
          ],
          "barpolar": [
           {
            "marker": {
             "line": {
              "color": "#E5ECF6",
              "width": 0.5
             },
             "pattern": {
              "fillmode": "overlay",
              "size": 10,
              "solidity": 0.2
             }
            },
            "type": "barpolar"
           }
          ],
          "carpet": [
           {
            "aaxis": {
             "endlinecolor": "#2a3f5f",
             "gridcolor": "white",
             "linecolor": "white",
             "minorgridcolor": "white",
             "startlinecolor": "#2a3f5f"
            },
            "baxis": {
             "endlinecolor": "#2a3f5f",
             "gridcolor": "white",
             "linecolor": "white",
             "minorgridcolor": "white",
             "startlinecolor": "#2a3f5f"
            },
            "type": "carpet"
           }
          ],
          "choropleth": [
           {
            "colorbar": {
             "outlinewidth": 0,
             "ticks": ""
            },
            "type": "choropleth"
           }
          ],
          "contour": [
           {
            "colorbar": {
             "outlinewidth": 0,
             "ticks": ""
            },
            "colorscale": [
             [
              0,
              "#0d0887"
             ],
             [
              0.1111111111111111,
              "#46039f"
             ],
             [
              0.2222222222222222,
              "#7201a8"
             ],
             [
              0.3333333333333333,
              "#9c179e"
             ],
             [
              0.4444444444444444,
              "#bd3786"
             ],
             [
              0.5555555555555556,
              "#d8576b"
             ],
             [
              0.6666666666666666,
              "#ed7953"
             ],
             [
              0.7777777777777778,
              "#fb9f3a"
             ],
             [
              0.8888888888888888,
              "#fdca26"
             ],
             [
              1,
              "#f0f921"
             ]
            ],
            "type": "contour"
           }
          ],
          "contourcarpet": [
           {
            "colorbar": {
             "outlinewidth": 0,
             "ticks": ""
            },
            "type": "contourcarpet"
           }
          ],
          "heatmap": [
           {
            "colorbar": {
             "outlinewidth": 0,
             "ticks": ""
            },
            "colorscale": [
             [
              0,
              "#0d0887"
             ],
             [
              0.1111111111111111,
              "#46039f"
             ],
             [
              0.2222222222222222,
              "#7201a8"
             ],
             [
              0.3333333333333333,
              "#9c179e"
             ],
             [
              0.4444444444444444,
              "#bd3786"
             ],
             [
              0.5555555555555556,
              "#d8576b"
             ],
             [
              0.6666666666666666,
              "#ed7953"
             ],
             [
              0.7777777777777778,
              "#fb9f3a"
             ],
             [
              0.8888888888888888,
              "#fdca26"
             ],
             [
              1,
              "#f0f921"
             ]
            ],
            "type": "heatmap"
           }
          ],
          "histogram": [
           {
            "marker": {
             "pattern": {
              "fillmode": "overlay",
              "size": 10,
              "solidity": 0.2
             }
            },
            "type": "histogram"
           }
          ],
          "histogram2d": [
           {
            "colorbar": {
             "outlinewidth": 0,
             "ticks": ""
            },
            "colorscale": [
             [
              0,
              "#0d0887"
             ],
             [
              0.1111111111111111,
              "#46039f"
             ],
             [
              0.2222222222222222,
              "#7201a8"
             ],
             [
              0.3333333333333333,
              "#9c179e"
             ],
             [
              0.4444444444444444,
              "#bd3786"
             ],
             [
              0.5555555555555556,
              "#d8576b"
             ],
             [
              0.6666666666666666,
              "#ed7953"
             ],
             [
              0.7777777777777778,
              "#fb9f3a"
             ],
             [
              0.8888888888888888,
              "#fdca26"
             ],
             [
              1,
              "#f0f921"
             ]
            ],
            "type": "histogram2d"
           }
          ],
          "histogram2dcontour": [
           {
            "colorbar": {
             "outlinewidth": 0,
             "ticks": ""
            },
            "colorscale": [
             [
              0,
              "#0d0887"
             ],
             [
              0.1111111111111111,
              "#46039f"
             ],
             [
              0.2222222222222222,
              "#7201a8"
             ],
             [
              0.3333333333333333,
              "#9c179e"
             ],
             [
              0.4444444444444444,
              "#bd3786"
             ],
             [
              0.5555555555555556,
              "#d8576b"
             ],
             [
              0.6666666666666666,
              "#ed7953"
             ],
             [
              0.7777777777777778,
              "#fb9f3a"
             ],
             [
              0.8888888888888888,
              "#fdca26"
             ],
             [
              1,
              "#f0f921"
             ]
            ],
            "type": "histogram2dcontour"
           }
          ],
          "mesh3d": [
           {
            "colorbar": {
             "outlinewidth": 0,
             "ticks": ""
            },
            "type": "mesh3d"
           }
          ],
          "parcoords": [
           {
            "line": {
             "colorbar": {
              "outlinewidth": 0,
              "ticks": ""
             }
            },
            "type": "parcoords"
           }
          ],
          "pie": [
           {
            "automargin": true,
            "type": "pie"
           }
          ],
          "scatter": [
           {
            "fillpattern": {
             "fillmode": "overlay",
             "size": 10,
             "solidity": 0.2
            },
            "type": "scatter"
           }
          ],
          "scatter3d": [
           {
            "line": {
             "colorbar": {
              "outlinewidth": 0,
              "ticks": ""
             }
            },
            "marker": {
             "colorbar": {
              "outlinewidth": 0,
              "ticks": ""
             }
            },
            "type": "scatter3d"
           }
          ],
          "scattercarpet": [
           {
            "marker": {
             "colorbar": {
              "outlinewidth": 0,
              "ticks": ""
             }
            },
            "type": "scattercarpet"
           }
          ],
          "scattergeo": [
           {
            "marker": {
             "colorbar": {
              "outlinewidth": 0,
              "ticks": ""
             }
            },
            "type": "scattergeo"
           }
          ],
          "scattergl": [
           {
            "marker": {
             "colorbar": {
              "outlinewidth": 0,
              "ticks": ""
             }
            },
            "type": "scattergl"
           }
          ],
          "scattermap": [
           {
            "marker": {
             "colorbar": {
              "outlinewidth": 0,
              "ticks": ""
             }
            },
            "type": "scattermap"
           }
          ],
          "scattermapbox": [
           {
            "marker": {
             "colorbar": {
              "outlinewidth": 0,
              "ticks": ""
             }
            },
            "type": "scattermapbox"
           }
          ],
          "scatterpolar": [
           {
            "marker": {
             "colorbar": {
              "outlinewidth": 0,
              "ticks": ""
             }
            },
            "type": "scatterpolar"
           }
          ],
          "scatterpolargl": [
           {
            "marker": {
             "colorbar": {
              "outlinewidth": 0,
              "ticks": ""
             }
            },
            "type": "scatterpolargl"
           }
          ],
          "scatterternary": [
           {
            "marker": {
             "colorbar": {
              "outlinewidth": 0,
              "ticks": ""
             }
            },
            "type": "scatterternary"
           }
          ],
          "surface": [
           {
            "colorbar": {
             "outlinewidth": 0,
             "ticks": ""
            },
            "colorscale": [
             [
              0,
              "#0d0887"
             ],
             [
              0.1111111111111111,
              "#46039f"
             ],
             [
              0.2222222222222222,
              "#7201a8"
             ],
             [
              0.3333333333333333,
              "#9c179e"
             ],
             [
              0.4444444444444444,
              "#bd3786"
             ],
             [
              0.5555555555555556,
              "#d8576b"
             ],
             [
              0.6666666666666666,
              "#ed7953"
             ],
             [
              0.7777777777777778,
              "#fb9f3a"
             ],
             [
              0.8888888888888888,
              "#fdca26"
             ],
             [
              1,
              "#f0f921"
             ]
            ],
            "type": "surface"
           }
          ],
          "table": [
           {
            "cells": {
             "fill": {
              "color": "#EBF0F8"
             },
             "line": {
              "color": "white"
             }
            },
            "header": {
             "fill": {
              "color": "#C8D4E3"
             },
             "line": {
              "color": "white"
             }
            },
            "type": "table"
           }
          ]
         },
         "layout": {
          "annotationdefaults": {
           "arrowcolor": "#2a3f5f",
           "arrowhead": 0,
           "arrowwidth": 1
          },
          "autotypenumbers": "strict",
          "coloraxis": {
           "colorbar": {
            "outlinewidth": 0,
            "ticks": ""
           }
          },
          "colorscale": {
           "diverging": [
            [
             0,
             "#8e0152"
            ],
            [
             0.1,
             "#c51b7d"
            ],
            [
             0.2,
             "#de77ae"
            ],
            [
             0.3,
             "#f1b6da"
            ],
            [
             0.4,
             "#fde0ef"
            ],
            [
             0.5,
             "#f7f7f7"
            ],
            [
             0.6,
             "#e6f5d0"
            ],
            [
             0.7,
             "#b8e186"
            ],
            [
             0.8,
             "#7fbc41"
            ],
            [
             0.9,
             "#4d9221"
            ],
            [
             1,
             "#276419"
            ]
           ],
           "sequential": [
            [
             0,
             "#0d0887"
            ],
            [
             0.1111111111111111,
             "#46039f"
            ],
            [
             0.2222222222222222,
             "#7201a8"
            ],
            [
             0.3333333333333333,
             "#9c179e"
            ],
            [
             0.4444444444444444,
             "#bd3786"
            ],
            [
             0.5555555555555556,
             "#d8576b"
            ],
            [
             0.6666666666666666,
             "#ed7953"
            ],
            [
             0.7777777777777778,
             "#fb9f3a"
            ],
            [
             0.8888888888888888,
             "#fdca26"
            ],
            [
             1,
             "#f0f921"
            ]
           ],
           "sequentialminus": [
            [
             0,
             "#0d0887"
            ],
            [
             0.1111111111111111,
             "#46039f"
            ],
            [
             0.2222222222222222,
             "#7201a8"
            ],
            [
             0.3333333333333333,
             "#9c179e"
            ],
            [
             0.4444444444444444,
             "#bd3786"
            ],
            [
             0.5555555555555556,
             "#d8576b"
            ],
            [
             0.6666666666666666,
             "#ed7953"
            ],
            [
             0.7777777777777778,
             "#fb9f3a"
            ],
            [
             0.8888888888888888,
             "#fdca26"
            ],
            [
             1,
             "#f0f921"
            ]
           ]
          },
          "colorway": [
           "#636efa",
           "#EF553B",
           "#00cc96",
           "#ab63fa",
           "#FFA15A",
           "#19d3f3",
           "#FF6692",
           "#B6E880",
           "#FF97FF",
           "#FECB52"
          ],
          "font": {
           "color": "#2a3f5f"
          },
          "geo": {
           "bgcolor": "white",
           "lakecolor": "white",
           "landcolor": "#E5ECF6",
           "showlakes": true,
           "showland": true,
           "subunitcolor": "white"
          },
          "hoverlabel": {
           "align": "left"
          },
          "hovermode": "closest",
          "mapbox": {
           "style": "light"
          },
          "paper_bgcolor": "white",
          "plot_bgcolor": "#E5ECF6",
          "polar": {
           "angularaxis": {
            "gridcolor": "white",
            "linecolor": "white",
            "ticks": ""
           },
           "bgcolor": "#E5ECF6",
           "radialaxis": {
            "gridcolor": "white",
            "linecolor": "white",
            "ticks": ""
           }
          },
          "scene": {
           "xaxis": {
            "backgroundcolor": "#E5ECF6",
            "gridcolor": "white",
            "gridwidth": 2,
            "linecolor": "white",
            "showbackground": true,
            "ticks": "",
            "zerolinecolor": "white"
           },
           "yaxis": {
            "backgroundcolor": "#E5ECF6",
            "gridcolor": "white",
            "gridwidth": 2,
            "linecolor": "white",
            "showbackground": true,
            "ticks": "",
            "zerolinecolor": "white"
           },
           "zaxis": {
            "backgroundcolor": "#E5ECF6",
            "gridcolor": "white",
            "gridwidth": 2,
            "linecolor": "white",
            "showbackground": true,
            "ticks": "",
            "zerolinecolor": "white"
           }
          },
          "shapedefaults": {
           "line": {
            "color": "#2a3f5f"
           }
          },
          "ternary": {
           "aaxis": {
            "gridcolor": "white",
            "linecolor": "white",
            "ticks": ""
           },
           "baxis": {
            "gridcolor": "white",
            "linecolor": "white",
            "ticks": ""
           },
           "bgcolor": "#E5ECF6",
           "caxis": {
            "gridcolor": "white",
            "linecolor": "white",
            "ticks": ""
           }
          },
          "title": {
           "x": 0.05
          },
          "xaxis": {
           "automargin": true,
           "gridcolor": "white",
           "linecolor": "white",
           "ticks": "",
           "title": {
            "standoff": 15
           },
           "zerolinecolor": "white",
           "zerolinewidth": 2
          },
          "yaxis": {
           "automargin": true,
           "gridcolor": "white",
           "linecolor": "white",
           "ticks": "",
           "title": {
            "standoff": 15
           },
           "zerolinecolor": "white",
           "zerolinewidth": 2
          }
         }
        },
        "title": {
         "text": "Hyperparameter Importances"
        },
        "xaxis": {
         "title": {
          "text": "Hyperparameter Importance"
         }
        },
        "yaxis": {
         "title": {
          "text": "Hyperparameter"
         }
        }
       }
      }
     },
     "metadata": {},
     "output_type": "display_data"
    }
   ],
   "source": [
    "# Hyperparameter Importances\n",
    "plot_param_importances(study).show()"
   ]
  },
  {
   "cell_type": "code",
   "execution_count": 11,
   "metadata": {},
   "outputs": [
    {
     "data": {
      "application/vnd.plotly.v1+json": {
       "config": {
        "plotlyServerURL": "https://plot.ly"
       },
       "data": [
        {
         "dimensions": [
          {
           "label": "Objective Value",
           "range": [
            0.33809922828993033,
            0.5663152044217871
           ],
           "values": [
            0.5639440506102563,
            0.5657707553366177,
            0.5651294993049405,
            0.5640371681304281,
            0.5639162516040628,
            0.5647829701171853,
            0.5654944388966341,
            0.5663152044217871,
            0.5655811752805759,
            0.5648095351657756,
            0.5648837219068314,
            0.5658018425705078,
            0.5640739248267022,
            0.5636201225958385,
            0.5655731774865574,
            0.5656332378974654,
            0.5650087959207248,
            0.5300477012662834,
            0.5207215840624648,
            0.49674798316887764,
            0.4049924826752697,
            0.4591545109018738,
            0.48116458286097724,
            0.4121993893187721,
            0.40480542175880796,
            0.4468747259218138,
            0.40760163953356543,
            0.3902935656932331,
            0.3598799171509169,
            0.33809922828993033
           ]
          },
          {
           "label": "alpha",
           "range": [
            0.005198737210903199,
            1.2839695068462107
           ],
           "ticktext": [
            "1.01",
            "10",
            "19.2"
           ],
           "tickvals": [
            0.005198737210903199,
            1,
            1.2839695068462107
           ],
           "values": [
            0.6442400132149694,
            0.40022590270793873,
            0.391043850428636,
            0.39464154107463256,
            0.36554640695775004,
            0.08823620267313269,
            0.4846704707092078,
            0.2002937408920151,
            0.20267938778264866,
            0.1756437265923287,
            0.2075544839324281,
            0.028347482555208435,
            0.011958174547637809,
            0.5568719094603235,
            0.3326456060033882,
            0.10751312383257354,
            0.10111307767839872,
            0.07556852168734095,
            0.711286472363441,
            1.1993860319948617,
            1.256316239803995,
            0.5065818617024256,
            0.005198737210903199,
            0.7960389689676517,
            0.8805605951894424,
            0.25390432132487945,
            0.2762595522450512,
            0.6690344291795309,
            1.0782123579385132,
            1.2839695068462107
           ]
          },
          {
           "label": "factors",
           "range": [
            0,
            4
           ],
           "ticktext": [
            "2",
            "4",
            "8",
            "16",
            "32"
           ],
           "tickvals": [
            0,
            1,
            2,
            3,
            4
           ],
           "values": [
            0,
            0,
            0,
            0,
            0,
            0,
            0,
            0,
            0,
            0,
            0,
            0,
            0,
            0,
            0,
            0,
            0,
            1,
            1,
            1,
            2,
            2,
            2,
            3,
            3,
            3,
            4,
            4,
            4,
            4
           ]
          },
          {
           "label": "regularization",
           "range": [
            -3.988433571065948,
            -2.1022289254933333
           ],
           "ticktext": [
            "0.000103",
            "0.001",
            "0.0079"
           ],
           "tickvals": [
            -3.988433571065948,
            -3,
            -2.1022289254933333
           ],
           "values": [
            -3.755923530310442,
            -3.9880056340883647,
            -3.9702564235614113,
            -3.9883622758599557,
            -3.2225388201724843,
            -2.7569471782515365,
            -3.988433571065948,
            -3.50623048765333,
            -3.4901019616001134,
            -3.2784715728210347,
            -3.5137275200713476,
            -3.0728432828975882,
            -2.978068781971297,
            -3.7612534363919203,
            -3.0987695984568897,
            -3.3974273042638767,
            -3.6592623836031644,
            -3.6880109593275945,
            -2.9598639576443784,
            -2.804200042377829,
            -2.1022289254933333,
            -3.224811591872078,
            -2.6764595707654055,
            -3.417541719603916,
            -2.4566717134861227,
            -3.1625089667250563,
            -2.335114718399156,
            -3.6006524356832803,
            -3.457301936452208,
            -3.850898712640458
           ]
          }
         ],
         "labelangle": 30,
         "labelside": "bottom",
         "line": {
          "color": [
           0.5639440506102563,
           0.5657707553366177,
           0.5651294993049405,
           0.5640371681304281,
           0.5639162516040628,
           0.5647829701171853,
           0.5654944388966341,
           0.5663152044217871,
           0.5655811752805759,
           0.5648095351657756,
           0.5648837219068314,
           0.5658018425705078,
           0.5640739248267022,
           0.5636201225958385,
           0.5655731774865574,
           0.5656332378974654,
           0.5650087959207248,
           0.5300477012662834,
           0.5207215840624648,
           0.49674798316887764,
           0.4049924826752697,
           0.4591545109018738,
           0.48116458286097724,
           0.4121993893187721,
           0.40480542175880796,
           0.4468747259218138,
           0.40760163953356543,
           0.3902935656932331,
           0.3598799171509169,
           0.33809922828993033
          ],
          "colorbar": {
           "title": {
            "text": "Objective Value"
           }
          },
          "colorscale": [
           [
            0,
            "rgb(247,251,255)"
           ],
           [
            0.125,
            "rgb(222,235,247)"
           ],
           [
            0.25,
            "rgb(198,219,239)"
           ],
           [
            0.375,
            "rgb(158,202,225)"
           ],
           [
            0.5,
            "rgb(107,174,214)"
           ],
           [
            0.625,
            "rgb(66,146,198)"
           ],
           [
            0.75,
            "rgb(33,113,181)"
           ],
           [
            0.875,
            "rgb(8,81,156)"
           ],
           [
            1,
            "rgb(8,48,107)"
           ]
          ],
          "reversescale": false,
          "showscale": true
         },
         "type": "parcoords"
        }
       ],
       "layout": {
        "template": {
         "data": {
          "bar": [
           {
            "error_x": {
             "color": "#2a3f5f"
            },
            "error_y": {
             "color": "#2a3f5f"
            },
            "marker": {
             "line": {
              "color": "#E5ECF6",
              "width": 0.5
             },
             "pattern": {
              "fillmode": "overlay",
              "size": 10,
              "solidity": 0.2
             }
            },
            "type": "bar"
           }
          ],
          "barpolar": [
           {
            "marker": {
             "line": {
              "color": "#E5ECF6",
              "width": 0.5
             },
             "pattern": {
              "fillmode": "overlay",
              "size": 10,
              "solidity": 0.2
             }
            },
            "type": "barpolar"
           }
          ],
          "carpet": [
           {
            "aaxis": {
             "endlinecolor": "#2a3f5f",
             "gridcolor": "white",
             "linecolor": "white",
             "minorgridcolor": "white",
             "startlinecolor": "#2a3f5f"
            },
            "baxis": {
             "endlinecolor": "#2a3f5f",
             "gridcolor": "white",
             "linecolor": "white",
             "minorgridcolor": "white",
             "startlinecolor": "#2a3f5f"
            },
            "type": "carpet"
           }
          ],
          "choropleth": [
           {
            "colorbar": {
             "outlinewidth": 0,
             "ticks": ""
            },
            "type": "choropleth"
           }
          ],
          "contour": [
           {
            "colorbar": {
             "outlinewidth": 0,
             "ticks": ""
            },
            "colorscale": [
             [
              0,
              "#0d0887"
             ],
             [
              0.1111111111111111,
              "#46039f"
             ],
             [
              0.2222222222222222,
              "#7201a8"
             ],
             [
              0.3333333333333333,
              "#9c179e"
             ],
             [
              0.4444444444444444,
              "#bd3786"
             ],
             [
              0.5555555555555556,
              "#d8576b"
             ],
             [
              0.6666666666666666,
              "#ed7953"
             ],
             [
              0.7777777777777778,
              "#fb9f3a"
             ],
             [
              0.8888888888888888,
              "#fdca26"
             ],
             [
              1,
              "#f0f921"
             ]
            ],
            "type": "contour"
           }
          ],
          "contourcarpet": [
           {
            "colorbar": {
             "outlinewidth": 0,
             "ticks": ""
            },
            "type": "contourcarpet"
           }
          ],
          "heatmap": [
           {
            "colorbar": {
             "outlinewidth": 0,
             "ticks": ""
            },
            "colorscale": [
             [
              0,
              "#0d0887"
             ],
             [
              0.1111111111111111,
              "#46039f"
             ],
             [
              0.2222222222222222,
              "#7201a8"
             ],
             [
              0.3333333333333333,
              "#9c179e"
             ],
             [
              0.4444444444444444,
              "#bd3786"
             ],
             [
              0.5555555555555556,
              "#d8576b"
             ],
             [
              0.6666666666666666,
              "#ed7953"
             ],
             [
              0.7777777777777778,
              "#fb9f3a"
             ],
             [
              0.8888888888888888,
              "#fdca26"
             ],
             [
              1,
              "#f0f921"
             ]
            ],
            "type": "heatmap"
           }
          ],
          "histogram": [
           {
            "marker": {
             "pattern": {
              "fillmode": "overlay",
              "size": 10,
              "solidity": 0.2
             }
            },
            "type": "histogram"
           }
          ],
          "histogram2d": [
           {
            "colorbar": {
             "outlinewidth": 0,
             "ticks": ""
            },
            "colorscale": [
             [
              0,
              "#0d0887"
             ],
             [
              0.1111111111111111,
              "#46039f"
             ],
             [
              0.2222222222222222,
              "#7201a8"
             ],
             [
              0.3333333333333333,
              "#9c179e"
             ],
             [
              0.4444444444444444,
              "#bd3786"
             ],
             [
              0.5555555555555556,
              "#d8576b"
             ],
             [
              0.6666666666666666,
              "#ed7953"
             ],
             [
              0.7777777777777778,
              "#fb9f3a"
             ],
             [
              0.8888888888888888,
              "#fdca26"
             ],
             [
              1,
              "#f0f921"
             ]
            ],
            "type": "histogram2d"
           }
          ],
          "histogram2dcontour": [
           {
            "colorbar": {
             "outlinewidth": 0,
             "ticks": ""
            },
            "colorscale": [
             [
              0,
              "#0d0887"
             ],
             [
              0.1111111111111111,
              "#46039f"
             ],
             [
              0.2222222222222222,
              "#7201a8"
             ],
             [
              0.3333333333333333,
              "#9c179e"
             ],
             [
              0.4444444444444444,
              "#bd3786"
             ],
             [
              0.5555555555555556,
              "#d8576b"
             ],
             [
              0.6666666666666666,
              "#ed7953"
             ],
             [
              0.7777777777777778,
              "#fb9f3a"
             ],
             [
              0.8888888888888888,
              "#fdca26"
             ],
             [
              1,
              "#f0f921"
             ]
            ],
            "type": "histogram2dcontour"
           }
          ],
          "mesh3d": [
           {
            "colorbar": {
             "outlinewidth": 0,
             "ticks": ""
            },
            "type": "mesh3d"
           }
          ],
          "parcoords": [
           {
            "line": {
             "colorbar": {
              "outlinewidth": 0,
              "ticks": ""
             }
            },
            "type": "parcoords"
           }
          ],
          "pie": [
           {
            "automargin": true,
            "type": "pie"
           }
          ],
          "scatter": [
           {
            "fillpattern": {
             "fillmode": "overlay",
             "size": 10,
             "solidity": 0.2
            },
            "type": "scatter"
           }
          ],
          "scatter3d": [
           {
            "line": {
             "colorbar": {
              "outlinewidth": 0,
              "ticks": ""
             }
            },
            "marker": {
             "colorbar": {
              "outlinewidth": 0,
              "ticks": ""
             }
            },
            "type": "scatter3d"
           }
          ],
          "scattercarpet": [
           {
            "marker": {
             "colorbar": {
              "outlinewidth": 0,
              "ticks": ""
             }
            },
            "type": "scattercarpet"
           }
          ],
          "scattergeo": [
           {
            "marker": {
             "colorbar": {
              "outlinewidth": 0,
              "ticks": ""
             }
            },
            "type": "scattergeo"
           }
          ],
          "scattergl": [
           {
            "marker": {
             "colorbar": {
              "outlinewidth": 0,
              "ticks": ""
             }
            },
            "type": "scattergl"
           }
          ],
          "scattermap": [
           {
            "marker": {
             "colorbar": {
              "outlinewidth": 0,
              "ticks": ""
             }
            },
            "type": "scattermap"
           }
          ],
          "scattermapbox": [
           {
            "marker": {
             "colorbar": {
              "outlinewidth": 0,
              "ticks": ""
             }
            },
            "type": "scattermapbox"
           }
          ],
          "scatterpolar": [
           {
            "marker": {
             "colorbar": {
              "outlinewidth": 0,
              "ticks": ""
             }
            },
            "type": "scatterpolar"
           }
          ],
          "scatterpolargl": [
           {
            "marker": {
             "colorbar": {
              "outlinewidth": 0,
              "ticks": ""
             }
            },
            "type": "scatterpolargl"
           }
          ],
          "scatterternary": [
           {
            "marker": {
             "colorbar": {
              "outlinewidth": 0,
              "ticks": ""
             }
            },
            "type": "scatterternary"
           }
          ],
          "surface": [
           {
            "colorbar": {
             "outlinewidth": 0,
             "ticks": ""
            },
            "colorscale": [
             [
              0,
              "#0d0887"
             ],
             [
              0.1111111111111111,
              "#46039f"
             ],
             [
              0.2222222222222222,
              "#7201a8"
             ],
             [
              0.3333333333333333,
              "#9c179e"
             ],
             [
              0.4444444444444444,
              "#bd3786"
             ],
             [
              0.5555555555555556,
              "#d8576b"
             ],
             [
              0.6666666666666666,
              "#ed7953"
             ],
             [
              0.7777777777777778,
              "#fb9f3a"
             ],
             [
              0.8888888888888888,
              "#fdca26"
             ],
             [
              1,
              "#f0f921"
             ]
            ],
            "type": "surface"
           }
          ],
          "table": [
           {
            "cells": {
             "fill": {
              "color": "#EBF0F8"
             },
             "line": {
              "color": "white"
             }
            },
            "header": {
             "fill": {
              "color": "#C8D4E3"
             },
             "line": {
              "color": "white"
             }
            },
            "type": "table"
           }
          ]
         },
         "layout": {
          "annotationdefaults": {
           "arrowcolor": "#2a3f5f",
           "arrowhead": 0,
           "arrowwidth": 1
          },
          "autotypenumbers": "strict",
          "coloraxis": {
           "colorbar": {
            "outlinewidth": 0,
            "ticks": ""
           }
          },
          "colorscale": {
           "diverging": [
            [
             0,
             "#8e0152"
            ],
            [
             0.1,
             "#c51b7d"
            ],
            [
             0.2,
             "#de77ae"
            ],
            [
             0.3,
             "#f1b6da"
            ],
            [
             0.4,
             "#fde0ef"
            ],
            [
             0.5,
             "#f7f7f7"
            ],
            [
             0.6,
             "#e6f5d0"
            ],
            [
             0.7,
             "#b8e186"
            ],
            [
             0.8,
             "#7fbc41"
            ],
            [
             0.9,
             "#4d9221"
            ],
            [
             1,
             "#276419"
            ]
           ],
           "sequential": [
            [
             0,
             "#0d0887"
            ],
            [
             0.1111111111111111,
             "#46039f"
            ],
            [
             0.2222222222222222,
             "#7201a8"
            ],
            [
             0.3333333333333333,
             "#9c179e"
            ],
            [
             0.4444444444444444,
             "#bd3786"
            ],
            [
             0.5555555555555556,
             "#d8576b"
            ],
            [
             0.6666666666666666,
             "#ed7953"
            ],
            [
             0.7777777777777778,
             "#fb9f3a"
            ],
            [
             0.8888888888888888,
             "#fdca26"
            ],
            [
             1,
             "#f0f921"
            ]
           ],
           "sequentialminus": [
            [
             0,
             "#0d0887"
            ],
            [
             0.1111111111111111,
             "#46039f"
            ],
            [
             0.2222222222222222,
             "#7201a8"
            ],
            [
             0.3333333333333333,
             "#9c179e"
            ],
            [
             0.4444444444444444,
             "#bd3786"
            ],
            [
             0.5555555555555556,
             "#d8576b"
            ],
            [
             0.6666666666666666,
             "#ed7953"
            ],
            [
             0.7777777777777778,
             "#fb9f3a"
            ],
            [
             0.8888888888888888,
             "#fdca26"
            ],
            [
             1,
             "#f0f921"
            ]
           ]
          },
          "colorway": [
           "#636efa",
           "#EF553B",
           "#00cc96",
           "#ab63fa",
           "#FFA15A",
           "#19d3f3",
           "#FF6692",
           "#B6E880",
           "#FF97FF",
           "#FECB52"
          ],
          "font": {
           "color": "#2a3f5f"
          },
          "geo": {
           "bgcolor": "white",
           "lakecolor": "white",
           "landcolor": "#E5ECF6",
           "showlakes": true,
           "showland": true,
           "subunitcolor": "white"
          },
          "hoverlabel": {
           "align": "left"
          },
          "hovermode": "closest",
          "mapbox": {
           "style": "light"
          },
          "paper_bgcolor": "white",
          "plot_bgcolor": "#E5ECF6",
          "polar": {
           "angularaxis": {
            "gridcolor": "white",
            "linecolor": "white",
            "ticks": ""
           },
           "bgcolor": "#E5ECF6",
           "radialaxis": {
            "gridcolor": "white",
            "linecolor": "white",
            "ticks": ""
           }
          },
          "scene": {
           "xaxis": {
            "backgroundcolor": "#E5ECF6",
            "gridcolor": "white",
            "gridwidth": 2,
            "linecolor": "white",
            "showbackground": true,
            "ticks": "",
            "zerolinecolor": "white"
           },
           "yaxis": {
            "backgroundcolor": "#E5ECF6",
            "gridcolor": "white",
            "gridwidth": 2,
            "linecolor": "white",
            "showbackground": true,
            "ticks": "",
            "zerolinecolor": "white"
           },
           "zaxis": {
            "backgroundcolor": "#E5ECF6",
            "gridcolor": "white",
            "gridwidth": 2,
            "linecolor": "white",
            "showbackground": true,
            "ticks": "",
            "zerolinecolor": "white"
           }
          },
          "shapedefaults": {
           "line": {
            "color": "#2a3f5f"
           }
          },
          "ternary": {
           "aaxis": {
            "gridcolor": "white",
            "linecolor": "white",
            "ticks": ""
           },
           "baxis": {
            "gridcolor": "white",
            "linecolor": "white",
            "ticks": ""
           },
           "bgcolor": "#E5ECF6",
           "caxis": {
            "gridcolor": "white",
            "linecolor": "white",
            "ticks": ""
           }
          },
          "title": {
           "x": 0.05
          },
          "xaxis": {
           "automargin": true,
           "gridcolor": "white",
           "linecolor": "white",
           "ticks": "",
           "title": {
            "standoff": 15
           },
           "zerolinecolor": "white",
           "zerolinewidth": 2
          },
          "yaxis": {
           "automargin": true,
           "gridcolor": "white",
           "linecolor": "white",
           "ticks": "",
           "title": {
            "standoff": 15
           },
           "zerolinecolor": "white",
           "zerolinewidth": 2
          }
         }
        },
        "title": {
         "text": "Parallel Coordinate Plot"
        }
       }
      }
     },
     "metadata": {},
     "output_type": "display_data"
    }
   ],
   "source": [
    "# Parallel Coordinate\n",
    "plot_parallel_coordinate(study).show()"
   ]
  },
  {
   "cell_type": "code",
   "execution_count": 12,
   "metadata": {},
   "outputs": [
    {
     "data": {
      "application/vnd.plotly.v1+json": {
       "config": {
        "plotlyServerURL": "https://plot.ly"
       },
       "data": [
        {
         "marker": {
          "color": [
           0,
           1,
           2,
           3,
           4,
           5,
           6,
           7,
           8,
           9,
           10,
           11,
           12,
           13,
           14,
           15,
           16,
           17,
           18,
           19,
           20,
           21,
           22,
           23,
           24,
           25,
           26,
           27,
           28,
           29
          ],
          "colorbar": {
           "title": {
            "text": "Trial"
           },
           "x": 1,
           "xpad": 40
          },
          "colorscale": [
           [
            0,
            "rgb(247,251,255)"
           ],
           [
            0.125,
            "rgb(222,235,247)"
           ],
           [
            0.25,
            "rgb(198,219,239)"
           ],
           [
            0.375,
            "rgb(158,202,225)"
           ],
           [
            0.5,
            "rgb(107,174,214)"
           ],
           [
            0.625,
            "rgb(66,146,198)"
           ],
           [
            0.75,
            "rgb(33,113,181)"
           ],
           [
            0.875,
            "rgb(8,81,156)"
           ],
           [
            1,
            "rgb(8,48,107)"
           ]
          ],
          "line": {
           "color": "Grey",
           "width": 0.5
          },
          "showscale": true
         },
         "mode": "markers",
         "name": "Feasible Trial",
         "showlegend": false,
         "type": "scatter",
         "x": [
          1.1900590783184244,
          1.8891200276189386,
          6.252287916406214,
          4.666963767236923,
          18.043311207136256,
          4.407984038169241,
          5.143828405076927,
          15.826541904647563,
          11.973258472758717,
          19.22956707454338,
          2.513193354752946,
          2.4606160383908016,
          2.481084417076532,
          2.3203121115225653,
          1.2252824207032538,
          3.0526040122501614,
          3.2105679184773694,
          7.5955739296064735,
          1.585965518808334,
          1.594701445107743,
          1.4984550737775988,
          1.6127033345550927,
          1.0674498549755438,
          1.02791729807443,
          1.794338275685476,
          1.012042468397277,
          3.604723098665268,
          2.1510257333150014,
          1.2808938009497817,
          1.2621561206334704
         ],
         "xaxis": "x",
         "y": [
          0.5300477012662834,
          0.40760163953356543,
          0.4121993893187721,
          0.3902935656932331,
          0.4049924826752697,
          0.5639440506102563,
          0.5207215840624648,
          0.49674798316887764,
          0.3598799171509169,
          0.33809922828993033,
          0.5657707553366177,
          0.5651294993049405,
          0.5640371681304281,
          0.5639162516040628,
          0.5647829701171853,
          0.5654944388966341,
          0.4591545109018738,
          0.40480542175880796,
          0.5663152044217871,
          0.5655811752805759,
          0.5648095351657756,
          0.5648837219068314,
          0.5658018425705078,
          0.5640739248267022,
          0.4468747259218138,
          0.48116458286097724,
          0.5636201225958385,
          0.5655731774865574,
          0.5656332378974654,
          0.5650087959207248
         ],
         "yaxis": "y"
        },
        {
         "marker": {
          "color": [
           0,
           1,
           2,
           3,
           4,
           5,
           6,
           7,
           8,
           9,
           10,
           11,
           12,
           13,
           14,
           15,
           16,
           17,
           18,
           19,
           20,
           21,
           22,
           23,
           24,
           25,
           26,
           27,
           28,
           29
          ],
          "colorbar": {
           "title": {
            "text": "Trial"
           },
           "x": 1,
           "xpad": 40
          },
          "colorscale": [
           [
            0,
            "rgb(247,251,255)"
           ],
           [
            0.125,
            "rgb(222,235,247)"
           ],
           [
            0.25,
            "rgb(198,219,239)"
           ],
           [
            0.375,
            "rgb(158,202,225)"
           ],
           [
            0.5,
            "rgb(107,174,214)"
           ],
           [
            0.625,
            "rgb(66,146,198)"
           ],
           [
            0.75,
            "rgb(33,113,181)"
           ],
           [
            0.875,
            "rgb(8,81,156)"
           ],
           [
            1,
            "rgb(8,48,107)"
           ]
          ],
          "line": {
           "color": "Grey",
           "width": 0.5
          },
          "showscale": false
         },
         "mode": "markers",
         "name": "Feasible Trial",
         "showlegend": false,
         "type": "scatter",
         "x": [
          4,
          32,
          16,
          32,
          8,
          2,
          4,
          4,
          32,
          32,
          2,
          2,
          2,
          2,
          2,
          2,
          8,
          16,
          2,
          2,
          2,
          2,
          2,
          2,
          16,
          8,
          2,
          2,
          2,
          2
         ],
         "xaxis": "x2",
         "y": [
          0.5300477012662834,
          0.40760163953356543,
          0.4121993893187721,
          0.3902935656932331,
          0.4049924826752697,
          0.5639440506102563,
          0.5207215840624648,
          0.49674798316887764,
          0.3598799171509169,
          0.33809922828993033,
          0.5657707553366177,
          0.5651294993049405,
          0.5640371681304281,
          0.5639162516040628,
          0.5647829701171853,
          0.5654944388966341,
          0.4591545109018738,
          0.40480542175880796,
          0.5663152044217871,
          0.5655811752805759,
          0.5648095351657756,
          0.5648837219068314,
          0.5658018425705078,
          0.5640739248267022,
          0.4468747259218138,
          0.48116458286097724,
          0.5636201225958385,
          0.5655731774865574,
          0.5656332378974654,
          0.5650087959207248
         ],
         "yaxis": "y2"
        },
        {
         "marker": {
          "color": [
           0,
           1,
           2,
           3,
           4,
           5,
           6,
           7,
           8,
           9,
           10,
           11,
           12,
           13,
           14,
           15,
           16,
           17,
           18,
           19,
           20,
           21,
           22,
           23,
           24,
           25,
           26,
           27,
           28,
           29
          ],
          "colorbar": {
           "title": {
            "text": "Trial"
           },
           "x": 1,
           "xpad": 40
          },
          "colorscale": [
           [
            0,
            "rgb(247,251,255)"
           ],
           [
            0.125,
            "rgb(222,235,247)"
           ],
           [
            0.25,
            "rgb(198,219,239)"
           ],
           [
            0.375,
            "rgb(158,202,225)"
           ],
           [
            0.5,
            "rgb(107,174,214)"
           ],
           [
            0.625,
            "rgb(66,146,198)"
           ],
           [
            0.75,
            "rgb(33,113,181)"
           ],
           [
            0.875,
            "rgb(8,81,156)"
           ],
           [
            1,
            "rgb(8,48,107)"
           ]
          ],
          "line": {
           "color": "Grey",
           "width": 0.5
          },
          "showscale": false
         },
         "mode": "markers",
         "name": "Feasible Trial",
         "showlegend": false,
         "type": "scatter",
         "x": [
          0.00020511104188433984,
          0.004622589001020831,
          0.0003823475224675188,
          0.00025081156860452336,
          0.007902619549708232,
          0.00017541893487450815,
          0.001096821720752952,
          0.0015696396388661157,
          0.00034889766548903674,
          0.00014096175149815865,
          0.00010280029617905622,
          0.0001070886827256173,
          0.00010271591143171529,
          0.0005990473893185826,
          0.0017500595294197526,
          0.00010269905063493826,
          0.0005959206131645767,
          0.003494043330819633,
          0.0003117234774171904,
          0.0003235176940619831,
          0.0005266576866704527,
          0.0003063885137507342,
          0.0008455839228457593,
          0.0010517952811424781,
          0.0006878457104543156,
          0.002106397978144515,
          0.00017327925162313181,
          0.0007965818402655593,
          0.00040047249705820555,
          0.00021914805291808694
         ],
         "xaxis": "x3",
         "y": [
          0.5300477012662834,
          0.40760163953356543,
          0.4121993893187721,
          0.3902935656932331,
          0.4049924826752697,
          0.5639440506102563,
          0.5207215840624648,
          0.49674798316887764,
          0.3598799171509169,
          0.33809922828993033,
          0.5657707553366177,
          0.5651294993049405,
          0.5640371681304281,
          0.5639162516040628,
          0.5647829701171853,
          0.5654944388966341,
          0.4591545109018738,
          0.40480542175880796,
          0.5663152044217871,
          0.5655811752805759,
          0.5648095351657756,
          0.5648837219068314,
          0.5658018425705078,
          0.5640739248267022,
          0.4468747259218138,
          0.48116458286097724,
          0.5636201225958385,
          0.5655731774865574,
          0.5656332378974654,
          0.5650087959207248
         ],
         "yaxis": "y3"
        }
       ],
       "layout": {
        "template": {
         "data": {
          "bar": [
           {
            "error_x": {
             "color": "#2a3f5f"
            },
            "error_y": {
             "color": "#2a3f5f"
            },
            "marker": {
             "line": {
              "color": "#E5ECF6",
              "width": 0.5
             },
             "pattern": {
              "fillmode": "overlay",
              "size": 10,
              "solidity": 0.2
             }
            },
            "type": "bar"
           }
          ],
          "barpolar": [
           {
            "marker": {
             "line": {
              "color": "#E5ECF6",
              "width": 0.5
             },
             "pattern": {
              "fillmode": "overlay",
              "size": 10,
              "solidity": 0.2
             }
            },
            "type": "barpolar"
           }
          ],
          "carpet": [
           {
            "aaxis": {
             "endlinecolor": "#2a3f5f",
             "gridcolor": "white",
             "linecolor": "white",
             "minorgridcolor": "white",
             "startlinecolor": "#2a3f5f"
            },
            "baxis": {
             "endlinecolor": "#2a3f5f",
             "gridcolor": "white",
             "linecolor": "white",
             "minorgridcolor": "white",
             "startlinecolor": "#2a3f5f"
            },
            "type": "carpet"
           }
          ],
          "choropleth": [
           {
            "colorbar": {
             "outlinewidth": 0,
             "ticks": ""
            },
            "type": "choropleth"
           }
          ],
          "contour": [
           {
            "colorbar": {
             "outlinewidth": 0,
             "ticks": ""
            },
            "colorscale": [
             [
              0,
              "#0d0887"
             ],
             [
              0.1111111111111111,
              "#46039f"
             ],
             [
              0.2222222222222222,
              "#7201a8"
             ],
             [
              0.3333333333333333,
              "#9c179e"
             ],
             [
              0.4444444444444444,
              "#bd3786"
             ],
             [
              0.5555555555555556,
              "#d8576b"
             ],
             [
              0.6666666666666666,
              "#ed7953"
             ],
             [
              0.7777777777777778,
              "#fb9f3a"
             ],
             [
              0.8888888888888888,
              "#fdca26"
             ],
             [
              1,
              "#f0f921"
             ]
            ],
            "type": "contour"
           }
          ],
          "contourcarpet": [
           {
            "colorbar": {
             "outlinewidth": 0,
             "ticks": ""
            },
            "type": "contourcarpet"
           }
          ],
          "heatmap": [
           {
            "colorbar": {
             "outlinewidth": 0,
             "ticks": ""
            },
            "colorscale": [
             [
              0,
              "#0d0887"
             ],
             [
              0.1111111111111111,
              "#46039f"
             ],
             [
              0.2222222222222222,
              "#7201a8"
             ],
             [
              0.3333333333333333,
              "#9c179e"
             ],
             [
              0.4444444444444444,
              "#bd3786"
             ],
             [
              0.5555555555555556,
              "#d8576b"
             ],
             [
              0.6666666666666666,
              "#ed7953"
             ],
             [
              0.7777777777777778,
              "#fb9f3a"
             ],
             [
              0.8888888888888888,
              "#fdca26"
             ],
             [
              1,
              "#f0f921"
             ]
            ],
            "type": "heatmap"
           }
          ],
          "histogram": [
           {
            "marker": {
             "pattern": {
              "fillmode": "overlay",
              "size": 10,
              "solidity": 0.2
             }
            },
            "type": "histogram"
           }
          ],
          "histogram2d": [
           {
            "colorbar": {
             "outlinewidth": 0,
             "ticks": ""
            },
            "colorscale": [
             [
              0,
              "#0d0887"
             ],
             [
              0.1111111111111111,
              "#46039f"
             ],
             [
              0.2222222222222222,
              "#7201a8"
             ],
             [
              0.3333333333333333,
              "#9c179e"
             ],
             [
              0.4444444444444444,
              "#bd3786"
             ],
             [
              0.5555555555555556,
              "#d8576b"
             ],
             [
              0.6666666666666666,
              "#ed7953"
             ],
             [
              0.7777777777777778,
              "#fb9f3a"
             ],
             [
              0.8888888888888888,
              "#fdca26"
             ],
             [
              1,
              "#f0f921"
             ]
            ],
            "type": "histogram2d"
           }
          ],
          "histogram2dcontour": [
           {
            "colorbar": {
             "outlinewidth": 0,
             "ticks": ""
            },
            "colorscale": [
             [
              0,
              "#0d0887"
             ],
             [
              0.1111111111111111,
              "#46039f"
             ],
             [
              0.2222222222222222,
              "#7201a8"
             ],
             [
              0.3333333333333333,
              "#9c179e"
             ],
             [
              0.4444444444444444,
              "#bd3786"
             ],
             [
              0.5555555555555556,
              "#d8576b"
             ],
             [
              0.6666666666666666,
              "#ed7953"
             ],
             [
              0.7777777777777778,
              "#fb9f3a"
             ],
             [
              0.8888888888888888,
              "#fdca26"
             ],
             [
              1,
              "#f0f921"
             ]
            ],
            "type": "histogram2dcontour"
           }
          ],
          "mesh3d": [
           {
            "colorbar": {
             "outlinewidth": 0,
             "ticks": ""
            },
            "type": "mesh3d"
           }
          ],
          "parcoords": [
           {
            "line": {
             "colorbar": {
              "outlinewidth": 0,
              "ticks": ""
             }
            },
            "type": "parcoords"
           }
          ],
          "pie": [
           {
            "automargin": true,
            "type": "pie"
           }
          ],
          "scatter": [
           {
            "fillpattern": {
             "fillmode": "overlay",
             "size": 10,
             "solidity": 0.2
            },
            "type": "scatter"
           }
          ],
          "scatter3d": [
           {
            "line": {
             "colorbar": {
              "outlinewidth": 0,
              "ticks": ""
             }
            },
            "marker": {
             "colorbar": {
              "outlinewidth": 0,
              "ticks": ""
             }
            },
            "type": "scatter3d"
           }
          ],
          "scattercarpet": [
           {
            "marker": {
             "colorbar": {
              "outlinewidth": 0,
              "ticks": ""
             }
            },
            "type": "scattercarpet"
           }
          ],
          "scattergeo": [
           {
            "marker": {
             "colorbar": {
              "outlinewidth": 0,
              "ticks": ""
             }
            },
            "type": "scattergeo"
           }
          ],
          "scattergl": [
           {
            "marker": {
             "colorbar": {
              "outlinewidth": 0,
              "ticks": ""
             }
            },
            "type": "scattergl"
           }
          ],
          "scattermap": [
           {
            "marker": {
             "colorbar": {
              "outlinewidth": 0,
              "ticks": ""
             }
            },
            "type": "scattermap"
           }
          ],
          "scattermapbox": [
           {
            "marker": {
             "colorbar": {
              "outlinewidth": 0,
              "ticks": ""
             }
            },
            "type": "scattermapbox"
           }
          ],
          "scatterpolar": [
           {
            "marker": {
             "colorbar": {
              "outlinewidth": 0,
              "ticks": ""
             }
            },
            "type": "scatterpolar"
           }
          ],
          "scatterpolargl": [
           {
            "marker": {
             "colorbar": {
              "outlinewidth": 0,
              "ticks": ""
             }
            },
            "type": "scatterpolargl"
           }
          ],
          "scatterternary": [
           {
            "marker": {
             "colorbar": {
              "outlinewidth": 0,
              "ticks": ""
             }
            },
            "type": "scatterternary"
           }
          ],
          "surface": [
           {
            "colorbar": {
             "outlinewidth": 0,
             "ticks": ""
            },
            "colorscale": [
             [
              0,
              "#0d0887"
             ],
             [
              0.1111111111111111,
              "#46039f"
             ],
             [
              0.2222222222222222,
              "#7201a8"
             ],
             [
              0.3333333333333333,
              "#9c179e"
             ],
             [
              0.4444444444444444,
              "#bd3786"
             ],
             [
              0.5555555555555556,
              "#d8576b"
             ],
             [
              0.6666666666666666,
              "#ed7953"
             ],
             [
              0.7777777777777778,
              "#fb9f3a"
             ],
             [
              0.8888888888888888,
              "#fdca26"
             ],
             [
              1,
              "#f0f921"
             ]
            ],
            "type": "surface"
           }
          ],
          "table": [
           {
            "cells": {
             "fill": {
              "color": "#EBF0F8"
             },
             "line": {
              "color": "white"
             }
            },
            "header": {
             "fill": {
              "color": "#C8D4E3"
             },
             "line": {
              "color": "white"
             }
            },
            "type": "table"
           }
          ]
         },
         "layout": {
          "annotationdefaults": {
           "arrowcolor": "#2a3f5f",
           "arrowhead": 0,
           "arrowwidth": 1
          },
          "autotypenumbers": "strict",
          "coloraxis": {
           "colorbar": {
            "outlinewidth": 0,
            "ticks": ""
           }
          },
          "colorscale": {
           "diverging": [
            [
             0,
             "#8e0152"
            ],
            [
             0.1,
             "#c51b7d"
            ],
            [
             0.2,
             "#de77ae"
            ],
            [
             0.3,
             "#f1b6da"
            ],
            [
             0.4,
             "#fde0ef"
            ],
            [
             0.5,
             "#f7f7f7"
            ],
            [
             0.6,
             "#e6f5d0"
            ],
            [
             0.7,
             "#b8e186"
            ],
            [
             0.8,
             "#7fbc41"
            ],
            [
             0.9,
             "#4d9221"
            ],
            [
             1,
             "#276419"
            ]
           ],
           "sequential": [
            [
             0,
             "#0d0887"
            ],
            [
             0.1111111111111111,
             "#46039f"
            ],
            [
             0.2222222222222222,
             "#7201a8"
            ],
            [
             0.3333333333333333,
             "#9c179e"
            ],
            [
             0.4444444444444444,
             "#bd3786"
            ],
            [
             0.5555555555555556,
             "#d8576b"
            ],
            [
             0.6666666666666666,
             "#ed7953"
            ],
            [
             0.7777777777777778,
             "#fb9f3a"
            ],
            [
             0.8888888888888888,
             "#fdca26"
            ],
            [
             1,
             "#f0f921"
            ]
           ],
           "sequentialminus": [
            [
             0,
             "#0d0887"
            ],
            [
             0.1111111111111111,
             "#46039f"
            ],
            [
             0.2222222222222222,
             "#7201a8"
            ],
            [
             0.3333333333333333,
             "#9c179e"
            ],
            [
             0.4444444444444444,
             "#bd3786"
            ],
            [
             0.5555555555555556,
             "#d8576b"
            ],
            [
             0.6666666666666666,
             "#ed7953"
            ],
            [
             0.7777777777777778,
             "#fb9f3a"
            ],
            [
             0.8888888888888888,
             "#fdca26"
            ],
            [
             1,
             "#f0f921"
            ]
           ]
          },
          "colorway": [
           "#636efa",
           "#EF553B",
           "#00cc96",
           "#ab63fa",
           "#FFA15A",
           "#19d3f3",
           "#FF6692",
           "#B6E880",
           "#FF97FF",
           "#FECB52"
          ],
          "font": {
           "color": "#2a3f5f"
          },
          "geo": {
           "bgcolor": "white",
           "lakecolor": "white",
           "landcolor": "#E5ECF6",
           "showlakes": true,
           "showland": true,
           "subunitcolor": "white"
          },
          "hoverlabel": {
           "align": "left"
          },
          "hovermode": "closest",
          "mapbox": {
           "style": "light"
          },
          "paper_bgcolor": "white",
          "plot_bgcolor": "#E5ECF6",
          "polar": {
           "angularaxis": {
            "gridcolor": "white",
            "linecolor": "white",
            "ticks": ""
           },
           "bgcolor": "#E5ECF6",
           "radialaxis": {
            "gridcolor": "white",
            "linecolor": "white",
            "ticks": ""
           }
          },
          "scene": {
           "xaxis": {
            "backgroundcolor": "#E5ECF6",
            "gridcolor": "white",
            "gridwidth": 2,
            "linecolor": "white",
            "showbackground": true,
            "ticks": "",
            "zerolinecolor": "white"
           },
           "yaxis": {
            "backgroundcolor": "#E5ECF6",
            "gridcolor": "white",
            "gridwidth": 2,
            "linecolor": "white",
            "showbackground": true,
            "ticks": "",
            "zerolinecolor": "white"
           },
           "zaxis": {
            "backgroundcolor": "#E5ECF6",
            "gridcolor": "white",
            "gridwidth": 2,
            "linecolor": "white",
            "showbackground": true,
            "ticks": "",
            "zerolinecolor": "white"
           }
          },
          "shapedefaults": {
           "line": {
            "color": "#2a3f5f"
           }
          },
          "ternary": {
           "aaxis": {
            "gridcolor": "white",
            "linecolor": "white",
            "ticks": ""
           },
           "baxis": {
            "gridcolor": "white",
            "linecolor": "white",
            "ticks": ""
           },
           "bgcolor": "#E5ECF6",
           "caxis": {
            "gridcolor": "white",
            "linecolor": "white",
            "ticks": ""
           }
          },
          "title": {
           "x": 0.05
          },
          "xaxis": {
           "automargin": true,
           "gridcolor": "white",
           "linecolor": "white",
           "ticks": "",
           "title": {
            "standoff": 15
           },
           "zerolinecolor": "white",
           "zerolinewidth": 2
          },
          "yaxis": {
           "automargin": true,
           "gridcolor": "white",
           "linecolor": "white",
           "ticks": "",
           "title": {
            "standoff": 15
           },
           "zerolinecolor": "white",
           "zerolinewidth": 2
          }
         }
        },
        "title": {
         "text": "Slice Plot"
        },
        "xaxis": {
         "anchor": "y",
         "domain": [
          0,
          0.2888888888888889
         ],
         "title": {
          "text": "alpha"
         },
         "type": "log"
        },
        "xaxis2": {
         "anchor": "y2",
         "categoryarray": [
          2,
          4,
          8,
          16,
          32
         ],
         "categoryorder": "array",
         "domain": [
          0.35555555555555557,
          0.6444444444444445
         ],
         "title": {
          "text": "factors"
         },
         "type": "category"
        },
        "xaxis3": {
         "anchor": "y3",
         "domain": [
          0.7111111111111111,
          1
         ],
         "title": {
          "text": "regularization"
         },
         "type": "log"
        },
        "yaxis": {
         "anchor": "x",
         "domain": [
          0,
          1
         ],
         "title": {
          "text": "Objective Value"
         }
        },
        "yaxis2": {
         "anchor": "x2",
         "domain": [
          0,
          1
         ],
         "matches": "y",
         "showticklabels": false
        },
        "yaxis3": {
         "anchor": "x3",
         "domain": [
          0,
          1
         ],
         "matches": "y",
         "showticklabels": false
        }
       }
      }
     },
     "metadata": {},
     "output_type": "display_data"
    }
   ],
   "source": [
    "# Slice Plot\n",
    "plot_slice(study).show()"
   ]
  },
  {
   "cell_type": "markdown",
   "metadata": {},
   "source": [
    "## Extract embedding"
   ]
  },
  {
   "cell_type": "markdown",
   "metadata": {},
   "source": [
    "### Get user and game embedding for train set"
   ]
  },
  {
   "cell_type": "code",
   "execution_count": 13,
   "metadata": {},
   "outputs": [
    {
     "name": "stderr",
     "output_type": "stream",
     "text": [
      "C:\\Users\\HK-Laptop-V639\\AppData\\Local\\Temp\\ipykernel_13060\\2901481310.py:4: PerformanceWarning:\n",
      "\n",
      "DataFrame is highly fragmented.  This is usually the result of calling `frame.insert` many times, which has poor performance.  Consider joining all columns at once using pd.concat(axis=1) instead. To get a de-fragmented frame, use `newframe = frame.copy()`\n",
      "\n",
      "C:\\Users\\HK-Laptop-V639\\AppData\\Local\\Temp\\ipykernel_13060\\2901481310.py:5: PerformanceWarning:\n",
      "\n",
      "DataFrame is highly fragmented.  This is usually the result of calling `frame.insert` many times, which has poor performance.  Consider joining all columns at once using pd.concat(axis=1) instead. To get a de-fragmented frame, use `newframe = frame.copy()`\n",
      "\n"
     ]
    }
   ],
   "source": [
    "user_embeddings_train = final_model.user_factors\n",
    "game_embeddings = final_model.item_factors\n",
    "\n",
    "df_train['user_emb'] = df_train['user_id'].map(lambda x: user_embeddings_train[user2idx_train[x]].tolist())\n",
    "df_train['game_emb'] = df_train['app_id'].map(lambda x: game_embeddings[game2idx[x]].tolist())"
   ]
  },
  {
   "cell_type": "code",
   "execution_count": 14,
   "metadata": {},
   "outputs": [
    {
     "data": {
      "text/html": [
       "<div>\n",
       "<style scoped>\n",
       "    .dataframe tbody tr th:only-of-type {\n",
       "        vertical-align: middle;\n",
       "    }\n",
       "\n",
       "    .dataframe tbody tr th {\n",
       "        vertical-align: top;\n",
       "    }\n",
       "\n",
       "    .dataframe thead th {\n",
       "        text-align: right;\n",
       "    }\n",
       "</style>\n",
       "<table border=\"1\" class=\"dataframe\">\n",
       "  <thead>\n",
       "    <tr style=\"text-align: right;\">\n",
       "      <th></th>\n",
       "      <th>user_id</th>\n",
       "      <th>app_id</th>\n",
       "      <th>user_emb</th>\n",
       "      <th>game_emb</th>\n",
       "    </tr>\n",
       "  </thead>\n",
       "  <tbody>\n",
       "    <tr>\n",
       "      <th>1871819</th>\n",
       "      <td>76561198057305726</td>\n",
       "      <td>389530</td>\n",
       "      <td>[7.749264717102051, 7.5037617683410645]</td>\n",
       "      <td>[2.439454888092385e-18, -2.2768245622195593e-18]</td>\n",
       "    </tr>\n",
       "    <tr>\n",
       "      <th>593003</th>\n",
       "      <td>76561197960403751</td>\n",
       "      <td>1184370</td>\n",
       "      <td>[2.594144344329834, 0.9178107380867004]</td>\n",
       "      <td>[0.021229607984423637, -0.00064380734693259]</td>\n",
       "    </tr>\n",
       "    <tr>\n",
       "      <th>574778</th>\n",
       "      <td>76561198059597267</td>\n",
       "      <td>236730</td>\n",
       "      <td>[6.904428958892822, 5.949845314025879]</td>\n",
       "      <td>[0.09133350849151611, -0.034515611827373505]</td>\n",
       "    </tr>\n",
       "    <tr>\n",
       "      <th>1695403</th>\n",
       "      <td>76561198016546516</td>\n",
       "      <td>459820</td>\n",
       "      <td>[8.085650444030762, 6.69266939163208]</td>\n",
       "      <td>[0.016255322843790054, 0.0033440301194787025]</td>\n",
       "    </tr>\n",
       "    <tr>\n",
       "      <th>1055888</th>\n",
       "      <td>76561197960288870</td>\n",
       "      <td>498720</td>\n",
       "      <td>[0.05990280583500862, 0.0027458106633275747]</td>\n",
       "      <td>[-5.353248226647178e-19, 6.505213034913027e-19]</td>\n",
       "    </tr>\n",
       "  </tbody>\n",
       "</table>\n",
       "</div>"
      ],
      "text/plain": [
       "                   user_id   app_id  \\\n",
       "1871819  76561198057305726   389530   \n",
       "593003   76561197960403751  1184370   \n",
       "574778   76561198059597267   236730   \n",
       "1695403  76561198016546516   459820   \n",
       "1055888  76561197960288870   498720   \n",
       "\n",
       "                                             user_emb  \\\n",
       "1871819       [7.749264717102051, 7.5037617683410645]   \n",
       "593003        [2.594144344329834, 0.9178107380867004]   \n",
       "574778         [6.904428958892822, 5.949845314025879]   \n",
       "1695403         [8.085650444030762, 6.69266939163208]   \n",
       "1055888  [0.05990280583500862, 0.0027458106633275747]   \n",
       "\n",
       "                                                 game_emb  \n",
       "1871819  [2.439454888092385e-18, -2.2768245622195593e-18]  \n",
       "593003       [0.021229607984423637, -0.00064380734693259]  \n",
       "574778       [0.09133350849151611, -0.034515611827373505]  \n",
       "1695403     [0.016255322843790054, 0.0033440301194787025]  \n",
       "1055888   [-5.353248226647178e-19, 6.505213034913027e-19]  "
      ]
     },
     "execution_count": 14,
     "metadata": {},
     "output_type": "execute_result"
    }
   ],
   "source": [
    "df_train[['user_id', 'app_id', 'user_emb', 'game_emb']].sample(5)"
   ]
  },
  {
   "cell_type": "markdown",
   "metadata": {},
   "source": [
    "### Get user and game embedding for test set"
   ]
  },
  {
   "cell_type": "code",
   "execution_count": 15,
   "metadata": {},
   "outputs": [],
   "source": [
    "# Only include data with games that exist in training mapping\n",
    "df_test = df_test[df_test['app_id'].isin(game2idx.keys())].copy()\n",
    "\n",
    "unique_test_users = df_test['user_id'].unique()\n",
    "user2idx_test = {u: i for i, u in enumerate(unique_test_users)}\n",
    "\n",
    "# Build user * game csr matrix for test data\n",
    "test_matrix = build_user_item_matrix(\n",
    "    df_test,\n",
    "    user2idx_test,\n",
    "    game2idx,\n",
    "    len(unique_test_users),\n",
    "    n_games\n",
    ")\n",
    "\n",
    "user_embedding_test = final_model.recalculate_user(unique_test_users, test_matrix)\n",
    "\n",
    "df_test['user_emb'] = df_test['user_id'].map(lambda x: user_embedding_test[user2idx_test[x]].tolist())\n",
    "df_test['game_emb'] = df_test['app_id'].map(lambda x: game_embeddings[game2idx[x]].tolist())"
   ]
  },
  {
   "cell_type": "code",
   "execution_count": 16,
   "metadata": {},
   "outputs": [
    {
     "data": {
      "text/html": [
       "<div>\n",
       "<style scoped>\n",
       "    .dataframe tbody tr th:only-of-type {\n",
       "        vertical-align: middle;\n",
       "    }\n",
       "\n",
       "    .dataframe tbody tr th {\n",
       "        vertical-align: top;\n",
       "    }\n",
       "\n",
       "    .dataframe thead th {\n",
       "        text-align: right;\n",
       "    }\n",
       "</style>\n",
       "<table border=\"1\" class=\"dataframe\">\n",
       "  <thead>\n",
       "    <tr style=\"text-align: right;\">\n",
       "      <th></th>\n",
       "      <th>user_id</th>\n",
       "      <th>app_id</th>\n",
       "      <th>user_emb</th>\n",
       "      <th>game_emb</th>\n",
       "    </tr>\n",
       "  </thead>\n",
       "  <tbody>\n",
       "    <tr>\n",
       "      <th>499332</th>\n",
       "      <td>76561197982715591</td>\n",
       "      <td>239030</td>\n",
       "      <td>[5.441211700439453, 3.897188425064087]</td>\n",
       "      <td>[0.2645011246204376, -0.21440424025058746]</td>\n",
       "    </tr>\n",
       "    <tr>\n",
       "      <th>213697</th>\n",
       "      <td>76561197971373352</td>\n",
       "      <td>575920</td>\n",
       "      <td>[12.317736625671387, 11.378521919250488]</td>\n",
       "      <td>[-0.02346072532236576, 0.05162185803055763]</td>\n",
       "    </tr>\n",
       "    <tr>\n",
       "      <th>28119</th>\n",
       "      <td>76561198032867520</td>\n",
       "      <td>601840</td>\n",
       "      <td>[2.125602960586548, 0.4374443292617798]</td>\n",
       "      <td>[0.012516040354967117, 0.0011081225238740444]</td>\n",
       "    </tr>\n",
       "    <tr>\n",
       "      <th>283972</th>\n",
       "      <td>76561198107441026</td>\n",
       "      <td>843810</td>\n",
       "      <td>[2.693979263305664, 0.8504762649536133]</td>\n",
       "      <td>[-6.776263578034403e-21, 6.776263578034403e-21]</td>\n",
       "    </tr>\n",
       "    <tr>\n",
       "      <th>257487</th>\n",
       "      <td>76561198009676887</td>\n",
       "      <td>750920</td>\n",
       "      <td>[8.718300819396973, 7.18441104888916]</td>\n",
       "      <td>[0.27644044160842896, -0.22152864933013916]</td>\n",
       "    </tr>\n",
       "  </tbody>\n",
       "</table>\n",
       "</div>"
      ],
      "text/plain": [
       "                  user_id  app_id                                  user_emb  \\\n",
       "499332  76561197982715591  239030    [5.441211700439453, 3.897188425064087]   \n",
       "213697  76561197971373352  575920  [12.317736625671387, 11.378521919250488]   \n",
       "28119   76561198032867520  601840   [2.125602960586548, 0.4374443292617798]   \n",
       "283972  76561198107441026  843810   [2.693979263305664, 0.8504762649536133]   \n",
       "257487  76561198009676887  750920     [8.718300819396973, 7.18441104888916]   \n",
       "\n",
       "                                               game_emb  \n",
       "499332       [0.2645011246204376, -0.21440424025058746]  \n",
       "213697      [-0.02346072532236576, 0.05162185803055763]  \n",
       "28119     [0.012516040354967117, 0.0011081225238740444]  \n",
       "283972  [-6.776263578034403e-21, 6.776263578034403e-21]  \n",
       "257487      [0.27644044160842896, -0.22152864933013916]  "
      ]
     },
     "execution_count": 16,
     "metadata": {},
     "output_type": "execute_result"
    }
   ],
   "source": [
    "df_test[['user_id', 'app_id', 'user_emb', 'game_emb']].sample(5)"
   ]
  },
  {
   "cell_type": "markdown",
   "metadata": {},
   "source": [
    "### NDCG on test set"
   ]
  },
  {
   "cell_type": "code",
   "execution_count": 17,
   "metadata": {},
   "outputs": [
    {
     "data": {
      "text/plain": [
       "0.5511105334369449"
      ]
     },
     "execution_count": 17,
     "metadata": {},
     "output_type": "execute_result"
    }
   ],
   "source": [
    "evaluate_ndcg(final_model, full_train_matrix, test_matrix)"
   ]
  },
  {
   "cell_type": "code",
   "execution_count": 18,
   "metadata": {},
   "outputs": [
    {
     "name": "stdout",
     "output_type": "stream",
     "text": [
      "0 0 0 0\n"
     ]
    }
   ],
   "source": [
    "# Check for embedding dim consistence\n",
    "print(\n",
    "    sum(df_train['user_emb'].apply(lambda x: len(x) != final_model.factors)),\n",
    "    sum(df_test['user_emb'].apply(lambda x: len(x) != final_model.factors)),\n",
    "    sum(df_train['game_emb'].apply(lambda x: len(x) != final_model.factors)),\n",
    "    sum(df_test['game_emb'].apply(lambda x: len(x) != final_model.factors))\n",
    ")"
   ]
  },
  {
   "cell_type": "code",
   "execution_count": 20,
   "metadata": {},
   "outputs": [],
   "source": [
    "# Forgot to remove redundant one hot columns previously\n",
    "df_train.drop(columns=['game_esrb_rating', 'game_available_parent_platforms', 'game_genres'], inplace=True)\n",
    "df_test.drop(columns=['game_esrb_rating', 'game_available_parent_platforms', 'game_genres'], inplace=True)"
   ]
  },
  {
   "cell_type": "code",
   "execution_count": 21,
   "metadata": {},
   "outputs": [
    {
     "data": {
      "text/plain": [
       "['..\\\\assets\\\\combined\\\\test_ready.pkl']"
      ]
     },
     "execution_count": 21,
     "metadata": {},
     "output_type": "execute_result"
    }
   ],
   "source": [
    "joblib.dump(df_train, r\"..\\assets\\combined\\train_ready.pkl\")\n",
    "joblib.dump(df_test, r\"..\\assets\\combined\\test_ready.pkl\")"
   ]
  },
  {
   "cell_type": "code",
   "execution_count": 22,
   "metadata": {},
   "outputs": [
    {
     "name": "stdout",
     "output_type": "stream",
     "text": [
      "Note: you may need to restart the kernel to use updated packages.\n"
     ]
    }
   ],
   "source": [
    "pip freeze > ..\\requirements.txt"
   ]
  }
 ],
 "metadata": {
  "kernelspec": {
   "display_name": "env699",
   "language": "python",
   "name": "python3"
  },
  "language_info": {
   "codemirror_mode": {
    "name": "ipython",
    "version": 3
   },
   "file_extension": ".py",
   "mimetype": "text/x-python",
   "name": "python",
   "nbconvert_exporter": "python",
   "pygments_lexer": "ipython3",
   "version": "3.12.0"
  }
 },
 "nbformat": 4,
 "nbformat_minor": 2
}
