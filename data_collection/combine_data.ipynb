{
 "cells": [
  {
   "cell_type": "code",
   "execution_count": 1,
   "metadata": {},
   "outputs": [],
   "source": [
    "#pip install -r requirements.txt"
   ]
  },
  {
   "cell_type": "code",
   "execution_count": 2,
   "metadata": {},
   "outputs": [
    {
     "name": "stdout",
     "output_type": "stream",
     "text": [
      "(3985828, 8) (62138, 31) (69226, 18)\n"
     ]
    }
   ],
   "source": [
    "import pandas as pd\n",
    "import joblib\n",
    "\n",
    "df_steam_web = joblib.load(r\"..\\assets\\SteamWeb\\steamWeb_processed.pkl\")\n",
    "df_RAWG = joblib.load(r\"..\\assets\\RAWG\\RAWG_clean.pkl\")\n",
    "df_steam_spy = joblib.load(r\"..\\assets\\SteamSpy\\SteamSpy_clean.pkl\")\n",
    "\n",
    "print(df_steam_web.shape, df_RAWG.shape, df_steam_spy.shape)"
   ]
  },
  {
   "cell_type": "code",
   "execution_count": 3,
   "metadata": {},
   "outputs": [
    {
     "name": "stdout",
     "output_type": "stream",
     "text": [
      "<class 'pandas.core.frame.DataFrame'>\n",
      "RangeIndex: 3985828 entries, 0 to 3985827\n",
      "Data columns (total 8 columns):\n",
      " #   Column              Non-Null Count    Dtype  \n",
      "---  ------              --------------    -----  \n",
      " 0   user_id             3985828 non-null  object \n",
      " 1   app_id              3985828 non-null  int64  \n",
      " 2   relevance_score     3985828 non-null  float64\n",
      " 3   locCountryCode      3985828 non-null  object \n",
      " 4   has_coordinates     3985828 non-null  bool   \n",
      " 5   latitude            3075256 non-null  float64\n",
      " 6   longitude           3075256 non-null  float64\n",
      " 7   account_age_months  3985828 non-null  float64\n",
      "dtypes: bool(1), float64(4), int64(1), object(2)\n",
      "memory usage: 216.7+ MB\n"
     ]
    }
   ],
   "source": [
    "df_steam_web.info(verbose=True, show_counts=True)"
   ]
  },
  {
   "cell_type": "code",
   "execution_count": 4,
   "metadata": {},
   "outputs": [
    {
     "name": "stdout",
     "output_type": "stream",
     "text": [
      "<class 'pandas.core.frame.DataFrame'>\n",
      "Index: 62138 entries, 0 to 704056\n",
      "Data columns (total 31 columns):\n",
      " #   Column                       Non-Null Count  Dtype  \n",
      "---  ------                       --------------  -----  \n",
      " 0   id                           62138 non-null  Int64  \n",
      " 1   slug                         62138 non-null  string \n",
      " 2   name                         62138 non-null  string \n",
      " 3   tba                          62138 non-null  boolean\n",
      " 4   weighted_avg_RAWG_rating     62138 non-null  Float64\n",
      " 5   ratings_count                62138 non-null  Int64  \n",
      " 6   reviews_text_count           62138 non-null  Int64  \n",
      " 7   RAWG_bookmark_count          62138 non-null  Int64  \n",
      " 8   metacritic_rating            4247 non-null   Int64  \n",
      " 9   steam_avg_playtime(h)        62138 non-null  Int64  \n",
      " 10  RAWG_system_suggest_count    62138 non-null  Int64  \n",
      " 11  reviews_count                62138 non-null  Int64  \n",
      " 12  genres                       62138 non-null  object \n",
      " 13  tags                         62138 non-null  object \n",
      " 14  esrb_rating                  62138 non-null  object \n",
      " 15  steam_app_id                 62138 non-null  Int64  \n",
      " 16  released_year                58139 non-null  float64\n",
      " 17  released_month               58139 non-null  float64\n",
      " 18  released_day                 58139 non-null  float64\n",
      " 19  RAWG_rating_5_percent        62138 non-null  float64\n",
      " 20  RAWG_rating_4_percent        62138 non-null  float64\n",
      " 21  RAWG_rating_3_percent        62138 non-null  float64\n",
      " 22  RAWG_rating_1_percent        62138 non-null  float64\n",
      " 23  bookmark_type_yet_count      21166 non-null  float64\n",
      " 24  bookmark_type_owned_count    31298 non-null  float64\n",
      " 25  bookmark_type_beaten_count   17120 non-null  float64\n",
      " 26  bookmark_type_toplay_count   17684 non-null  float64\n",
      " 27  bookmark_type_dropped_count  17292 non-null  float64\n",
      " 28  bookmark_type_playing_count  8955 non-null   float64\n",
      " 29  available_platform           62138 non-null  object \n",
      " 30  available_parent_platforms   62138 non-null  object \n",
      "dtypes: Float64(1), Int64(9), boolean(1), float64(13), object(5), string(2)\n",
      "memory usage: 15.4+ MB\n"
     ]
    }
   ],
   "source": [
    "df_RAWG.info()"
   ]
  },
  {
   "cell_type": "code",
   "execution_count": 5,
   "metadata": {},
   "outputs": [],
   "source": [
    "df_RAWG.drop(columns=['id', 'slug'], inplace=True)"
   ]
  },
  {
   "cell_type": "code",
   "execution_count": 6,
   "metadata": {},
   "outputs": [
    {
     "name": "stdout",
     "output_type": "stream",
     "text": [
      "<class 'pandas.core.frame.DataFrame'>\n",
      "Index: 69226 entries, 570 to 449420\n",
      "Data columns (total 18 columns):\n",
      " #   Column                 Non-Null Count  Dtype  \n",
      "---  ------                 --------------  -----  \n",
      " 0   appid                  69226 non-null  Int64  \n",
      " 1   name                   69226 non-null  string \n",
      " 2   developer              69226 non-null  object \n",
      " 3   publisher              69226 non-null  object \n",
      " 4   score_rank             69226 non-null  int64  \n",
      " 5   positive               69226 non-null  Int64  \n",
      " 6   negative               69226 non-null  Int64  \n",
      " 7   userscore              69226 non-null  Int64  \n",
      " 8   average_forever        69226 non-null  Int64  \n",
      " 9   average_2weeks         69226 non-null  Int64  \n",
      " 10  median_forever         69226 non-null  Int64  \n",
      " 11  median_2weeks          69226 non-null  Int64  \n",
      " 12  price                  69215 non-null  float64\n",
      " 13  initialprice           69217 non-null  float64\n",
      " 14  discount               69217 non-null  float64\n",
      " 15  concurrent_user        69226 non-null  Int64  \n",
      " 16  estimate_owners_lower  69226 non-null  int64  \n",
      " 17  estimate_owners_upper  69226 non-null  int64  \n",
      "dtypes: Int64(9), float64(3), int64(3), object(2), string(1)\n",
      "memory usage: 10.6+ MB\n"
     ]
    }
   ],
   "source": [
    "df_steam_spy.info()"
   ]
  },
  {
   "cell_type": "code",
   "execution_count": 7,
   "metadata": {},
   "outputs": [
    {
     "data": {
      "text/plain": [
       "(3662487, 37)"
      ]
     },
     "execution_count": 7,
     "metadata": {},
     "output_type": "execute_result"
    }
   ],
   "source": [
    "df_RAWG['steam_app_id'] = df_RAWG['steam_app_id'].astype(int)\n",
    "df = pd.merge(df_steam_web, df_RAWG, how='inner', left_on=\"app_id\", right_on='steam_app_id')\n",
    "df.shape"
   ]
  },
  {
   "cell_type": "code",
   "execution_count": 8,
   "metadata": {},
   "outputs": [
    {
     "data": {
      "text/plain": [
       "(3337917, 55)"
      ]
     },
     "execution_count": 8,
     "metadata": {},
     "output_type": "execute_result"
    }
   ],
   "source": [
    "df = pd.merge(df, df_steam_spy, how='inner', left_on=\"app_id\", right_on=\"appid\")\n",
    "df.shape"
   ]
  },
  {
   "cell_type": "code",
   "execution_count": null,
   "metadata": {},
   "outputs": [],
   "source": [
    "df.drop(columns=[\n",
    "    'steam_app_id', 'appid', 'name_y',  # Duplicate columns\n",
    "    'score_rank', # Redundant with user_score\n",
    "    'steam_avg_playtime(h)' # Redundant with average_forever\n",
    "    ], inplace=True)\n",
    "\n",
    "df.rename(columns={\n",
    "    'name_x':'game_name',\n",
    "    'locCountryCode': 'user_country_code',\n",
    "    'has_coordinates': 'user_has_coordinates',\n",
    "    'latitude': 'user_latitude',\n",
    "    'longitude': 'user_longitude',\n",
    "    'account_age_months': 'user_account_age_months',\n",
    "    'tba': 'game_tba',\n",
    "    'weighted_avg_RAWG_rating': 'game_RAWG_weighted_avg_rating',\n",
    "    'ratings_count': 'game_RAWG_ratings_count',\n",
    "    'reviews_text_count': 'game_RAWG_reviews_with_text_count',\n",
    "    'RAWG_bookmark_count': 'game_RAWG_bookmark_count',\n",
    "    'metacritic_rating': 'game_metacritic_rating',\n",
    "    'steam_avg_playtime(h)': 'game_steam_avg_playtime(h)',\n",
    "    'RAWG_system_suggest_count': \"game_RAWG_system_suggest_count\",\n",
    "    'reviews_count': 'game_RAWG_reviews_count',\n",
    "    'genres': 'game_genres',\n",
    "    'tags': 'game_tags',\n",
    "    'esrb_rating': 'game_esrb_rating',\n",
    "    'released_year': 'game_released_year',\n",
    "    'released_month': 'game_released_month',\n",
    "    'released_day': 'game_released_day',\n",
    "    'RAWG_rating_5_percent': 'game_RAWG_rating_5_percent',\n",
    "    'RAWG_rating_4_percent': 'game_RAWG_rating_4_percent',\n",
    "    'RAWG_rating_3_percent': 'game_RAWG_rating_3_percent',\n",
    "    'RAWG_rating_1_percent': 'game_RAWG_rating_1_percent',\n",
    "    'bookmark_type_yet_count': 'game_RAWG_bookmark_type_yet_count',\n",
    "    'bookmark_type_owned_count': 'game_RAWG_bookmark_type_owned_count',\n",
    "    'bookmark_type_beaten_count': 'game_RAWG_bookmark_type_beaten_count',\n",
    "    'bookmark_type_toplay_count': 'game_RAWG_bookmark_type_toplay_count',\n",
    "    'bookmark_type_dropped_count': 'game_RAWG_bookmark_type_dropped_count',\n",
    "    'bookmark_type_playing_count': 'game_RAWG_bookmark_type_playing_count',\n",
    "    'available_platform': 'game_available_platform',\n",
    "    'available_parent_platforms': 'game_available_parent_platforms',\n",
    "    'developer': 'game_developer',\n",
    "    'publisher': 'game_publisher',\n",
    "    'positive': 'game_positive_review_count',\n",
    "    'negative': 'game_negative_review_count',\n",
    "    'userscore': 'game_avg_user_score',\n",
    "    'average_forever': 'game_avg_playtime_forever',\n",
    "    'average_2weeks': 'game_avg_playtime_last_2weeks',\n",
    "    'median_forever': 'game_median_playtime_forever',\n",
    "    'median_2weeks': 'game_median_last_2weeks',\n",
    "    'price': 'game_current_price',\n",
    "    'initialprice': 'game_initial_price',\n",
    "    'discount': 'game_current_discount',\n",
    "    'concurrent_user': 'game_concurrent_user',\n",
    "    'estimate_owners_lower': 'game_estimate_owners_lower',\n",
    "    'estimate_owners_upper': 'game_estimate_owners_upper'\n",
    "    }, inplace=True)"
   ]
  },
  {
   "cell_type": "code",
   "execution_count": 10,
   "metadata": {},
   "outputs": [
    {
     "name": "stdout",
     "output_type": "stream",
     "text": [
      "<class 'pandas.core.frame.DataFrame'>\n",
      "RangeIndex: 3337917 entries, 0 to 3337916\n",
      "Data columns (total 50 columns):\n",
      " #   Column                                 Non-Null Count    Dtype  \n",
      "---  ------                                 --------------    -----  \n",
      " 0   user_id                                3337917 non-null  object \n",
      " 1   app_id                                 3337917 non-null  int64  \n",
      " 2   relevance_score                        3337917 non-null  float64\n",
      " 3   user_country_code                      3337917 non-null  object \n",
      " 4   user_has_coordinates                   3337917 non-null  bool   \n",
      " 5   user_latitude                          2583903 non-null  float64\n",
      " 6   user_longitude                         2583903 non-null  float64\n",
      " 7   user_account_age_months                3337917 non-null  float64\n",
      " 8   game_name                              3337917 non-null  string \n",
      " 9   game_tba                               3337917 non-null  boolean\n",
      " 10  game_RAWG_weighted_avg_rating          3337917 non-null  Float64\n",
      " 11  game_RAWG_ratings_count                3337917 non-null  Int64  \n",
      " 12  game_RAWG_reviews_with_text_count      3337917 non-null  Int64  \n",
      " 13  game_RAWG_bookmark_count               3337917 non-null  Int64  \n",
      " 14  game_metacritic_rating                 1431180 non-null  Int64  \n",
      " 15  game_RAWG_system_suggest_count         3337917 non-null  Int64  \n",
      " 16  game_RAWG_reviews_count                3337917 non-null  Int64  \n",
      " 17  game_genres                            3337917 non-null  object \n",
      " 18  game_tags                              3337917 non-null  object \n",
      " 19  game_esrb_rating                       3337917 non-null  object \n",
      " 20  game_released_year                     3265375 non-null  float64\n",
      " 21  game_released_month                    3265375 non-null  float64\n",
      " 22  game_released_day                      3265375 non-null  float64\n",
      " 23  game_RAWG_rating_5_percent             3337917 non-null  float64\n",
      " 24  game_RAWG_rating_4_percent             3337917 non-null  float64\n",
      " 25  game_RAWG_rating_3_percent             3337917 non-null  float64\n",
      " 26  game_RAWG_rating_1_percent             3337917 non-null  float64\n",
      " 27  game_RAWG_bookmark_type_yet_count      3052371 non-null  float64\n",
      " 28  game_RAWG_bookmark_type_owned_count    3335652 non-null  float64\n",
      " 29  game_RAWG_bookmark_type_beaten_count   2744942 non-null  float64\n",
      " 30  game_RAWG_bookmark_type_toplay_count   2609160 non-null  float64\n",
      " 31  game_RAWG_bookmark_type_dropped_count  2860020 non-null  float64\n",
      " 32  game_RAWG_bookmark_type_playing_count  2010259 non-null  float64\n",
      " 33  game_available_platform                3337917 non-null  object \n",
      " 34  game_available_parent_platforms        3337917 non-null  object \n",
      " 35  game_developer                         3337917 non-null  object \n",
      " 36  game_publisher                         3337917 non-null  object \n",
      " 37  game_positive_review_count             3337917 non-null  Int64  \n",
      " 38  game_negative_review_count             3337917 non-null  Int64  \n",
      " 39  game_avg_user_score                    3337917 non-null  Int64  \n",
      " 40  game_avg_playtime_forever              3337917 non-null  Int64  \n",
      " 41  game_avg_playtime_last_2weeks          3337917 non-null  Int64  \n",
      " 42  game_median_playtime_forever           3337917 non-null  Int64  \n",
      " 43  game_median_last_2weeks                3337917 non-null  Int64  \n",
      " 44  game_current_price                     3337906 non-null  float64\n",
      " 45  game_initial_price                     3337906 non-null  float64\n",
      " 46  game_current_discount                  3337906 non-null  float64\n",
      " 47  game_concurrent_user                   3337917 non-null  Int64  \n",
      " 48  game_estimate_owners_lower             3337917 non-null  int64  \n",
      " 49  game_estimate_owners_upper             3337917 non-null  int64  \n",
      "dtypes: Float64(1), Int64(14), bool(1), boolean(1), float64(20), int64(3), object(9), string(1)\n",
      "memory usage: 1.2+ GB\n"
     ]
    }
   ],
   "source": [
    "df.info(verbose=True, show_counts=True)"
   ]
  },
  {
   "cell_type": "code",
   "execution_count": 11,
   "metadata": {},
   "outputs": [
    {
     "name": "stdout",
     "output_type": "stream",
     "text": [
      "4041 24751\n"
     ]
    }
   ],
   "source": [
    "print(len(df['user_id'].unique()), len(df['app_id'].unique()))"
   ]
  },
  {
   "cell_type": "code",
   "execution_count": 12,
   "metadata": {},
   "outputs": [
    {
     "name": "stdout",
     "output_type": "stream",
     "text": [
      "Train size: 2643279, Test size: 694638\n"
     ]
    }
   ],
   "source": [
    "# Train-test split by user_id\n",
    "from sklearn.model_selection import train_test_split\n",
    "\n",
    "unique_users = df[\"user_id\"].unique()\n",
    "train_users, test_users = train_test_split(unique_users, test_size=0.2, random_state=42)\n",
    "\n",
    "train_df = df[df[\"user_id\"].isin(train_users)]\n",
    "test_df = df[df[\"user_id\"].isin(test_users)]\n",
    "\n",
    "joblib.dump(train_df, r\"..\\assets\\combined\\train_raw.pkl\")\n",
    "joblib.dump(test_df, r\"..\\assets\\combined\\test_raw.pkl\")\n",
    "\n",
    "print(f\"Train size: {len(train_df)}, Test size: {len(test_df)}\")"
   ]
  },
  {
   "cell_type": "code",
   "execution_count": null,
   "metadata": {},
   "outputs": [],
   "source": [
    "!pip freeze > ..\\requirements.txt"
   ]
  }
 ],
 "metadata": {
  "kernelspec": {
   "display_name": "env699",
   "language": "python",
   "name": "python3"
  },
  "language_info": {
   "codemirror_mode": {
    "name": "ipython",
    "version": 3
   },
   "file_extension": ".py",
   "mimetype": "text/x-python",
   "name": "python",
   "nbconvert_exporter": "python",
   "pygments_lexer": "ipython3",
   "version": "3.12.0"
  }
 },
 "nbformat": 4,
 "nbformat_minor": 2
}
